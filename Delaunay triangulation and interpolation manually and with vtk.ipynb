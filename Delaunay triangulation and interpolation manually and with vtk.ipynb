{
 "cells": [
  {
   "cell_type": "code",
   "execution_count": 191,
   "id": "9001883b",
   "metadata": {},
   "outputs": [
    {
     "name": "stdout",
     "output_type": "stream",
     "text": [
      "Using matplotlib backend: Qt5Agg\n"
     ]
    }
   ],
   "source": [
    "from scipy.spatial import Delaunay\n",
    "import numpy as np\n",
    "import scipy as sp\n",
    "from matplotlib import pyplot as plt\n",
    "from matplotlib import cm\n",
    "import time\n",
    "%matplotlib"
   ]
  },
  {
   "cell_type": "code",
   "execution_count": 192,
   "id": "09f823ba",
   "metadata": {},
   "outputs": [
    {
     "name": "stdout",
     "output_type": "stream",
     "text": [
      "[[ 2.01000000e+00  0.00000000e+00  0.00000000e+00]\n",
      " [ 1.90109266e+00  6.52645933e-01  0.00000000e+00]\n",
      " [ 1.58617242e+00  1.23456755e+00  0.00000000e+00]\n",
      " ...\n",
      " [ 2.36742153e+00 -1.84263814e+00 -2.44929360e-16]\n",
      " [ 2.83745173e+00 -9.74098408e-01 -2.44929360e-16]\n",
      " [ 3.00000000e+00 -7.34788079e-16 -2.44929360e-16]]\n"
     ]
    }
   ],
   "source": [
    "\"\"\"\n",
    "create class called grid to collect the grids\n",
    "create flattened grid of structure (ngrid**3, 3 - xyz)\n",
    "\"\"\"\n",
    "\n",
    "class grid:\n",
    "    \"\"\"\n",
    "    Generates a grid object with both flattened and mesh versions of cartesian\n",
    "    \"\"\"\n",
    "    def __init__(self, ngrid_cart, ngrid_tor, R0):\n",
    "        self.R, self.theta, self.phi = np.meshgrid(np.linspace(1e-2, 1,ngrid_tor), \n",
    "                                                   np.linspace(0,2*np.pi, ngrid_tor), \n",
    "                                                   np.linspace(0,2*np.pi, 2*ngrid_tor),\n",
    "                                                   indexing='ij')\n",
    "        self.cart_x, self.cart_y, self.cart_z = np.meshgrid(np.linspace(-3,3, ngrid_cart),\n",
    "                                                            np.linspace(-3,3, ngrid_cart),\n",
    "                                                            np.linspace(-1,1, ngrid_cart),\n",
    "                                                            indexing='ij')\n",
    "        self.tor_x = (R0 + self.R*np.cos(self.theta))*np.cos(self.phi)\n",
    "        self.tor_y = (R0 + self.R*np.cos(self.theta))*np.sin(self.phi)\n",
    "        self.tor_z = self.R*np.sin(self.theta)\n",
    "        \n",
    "        self.cartflat = np.zeros((ngrid_cart**3, 3))\n",
    "        self.cartflat[:,0] = self.cart_x.flatten()\n",
    "        self.cartflat[:,1] = self.cart_y.flatten()\n",
    "        self.cartflat[:,2] = self.cart_z.flatten()\n",
    "        \n",
    "        self.torflat = np.zeros((2*ngrid_tor**3, 3))\n",
    "        self.torflat[:,0] = self.tor_x.flatten()\n",
    "        self.torflat[:,1] = self.tor_y.flatten()\n",
    "        self.torflat[:,2] = self.tor_z.flatten()\n",
    "    def plotgrid(self):\n",
    "        fig_gridscat = plt.figure()\n",
    "        ax_gridscat = fig_gridscat.add_subplot(projection='3d')\n",
    "        ax_gridscat.scatter(self.cart_x, self.cart_y, self.cart_z, marker='.')\n",
    "        ax_gridscat.scatter(self.tor_x, self.tor_y, self.tor_z, marker='x')\n",
    "        ax_gridscat.set_xlabel(\"$x[\\\\mathrm{m}]$\")\n",
    "        ax_gridscat.set_ylabel(\"$y[\\\\mathrm{m}]$\")\n",
    "        ax_gridscat.set_zlabel(\"$z[\\\\mathrm{m}]$\")\n",
    "    def delaunay_tessalation(self):\n",
    "        tri = Delaunay(self.torflat)\n",
    "        idx_simplices = tri.simplices\n",
    "        coord_simplices = self.torflat[idx_simplices]\n",
    "        return tri, idx_simplices, coord_simplices\n",
    "        \n",
    "# grid1 = grid(ngrid_cart = 30, ngrid_tor = 10, R0 = 2)\n",
    "grid1 = grid(30, 10, 2)\n",
    "\n",
    "print(grid1.torflat)"
   ]
  },
  {
   "cell_type": "code",
   "execution_count": 193,
   "id": "ab06edc5",
   "metadata": {},
   "outputs": [
    {
     "data": {
      "text/plain": [
       "'\\nTo check that the object function works\\n'"
      ]
     },
     "execution_count": 193,
     "metadata": {},
     "output_type": "execute_result"
    }
   ],
   "source": [
    "\"\"\"\n",
    "To check that the object function works\n",
    "\"\"\"\n",
    "# grid1.plotgrid()"
   ]
  },
  {
   "cell_type": "code",
   "execution_count": 194,
   "id": "612c2070",
   "metadata": {},
   "outputs": [
    {
     "name": "stdout",
     "output_type": "stream",
     "text": [
      "(11887, 4, 3)\n"
     ]
    }
   ],
   "source": [
    "\"\"\"\n",
    "Delaunay triangulation.\n",
    "\"\"\"\n",
    "tri1, idx_tri1, coord_tri1 = grid1.delaunay_tessalation()\n",
    "\n",
    "#extract the coordinates of the simplices\n",
    "print(coord_tri1.shape)"
   ]
  },
  {
   "cell_type": "code",
   "execution_count": 6,
   "id": "166c27e4",
   "metadata": {},
   "outputs": [],
   "source": [
    "# fig_simplices = plt.figure()\n",
    "# ax_simplices = fig_simplices.add_subplot(projection = '3d')\n",
    "# ax_simplices.scatter(coord_tri1[:,:,0], coord_tri1[:,:,1], coord_tri1[:,:,2])"
   ]
  },
  {
   "cell_type": "code",
   "execution_count": 195,
   "id": "6d0479b2",
   "metadata": {},
   "outputs": [
    {
     "name": "stdout",
     "output_type": "stream",
     "text": [
      "(27000,)\n",
      "shape of indices atol = 1.75e-1 close to point (2,0,0) (8,)\n",
      "the distances to the point are [0.15030686 0.11436637 0.11436637 0.15030686 0.15030686 0.11436637\n",
      " 0.11436637 0.15030686]\n",
      "The point chosen: [ 1.96551724 -0.10344828 -0.10344828]\n",
      "7356\n",
      "[[ 1.88690540e+00 -6.47775441e-01 -8.66025404e-03]\n",
      " [ 1.94000000e+00 -4.75162958e-16 -1.03923048e-01]\n",
      " [ 2.02083778e+00  0.00000000e+00 -1.18176930e-01]\n",
      " [ 1.91134322e+00 -6.56164955e-01 -1.18176930e-01]]\n",
      "[[[ 2.68177955e+00 -6.56846549e-16 -5.72080973e-01]\n",
      "  [ 2.83745173e+00 -9.74098408e-01 -2.44929360e-16]\n",
      "  [ 2.76604444e+00 -6.77485495e-16 -6.42787610e-01]\n",
      "  [ 3.00000000e+00  0.00000000e+00  0.00000000e+00]]\n",
      "\n",
      " [[ 2.68177955e+00 -6.56846549e-16 -5.72080973e-01]\n",
      "  [ 2.89000000e+00  0.00000000e+00  0.00000000e+00]\n",
      "  [ 2.83745173e+00 -9.74098408e-01 -2.44929360e-16]\n",
      "  [ 3.00000000e+00  0.00000000e+00  0.00000000e+00]]\n",
      "\n",
      " [[ 2.68177955e+00 -6.56846549e-16 -5.72080973e-01]\n",
      "  [ 2.61617253e+00 -8.98133162e-01 -6.42787610e-01]\n",
      "  [ 2.83745173e+00 -9.74098408e-01 -2.44929360e-16]\n",
      "  [ 2.76604444e+00 -6.77485495e-16 -6.42787610e-01]]\n",
      "\n",
      " ...\n",
      "\n",
      " [[ 1.57965135e+00 -1.22949199e+00 -9.84807753e-03]\n",
      "  [ 1.57086552e+00 -1.22265371e+00  3.42020143e-03]\n",
      "  [ 1.88274671e+00 -6.46347761e-01  3.42020143e-03]\n",
      "  [ 1.88274671e+00 -6.46347761e-01 -3.42020143e-03]]\n",
      "\n",
      " [[ 1.57965135e+00 -1.22949199e+00 -9.84807753e-03]\n",
      "  [ 1.57086552e+00 -1.22265371e+00 -3.42020143e-03]\n",
      "  [ 1.57433532e+00 -1.22535436e+00 -8.66025404e-03]\n",
      "  [ 1.88274671e+00 -6.46347761e-01 -3.42020143e-03]]\n",
      "\n",
      " [[ 1.57965135e+00 -1.22949199e+00 -9.84807753e-03]\n",
      "  [ 1.57086552e+00 -1.22265371e+00 -3.42020143e-03]\n",
      "  [ 1.57086552e+00 -1.22265371e+00  3.42020143e-03]\n",
      "  [ 1.88274671e+00 -6.46347761e-01 -3.42020143e-03]]]\n",
      "(11887, 4, 3)\n"
     ]
    }
   ],
   "source": [
    "\"\"\"\n",
    "To check if the tri object function find_simplex that finds the tetrahedron which a cartesian point is in\n",
    "we plot the point (2,0,0) to see of the correct tetrahedron is found.\n",
    "\"\"\"\n",
    "eucdist_200 = np.sqrt(np.sum((grid1.cartflat - np.array([2,0,0], dtype = np.float32))**2, axis = 1))\n",
    "print(eucdist_200.shape)\n",
    "idx_200 = np.where(np.isclose(eucdist_200, 0, atol = 1.75e-1) == True )[0]\n",
    "print(\"shape of indices atol = 1.75e-1 close to point (2,0,0)\", idx_200.shape)\n",
    "print(\"the distances to the point are\", eucdist_200[idx_200])\n",
    "print(\"The point chosen:\", grid1.cartflat[idx_200[0]])\n",
    "\n",
    "idx_simplex_200 = tri1.find_simplex(grid1.cartflat[idx_200[0]])\n",
    "print(idx_simplex_200)\n",
    "coord_simplex_200 = coord_tri1[idx_simplex_200]\n",
    "print(coord_simplex_200)\n",
    "\n",
    "neighbors_200 = tri1.neighbors[idx_simplex_200]\n",
    "coords_neighbors200 = coord_tri1\n",
    "print(coords_neighbors200)\n",
    "print(coords_neighbors200.shape)"
   ]
  },
  {
   "cell_type": "code",
   "execution_count": 196,
   "id": "e6b72ba4",
   "metadata": {},
   "outputs": [
    {
     "name": "stdout",
     "output_type": "stream",
     "text": [
      "22033\n"
     ]
    }
   ],
   "source": [
    "from scipy.spatial import ConvexHull\n",
    "import matplotlib as mpl\n",
    "import mpl_toolkits.mplot3d as a3\n",
    "\n",
    "\"\"\"\n",
    "Plot the tetrahedron to confirm that we have found which tetrahedron the point is in.\n",
    "Note!!! If a point is located in one of the faces of a tetrahedron the point will belong a\n",
    "degenerate number of tetrahedra. The worst case here is if a point is located at one of the vertices.\n",
    "Then the degeneracy will be all tetrahadra with that point as a vertex.\n",
    "\"\"\"\n",
    "\n",
    "def plot_tetrhedron_and_interiorpnt(coord_simplex, idx_p):\n",
    "    hull_found = ConvexHull(coord_simplex)\n",
    "    indices_found = hull_found.simplices\n",
    "    faces_found = coord_simplex[indices_found]\n",
    "    print(faces_found)\n",
    "    fig_foundsimplex = plt.figure()\n",
    "    ax_foundsimplex = fig_foundsimplex.add_subplot(projection='3d')\n",
    "    ax_foundsimplex.set_xlim(-3,3)\n",
    "    ax_foundsimplex.set_ylim(-3,3)\n",
    "    ax_foundsimplex.set_zlim(-1,1)\n",
    "    ax_foundsimplex.set_xlabel(\"$x[\\\\mathrm{m}]$\")\n",
    "    ax_foundsimplex.set_ylabel(\"$y[\\\\mathrm{m}]$\")\n",
    "    ax_foundsimplex.set_zlabel(\"$z[\\\\mathrm{m}]$\")\n",
    "\n",
    "    for f in faces_found:\n",
    "        face = a3.art3d.Poly3DCollection([f])\n",
    "        face.set_color(mpl.colors.rgb2hex(np.random.rand(3)))\n",
    "        face.set_edgecolor('k')\n",
    "        face.set_alpha(0.5)\n",
    "        ax_foundsimplex.add_collection3d(face)\n",
    "\n",
    "    ax_foundsimplex.scatter(grid1.cartflat[idx_p,0], \n",
    "                            grid1.cartflat[idx_p,1], \n",
    "                            grid1.cartflat[idx_p,2], marker='x')\n",
    "\n",
    "print(idx_200[0])\n",
    "# plot_tetrhedron_and_interiorpnt(coord_simplex = coord_simplex_200, \n",
    "#                                 idx_p = idx_200[0])"
   ]
  },
  {
   "cell_type": "code",
   "execution_count": 197,
   "id": "41cc44cd",
   "metadata": {},
   "outputs": [],
   "source": [
    "\"\"\"\n",
    "Find all tetrahedra which a cartesian point belongs to. The triangle object function returns -1\n",
    "if the point does not belong to any tetrahedra.\n",
    "Creating a dictionary with key coord, value vertices of the tetrahedron in which the point is interior\n",
    "\"\"\"\n",
    "def make_dict_coord_vertices(grid_obj, tri_obj = None):\n",
    "\n",
    "    dict_p_tetrahedron = {}\n",
    "    ncartcoord = int(len(grid_obj.cartflat))\n",
    "    if tri_obj == None:\n",
    "        tri, idx_tri, coord_tri = grid_obj.delaunay_tessalation()\n",
    "    else:\n",
    "        tri = tri_obj\n",
    "        idx_tri = tri.simplices\n",
    "        coord_tri = grid_obj.torflat[idx_tri]\n",
    "    for i in range(ncartcoord):\n",
    "        p = grid_obj.cartflat[i]\n",
    "        idx_simplex_embed_p = tri.find_simplex(p)\n",
    "        if idx_simplex_embed_p != -1:\n",
    "            dict_p_tetrahedron[tuple(p)] = coord_tri[idx_simplex_embed_p]\n",
    "    return dict_p_tetrahedron\n",
    "\n",
    "dict_p_tetrahedron1 = make_dict_coord_vertices(grid_obj = grid1)"
   ]
  },
  {
   "cell_type": "code",
   "execution_count": 198,
   "id": "357ddf9e",
   "metadata": {},
   "outputs": [
    {
     "name": "stdout",
     "output_type": "stream",
     "text": [
      "The number of coordinates that is interior to a tetrahedron: 15356\n"
     ]
    }
   ],
   "source": [
    "print(\"The number of coordinates that is interior to a tetrahedron:\", len(dict_p_tetrahedron1))"
   ]
  },
  {
   "cell_type": "code",
   "execution_count": 199,
   "id": "5b5b9ef0",
   "metadata": {},
   "outputs": [],
   "source": [
    "\"\"\"\n",
    "Test: We want to plot a random point and tetrahedron of which the point is embedded by.\n",
    "\"\"\"\n",
    "def test_plot_rnd_pnt_tetra(grid_obj, dict_p_tetra):\n",
    "    idx_rand = np.random.randint(low=0, high=grid_obj.cartflat.shape[0]-1, size = 1)\n",
    "    coord_rand = grid1.cartflat[idx_rand,:][0]\n",
    "    print(coord_rand)\n",
    "    try:\n",
    "        plot_tetrhedron_and_interiorpnt(coord_simplex = dict_p_tetra[tuple(coord_rand)], idx_p = idx_rand)\n",
    "    except KeyError:\n",
    "        print(\"The point is not inside any of the tetrahedra\")\n",
    "    return coord_rand"
   ]
  },
  {
   "cell_type": "code",
   "execution_count": 203,
   "id": "aa709806",
   "metadata": {},
   "outputs": [
    {
     "name": "stdout",
     "output_type": "stream",
     "text": [
      "[-1.34482759 -0.72413793  0.17241379]\n",
      "[[[-1.51269485 -0.81862952  0.48497423]\n",
      "  [-1.29614391 -0.701438    0.19153128]\n",
      "  [-1.55562821 -0.25958844  0.15390906]]\n",
      "\n",
      " [[-1.38705176 -0.75063487  0.15390906]\n",
      "  [-1.29614391 -0.701438    0.19153128]\n",
      "  [-1.55562821 -0.25958844  0.15390906]]\n",
      "\n",
      " [[-1.38705176 -0.75063487  0.15390906]\n",
      "  [-1.51269485 -0.81862952  0.48497423]\n",
      "  [-1.55562821 -0.25958844  0.15390906]]\n",
      "\n",
      " [[-1.38705176 -0.75063487  0.15390906]\n",
      "  [-1.51269485 -0.81862952  0.48497423]\n",
      "  [-1.29614391 -0.701438    0.19153128]]]\n"
     ]
    }
   ],
   "source": [
    "test_rndpnt = test_plot_rnd_pnt_tetra(grid_obj = grid1, dict_p_tetra = dict_p_tetrahedron1)"
   ]
  },
  {
   "cell_type": "code",
   "execution_count": 204,
   "id": "7b3da377",
   "metadata": {},
   "outputs": [],
   "source": [
    "\"\"\"\n",
    "Now that we have found all coordinates and \n",
    "the tetrahedra of which they are interior, we want to assign values to each point\n",
    "interior to each tetrahedra by using an interpolation scheme.\n",
    "\n",
    "Interpolation scheme 1:\n",
    "\n",
    "Weighted values by normalized inverse distance to each vertex of the tetrahedron.\n",
    "By normalized we mean the sum of the inverse distances should equal 1.\n",
    "\"\"\"\n",
    "\n",
    "def interpolation_p_in_simplex(p, simplex, dict_vals):\n",
    "    \"\"\"\n",
    "    args:\n",
    "    p - (x,y,z) cart coords of p in tetrahedron/simplex, dim (3,)\n",
    "    simplex - (x,y,z) cart coord of each vertex of tetrahedron/simplex, dim (4,3)\n",
    "    dict_vals - dictionary value scalar valuesof potential, key coord of a vertex, \n",
    "                len = number of grid points in toroidal coord\n",
    "    out:\n",
    "    paramval = scalar, param value interpolated from param vals at vertices, dim (1,)\n",
    "    \"\"\"\n",
    "    vals = []\n",
    "    for i in range(len(simplex)):\n",
    "        vals.append(dict_vals[tuple(simplex[i])])\n",
    "    vals = np.asarray(vals, np.float64)\n",
    "    euc_dists = np.sqrt(np.sum((simplex - p)**2, axis = 1)) + 1e-8\n",
    "    N = 1/(np.sum(1/euc_dists, axis=0))\n",
    "    paramval = np.sum(N*vals/euc_dists, axis = 0)\n",
    "    return paramval"
   ]
  },
  {
   "cell_type": "code",
   "execution_count": 205,
   "id": "c8f638ce",
   "metadata": {},
   "outputs": [
    {
     "name": "stdout",
     "output_type": "stream",
     "text": [
      "Coord:  [-1.34482759 -0.72413793  0.17241379]\n",
      "Coord vertices of tetrahedron with potvals:\n",
      " {(-1.5556282095991059, -0.2595884357028291, 0.153909064496551): 1, (-1.3870517550303403, -0.7506348721704941, 0.153909064496551): 2, (-1.5126948520751613, -0.8186295160237664, 0.4849742261192857): 3, (-1.29614390567014, -0.701438004327379, 0.1915312802623746): 4}\n",
      "2.8736093346831284\n"
     ]
    }
   ],
   "source": [
    "# run a test if the function works on a random point interior to a tetrahedron\n",
    "print(\"Coord: \", test_rndpnt)\n",
    "test_potvals = {tuple(dict_p_tetrahedron1[tuple(test_rndpnt)][0]):1, \n",
    "                tuple(dict_p_tetrahedron1[tuple(test_rndpnt)][1]):2, \n",
    "                tuple(dict_p_tetrahedron1[tuple(test_rndpnt)][2]):3, \n",
    "                tuple(dict_p_tetrahedron1[tuple(test_rndpnt)][3]):4}\n",
    "print(\"Coord vertices of tetrahedron with potvals:\\n\", test_potvals)\n",
    "test_interpolationvals = interpolation_p_in_simplex(p = test_rndpnt,\n",
    "                                                    simplex = dict_p_tetrahedron1[tuple(test_rndpnt)], \n",
    "                                                    dict_vals = test_potvals)\n",
    "print(test_interpolationvals)"
   ]
  },
  {
   "cell_type": "code",
   "execution_count": 206,
   "id": "a76910f9",
   "metadata": {
    "scrolled": false
   },
   "outputs": [],
   "source": [
    "\"\"\"\n",
    "Define some potential that is easy to interpret. Just to have some values to interpolate from.\n",
    "\"\"\"\n",
    "\n",
    "def testpot(r):\n",
    "    return np.exp(-r)\n",
    "\n",
    "tpot_tor = testpot(r = grid1.R)\n",
    "\n",
    "tpot_cart = testpot(r = np.sqrt((np.sqrt(grid1.cart_x**2 + grid1.cart_y**2) - 2)**2 + grid1.cart_z**2))"
   ]
  },
  {
   "cell_type": "code",
   "execution_count": 224,
   "id": "b580cfd2",
   "metadata": {},
   "outputs": [],
   "source": [
    "\"\"\"\n",
    "Now define a potential which varies in all directions. The potential varies periodically in theta and phi direction.\n",
    "\"\"\"\n",
    "def tpot_alldir_cart(grid_obj):\n",
    "    r = np.sqrt((np.sqrt(grid_obj.cart_x**2 + grid_obj.cart_y**2) - 2)**2 + grid_obj.cart_z**2)\n",
    "    phi = np.arctan2(grid_obj.cart_y,grid_obj.cart_x)\n",
    "    theta = np.arctan2(grid_obj.cart_z,r)\n",
    "    return np.exp(-r)*np.sin(theta)*np.cos(phi)\n",
    "\n",
    "def tpot_alldir_tor(grid_obj):\n",
    "    return np.exp(-grid_obj.R)*np.sin(grid_obj.theta)*np.cos(grid_obj.phi)"
   ]
  },
  {
   "cell_type": "code",
   "execution_count": 226,
   "id": "b29c620d",
   "metadata": {},
   "outputs": [],
   "source": [
    "testpot_alldir_cart = tpot_alldir_cart(grid_obj = grid1)\n",
    "testpot_alldir_tor = tpot_alldir_tor(grid_obj = grid1)"
   ]
  },
  {
   "cell_type": "code",
   "execution_count": 210,
   "id": "be7fe28d",
   "metadata": {},
   "outputs": [],
   "source": [
    "\"\"\"\n",
    "Function to plot a param as a contour plot for inspection.\n",
    "Param must be on a meshgrid structure.\n",
    "\"\"\"\n",
    "def plot_paramslice_cart(param, idx_y):\n",
    "    im = plt.imshow(param[:,idx_y].T)\n",
    "    plt.colorbar(im)\n",
    "# plot_paramslice_cart(param = tpot_cart, idx_y = 15)"
   ]
  },
  {
   "cell_type": "code",
   "execution_count": 211,
   "id": "199a8d78",
   "metadata": {},
   "outputs": [],
   "source": [
    "def plot_paramslice_tor(grid_obj, param, idx_phi):\n",
    "    fig = plt.figure()\n",
    "    ax = fig.add_subplot()\n",
    "    c = ax.contourf(np.sqrt(grid_obj.tor_x[:,:,idx_phi]**2 - grid_obj.tor_y[:,:,idx_phi]**2) - 2, \n",
    "                    grid_obj.tor_z[:,:,idx_phi], param[:,:,idx_phi])\n",
    "    fig.colorbar(c)\n",
    "# plot_paramslice_tor(grid_obj = grid1, param = tpot_tor, idx_phi = 0)"
   ]
  },
  {
   "cell_type": "code",
   "execution_count": 217,
   "id": "be48d23d",
   "metadata": {},
   "outputs": [],
   "source": [
    "# plot_paramslice_cart(param = testpot_alldir_cart, idx_y = 10)"
   ]
  },
  {
   "cell_type": "code",
   "execution_count": 218,
   "id": "4ef9c22f",
   "metadata": {},
   "outputs": [],
   "source": [
    "# plot_paramslice_tor(grid_obj = grid1, param = testpot_alldir_tor, idx_phi = 0)"
   ]
  },
  {
   "cell_type": "code",
   "execution_count": 17,
   "id": "f3b10a63",
   "metadata": {},
   "outputs": [],
   "source": [
    "\"\"\"\n",
    "Now test the interpolation method wiht actual potential data from the exponentially decaying potential.\n",
    "\"\"\"\n",
    "def make_param_mesh(dict_p_tetra, grid_obj, tpot_torgrid):\n",
    "    \"\"\"\n",
    "    Make a dictionary with key = coord xyz and value = potential value \n",
    "    of the potential values connected to grid points from the toroidal grid.\n",
    "\n",
    "    \"\"\"\n",
    "    dict_coord_tpot = {}\n",
    "    for i in range(len(grid_obj.torflat)):\n",
    "        dict_coord_tpot[tuple(grid_obj.torflat[i])] = tpot_torgrid.flatten()[i]\n",
    "\n",
    "    # Points interior to one of the tetrahedra that the toroidal volume is divided in\n",
    "    ps_interior = np.asarray(list(dict_p_tetra.keys()), dtype = np.float64)\n",
    "\n",
    "    # Make a dictionary with key coord, value interpolated parameter value\n",
    "    dict_coord_pot_interpol = {}\n",
    "    \n",
    "    # Make a meshgrid of interpolated parameter values\n",
    "    potmesh = np.nan*np.ones(grid_obj.cart_x.shape)\n",
    "    \n",
    "    for i in range(len(ps_interior)):\n",
    "        coord_idx = np.argwhere((grid_obj.cart_x == ps_interior[i][0]) & \n",
    "                                (grid_obj.cart_y == ps_interior[i][1]) & \n",
    "                                (grid_obj.cart_z == ps_interior[i][2]))[0] \n",
    "        potmesh[coord_idx[0], coord_idx[1], coord_idx[2]] = interpolation_p_in_simplex(p = ps_interior[i],\n",
    "                                                            simplex = dict_p_tetra[tuple(ps_interior[i])], \n",
    "                                                            dict_vals = dict_coord_tpot)\n",
    "        dict_coord_pot_interpol[tuple(ps_interior[i])] = potmesh[coord_idx[0], coord_idx[1], coord_idx[2]]\n",
    "\n",
    "    return potmesh, dict_coord_pot_interpol"
   ]
  },
  {
   "cell_type": "code",
   "execution_count": 18,
   "id": "8bd950cf",
   "metadata": {},
   "outputs": [],
   "source": [
    "potmesh1, dict_coord_pot_interpol1 = make_param_mesh(dict_p_tetra = dict_p_tetrahedron1, \n",
    "                                                     grid_obj = grid1, \n",
    "                                                     tpot_torgrid = tpot_tor)"
   ]
  },
  {
   "cell_type": "code",
   "execution_count": 19,
   "id": "b5859767",
   "metadata": {},
   "outputs": [
    {
     "data": {
      "text/plain": [
       "(30, 30, 30)"
      ]
     },
     "execution_count": 19,
     "metadata": {},
     "output_type": "execute_result"
    }
   ],
   "source": [
    "potmesh1.shape\n",
    "# np.max(np.abs(potmesh1-tpot_cart))"
   ]
  },
  {
   "cell_type": "code",
   "execution_count": 20,
   "id": "886daf0e",
   "metadata": {},
   "outputs": [
    {
     "name": "stdout",
     "output_type": "stream",
     "text": [
      "From direct solution of potential on cartesian grid the coords chosen with potential value are: \n",
      "\n",
      "x: 2.586206896551724\n",
      "y:  0.10344827586206895\n",
      "z:  0.034482758620689724\n",
      "p: 0.5547238804238811\n",
      "\n",
      "From interpolated solution of potential on cartesian grid the coords chosen with potential value are: \n",
      "\n",
      "xyz [2.5862069  0.10344828 0.03448276]\n",
      "p 0.5383733574324316\n"
     ]
    }
   ],
   "source": [
    "\"\"\"\n",
    "Test the interpolation on one point to and compare with the direct solution on the cartesian grid.\n",
    "\"\"\"\n",
    "idx_draw = [27,15,15]\n",
    "\n",
    "print(\"From direct solution of potential on cartesian grid the coords chosen with potential value are: \\n\")\n",
    "print(\"x:\", grid1.cart_x[idx_draw[0], idx_draw[1], idx_draw[2]])\n",
    "print(\"y: \", grid1.cart_y[idx_draw[0], idx_draw[1], idx_draw[2]])\n",
    "print(\"z: \", grid1.cart_z[idx_draw[0], idx_draw[1], idx_draw[2]])\n",
    "print(\"p:\", tpot_cart[idx_draw[0], idx_draw[1], idx_draw[2]])\n",
    "\n",
    "print(\"\\nFrom interpolated solution of potential on cartesian grid the coords chosen with potential value are: \\n\")\n",
    "print(\"xyz\", grid1.cartflat[idx_draw[2] + idx_draw[1]*grid1.cart_x.shape[1] + idx_draw[0]*grid1.cart_x.shape[0]**2])\n",
    "print(\"p\", dict_coord_pot_interpol1[tuple(grid1.cartflat[idx_draw[2] + idx_draw[1]*grid1.cart_x.shape[1] + idx_draw[0]*grid1.cart_x.shape[0]**2])])"
   ]
  },
  {
   "cell_type": "code",
   "execution_count": 168,
   "id": "1b30b2a3",
   "metadata": {},
   "outputs": [
    {
     "data": {
      "text/plain": [
       "<matplotlib.colorbar.Colorbar at 0x18f79196250>"
      ]
     },
     "execution_count": 168,
     "metadata": {},
     "output_type": "execute_result"
    }
   ],
   "source": [
    "\"\"\"\n",
    "Restructure interpolated potential data in mesh format to plot the potential in a contourplot to\n",
    "be able to visually compare the direct solution on the cartesian grid to the interpolated values.\n",
    "\n",
    "Current issue:\n",
    "I have to restructure the interpolated parameter(potential) values in a mesh such that it is plotable.\n",
    "\"\"\"\n",
    "\n",
    "\n",
    "fig_testpot_interpol = plt.figure()\n",
    "ax_testpot_interpol = fig_testpot_interpol.add_subplot(projection='3d')\n",
    "potscat = ax_testpot_interpol.scatter(grid1.cartflat[:,0], \n",
    "                                      grid1.cartflat[:,1], \n",
    "                                      grid1.cartflat[:,2], \n",
    "                                      c = potmesh1 - tpot_cart, cmap = cm.jet)\n",
    "\n",
    "ax_testpot_interpol.set_xlabel(\"$x[m]$\")\n",
    "ax_testpot_interpol.set_ylabel(\"$y[m]$\")\n",
    "ax_testpot_interpol.set_zlabel(\"$z[m]$\")\n",
    "fig_testpot_interpol.colorbar(potscat)"
   ]
  },
  {
   "cell_type": "code",
   "execution_count": 321,
   "id": "8b62f4d5",
   "metadata": {},
   "outputs": [
    {
     "name": "stdout",
     "output_type": "stream",
     "text": [
      "This cell use  0.028984785079956055 seconds to run.\n"
     ]
    }
   ],
   "source": [
    "\"\"\"\n",
    "Use MMS to confirm that error of grid converges as you increase the number of gridpoints.\n",
    "Strategy:\n",
    "1. Establish all grids with increasing number of points in the cartesian grid.\n",
    "2. Calculate the interpolation\n",
    "3. Compare potential values with the direct solution on the cartesian grid and compute a 1D measure of the error.\n",
    "4. Plot error in loglog and see if the error converges.\n",
    "\n",
    "\"\"\"\n",
    "tik = time.time()\n",
    "\n",
    "gridlist = []\n",
    "tpot_cartlist = []\n",
    "tpot_torlist = []\n",
    "for i in range(4):\n",
    "    gridlist.append( grid(ngrid_cart = 20, ngrid_tor = 10*(i+1), R0 = 2) )\n",
    "    tpot_cartlist.append( testpot(r = np.sqrt((np.sqrt(gridlist[i].cart_x**2 + gridlist[i].cart_y**2) - 2)**2 + \n",
    "                                              gridlist[i].cart_z**2)) )\n",
    "    tpot_torlist.append( testpot(r = gridlist[i].R) )\n",
    "\n",
    "tok = time.time()\n",
    "print(\"This cell use \", tok - tik, \"seconds to run.\")"
   ]
  },
  {
   "cell_type": "code",
   "execution_count": 167,
   "id": "852d12f3",
   "metadata": {},
   "outputs": [],
   "source": [
    "\"\"\"\n",
    "Test the delaunay tessalation on a generalized 3d romboid.\n",
    "Here you should se that a generalized 3d romboid gets split into 6 tetrahedra.\n",
    "\"\"\"\n",
    "xx_rom3d, yy_rom3d, zz_rom3d = np.meshgrid(np.array([0,1,0,1,0,1,0,1]), \n",
    "                                            np.array([0,0,1,1,0,0,1,1]), \n",
    "                                            np.array([0,0,0,0,1,1,1,1]))\n",
    "rom3d_gridflat = np.zeros((grid1.cart_x[:2, :2, :2].shape[0]**3,) + (3,))\n",
    "rom3d_gridflat[:,0] = grid1.tor_x[4:(4+2), :2, :2].flatten()\n",
    "rom3d_gridflat[:,1] = grid1.tor_y[4:(4+2), :2, :2].flatten()\n",
    "rom3d_gridflat[:,2] = grid1.tor_z[4:(4+2), :2, :2].flatten()\n",
    "\n",
    "\n",
    "tri_rom3d = Delaunay(rom3d_gridflat)\n",
    "# print(\"The shape of the resulting tessalation, should be (6,4)\", tri_rom3d.simplices.shape)\n",
    "coords_simplices = rom3d_gridflat[tri_rom3d.simplices]\n",
    "coords_simplices.shape\n",
    "\n",
    "# # plot the vertices of the cell where we check for an interior point.\n",
    "# figrom3d = plt.figure()\n",
    "# axrom3d = figrom3d.add_subplot(projection='3d')\n",
    "# axrom3d.scatter(coords_simplices[:,:,0], coords_simplices[:,:,1], coords_simplices[:,:,2])\n",
    "\n",
    "\n",
    "def plot_tetrhedron_and_interiorpnt(coord_simplices):\n",
    "    fig_foundsimplex = plt.figure()\n",
    "    ax_foundsimplex = fig_foundsimplex.add_subplot(projection='3d')\n",
    "    ax_foundsimplex.set_xlim(-3,3)\n",
    "    ax_foundsimplex.set_ylim(-3,3)\n",
    "    ax_foundsimplex.set_zlim(-1,1)\n",
    "    ax_foundsimplex.set_xlabel(\"$x[\\\\mathrm{m}]$\")\n",
    "    ax_foundsimplex.set_ylabel(\"$y[\\\\mathrm{m}]$\")\n",
    "    ax_foundsimplex.set_zlabel(\"$z[\\\\mathrm{m}]$\")\n",
    "    for coord_simplex in coord_simplices:\n",
    "        hull_found = ConvexHull(coord_simplex)\n",
    "        indices_found = hull_found.simplices\n",
    "        faces_found = coord_simplex[indices_found]\n",
    "\n",
    "        for f in faces_found:\n",
    "            face = a3.art3d.Poly3DCollection([f])\n",
    "            face.set_color(mpl.colors.rgb2hex(np.random.rand(3)))\n",
    "            face.set_edgecolor('k')\n",
    "            face.set_alpha(0.5)\n",
    "            ax_foundsimplex.add_collection3d(face)\n",
    "# plot_tetrhedron_and_interiorpnt(coord_simplices = coords_simplices)"
   ]
  },
  {
   "cell_type": "code",
   "execution_count": 36,
   "id": "59784697",
   "metadata": {},
   "outputs": [
    {
     "data": {
      "text/plain": [
       "'\\nCheck visually that only one box is isolated each iteration of the manual tessalation.\\nCheck one iteration of the manual tessalation.\\n'"
      ]
     },
     "execution_count": 36,
     "metadata": {},
     "output_type": "execute_result"
    }
   ],
   "source": [
    "\"\"\"\n",
    "Check visually that only one box is isolated each iteration of the manual tessalation.\n",
    "Check one iteration of the manual tessalation and confirm that inteior points are acutally\n",
    "interoir to the toroidal grid points.\n",
    "\"\"\"\n",
    "\n",
    "# n=3\n",
    "# ir = 0\n",
    "# it = 10\n",
    "# ip = 0\n",
    "# gridflat = np.zeros((n**3,) + (3,))\n",
    "# gridflat[:,0] = grid2.tor_x[ir:(ir + n), it:(it + n), ip:(ip + n)].flatten()\n",
    "# gridflat[:,1] = grid2.tor_y[ir:(ir + n), it:(it + n), ip:(ip + n)].flatten()\n",
    "# gridflat[:,2] = grid2.tor_z[ir:(ir + n), it:(it + n), ip:(ip + n)].flatten()\n",
    "# print(\"shape gridflat\", gridflat.shape)\n",
    "# tri1 = Delaunay(gridflat)\n",
    "# idx_tri1 = tri1.simplices\n",
    "# coord_tri1 = gridflat[idx_tri1]\n",
    "# print(coord_tri1)\n",
    "# print(gridflat)\n",
    "\n",
    "# minx = np.min(gridflat[:,0])\n",
    "# maxx = np.max(gridflat[:,0])\n",
    "# miny = np.min(gridflat[:,1])\n",
    "# maxy = np.max(gridflat[:,1])\n",
    "# minz = np.min(gridflat[:,2])\n",
    "# maxz = np.max(gridflat[:,2])\n",
    "\n",
    "# print(\"minx\", minx, \"maxx\", maxx, \"miny\", miny, \"maxy\", maxy, \"minz\", minz, \"maxz\", maxz)\n",
    "# epsx = grid2.cart_x[1,0,0] - grid2.cart_x[0,0,0]\n",
    "# epsy = grid2.cart_y[0,1,0] - grid2.cart_y[0,0,0]\n",
    "# epsz = grid2.cart_z[0,0,1] - grid2.cart_z[0,0,0]\n",
    "\n",
    "# idx_inside = np.argwhere((minx - epsx < grid2.cartflat[:,0]) & (maxx + epsx > grid2.cartflat[:,0]) & \n",
    "#                          (miny - epsy < grid2.cartflat[:,1]) & (maxy + epsy > grid2.cartflat[:,1]) & \n",
    "#                          (minz - epsz < grid2.cartflat[:,2]) & (maxz + epsz > grid2.cartflat[:,2]) )\n",
    "# print(\"idx_inside\", idx_inside.shape)\n",
    "# dict_p_tetrahedron_test1 = {}\n",
    "\n",
    "# for i in idx_inside:\n",
    "#     p = grid2.cartflat[i][0]\n",
    "#     idx_simplex_embed_p1 = tri1.find_simplex(p)\n",
    "#     if idx_simplex_embed_p1 != -1:\n",
    "#         p_tuple = tuple(list(p))\n",
    "#         dict_p_tetrahedron_test1[p_tuple] = coord_tri1[idx_simplex_embed_p1] \n",
    "\n",
    "\n",
    "# print(dict_p_tetrahedron_test1)"
   ]
  },
  {
   "cell_type": "code",
   "execution_count": 37,
   "id": "2d006b91",
   "metadata": {},
   "outputs": [],
   "source": [
    "\"\"\"\n",
    "Scatter plot of the interior points with the vertices of the simplices.\n",
    "\"\"\"\n",
    "\n",
    "# fig1 = plt.figure()\n",
    "# ax1 = fig1.add_subplot(projection='3d')\n",
    "# ax1.scatter(gridflat[:,0], gridflat[:,1], gridflat[:,2], color = 'k')\n",
    "# for point in np.array(list(dict_p_tetrahedron_test1.keys())):\n",
    "#     ax1.scatter(point[0], point[1], point[2], color = 'y')"
   ]
  },
  {
   "cell_type": "code",
   "execution_count": 38,
   "id": "3ae7ab55",
   "metadata": {},
   "outputs": [],
   "source": [
    "def manual_tessalation(grid_obj):\n",
    "    \"\"\"\n",
    "    The problem is that it is not possible to merge two Delaunay objects or add additional points.\n",
    "    Possible strategy is to do a search and find out for which of the tetrahedra of each 3d romboid \n",
    "    each point is interior to.\n",
    "    \"\"\"\n",
    "    dict_p_tetrahedron = {}\n",
    "    n = 3\n",
    "    gridflat = np.zeros((n**3,) + (3,))\n",
    "    print(grid_obj.tor_x.shape)\n",
    "    for ir in range(grid_obj.tor_x.shape[0]-n):\n",
    "        for it in range(grid_obj.tor_x.shape[1]):\n",
    "            for ip in range(grid_obj.tor_x.shape[2]-n):\n",
    "#                 print(\"iteration # \", ir*it*ip)\n",
    "                if grid_obj.tor_x.shape[1]-n <= it:\n",
    "                    nlow = it-grid_obj.tor_x.shape[1]\n",
    "                    nhigh = nlow + n-1\n",
    "                    idxs_t = np.linspace(nlow,nhigh,n, dtype = np.int32)\n",
    "                    gridflat[:,0] = grid_obj.tor_x[ir:(ir + n), idxs_t, ip:(ip + n)].flatten()\n",
    "                    gridflat[:,1] = grid_obj.tor_y[ir:(ir + n), idxs_t, ip:(ip + n)].flatten()\n",
    "                    gridflat[:,2] = grid_obj.tor_z[ir:(ir + n), idxs_t, ip:(ip + n)].flatten()\n",
    "                else:\n",
    "                    gridflat[:,0] = grid_obj.tor_x[ir:(ir + n), it:(it + n), ip:(ip + n)].flatten()\n",
    "                    gridflat[:,1] = grid_obj.tor_y[ir:(ir + n), it:(it + n), ip:(ip + n)].flatten()\n",
    "                    gridflat[:,2] = grid_obj.tor_z[ir:(ir + n), it:(it + n), ip:(ip + n)].flatten()\n",
    "                tri = Delaunay(gridflat)\n",
    "                idx_tri = tri.simplices\n",
    "                coord_tri = gridflat[idx_tri]\n",
    "\n",
    "                minx = np.min(gridflat[:,0])\n",
    "                maxx = np.max(gridflat[:,0])\n",
    "                miny = np.min(gridflat[:,1])\n",
    "                maxy = np.max(gridflat[:,1])\n",
    "                minz = np.min(gridflat[:,2])\n",
    "                maxz = np.max(gridflat[:,2])\n",
    "#                     print(\"minx\", minx, \"maxx\", maxx, \"miny\", miny, \"maxy\", maxy, \"minz\", minz, \"maxz\", maxz)\n",
    "\n",
    "                epsx = grid_obj.cart_x[1,0,0] - grid_obj.cart_x[0,0,0]\n",
    "                epsy = grid_obj.cart_y[0,1,0] - grid_obj.cart_y[0,0,0]\n",
    "                epsz = grid_obj.cart_z[0,0,1] - grid_obj.cart_z[0,0,0]\n",
    "            \n",
    "                idx_inside = np.argwhere((minx - epsx < grid_obj.cartflat[:,0]) & (maxx + epsx > grid_obj.cartflat[:,0]) & \n",
    "                             (miny - epsy < grid_obj.cartflat[:,1]) & (maxy + epsy > grid_obj.cartflat[:,1]) & \n",
    "                             (minz - epsz < grid_obj.cartflat[:,2]) & (maxz + epsz > grid_obj.cartflat[:,2]) )\n",
    "                for i in idx_inside:\n",
    "                    p = grid_obj.cartflat[i][0]\n",
    "                    idx_simplex_embed_p = tri.find_simplex(p)\n",
    "                    if idx_simplex_embed_p != -1:\n",
    "                        p_tuple = tuple(list(p))\n",
    "                        dict_p_tetrahedron[p_tuple] = coord_tri[idx_simplex_embed_p]                \n",
    "\n",
    "    return dict_p_tetrahedron"
   ]
  },
  {
   "cell_type": "code",
   "execution_count": 322,
   "id": "17f41347",
   "metadata": {},
   "outputs": [
    {
     "name": "stdout",
     "output_type": "stream",
     "text": [
      "(20, 20, 40)\n",
      "The algortihm used 51.05553197860718 seconds.\n"
     ]
    }
   ],
   "source": [
    "tik = time.time()\n",
    "dict_p_tetrahedron_mantest2 = manual_tessalation(grid_obj = gridlist[1])\n",
    "len(dict_p_tetrahedron_mantest2)\n",
    "tok = time.time()\n",
    "print(\"The algortihm used\", tok-tik, \"seconds.\")"
   ]
  },
  {
   "cell_type": "code",
   "execution_count": 323,
   "id": "ea77d25a",
   "metadata": {},
   "outputs": [
    {
     "name": "stdout",
     "output_type": "stream",
     "text": [
      "The algortihm used 0.4550361633300781 seconds.\n"
     ]
    }
   ],
   "source": [
    "tik = time.time()\n",
    "potmesh_mantest2, dict_coord_pot_interpol_mantest2 = make_param_mesh(dict_p_tetra = dict_p_tetrahedron_mantest2, \n",
    "                                                     grid_obj = gridlist[1], \n",
    "                                                     tpot_torgrid = tpot_torlist[1])\n",
    "tok = time.time()\n",
    "print(\"The algortihm used\", tok-tik, \"seconds.\")"
   ]
  },
  {
   "cell_type": "code",
   "execution_count": 325,
   "id": "8daa62fa",
   "metadata": {},
   "outputs": [
    {
     "data": {
      "text/plain": [
       "<matplotlib.colorbar.Colorbar at 0x18f048d6160>"
      ]
     },
     "execution_count": 325,
     "metadata": {},
     "output_type": "execute_result"
    }
   ],
   "source": [
    "\"\"\"\n",
    "3D plot of the difference between the analytical and the interpolated potential.\n",
    "\"\"\"\n",
    "\n",
    "fig_testpot_interpol = plt.figure()\n",
    "ax_testpot_interpol = fig_testpot_interpol.add_subplot(projection='3d')\n",
    "\n",
    "potscat = ax_testpot_interpol.scatter(gridlist[1].cart_x, \n",
    "                                      gridlist[1].cart_y, \n",
    "                                      gridlist[1].cart_z, \n",
    "                                      c = potmesh_mantest2 - tpot_cartlist[1], cmap = cm.jet)\n",
    "\n",
    "ax_testpot_interpol.set_xlabel(\"$x[m]$\")\n",
    "ax_testpot_interpol.set_ylabel(\"$y[m]$\")\n",
    "ax_testpot_interpol.set_zlabel(\"$z[m]$\")\n",
    "fig_testpot_interpol.colorbar(potscat)"
   ]
  },
  {
   "cell_type": "code",
   "execution_count": 131,
   "id": "69f15761",
   "metadata": {},
   "outputs": [
    {
     "name": "stdout",
     "output_type": "stream",
     "text": [
      "(10, 10, 20)\n",
      "(20, 20, 40)\n",
      "(30, 30, 60)\n",
      "(40, 40, 80)\n"
     ]
    }
   ],
   "source": [
    "potmesh_tri_list = []\n",
    "runtimelist = []\n",
    "for i in range(4):\n",
    "    tik = time.time()\n",
    "    dictpintetra = manual_tessalation(grid_obj = gridlist[i])\n",
    "    parammesh, dict_param = make_param_mesh(dict_p_tetra = dictpintetra,\n",
    "                                            grid_obj = gridlist[i],\n",
    "                                            tpot_torgrid = tpot_torlist[i])\n",
    "    potmesh_tri_list.append( parammesh )\n",
    "    tok = time.time()\n",
    "    runtimelist.append(tok-tik)"
   ]
  },
  {
   "cell_type": "code",
   "execution_count": 135,
   "id": "8b591cff",
   "metadata": {},
   "outputs": [
    {
     "data": {
      "text/plain": [
       "(4, 10, 10, 10)"
      ]
     },
     "execution_count": 135,
     "metadata": {},
     "output_type": "execute_result"
    }
   ],
   "source": [
    "potmesh_tri_list = np.asarray(potmesh_tri_list)\n",
    "potmesh_tri_list.shape\n",
    "# type(potmesh_tri_list[1])"
   ]
  },
  {
   "cell_type": "code",
   "execution_count": 144,
   "id": "3eb3a39d",
   "metadata": {},
   "outputs": [
    {
     "data": {
      "text/plain": [
       "<matplotlib.colorbar.Colorbar at 0x18f789dcd00>"
      ]
     },
     "execution_count": 144,
     "metadata": {},
     "output_type": "execute_result"
    }
   ],
   "source": [
    "im = plt.imshow(potmesh_tri_list[3,:,5].T)\n",
    "plt.colorbar(im)"
   ]
  },
  {
   "cell_type": "code",
   "execution_count": 52,
   "id": "9caa13a7",
   "metadata": {},
   "outputs": [
    {
     "name": "stdout",
     "output_type": "stream",
     "text": [
      "ok\n"
     ]
    }
   ],
   "source": [
    "\"\"\"\n",
    "Now want to find a cell using vtk and mayavi.\n",
    "\"\"\"\n",
    "\n",
    "from tvtk.api import tvtk\n",
    "from mayavi.scripts import mayavi2\n",
    "from PyQt5 import QtCore\n",
    "import sip\n",
    "import vtk"
   ]
  },
  {
   "cell_type": "code",
   "execution_count": 54,
   "id": "591934e7",
   "metadata": {},
   "outputs": [],
   "source": [
    "# # View the data.\n",
    "# @mayavi2.standalone\n",
    "# def view():\n",
    "#     from mayavi.sources.vtk_data_source import VTKDataSource\n",
    "#     from mayavi.modules.api import Outline, GridPlane\n",
    "\n",
    "#     mayavi.new_scene()\n",
    "#     src = VTKDataSource(data=sgrid)\n",
    "#     mayavi.add_source(src)\n",
    "#     mayavi.add_module(Outline())\n",
    "#     g = GridPlane()\n",
    "#     g.grid_plane.axis = \"x\"\n",
    "#     mayavi.add_module(g)\n",
    "#     g = GridPlane()\n",
    "#     g.grid_plane.axis = \"y\"\n",
    "#     mayavi.add_module(g)\n",
    "#     g = GridPlane()\n",
    "#     g.grid_plane.axis = \"z\"\n",
    "#     mayavi.add_module(g)\n",
    "\n",
    "\n",
    "# if __name__ == \"__main__\":\n",
    "#     view()"
   ]
  },
  {
   "cell_type": "code",
   "execution_count": 326,
   "id": "73cf2762",
   "metadata": {},
   "outputs": [
    {
     "name": "stdout",
     "output_type": "stream",
     "text": [
      "855 0 [0.02366018 0.05095581 0.46015286] [0.50021677 0.01212203 0.00065085 0.0268575  0.42637287 0.01033253\n",
      " 0.00055477 0.02289269]\n"
     ]
    }
   ],
   "source": [
    "\"\"\"\n",
    "Example vtk.\n",
    "cellid is the cell find_cell() starts its search\n",
    "tol2 is the tolerance of the cell found\n",
    "subid set to default value\n",
    "pcoord is ?\n",
    "weights set to default, !!! need to find out how they are computed, but I know it sums to 1\n",
    "cid is the id of the gridcell from the flattened gridcell array with dims (n_i -1, n_j -1, n_k - 1)\n",
    "\"\"\"\n",
    "\n",
    "cell = None\n",
    "# cellid -1 means that the point is not found in the cell\n",
    "cellid = -1\n",
    "tol2 = 1e-6\n",
    "subid = vtk.reference(-1)\n",
    "pcoord = np.zeros((3))\n",
    "weights = np.zeros(8)\n",
    "cid = sgrid.find_cell([2.6,2e-2,2e-2], cell, cellid, tol2, subid, pcoord, weights)\n",
    "print(cid, subid, pcoord, weights)"
   ]
  },
  {
   "cell_type": "code",
   "execution_count": 57,
   "id": "4938b9f2",
   "metadata": {},
   "outputs": [
    {
     "name": "stdout",
     "output_type": "stream",
     "text": [
      "5 0 0\n"
     ]
    },
    {
     "data": {
      "text/plain": [
       "array([[[[2.56      , 2.42129214],\n",
       "         [2.42898489, 2.29737579]],\n",
       "\n",
       "        [[2.67      , 2.52533204],\n",
       "         [2.51324978, 2.37707497]]],\n",
       "\n",
       "\n",
       "       [[[0.        , 0.83123064],\n",
       "         [0.        , 0.7886901 ]],\n",
       "\n",
       "        [[0.        , 0.86694758],\n",
       "         [0.        , 0.81605087]]],\n",
       "\n",
       "\n",
       "       [[[0.        , 0.        ],\n",
       "         [0.35996106, 0.35996106]],\n",
       "\n",
       "        [[0.        , 0.        ],\n",
       "         [0.4306677 , 0.4306677 ]]]])"
      ]
     },
     "execution_count": 57,
     "metadata": {},
     "output_type": "execute_result"
    }
   ],
   "source": [
    "\"\"\"\n",
    "Find the indices of the cell vertices.\n",
    "\"\"\"\n",
    "newgridshape = (grid2.tor_x.shape[0]-1, grid2.tor_x.shape[1]-1, grid2.tor_x.shape[2]-1)\n",
    "ir, it, ip = np.unravel_index(cid, newgridshape)\n",
    "print(ir, it, ip)\n",
    "\n",
    "\n",
    "\"\"\"\n",
    "Plot of the vertices of the cell and the interior point [2.6,2e-2,2e-2].\n",
    "\"\"\"\n",
    "# fig_cell = plt.figure()\n",
    "# ax_cell = fig_cell.add_subplot(projection='3d')\n",
    "# ax_cell.scatter(grid2.tor_x[ir:(ir+2), it:(it+2), ip:(ip+2)], \n",
    "#                 grid2.tor_y[ir:(ir+2), it:(it+2), ip:(ip+2)], \n",
    "#                 grid2.tor_z[ir:(ir+2), it:(it+2), ip:(ip+2)])\n",
    "# ax_cell.scatter(2.6,2e-2,2e-2)\n",
    "# ax_cell.set_xlabel(\"x\")\n",
    "# ax_cell.set_ylabel(\"y\")\n",
    "# ax_cell.set_zlabel(\"z\")\n",
    "\n",
    "\"\"\"\n",
    "Here we print the shape of the resulting cell and restructure the data in a mesh desired components.\n",
    "\"\"\"\n",
    "grid2.tor_x[ir:(ir+2), it:(it+2), ip:(ip+2)].shape\n",
    "cell_verts_coord = np.zeros((3,2,2,2))\n",
    "cell_verts_coord[0] = grid2.tor_x[ir:(ir+2), it:(it+2), ip:(ip+2)]\n",
    "cell_verts_coord[1] = grid2.tor_y[ir:(ir+2), it:(it+2), ip:(ip+2)]\n",
    "cell_verts_coord[2] = grid2.tor_z[ir:(ir+2), it:(it+2), ip:(ip+2)]\n",
    "cell_verts_coord"
   ]
  },
  {
   "cell_type": "code",
   "execution_count": 58,
   "id": "f5094e40",
   "metadata": {},
   "outputs": [],
   "source": [
    "def make_parammesh_vtk(grid_obj, sgrid, tpot_torgrid):\n",
    "    \n",
    "    dict_coord_tpot = {}\n",
    "    for i in range(len(grid_obj.torflat)):\n",
    "        dict_coord_tpot[tuple(grid_obj.torflat[i])] = tpot_torgrid.flatten()[i]\n",
    "        \n",
    "    potmesh = np.nan*np.ones(grid_obj.cart_x.shape)\n",
    "    \n",
    "    # pass initial values\n",
    "    cell = None\n",
    "    # means not found\n",
    "    cellid = -1\n",
    "    tol2 = 1e-6\n",
    "    subid = vtk.reference(-1)\n",
    "    pcoord = np.zeros((3))\n",
    "    weights = np.zeros(8)\n",
    "    for p in grid_obj.cartflat:\n",
    "        #find the cell p is interior to\n",
    "        cid = sgrid.find_cell(p, cell, cellid, tol2, subid, pcoord, weights)\n",
    "        if cid == -1:\n",
    "            paramval = np.nan\n",
    "            continue\n",
    "        else:\n",
    "            weights_reshaped = weights.reshape((2,2,2))\n",
    "\n",
    "            # unravel index of corner point of the cell in the toroidal grid\n",
    "            newgridshape = (grid_obj.tor_x.shape[0]-1, grid_obj.tor_x.shape[1]-1, grid_obj.tor_x.shape[2]-1)\n",
    "            ir, it, ip = np.unravel_index(cid, newgridshape)\n",
    "\n",
    "            # creates a mesh in xyz of the cell vertices\n",
    "            cell_verts_coord = np.zeros((3,2,2,2))\n",
    "            cell_verts_coord[0] = grid_obj.tor_x[ir:(ir+2), it:(it+2), ip:(ip+2)]\n",
    "            cell_verts_coord[1] = grid_obj.tor_y[ir:(ir+2), it:(it+2), ip:(ip+2)]\n",
    "            cell_verts_coord[2] = grid_obj.tor_z[ir:(ir+2), it:(it+2), ip:(ip+2)]\n",
    "\n",
    "            #find the potential values of each vertex of the cell and interpolate the data using weights\n",
    "            vals = []\n",
    "            for i_r in range(2):\n",
    "                for i_t in range(2):\n",
    "                    for i_p in range(2):\n",
    "                        pval = dict_coord_tpot[tuple([cell_verts_coord[0,i_r, i_t, i_p],\n",
    "                                                      cell_verts_coord[1,i_r, i_t, i_p],\n",
    "                                                      cell_verts_coord[2,i_r, i_t, i_p]])]*weights_reshaped[i_r, i_t, i_p]\n",
    "                        vals.append(pval)\n",
    "            vals = np.asarray(vals, np.float64)\n",
    "            paramval = np.sum(vals, axis = 0)\n",
    "            \n",
    "            coord_idx = np.argwhere((grid_obj.cart_x == p[0]) & \n",
    "                                    (grid_obj.cart_y == p[1]) & \n",
    "                                    (grid_obj.cart_z == p[2]))[0] \n",
    "            potmesh[coord_idx[0], coord_idx[1], coord_idx[2]] = paramval\n",
    "    return potmesh"
   ]
  },
  {
   "cell_type": "code",
   "execution_count": 146,
   "id": "721e85f1",
   "metadata": {},
   "outputs": [],
   "source": [
    "grid_coarse = grid(ngrid_cart = 10, ngrid_tor = 5, R0 = 2)"
   ]
  },
  {
   "cell_type": "code",
   "execution_count": 147,
   "id": "6fe51341",
   "metadata": {},
   "outputs": [],
   "source": [
    "tpot_tor_coarse = testpot(r = grid_coarse.R)"
   ]
  },
  {
   "cell_type": "code",
   "execution_count": 148,
   "id": "ace67fbc",
   "metadata": {},
   "outputs": [],
   "source": [
    "sgrid_coarse = tvtk.StructuredGrid(dimensions=grid_coarse.tor_x.shape[::-1])\n",
    "sgrid_coarse.points = grid_coarse.torflat"
   ]
  },
  {
   "cell_type": "code",
   "execution_count": 149,
   "id": "0d179e95",
   "metadata": {},
   "outputs": [],
   "source": [
    "tik = time.time()\n",
    "potmesh_vtk_coarse = make_parammesh_vtk(grid_obj = grid_coarse, sgrid = sgrid_coarse, tpot_torgrid = tpot_tor_coarse)\n",
    "tok = time.time()"
   ]
  },
  {
   "cell_type": "code",
   "execution_count": 151,
   "id": "71496b30",
   "metadata": {},
   "outputs": [
    {
     "data": {
      "text/plain": [
       "<matplotlib.colorbar.Colorbar at 0x18f78e98c70>"
      ]
     },
     "execution_count": 151,
     "metadata": {},
     "output_type": "execute_result"
    }
   ],
   "source": [
    "im = plt.imshow(potmesh_vtk_coarse[:,5].T)\n",
    "plt.colorbar(im)"
   ]
  },
  {
   "cell_type": "code",
   "execution_count": 152,
   "id": "42792373",
   "metadata": {},
   "outputs": [],
   "source": [
    "sgrid_list = []\n",
    "potmesh_vtk_list = []\n",
    "runtimelist = []\n",
    "for i in range(4):\n",
    "    tik = time.time()\n",
    "    sgrid_list.append(tvtk.StructuredGrid(dimensions=gridlist[i].tor_x.shape[::-1]))\n",
    "    sgrid_list[i].points = gridlist[i].torflat\n",
    "    potmesh_vtk_list.append( make_parammesh_vtk(grid_obj = gridlist[i], \n",
    "                                                sgrid = sgrid_list[i], \n",
    "                                                tpot_torgrid = tpot_torlist[i]) )\n",
    "    tok = time.time()\n",
    "    runtimelist.append(tok-tik)"
   ]
  },
  {
   "cell_type": "code",
   "execution_count": 156,
   "id": "9b41cdb8",
   "metadata": {},
   "outputs": [
    {
     "data": {
      "text/plain": [
       "<matplotlib.colorbar.Colorbar at 0x18f7b4268b0>"
      ]
     },
     "execution_count": 156,
     "metadata": {},
     "output_type": "execute_result"
    }
   ],
   "source": [
    "# im = plt.imshow(potmesh_vtk_list[3][:,5].T)\n",
    "# plt.colorbar(im)"
   ]
  },
  {
   "cell_type": "code",
   "execution_count": 158,
   "id": "c92f731d",
   "metadata": {},
   "outputs": [
    {
     "name": "stdout",
     "output_type": "stream",
     "text": [
      "[1.09841756e-02 8.69265756e-04 2.37531860e-04 7.10618585e-05]\n",
      "[1.09841756e-02 8.69265756e-04 2.37531860e-04 7.10618585e-05]\n",
      "[3.88349254e-03 3.07331855e-04 8.39801945e-05 2.51241610e-05]\n"
     ]
    }
   ],
   "source": [
    "def calc_l2_norm(potmesh, tpot_cart, grid_obj, idir):\n",
    "    normconst = grid_obj.tor_x.shape[idir]**(3/2)\n",
    "    return np.sqrt(np.nansum((potmesh - tpot_cart)**2))/normconst\n",
    "\n",
    "l2s = [[], [], []]\n",
    "for i in range(4):\n",
    "    for j in range(3):\n",
    "        l2s[j].append( calc_l2_norm(potmesh = potmesh_vtk_list[i],\n",
    "                                    tpot_cart = tpot_cartlist[i],\n",
    "                                    grid_obj = gridlist[i],\n",
    "                                    idir = j) )\n",
    "\n",
    "\n",
    "l2s = np.asarray(l2s)\n",
    "print(l2s[0])\n",
    "print(l2s[1])\n",
    "print(l2s[2])"
   ]
  },
  {
   "cell_type": "code",
   "execution_count": 92,
   "id": "8f778314",
   "metadata": {},
   "outputs": [
    {
     "name": "stdout",
     "output_type": "stream",
     "text": [
      "[10 20 30 40] [10 20 30 40] [20 40 60 80]\n"
     ]
    }
   ],
   "source": [
    "ngrids_x = np.asarray([x.tor_x.shape[0] for x in gridlist])\n",
    "ngrids_y = np.asarray([y.tor_y.shape[1] for y in gridlist])\n",
    "ngrids_z = np.asarray([z.tor_z.shape[2] for z in gridlist])\n",
    "print(ngrids_x, ngrids_y, ngrids_z)\n",
    "plt.figure()\n",
    "plt.plot(1/ngrids_x, l2s[0], '--',label = \"$n_{grid, \\\\hat{r}}$\")\n",
    "plt.plot(1/ngrids_y, l2s[1], '-.',label = \"$n_{grid, \\\\hat{\\\\theta}}$\")\n",
    "plt.plot(1/ngrids_z, l2s[2], '-',label = \"$n_{grid, \\\\hat{\\\\phi}}$\")\n",
    "plt.xlabel(\"$\\\\frac{1}{n_{grid}}$\")\n",
    "plt.ylabel(\"$L^2(\\\\Phi(\\\\mathbf{r}))$\")\n",
    "plt.xscale(\"log\")\n",
    "plt.yscale(\"log\")\n",
    "plt.legend()\n",
    "plt.show()"
   ]
  },
  {
   "cell_type": "code",
   "execution_count": 315,
   "id": "351550c3",
   "metadata": {},
   "outputs": [],
   "source": [
    "\"\"\"\n",
    "Do exponential fit the gridscaling data compared with the l2 norm.\n",
    "\"\"\"\n",
    "def expofit(ngx, ngy, ngz, l2list):\n",
    "    \n",
    "    ax, bx = np.polyfit(np.log(1/ngx), np.log(l2list[0]), 1, w=np.sqrt(l2list[0]))\n",
    "    ay, by = np.polyfit(np.log(1/ngy), np.log(l2list[1]), 1, w=np.sqrt(l2list[1]))\n",
    "    az, bz = np.polyfit(np.log(1/ngz), np.log(l2list[2]), 1, w=np.sqrt(l2list[2]))\n",
    "\n",
    "    nabcis = ngrids_x#np.linspace(1e1, 1e3, int(1e3))\n",
    "\n",
    "    plt.figure()\n",
    "    plt.plot(1/ngrids_x, l2list[0], '--',label = \"$n_{grid, \\\\hat{r}}$\")\n",
    "    plt.plot(1/ngrids_y, l2list[1], '-.',label = \"$n_{grid, \\\\hat{\\\\theta}}$\")\n",
    "    plt.plot(1/ngrids_z, l2list[2], '-',label = \"$n_{grid, \\\\hat{\\\\phi}}$\")\n",
    "    plt.plot(1/ngrids_x, np.exp(ax*np.log(1/nabcis) + bx), '--',label = \"$\\\\approx n_{grid, \\\\hat{r}}$\")\n",
    "    plt.plot(1/ngrids_y, np.exp(ay*np.log(1/nabcis) + by), '-.',label = \"$\\\\approx n_{grid, \\\\hat{\\\\theta}}$\")\n",
    "    plt.plot(1/ngrids_z, np.exp(az*np.log(1/nabcis) + bz), '-',label = \"$\\\\approx n_{grid, \\\\hat{\\\\phi}}$\")\n",
    "    plt.xlabel(\"$\\\\frac{1}{n_{grid}}$\")\n",
    "    plt.ylabel(\"$L^2(\\\\Phi(\\\\mathbf{r}))$\")\n",
    "    plt.xscale(\"log\")\n",
    "    plt.yscale(\"log\")\n",
    "    plt.legend()\n",
    "    plt.show()\n",
    "    \n",
    "expofit(ngx = ngrids_x, ngy = ngrids_y, ngz = ngrids_x, l2list = l2s)"
   ]
  },
  {
   "cell_type": "code",
   "execution_count": 227,
   "id": "30c42c2e",
   "metadata": {},
   "outputs": [],
   "source": [
    "\"\"\"\n",
    "Use MMS to confirm that error of grid converges as you increase the number of gridpoints.\n",
    "Strategy:\n",
    "1. Establish all grids with increasing number of points in the cartesian grid.\n",
    "2. Calculate the interpolation\n",
    "3. Compare potential values with the direct solution on the cartesian grid and compute a 1D measure of the error.\n",
    "4. Plot error in loglog and see if the error converges.\n",
    "\n",
    "\"\"\"\n",
    "tik = time.time()\n",
    "\n",
    "gridlist = []\n",
    "tpot_cartlist = []\n",
    "tpot_torlist = []\n",
    "for i in range(4):\n",
    "    gridlist.append( grid(ngrid_cart = 20, ngrid_tor = 10*(i+1), R0 = 2) )\n",
    "    tpot_adir_cart = tpot_alldir_cart(grid_obj = gridlist[i])\n",
    "    tpot_adir_tor = tpot_alldir_tor(grid_obj = gridlist[i])\n",
    "    tpot_cartlist.append( tpot_adir_cart )\n",
    "    tpot_torlist.append( tpot_adir_tor )\n",
    "\n",
    "sgrid_list = []\n",
    "potmesh_vtk_list = []\n",
    "runtimelist = []\n",
    "for i in range(4):\n",
    "    tik = time.time()\n",
    "    sgrid_list.append(tvtk.StructuredGrid(dimensions=gridlist[i].tor_x.shape[::-1]))\n",
    "    sgrid_list[i].points = gridlist[i].torflat\n",
    "    potmesh_vtk_list.append( make_parammesh_vtk(grid_obj = gridlist[i], \n",
    "                                                sgrid = sgrid_list[i], \n",
    "                                                tpot_torgrid = tpot_torlist[i]) )\n",
    "    tok = time.time()\n",
    "    runtimelist.append(tok-tik)"
   ]
  },
  {
   "cell_type": "code",
   "execution_count": 318,
   "id": "a4735333",
   "metadata": {},
   "outputs": [
    {
     "data": {
      "text/plain": [
       "[<matplotlib.lines.Line2D at 0x18f024c89d0>]"
      ]
     },
     "execution_count": 318,
     "metadata": {},
     "output_type": "execute_result"
    }
   ],
   "source": [
    "runtimelist\n",
    "plt.figure()\n",
    "plt.plot([10,20,30,40], runtimelist)"
   ]
  },
  {
   "cell_type": "code",
   "execution_count": 230,
   "id": "2989a798",
   "metadata": {},
   "outputs": [
    {
     "data": {
      "text/plain": [
       "(4, 20, 20, 20)"
      ]
     },
     "execution_count": 230,
     "metadata": {},
     "output_type": "execute_result"
    }
   ],
   "source": [
    "potmesh_vtk_list = np.array(potmesh_vtk_list)\n",
    "potmesh_vtk_list.shape"
   ]
  },
  {
   "cell_type": "code",
   "execution_count": 237,
   "id": "fbd05adc",
   "metadata": {},
   "outputs": [
    {
     "name": "stdout",
     "output_type": "stream",
     "text": [
      "[0.10682808 0.04224752 0.02398167 0.01580915]\n",
      "[0.10682808 0.04224752 0.02398167 0.01580915]\n",
      "[0.03776943 0.01493675 0.0084788  0.00558938]\n"
     ]
    }
   ],
   "source": [
    "l2s_adir = [[], [], []]\n",
    "for i in range(4):\n",
    "    for j in range(3):\n",
    "        l2s_adir[j].append( calc_l2_norm(potmesh = potmesh_vtk_list[i],\n",
    "                                         tpot_cart = tpot_cartlist[i],\n",
    "                                         grid_obj = gridlist[i],\n",
    "                                         idir = j) )\n",
    "\n",
    "\n",
    "l2s_adir = np.asarray(l2s_adir)\n",
    "print(l2s_adir[0])\n",
    "print(l2s_adir[1])\n",
    "print(l2s_adir[2])"
   ]
  },
  {
   "cell_type": "code",
   "execution_count": 295,
   "id": "9b93678b",
   "metadata": {},
   "outputs": [
    {
     "data": {
      "text/plain": [
       "<matplotlib.colorbar.Colorbar at 0x18f789cd4f0>"
      ]
     },
     "execution_count": 295,
     "metadata": {},
     "output_type": "execute_result"
    }
   ],
   "source": [
    "im = plt.imshow(potmesh_vtk_list[2][:,10].T)\n",
    "plt.colorbar(im)"
   ]
  },
  {
   "cell_type": "code",
   "execution_count": 316,
   "id": "e3f274aa",
   "metadata": {},
   "outputs": [],
   "source": [
    "expofit(ngx = ngrids_x, ngy = ngrids_y, ngz = ngrids_x, l2list = l2s_adir)"
   ]
  }
 ],
 "metadata": {
  "kernelspec": {
   "display_name": "Python 3",
   "language": "python",
   "name": "python3"
  },
  "language_info": {
   "codemirror_mode": {
    "name": "ipython",
    "version": 3
   },
   "file_extension": ".py",
   "mimetype": "text/x-python",
   "name": "python",
   "nbconvert_exporter": "python",
   "pygments_lexer": "ipython3",
   "version": "3.9.5"
  }
 },
 "nbformat": 4,
 "nbformat_minor": 5
}
