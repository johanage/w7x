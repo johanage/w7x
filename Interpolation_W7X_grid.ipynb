{
 "cells": [
  {
   "cell_type": "code",
   "execution_count": 1,
   "id": "58787804",
   "metadata": {},
   "outputs": [],
   "source": [
    "# computational libs\n",
    "from scipy.spatial import Delaunay\n",
    "import numpy as np\n",
    "import scipy as sp\n",
    "from matplotlib import pyplot as plt\n",
    "from matplotlib import cm\n",
    "import time\n",
    "import sparse\n",
    "import random\n",
    "# %matplotlib\n",
    "\n",
    "#vtk libs\n",
    "from tvtk.api import tvtk\n",
    "from mayavi.scripts import mayavi2\n",
    "from PyQt5 import QtCore\n",
    "import sip\n",
    "import vtk\n",
    "\n",
    "#emc3 libs\n",
    "import numpy as np\n",
    "import xarray as xr\n",
    "import netCDF4"
   ]
  },
  {
   "cell_type": "code",
   "execution_count": 2,
   "id": "e8d8cd2e",
   "metadata": {},
   "outputs": [],
   "source": [
    "# importing the mayavi plotting lib\n",
    "from mayavi import mlab\n",
    "# this must be run as the first line, telling jupyter that can be interactively used\n",
    "%gui qt"
   ]
  },
  {
   "cell_type": "code",
   "execution_count": 3,
   "id": "c0e3ad63",
   "metadata": {},
   "outputs": [],
   "source": [
    "from grid import grid"
   ]
  },
  {
   "cell_type": "code",
   "execution_count": 4,
   "id": "a87d6cb4",
   "metadata": {},
   "outputs": [],
   "source": [
    "# importing widget libs to make interactive plots\n",
    "import ipywidgets as widgets\n",
    "from ipywidgets import interact, interactive, fixed, interact_manual"
   ]
  },
  {
   "cell_type": "code",
   "execution_count": 5,
   "id": "4b0f0ea7",
   "metadata": {},
   "outputs": [],
   "source": [
    "# open the dataset containing the emc3 example\n",
    "path = r\"~/Dokumente/emc3_example.nc\"\n",
    "ds = xr.open_dataset(path)\n",
    "#ds"
   ]
  },
  {
   "cell_type": "code",
   "execution_count": 6,
   "id": "dea01443",
   "metadata": {},
   "outputs": [
    {
     "name": "stdout",
     "output_type": "stream",
     "text": [
      "Overwriting manual_tessalation.py\n"
     ]
    }
   ],
   "source": [
    "%%writefile manual_tessalation.py\n",
    "\n",
    "def manual_tessalation(grid_obj, int_R = [None, None], int_t = [None, None], int_p = [None, None]):\n",
    "    \"\"\"\n",
    "    The problem is that it is not possible to merge two Delaunay objects or add additional points.\n",
    "    Possible strategy is to do a search and find out for which of the tetrahedra of each 3d romboid \n",
    "    each point is interior to.\n",
    "    \"\"\"\n",
    "    dict_p_tetrahedron = {}\n",
    "    n = 3\n",
    "    gridflat = np.zeros((n**3,) + (3,))\n",
    "    \n",
    "    \"\"\"\n",
    "    Defining the restriction on the region we do the triangulation on. \n",
    "    Iterate from a to b in all directions.\n",
    "    \"\"\"\n",
    "    air = int_R[0]\n",
    "    bir = int_R[1]\n",
    "    if not bir:\n",
    "        bir = grid_obj.tor_x.shape[0]-n\n",
    "    if not air:\n",
    "        air = 0\n",
    "        \n",
    "    ait = int_t[0]\n",
    "    bit = int_t[1]\n",
    "    if not bit:\n",
    "        bit= grid_obj.tor_x.shape[1]\n",
    "    if not ait:\n",
    "        ait = 0\n",
    "        \n",
    "    aip = int_p[0]\n",
    "    bip = int_p[1]\n",
    "    if not bip:\n",
    "        bip = grid_obj.tor_x.shape[2]-n\n",
    "    if not aip:\n",
    "        aip = 0\n",
    "        \n",
    "\n",
    "    for ir in range(air, bir):\n",
    "        for it in range(ait, bit):\n",
    "            for ip in range(aip, bip):\n",
    "                if grid_obj.tor_x.shape[1]-n <= it:\n",
    "                    nlow = it-grid_obj.tor_x.shape[1]\n",
    "                    nhigh = nlow + n-1\n",
    "                    idxs_t = np.linspace(nlow,nhigh,n, dtype = np.int32)\n",
    "                    gridflat[:,0] = grid_obj.tor_x[ir:(ir + n), idxs_t, ip:(ip + n)].flatten()\n",
    "                    gridflat[:,1] = grid_obj.tor_y[ir:(ir + n), idxs_t, ip:(ip + n)].flatten()\n",
    "                    gridflat[:,2] = grid_obj.tor_z[ir:(ir + n), idxs_t, ip:(ip + n)].flatten()\n",
    "                else:\n",
    "                    gridflat[:,0] = grid_obj.tor_x[ir:(ir + n), it:(it + n), ip:(ip + n)].flatten()\n",
    "                    gridflat[:,1] = grid_obj.tor_y[ir:(ir + n), it:(it + n), ip:(ip + n)].flatten()\n",
    "                    gridflat[:,2] = grid_obj.tor_z[ir:(ir + n), it:(it + n), ip:(ip + n)].flatten()\n",
    "                tri = Delaunay(gridflat)\n",
    "                idx_tri = tri.simplices\n",
    "                coord_tri = gridflat[idx_tri]\n",
    "\n",
    "                minx = np.min(gridflat[:,0])\n",
    "                maxx = np.max(gridflat[:,0])\n",
    "                miny = np.min(gridflat[:,1])\n",
    "                maxy = np.max(gridflat[:,1])\n",
    "                minz = np.min(gridflat[:,2])\n",
    "                maxz = np.max(gridflat[:,2])\n",
    "\n",
    "                epsx = grid_obj.cart_x[1,0,0] - grid_obj.cart_x[0,0,0]\n",
    "                epsy = grid_obj.cart_y[0,1,0] - grid_obj.cart_y[0,0,0]\n",
    "                epsz = grid_obj.cart_z[0,0,1] - grid_obj.cart_z[0,0,0]\n",
    "            \n",
    "                idx_inside = np.argwhere((minx - epsx < grid_obj.cartflat[:,0]) & (maxx + epsx > grid_obj.cartflat[:,0]) &\n",
    "                                         (miny - epsy < grid_obj.cartflat[:,1]) & (maxy + epsy > grid_obj.cartflat[:,1]) &\n",
    "                                         (minz - epsz < grid_obj.cartflat[:,2]) & (maxz + epsz > grid_obj.cartflat[:,2]) )\n",
    "                for i in idx_inside:\n",
    "                    p = grid_obj.cartflat[i][0]\n",
    "                    idx_simplex_embed_p = tri.find_simplex(p)\n",
    "                    if idx_simplex_embed_p != -1:\n",
    "                        p_tuple = tuple(list(p))\n",
    "                        dict_p_tetrahedron[p_tuple] = coord_tri[idx_simplex_embed_p]                \n",
    "\n",
    "    return dict_p_tetrahedron"
   ]
  },
  {
   "cell_type": "code",
   "execution_count": 7,
   "id": "7f6c20a3",
   "metadata": {},
   "outputs": [
    {
     "name": "stdout",
     "output_type": "stream",
     "text": [
      "Overwriting interpolation_p_in_simplex.py\n"
     ]
    }
   ],
   "source": [
    "%%writefile interpolation_p_in_simplex.py\n",
    "\n",
    "\"\"\"\n",
    "Now that we have found all coordinates and \n",
    "the tetrahedra of which they are interior, we want to assign values to each point\n",
    "interior to each tetrahedra by using an interpolation scheme.\n",
    "\n",
    "Interpolation scheme 1:\n",
    "\n",
    "Weighted values by normalized inverse distance to each vertex of the tetrahedron.\n",
    "By normalized we mean the sum of the inverse distances should equal 1.\n",
    "\"\"\"\n",
    "\n",
    "def interpolation_p_in_simplex(p, simplex, dict_vals):\n",
    "    \"\"\"\n",
    "    Args:\n",
    "    p - ndarray np.float64, (x,y,z) cart coords of p in tetrahedron/simplex, dim (3,)\n",
    "    simplex - ndarray np.float64, (x,y,z) cart coord of each vertex of tetrahedron/simplex, dim (4,3)\n",
    "    dict_vals - dictionary value scalar valuesof potential, key coord of a vertex, \n",
    "                len = number of grid points in toroidal coord\n",
    "    Out:\n",
    "    paramval = ndarray np.float64, scalar, \n",
    "               param value interpolated from param vals at vertices, dim (1,)\n",
    "    \"\"\"\n",
    "    vals = []\n",
    "    for i in range(len(simplex)):\n",
    "        vals.append(dict_vals[tuple(simplex[i])])\n",
    "    vals = np.asarray(vals, np.float64)\n",
    "    euc_dists = np.sqrt(np.sum((simplex - p)**2, axis = 1)) + 1e-8\n",
    "    N = 1/(np.sum(1/euc_dists, axis=0))\n",
    "    paramval = np.sum(N*vals/euc_dists, axis = 0)\n",
    "    return paramval"
   ]
  },
  {
   "cell_type": "code",
   "execution_count": 8,
   "id": "8b11f645",
   "metadata": {},
   "outputs": [
    {
     "name": "stdout",
     "output_type": "stream",
     "text": [
      "Overwriting make_param_mesh_tess.py\n"
     ]
    }
   ],
   "source": [
    "%%writefile make_param_mesh_tess.py\n",
    "\"\"\"\n",
    "Now test the interpolation method wiht actual potential data from the exponentially decaying potential.\n",
    "\"\"\"\n",
    "def make_param_mesh(dict_p_tetra, grid_obj, param_torgrid, ret_dict = False, ret_nans = False):\n",
    "    \"\"\"\n",
    "    Args:\n",
    "     - dict_p_tetra, dict with key coordinate of point and values tetrahedron which the point is interior to\n",
    "     - grid_obj, grid object containing the different grid structures\n",
    "     - param_torgrid, parameter\n",
    "     - ret_dict, bool return dict with key coordinate and value parameter value\n",
    "     - ret_nans, bool return dict of nan values\n",
    "    Out:\n",
    "     - parammesh, ndarray np.float64, meshgrid of parameter values\n",
    "     - if ret_dict and ret_nans is True, return them as well\n",
    "    \n",
    "    Make a dictionary with key = coord xyz and value = potential value \n",
    "    of the potential values connected to grid points from the toroidal grid.\n",
    "\n",
    "    \"\"\"\n",
    "    dict_coord_tpot = {}\n",
    "    dict_coord_nan = {}\n",
    "    for i in range(len(grid_obj.torflat)):\n",
    "        dict_coord_tpot[tuple(grid_obj.torflat[i])] = param_torgrid.flatten()[i]\n",
    "\n",
    "    # Points interior to one of the tetrahedra that the toroidal volume is divided in\n",
    "    ps_interior = np.asarray(list(dict_p_tetra.keys()), dtype = np.float64)\n",
    "\n",
    "    # Make a dictionary with key coord, value interpolated parameter value\n",
    "    dict_coord_pot_interpol = {}\n",
    "    \n",
    "    # Make a meshgrid of interpolated parameter values\n",
    "    parammesh = np.nan*np.ones(grid_obj.cart_x.shape)\n",
    "    \n",
    "    for i in range(len(ps_interior)):\n",
    "        coord_idx = np.argwhere((grid_obj.cart_x == ps_interior[i][0]) & \n",
    "                                (grid_obj.cart_y == ps_interior[i][1]) & \n",
    "                                (grid_obj.cart_z == ps_interior[i][2]))[0] \n",
    "        parammesh[coord_idx[0], coord_idx[1], coord_idx[2]] = interpolation_p_in_simplex(p = ps_interior[i],\n",
    "                                                                                         simplex = dict_p_tetra[tuple(ps_interior[i])],\n",
    "                                                                                         dict_vals = dict_coord_tpot)\n",
    "        if parammesh[coord_idx[0], coord_idx[1], coord_idx[2]] == np.nan:\n",
    "            dict_coord_nan[ps_interior[i]] = np.nan\n",
    "        if ret_dict:\n",
    "            dict_coord_pot_interpol[tuple(ps_interior[i])] = parammesh[coord_idx[0], coord_idx[1], coord_idx[2]]\n",
    "    if ret_nans:\n",
    "        ret = [parammesh, dict_coord_nan]\n",
    "    if ret_dict:\n",
    "        ret = [parammesh, dict_coord_pot_inerpol]\n",
    "    ret = parammesh\n",
    "    return ret"
   ]
  },
  {
   "cell_type": "code",
   "execution_count": 9,
   "id": "060372ff",
   "metadata": {},
   "outputs": [
    {
     "name": "stdout",
     "output_type": "stream",
     "text": [
      "Overwriting grid.py\n"
     ]
    }
   ],
   "source": [
    "%%writefile grid.py\n",
    "\n",
    "class grid:\n",
    "    def __init__(self, ds, ngrid_cart = None, inc_r = [None, None], inc_t = [None, None], inc_p = [None, None]):\n",
    "        \"\"\"\n",
    "        Args:\n",
    "         - xarray, ds is a dataset containing the W7X data\n",
    "         - np.int64, ngrid_cart is cartesian grid resolution \n",
    "         - list dim 2 (min,max), inc_r, inc_t, inc_p is the minmax of the grid indexes in r, theta and phi direction\n",
    "         \n",
    "        Out:\n",
    "         - grid object, both cartesian meshgrid of toroidal and cartesian grid, can also get as flattened arrays\n",
    "        \n",
    "        Note: Periodic boundary conditions is added in theta direction\n",
    "        \"\"\"\n",
    "        import numpy as np\n",
    "        \n",
    "        dgrid = np.asarray( ds.R_bounds.mean(dim=(\"delta_r\", \"delta_theta\", \"delta_phi\")) )[inc_r[0]:inc_r[1],\n",
    "                                                                                            inc_t[0]:inc_t[1],\n",
    "                                                                                            inc_p[0]:inc_p[1]].shape\n",
    "        \n",
    "        self.R, self.theta, self.phi, self.tor_z = np.ones(dgrid)*np.nan, np.ones(dgrid)*np.nan, np.ones(dgrid)*np.nan, np.ones(dgrid)*np.nan\n",
    "        \n",
    "        self.R = np.asarray( ds.R_bounds.mean(dim=(\"delta_r\", \"delta_theta\", \"delta_phi\")) )[inc_r[0]:inc_r[1],\n",
    "                                                                                             inc_t[0]:inc_t[1],\n",
    "                                                                                             inc_p[0]:inc_p[1]]\n",
    "\n",
    "        \n",
    "        self.tor_z = np.asarray(ds.z_bounds.mean(dim=(\"delta_r\", \"delta_theta\", \"delta_phi\")))[inc_r[0]:inc_r[1],\n",
    "                                                                                               inc_t[0]:inc_t[1],\n",
    "                                                                                               inc_p[0]:inc_p[1]]\n",
    "\n",
    "        \n",
    "        self.phi = np.asarray( ds.phi_bounds.mean(dim=\"delta_phi\") )[inc_p[0]:inc_p[1]]\n",
    "\n",
    "        \n",
    "        self.tor_x = np.asarray( self.R * np.cos(self.phi) )\n",
    "        self.tor_y = np.asarray( self.R * np.sin(self.phi) )\n",
    "        if ngrid_cart == None:\n",
    "            ngrid_cart = 100\n",
    "        \n",
    "        ivl_p = int(inc_p[1] - inc_p[0])\n",
    "        #chunking = 4\n",
    "        #chunkingids = 0,0,0\n",
    "        \"\"\"self.cart_x, self.cart_y, self.cart_z = np.meshgrid(np.linspace(np.min(self.tor_x),np.max(self.tor_x)[ngrid_cart // chunking*chunkingids[0]:ngrid_cart // chunking*(chunkingids[0]+1)], ngrid_cart), \n",
    "                                                            np.linspace(np.min(self.tor_y),np.max(self.tor_y), ngrid_cart), \n",
    "                                                            np.linspace(np.min(self.tor_z),np.max(self.tor_z), ngrid_cart),\n",
    "                                                            indexing = \"ij\")\"\"\"\n",
    "        self.cart_x, self.cart_y, self.cart_z = np.meshgrid(np.linspace(np.min(self.tor_x),np.max(self.tor_x), ngrid_cart), \n",
    "                                                            np.linspace(np.min(self.tor_y),np.max(self.tor_y), ngrid_cart), \n",
    "                                                            np.linspace(np.min(self.tor_z),np.max(self.tor_z), ngrid_cart),\n",
    "                                                            indexing = \"ij\")\n",
    "     \n",
    "        self.cartflat = np.ones((self.cart_x.shape[0]*self.cart_x.shape[1]*self.cart_x.shape[2], 3) )*np.nan\n",
    "        self.cartflat[:,0] = self.cart_x.flatten()\n",
    "        self.cartflat[:,1] = self.cart_y.flatten()\n",
    "        self.cartflat[:,2] = self.cart_z.flatten()\n",
    "        \n",
    "        self.torflat = np.ones((self.tor_x.shape[0]*self.tor_x.shape[1]*self.tor_x.shape[2], 3))*np.nan\n",
    "        self.torflat[:,0] = self.tor_x.flatten()\n",
    "        self.torflat[:,1] = self.tor_y.flatten()\n",
    "        self.torflat[:,2] = self.tor_z.flatten()"
   ]
  },
  {
   "cell_type": "code",
   "execution_count": 10,
   "id": "cff49496",
   "metadata": {},
   "outputs": [],
   "source": [
    "def make_parammesh_vtk(grid_obj, sgrid, param_torgrid, ret_nans = False):\n",
    "    \"\"\"\n",
    "    Args:np sparsenp sparse\n",
    "     - grid_obj, grid object defined in one of the cells below\n",
    "     - sgrid, tvtk.StructureGrid object\n",
    "     - param_torgrid, type ndarray, parameter of interest on a toroidal meshgrid structure\n",
    "     - renans, bool, return NaN vales of points found in a cell or not\n",
    "    Out:\n",
    "     - parammesh, ndarray, interpolated parameter values on a 3d cartesian grid\n",
    "    \"\"\"\n",
    "    import numpy as np\n",
    "    import vtk\n",
    "    from tvtk.api import tvtk\n",
    "    import itertools\n",
    "    # make a dict to store potential nan values that appear in points found in a cell\n",
    "    dictnans = {}\n",
    "    notfound = []\n",
    "    \n",
    "    # make the mehsgrid for the parameter we want to interpolate form the original data\n",
    "    parammesh = np.nan*np.ones(grid_obj.cart_x.shape)\n",
    "    \n",
    "    # pass initial/default values to the find_cell function\n",
    "    cell = None\n",
    "    cid = int(6e3)\n",
    "    tol2 = 1e-3\n",
    "    subid = vtk.reference(-1)\n",
    "    pcoord = np.zeros((3))\n",
    "    weights = np.zeros(8)\n",
    "    \n",
    "     #making coarse grid\n",
    "    numc = 20\n",
    "    coarse = np.zeros((numc, numc, numc), dtype=bool)\n",
    "    spatial_toroidal = np.array([grid_obj.__dict__[\"tor_\"+d] for d in \"xyz\"])\n",
    "    minmax = [np.array([func(grid_obj.__dict__[\"tor_\"+d]) for d in \"xyz\"]) for func in [np.min, np.max]]\n",
    "    offset = minmax[0]\n",
    "    dist = (minmax[1] - minmax[0]+1e-6)/numc\n",
    "    for i,j,k in itertools.product(*[range(x-1) for x in grid_obj.tor_x.shape]):\n",
    "        block = spatial_toroidal[:,i:i+2, j:j+2, k:k+2].reshape(3, 8)\n",
    "        minmax = [func(block, axis=1) for func in [np.min, np.max]]\n",
    "        indices = [((m - offset) / dist).astype(int) for m in minmax]\n",
    "        for ijk in itertools.product(*[range(a,b+1) for a,b in zip(*indices)]):\n",
    "            coarse[ijk] = True\n",
    "    \n",
    "    # iterate through points in the cartesian grid\n",
    "    for pid, p in enumerate(grid_obj.cartflat):\n",
    "        # check the coarse grid for points first\n",
    "        if not coarse[tuple(((p-offset)/dist).astype(int) )]:\n",
    "            continue\n",
    "        #find the cell p is interior to\n",
    "        cid = sgrid.find_cell(p, cell, cid, tol2, subid, pcoord, weights)\n",
    "        # if find_cell returns -1 there is either a numerical error or it did not find the point in that cell\n",
    "        if cid == -1:\n",
    "            notfound.append(cid)\n",
    "            continue\n",
    "        else:            \n",
    "            # unravel index of each vertex of the cell found from the toroidal grid\n",
    "            newgridshape = (grid_obj.tor_x.shape[0]-1, grid_obj.tor_x.shape[1]-1, grid_obj.tor_x.shape[2]-1)\n",
    "\n",
    "            # get indicies of the cell corner\n",
    "            ir, it, ip = np.unravel_index(cid, newgridshape)\n",
    "\n",
    "            #find the potential values of each vertex of the cell and interpolate the data using weights\n",
    "            pvals = param_torgrid[ir:(ir+2), it:(it+2), ip:(ip+2)].ravel() * weights\n",
    "            paramval = np.sum(pvals, axis = 0)\n",
    "\n",
    "            # find coordinate indices of the point in the cartesian grid structure with cartesian indicies\n",
    "            coord_idx = np.argwhere((grid_obj.cart_x == p[0]) & \n",
    "                                    (grid_obj.cart_y == p[1]) & \n",
    "                                    (grid_obj.cart_z == p[2]))[0] \n",
    "            # Assign the cartesian parameter mesh the parameter value\n",
    "            parammesh[coord_idx[0], coord_idx[1], coord_idx[2]] = paramval\n",
    "            \n",
    "    # if user input chosen return nans then return nans \n",
    "    if ret_nans:\n",
    "        # generate different return when including the dictionary containing the nans\n",
    "        return parammesh, dictnans, notfound\n",
    "    else:\n",
    "        return parammesh, notfound"
   ]
  },
  {
   "cell_type": "code",
   "execution_count": 11,
   "id": "75c6b2e1",
   "metadata": {},
   "outputs": [],
   "source": [
    "# %%writefile makemesh_indices.py\n",
    "# def make_parammesh_vtk_indices(grid_obj, sgrid, skip_coarsegrid = 10):\n",
    "#     \"\"\"\n",
    "#     Args:\n",
    "#      - grid_obj, grid object defined in one of the cells below\n",
    "#      - sgrid, tvtk.StructureGrid object\n",
    "#      - renans, bool, return NaN vales of points found in a cell or not\n",
    "#     Out:\n",
    "#      - parammesh_indices, ndarray np.int32, interpolated parameter vertex indices and weights on a 3d cartesian grid\n",
    "#      dim = (x, y, z, coord index vertices of cell/weights of vertices)\n",
    "#     \"\"\"\n",
    "#     import numpy as np\n",
    "#     import vtk\n",
    "#     from tvtk.api import tvtk\n",
    "#     import itertools\n",
    "#     # need to have grid.py in the same folder as this py file\n",
    "#     from grid import grid\n",
    "    \n",
    "#     # make the mehsgrid for the parameter we want to interpolate form the original data\n",
    "#     # + (2,8) represents (indices/weights, vertex)\n",
    "#     parammesh_indices = np.nan*np.ones(grid_obj.cart_x.shape + (2,8), dtype=np.int32)\n",
    "    \n",
    "#     # pass initial/default values to the find_cell function\n",
    "#     cell = None\n",
    "#     cid = int(6e3)\n",
    "#     tol2 = 1e-3\n",
    "#     subid = vtk.reference(-1)\n",
    "#     pcoord = np.zeros((3))\n",
    "#     weights = np.zeros(8)\n",
    "#     # iterate through points in the cartesian grid\n",
    "    \n",
    "#     #making coarse grid to speed up the find point in cell stage\n",
    "#     numc = 20\n",
    "#     coarse = np.zeros((numc, numc, numc), dtype=bool)\n",
    "#     #spatial_toroidal = np.array([grid_obj.__dict__[d] for d in (\"R\", \"tor_z\", \"phi\")])\n",
    "#     #minmax = [np.array([func(grid_obj.__dict__[d]) for d in (\"R\", \"tor_z\", \"phi\")]) for func in [np.min, np.max]]\n",
    "#     spatial_toroidal = np.array([grid_obj.__dict__[\"tor_\"+d] for d in \"xyz\"])\n",
    "#     minmax = [np.array([func(grid_obj.__dict__[\"tor_\"+d]) for d in \"xyz\"]) for func in [np.min, np.max]]\n",
    "#     offset = minmax[0]\n",
    "#     dist = (minmax[1] - minmax[0]+1e-6)/numc\n",
    "#     for i,j,k in itertools.product(*[range(x-1) for x in grid_obj.tor_x.shape]):\n",
    "#         block = spatial_toroidal[:,i:i+2, j:j+2, k:k+2].reshape(3, 8)\n",
    "#         minmax = [func(block, axis=1) for func in [np.min, np.max]]\n",
    "#         indices = [((m - offset) / dist).astype(int) for m in minmax]\n",
    "#         for ijk in itertools.product(*[range(a,b+1) for a,b in zip(*indices)]):\n",
    "#             coarse[ijk] = True\n",
    "    \n",
    "#     # generate the shape of the cellular emc3 grid\n",
    "#     grid_of_cells_shape = (grid_obj.tor_x.shape[0]-1, grid_obj.tor_x.shape[1]-1, grid_obj.tor_x.shape[2]-1)\n",
    "#     for p in grid_obj.cartflat:\n",
    "# #         if sg_cg.find_cell(p, None, -1, 1e-3, vtk.reference(-1), np.zeros(3), np.zeros(8)) == -1:\n",
    "# #             continue\n",
    "# #         rzp = np.sqrt(np.sum(p[:2]**2)), p[2], np.arctan2(p[1], p[0])\n",
    "# #         if not coarse[tuple(((p-offset)/dist).astype(int) )]:\n",
    "# #             continue\n",
    "#         #find the cell p is interior to\n",
    "#         cid = sgrid.find_cell(p, cell, cid, tol2, subid, pcoord, weights)\n",
    "#         # if find_cell returns -1 there is either a numerical error or it did not find the point in that cell\n",
    "#         if cid == -1:\n",
    "#             continue\n",
    "#         else:            \n",
    "#             # unravel index of each vertex of the cell found from the toroidal grid\n",
    "#             ir, it, ip = np.unravel_index(cid, grid_of_cells_shape)\n",
    "#             idx = np.zeros((2,2,2), dtype=int)\n",
    "#             for d_ir, dit, dip in itertools.product(range(2), repeat=3):\n",
    "#                 idx[d_ir, dit, dip] = np.ravel_multi_index((ir+d_ir,it+dit,ip+dip), grid_obj.tor_x.shape)\n",
    "#             idx.shape = 8\n",
    "#             # find coordinate indices of the point in the cartesian grid structure with cartesian indices\n",
    "#             coord_idx = np.argwhere((grid_obj.cart_x == p[0]) & \n",
    "#                                     (grid_obj.cart_y == p[1]) & \n",
    "#                                     (grid_obj.cart_z == p[2]))[0]\n",
    "#             #represents the indices of the flattened parametermesh on the emc3 grid structure\n",
    "#             parammesh_indices[coord_idx[0], coord_idx[1], coord_idx[2],0] = idx\n",
    "#             # represents the weights corresponding to the parameter indices above\n",
    "#             parammesh_indices[coord_idx[0], coord_idx[1], coord_idx[2],1] = weights\n",
    "#     return parammesh_indices\n",
    "\n",
    "# def from_indices_to_paramvals(indices, param_torgrid):\n",
    "#     \"\"\"\n",
    "#     Current problem is that it is not identical to the former method where the the parametervalues are extracted\n",
    "#     rather than the indices of the toroidal grid.\n",
    "#     \"\"\"\n",
    "#     #imports for importing to external file later\n",
    "#     import numpy as np\n",
    "    \n",
    "#     # shape pmesh as (50,50,50), if ngrid = 50\n",
    "#     pmesh = np.ones(indices.shape[:3])*np.nan\n",
    "#     # shape = (50, 50, 50, 8)\n",
    "#     weights = indices[:,:,:,1]\n",
    "#     # goal to convert idxs to parametervalues\n",
    "#     idxs = indices[:,:,:,0]\n",
    "#     # make a flattened array of sum of indices of all vertices in the cell, if any is nan then discard the cell\n",
    "#     irav = np.sum(idxs, axis = 3).ravel()\n",
    "#     # store indices of indices which are numbers in a flattened structure\n",
    "#     isnotnan = np.where(np.isnan(irav) == False)[0]\n",
    "#     # array of indexes that is not nanvalued\n",
    "#     notnanidxs = np.asarray(idxs.reshape(idxs.shape[0]**3,8)[isnotnan], dtype=np.int32)\n",
    "    \n",
    "#     pmesh_re = pmesh.ravel()\n",
    "#     pmesh_re[isnotnan] = np.sum(param_torgrid.ravel()[notnanidxs] * weights.reshape(weights.shape[0]**3, 8)[isnotnan], axis = 1)\n",
    "#     pmesh = pmesh_re.reshape(indices.shape[:3])\n",
    "#     return pmesh   "
   ]
  },
  {
   "cell_type": "code",
   "execution_count": 12,
   "id": "47bab39a",
   "metadata": {},
   "outputs": [],
   "source": [
    "# %%writefile makemesh_indices.py\n",
    "def make_parammesh_vtk_indices(grid_obj, sgrid, skip_coarsegrid = 10, sp = (29,2,16)):\n",
    "    \"\"\"\n",
    "    Args:\n",
    "     - grid_obj, grid object defined in one of the cells below\n",
    "     - sgrid, tvtk.StructureGrid object\n",
    "     - renans, bool, return NaN vales of points found in a cell or not\n",
    "    Out:\n",
    "     - parammesh_indices, ndarray np.int32, interpolated parameter vertex indices and weights on a 3d cartesian grid\n",
    "     dim = (x, y, z, coord index vertices of cell/weights of vertices)\n",
    "    \"\"\"\n",
    "    import numpy as np\n",
    "    import vtk\n",
    "    from tvtk.api import tvtk\n",
    "    import itertools\n",
    "    # need to have grid.py in the same folder as this py file\n",
    "    from grid import grid\n",
    "    \n",
    "    # make the mehsgrid for the parameter we want to interpolate form the original data\n",
    "    # + (2,8) represents (indices/weights, vertex)\n",
    "    parammesh_indices = -np.ones(grid_obj.cart_x.shape + (8,), dtype=np.int32 )\n",
    "    parammesh_weights = np.nan*np.ones(grid_obj.cart_x.shape + (8,), dtype=np.float32)\n",
    "    # pass initial/default values to the find_cell function\n",
    "    cell = None\n",
    "    cid = int(6e3)\n",
    "    tol2 = 1e-3\n",
    "    subid = vtk.reference(-1)\n",
    "    pcoord = np.zeros(3)\n",
    "    weights = np.zeros(8, dtype=np.float32)\n",
    "    \n",
    "    # generate the shape of the cellular emc3 grid\n",
    "    grid_of_cells_shape = (grid_obj.tor_x.shape[0]-1, grid_obj.tor_x.shape[1]-1, grid_obj.tor_x.shape[2]-1)\n",
    "    \n",
    "    # for storing cell ids of the emc3 grid to each grid point in the cartesian grid\n",
    "    cids = np.zeros(grid_obj.cart_x.shape, dtype=np.int32)-2\n",
    "    cs = sp # this is now hardcoded, need to find a generalized solution\n",
    "    todo = [tuple(list(cs))] #starting index of point to search for in the cells to search\n",
    "    found = False\n",
    "    while todo:\n",
    "        cur = todo.pop()\n",
    "        #find the cell p is interior to\n",
    "        cid = sgrid.find_cell([grid_obj.cart_x[cur], grid_obj.cart_y[cur], grid_obj.cart_z[cur]], \n",
    "                              cell, cid, tol2, subid, pcoord, weights)\n",
    "        cids[cur] = cid\n",
    "        if cid >= 0:\n",
    "            found = True\n",
    "            for dist in itertools.product(range(-1,2),repeat=3): #iterate through neighbours\n",
    "                nxt = tuple(a+b for a,b in zip(dist, cur))\n",
    "                if nxt > grid_obj.cart_x.shape or nxt[1:]>grid_obj.cart_x.shape[1:] or nxt[2:]>grid_obj.cart_x.shape[2:]: #is out of bounds:\n",
    "                    continue\n",
    "                if cids[nxt] == -2:\n",
    "                    cids[nxt] = -3\n",
    "                    todo.append(nxt)\n",
    "            # unravel index of each vertex of the cell found from the toroidal grid\n",
    "            ir, it, ip = np.unravel_index(cid, grid_of_cells_shape)\n",
    "            idx = np.zeros((2,2,2), dtype=int)\n",
    "            for d_ir, dit, dip in itertools.product(range(2), repeat=3):\n",
    "                idx[d_ir, dit, dip] = np.ravel_multi_index((ir+d_ir,it+dit,ip+dip), grid_obj.tor_x.shape)\n",
    "            idx.shape = 8\n",
    "            #represents the indices of the flattened parametermesh on the emc3 grid structure\n",
    "#             print(parammesh_indices.shape, parammesh_indices.dtype, cur, type(cur), idx, idx.dtype, weights, weights.dtype)\n",
    "            parammesh_indices[cur] = idx\n",
    "            # represents the weights corresponding to the parameter indices above\n",
    "            parammesh_weights[cur] = weights\n",
    "        #if find_cell returns -1 there is either a numerical error or it did not find the point in that cell\n",
    "        if not found:\n",
    "            print(\"guessing startpoint\")\n",
    "            cs = tuple(np.random.randint(low = 0, high = grid_obj.cart_x.shape[0]-1, size = 3))\n",
    "            todo.append(cs)\n",
    "    return parammesh_indices, parammesh_weights\n",
    "\n",
    "def from_indices_to_paramvals(idxs, weights, param_torgrid):\n",
    "    \"\"\"\n",
    "    Current problem is that it is not identical to the former method where the the parametervalues are extracted\n",
    "    rather than the indices of the toroidal grid.\n",
    "    \"\"\"\n",
    "    #imports for importing to external file later\n",
    "    import numpy as np\n",
    "    # shape pmesh as (50,50,50), if ngrid = 50\n",
    "    pmesh = np.ones(idxs.shape[:3], dtype=np.float64)*np.nan\n",
    "    # make a flattened array of sum of indices of all vertices in the cell, if any is nan then discard the cell\n",
    "    irav = np.sum(idxs, axis = 3).ravel()\n",
    "    # store indices of indices which are numbers in a flattened structure\n",
    "    isnotnan = np.where(np.isnan(irav) == False)[0]\n",
    "    # array of indexes that is not nanvalued\n",
    "    notnanidxs = np.asarray(idxs.reshape(idxs.shape[0]**3,8)[isnotnan], dtype=np.int32)\n",
    "    pmesh_re = pmesh.ravel()\n",
    "    pmesh_re[isnotnan] = np.sum(param_torgrid.ravel()[notnanidxs] * weights.reshape(weights.shape[0]**3, 8)[isnotnan], axis = 1)\n",
    "    pmesh = pmesh_re.reshape(idxs.shape[:3])\n",
    "    return pmesh   "
   ]
  },
  {
   "cell_type": "code",
   "execution_count": 60,
   "id": "a30c41fd",
   "metadata": {},
   "outputs": [],
   "source": [
    "grid_emc3 = grid(ds = ds, ngrid_cart = 128, inc_r = [40, 138], inc_t = [0,512], inc_p = [0,10])\n",
    "# cs = np.array(list(grid_emc3.cart_x.shape)) - np.array(list(grid_emc3.cart_x.shape))/np.array([20,1.2,2])\n",
    "# cs = tuple(cs.astype(int))\n",
    "# print(cs)"
   ]
  },
  {
   "cell_type": "code",
   "execution_count": 64,
   "id": "e93d7203",
   "metadata": {},
   "outputs": [],
   "source": [
    "dimgrid = list([x for x in grid_emc3.tor_x.shape[::-1]])\n",
    "sgrid_emc3 = tvtk.StructuredGrid(dimensions=dimgrid)\n",
    "sgrid_emc3.points = grid_emc3.torflat\n",
    "# sgrid_emc3.point_data.scalars = np.asarray(ds.Te)[40:60,:50,:4].flatten()\n",
    "# sgrid_emc3.point_data.scalars.name = \"Te\""
   ]
  },
  {
   "cell_type": "code",
   "execution_count": 65,
   "id": "fb90bfa1",
   "metadata": {
    "scrolled": true
   },
   "outputs": [
    {
     "name": "stdout",
     "output_type": "stream",
     "text": [
      "guessing startpoint\n",
      "guessing startpoint\n",
      "guessing startpoint\n",
      "guessing startpoint\n"
     ]
    }
   ],
   "source": [
    "# from makemesh_indices import make_np sparseparammesh_vtk_indices, from_indices_to_paramvals\n",
    "tik = time.time()\n",
    "idxmesh, weightmesh = make_parammesh_vtk_indices(grid_obj = grid_emc3,\n",
    "                                                 sgrid = sgrid_emc3, sp = (0, 0, 0))\n",
    "tok = time.time()\n",
    "runtime_idxmesh = tok-tik"
   ]
  },
  {
   "cell_type": "code",
   "execution_count": 66,
   "id": "82d7ba84",
   "metadata": {},
   "outputs": [
    {
     "name": "stdout",
     "output_type": "stream",
     "text": [
      "To make indicies it took  17.9334819316864\n",
      "To evaluate indicies it took  0.29051756858825684\n"
     ]
    }
   ],
   "source": [
    "print(\"To make indicies it took \", runtime_idxmesh)\n",
    "tik = time.time()\n",
    "pmeshtest = from_indices_to_paramvals(idxs = idxmesh, \n",
    "                                      weights = weightmesh, \n",
    "                                      param_torgrid = np.asarray(ds.Te)[40:138,:512,:10])\n",
    "tok = time.time()\n",
    "print(\"To evaluate indicies it took \", tok - tik)"
   ]
  },
  {
   "cell_type": "code",
   "execution_count": 67,
   "id": "3e6f09c8",
   "metadata": {},
   "outputs": [
    {
     "name": "stdout",
     "output_type": "stream",
     "text": [
      "[[nan nan nan nan nan nan]\n",
      " [nan nan nan nan nan nan]\n",
      " [nan nan nan nan nan nan]\n",
      " [nan nan nan nan nan nan]\n",
      " [nan nan nan nan nan nan]]\n"
     ]
    },
    {
     "data": {
      "text/plain": [
       "nan"
      ]
     },
     "execution_count": 67,
     "metadata": {},
     "output_type": "execute_result"
    }
   ],
   "source": [
    "print(pmeshtest[64:69,4,78:84])\n",
    "pmeshtest[65,4,80]"
   ]
  },
  {
   "cell_type": "code",
   "execution_count": 69,
   "id": "2ac550bb",
   "metadata": {},
   "outputs": [
    {
     "data": {
      "text/plain": [
       "<matplotlib.colorbar.Colorbar at 0x7f0c5c9586d8>"
      ]
     },
     "execution_count": 69,
     "metadata": {},
     "output_type": "execute_result"
    },
    {
     "data": {
      "image/png": "[encoded data removed]",
      "text/plain": [
       "<matplotlib.figure.Figure at 0x7f0c5c706780>"
      ]
     },
     "metadata": {
      "needs_background": "light"
     },
     "output_type": "display_data"
    }
   ],
   "source": [
    "cell = None\n",
    "cid = int(6e3)\n",
    "tol2 = 1e-3\n",
    "subid = vtk.reference(-1)\n",
    "pcoord = np.zeros(3)\n",
    "weights = np.zeros(8, dtype=np.float32)\n",
    "out = np.zeros((100,100), dtype=int)\n",
    "for i in range(100):\n",
    "    for j in range(100):\n",
    "        out[j, i] = sgrid_emc3.find_cell([grid_emc3.cart_x[65,4,80], \n",
    "                                  grid_emc3.cart_y[65,4,80]-(i-50)/1280/2, \n",
    "                                  grid_emc3.cart_z[65,4,80]-(j-50)/1280/2],\n",
    "                                 cell, cid, tol2, subid, pcoord, weights)\n",
    "    #print(i, found)\n",
    "#plt.figure(figsize=(20,20))\n",
    "plt.imshow(out, origin='lower')\n",
    "plt.colorbar()\n",
    "#plt.figure(figsize=(20,20))\n",
    "#%matplotlib qt\n",
    "#print(out[:,18])\n",
    "#print(out[1:,18]- out[:-1,18])\n",
    "#plt.plot(out[:,18])\n",
    "#-312571 + 307972, -307972   +    0   +    0 + 303373"
   ]
  },
  {
   "cell_type": "code",
   "execution_count": 54,
   "id": "f168ebc8",
   "metadata": {},
   "outputs": [
    {
     "data": {
      "text/plain": [
       "<mayavi.modules.outline.Outline at 0x7f0c5c64eba0>"
      ]
     },
     "execution_count": 54,
     "metadata": {},
     "output_type": "execute_result"
    }
   ],
   "source": [
    "from matplotlib import pyplot as plt\n",
    "hexahedron_emc3 = sgrid_emc3.get_cell(307972)\n",
    "points3d = hexahedron_emc3.points.to_array()\n",
    "points3d.shape\n",
    "inv = points3d[::-1]\n",
    "mlab.clf()\n",
    "mlab.points3d(points3d[:,0], points3d[:,1], points3d[:,2], scale_factor=1e-3)\n",
    "mlab.axes()\n",
    "mlab.outline()"
   ]
  },
  {
   "cell_type": "code",
   "execution_count": 55,
   "id": "50dda558",
   "metadata": {},
   "outputs": [
    {
     "data": {
      "text/plain": [
       "(60, 77, 2)"
      ]
     },
     "execution_count": 55,
     "metadata": {},
     "output_type": "execute_result"
    }
   ],
   "source": [
    "unrav = np.unravel_index(307972, grid_emc3.tor_x.shape)\n",
    "unrav"
   ]
  },
  {
   "cell_type": "code",
   "execution_count": 57,
   "id": "c04d7dfe",
   "metadata": {},
   "outputs": [
    {
     "data": {
      "text/plain": [
       "(60, 77, 2)"
      ]
     },
     "execution_count": 57,
     "metadata": {},
     "output_type": "execute_result"
    },
    {
     "data": {
      "image/png": "[encoded data removed]",
      "text/plain": [
       "<matplotlib.figure.Figure at 0x7f0c5c6fa9e8>"
      ]
     },
     "metadata": {
      "needs_background": "light"
     },
     "output_type": "display_data"
    }
   ],
   "source": [
    "import xemc3\n",
    "idx=65,4,80\n",
    "xyz = [grid_emc3.__dict__[\"cart_\"+d][idx] for d in \"xyz\"]\n",
    "x,y,z =xyz\n",
    "r = np.sqrt(x**2+y**2)\n",
    "phi = np.arctan2(y,x)\n",
    "ds[\"tmp\"] = ds.Te.copy()\n",
    "ds.tmp.data[...] = 0\n",
    "\n",
    "plt.figure(figsize=(20,20))\n",
    "ds.tmp.data[60,77] = 1\n",
    "ds.emc3.plot_Rz(\"tmp\", phi)\n",
    "plt.scatter(r, z)\n",
    "#ds.tmp.data.shape\n",
    "unrav"
   ]
  },
  {
   "cell_type": "code",
   "execution_count": 58,
   "id": "046b2ba1",
   "metadata": {},
   "outputs": [
    {
     "data": {
      "image/png": "[encoded data removed]",
      "text/plain": [
       "<matplotlib.figure.Figure at 0x7f0c5c6c2550>"
      ]
     },
     "metadata": {
      "needs_background": "light"
     },
     "output_type": "display_data"
    },
    {
     "data": {
      "text/plain": [
       "<function __main__.plot_Te(iy)>"
      ]
     },
     "execution_count": 58,
     "metadata": {},
     "output_type": "execute_result"
    }
   ],
   "source": [
    "def plot_Te(iy):\n",
    "    plt.figure(figsize=(10,10))\n",
    "    im = plt.imshow(pmeshtest[64:69,:,78fig = plt.figure()\n",
    "ax = fig.add_subplot(projection='3d')fig = plt.figure()\n",
    "ax = fig.add_subplot(projection='3d'):84].T[::-1][:,iy])\n",
    "    plt.colorbar(im)\n",
    "iy = widgets.IntSlider(min = 0, max = pmeshtest.shape[1]-1, value = 4)\n",
    "interact(plot_Te, iy = iy)"
   ]
  },
  {
   "cell_type": "code",
   "execution_count": null,
   "id": "c4bcd2af",
   "metadata": {},
   "outputs": [],
   "source": [
    "\"\"\"\n",
    "Plotting the actual values in the W7X grid.\n",
    "\"\"\"\n",
    "\n",
    "# View the data.\n",
    "@mayavi2.standalone\n",
    "def view():\n",
    "    from mayavi.sources.vtk_data_source import VTKDataSource\n",
    "    from mayavi.modules.api import Outline, GridPlane\n",
    "\n",
    "    mayavi.new_scene()\n",
    "    src = VTKDataSource(data=sgrid_emc3)\n",
    "    mayavi.add_source(src)\n",
    "    mayavi.add_module(Outline())\n",
    "    g = GridPlane()\n",
    "    g.grid_plane.axis = 'x'\n",
    "    mayavi.add_module(g)\n",
    "    g = GridPlane()\n",
    "    g.grid_plane.axis = 'y'\n",
    "    mayavi.add_module(g)\n",
    "    g = GridPlane()\n",
    "    g.grid_plane.axis = 'z'\n",
    "    mayavi.add_module(g)\n",
    "\n",
    "if __name__ == '__main__':\n",
    "    view()"
   ]
  },
  {
   "cell_type": "code",
   "execution_count": null,
   "id": "6704da96",
   "metadata": {},
   "outputs": [],
   "source": [
    "\"\"\"\n",
    "Do the actual interpolation. Measures the runtime with tik tok.\n",
    "\"\"\"\n",
    "from make_parammesh_vtk import make_parammesh_vtk\n",
    "tik = time.time()\n",
    "Te_mesh_vtk, notfound_emc3 = make_parammesh_vtk(grid_obj = grid_emc3,\n",
    "                                                sgrid = sgrid_emc3,\n",
    "                                                param_torgrid = np.asarray(ds.Te)[20:60,:50,:4], \n",
    "                                                ret_nans = False )\n",
    "tok = time.time()"
   ]
  },
  {
   "cell_type": "code",
   "execution_count": null,
   "id": "1992f86d",
   "metadata": {},
   "outputs": [],
   "source": [
    "print(\"The vtk interpolation took \", tok - tik, \"seconds to run for an increment of phi by 3.\")\n",
    "# print(\"Len dictnans\", len(dictnans_emc3))\n",
    "print(\"Len notfound\", len(notfound_emc3))"
   ]
  },
  {
   "cell_type": "code",
   "execution_count": null,
   "id": "b79f3b2c",
   "metadata": {},
   "outputs": [],
   "source": [
    "\"\"\"\n",
    "Confirm equal shapes!\n",
    "\"\"\"\n",
    "# Te_mesh_vtk.shape\n",
    "# Te_mesh_vtk.flatten().shape\n",
    "# grid_emc3.cartflat.shape"
   ]
  },
  {
   "cell_type": "code",
   "execution_count": null,
   "id": "6cf1c691",
   "metadata": {},
   "outputs": [],
   "source": [
    "# np.where(np.isnan(Te_mesh_vtk) == False)[0].shape"
   ]
  },
  {
   "cell_type": "code",
   "execution_count": null,
   "id": "4bb6f0d0",
   "metadata": {
    "scrolled": false
   },
   "outputs": [],
   "source": [
    "\"\"\"\n",
    "Y-slices of interpolated data.\n",
    "\"\"\"\n",
    "# %matplotlib\n",
    "def plot_Te(iy):\n",
    "    plt.figure(figsize=(10,10))\n",
    "    im = plt.imshow(Te_mesh_vtk.T[::-1][:,iy])\n",
    "    plt.colorbar(im)\n",
    "iy = widgets.IntSlider(min = 0, max = Te_mesh_vtk.shape[1]-1, value = 2)\n",
    "interact(plot_Te, iy = iy)"
   ]
  },
  {
   "cell_type": "code",
   "execution_count": null,
   "id": "28fec6b9",
   "metadata": {},
   "outputs": [],
   "source": [
    "# visualize contour of the interpolated values in 3d with colors defined by electron temperature\n",
    "dimgrid_cart = list(grid_emc3.cart_x.shape)\n",
    "sgrid_cart_emc3 = tvtk.StructuredGrid(dimensions=dimgrid_cart)\n",
    "s_Te = pmeshtest.copy()\n",
    "sgrid_cart_emc3.points = grid_emc3.cartflat\n",
    "sgrid_cart_emc3.point_data.scalars = s_Te.ravel()\n",
    "sgrid_cart_emc3.point_data.scalars.name = \"Te\"\n",
    "\n",
    "mlab.clf()\n",
    "#add the dataset to the pipeline\n",
    "src_cart = mlab.pipeline.add_dataset(sgrid_cart_emc3)\n",
    "cut_cart = mlab.pipeline.scalar_cut_plane(src_cart)\n",
    "cont_cart = mlab.pipeline.iso_surface(src_cart)"
   ]
  },
  {
   "cell_type": "code",
   "execution_count": null,
   "id": "a3010f84",
   "metadata": {},
   "outputs": [],
   "source": [
    "\"\"\"\n",
    "Comparing the interpolated region with what I should see.\n",
    "\"\"\"\n",
    "def plot_emc3toroidal(ip):\n",
    "    figemc3 = plt.figure(figsize=(15,15))\n",
    "    axemc3 = figemc3.add_subplot()\n",
    "    clev = np.arange(ds.Te[20:80,:,ip].min(),ds.Te[20:80,:,ip].max(),.5)\n",
    "    cemc3 = axemc3.contourf(grid_emc3.R[:,:,ip], \n",
    "                            grid_emc3.tor_z[:,:,ip], \n",
    "                            ds.Te[20:80,0:50,ip], \n",
    "                            clev)\n",
    "    figemc3.colorbar(cemc3)\n",
    "phislider = widgets.IntSlider(min = 0, max = 3, value = 0)\n",
    "interact(plot_emc3toroidal, ip = phislider)"
   ]
  },
  {
   "cell_type": "code",
   "execution_count": null,
   "id": "e94d16ab",
   "metadata": {},
   "outputs": [],
   "source": [
    "\"\"\"\n",
    "do the same using unstructured grid just to get \n",
    "to know how to work with different grid structures\n",
    "\"\"\"\n",
    "\n",
    "tet_type = tvtk.Tetra().cell_type # VTK_TETRA == 10\n",
    "tets = np.arange(len(grid_emc3.cartflat), len(grid_emc3.cartflat)-1)\n",
    "usgrid_emc3 = tvtk.UnstructuredGrid(points = grid_emc3.cartflat)\n",
    "usgrid_emc3.set_cells(tet_type, tets)\n",
    "usgrid_emc3.point_data.scalars = s_Te.ravel()\n",
    "usgrid_emc3.point_data.scalars.name = \"Te\"\n",
    "# clear the field\n",
    "mlab.clf()\n",
    "#add the dataset to the pipeline\n",
    "src_cart = mlab.pipeline.add_dataset(sgrid_cart_emc3)\n",
    "cut_cart = mlab.pipeline.scalar_cut_plane(src_cart)\n",
    "cont_cart = mlab.pipeline.iso_surface(src_cart)"
   ]
  },
  {
   "cell_type": "code",
   "execution_count": null,
   "id": "c98f42c1",
   "metadata": {},
   "outputs": [],
   "source": [
    "\"\"\"\n",
    "In the cell the point is to do the manual tessalation by splitting up the grid in the theta direction and merge\n",
    "the parameter space.\n",
    "\n",
    "Current issue: The data is not merged properly, evident after plotting the data.\n",
    "\"\"\"\n",
    "def runtess_algo(split = 5, inc_r = [20, 80], ntheta_max = 20, nphi_max = 4, ngrid_cart = 50):\n",
    "    \"\"\"\n",
    "    Args:\n",
    "     - split, int; is the number of theta angles you split the theta interval in\n",
    "     - ntheta_max, int; the max number of theta angles to include\n",
    "     - nphi_max, int; the number of phi angles to include\n",
    "    Out:\n",
    "     - paramvals, ndarray dim (grid.cart.shape); the meshgrid contatining the parameter values, assumes scalars\n",
    "     - the runtime\n",
    "    \"\"\"\n",
    "    # start clock\n",
    "    tik = time.time()\n",
    "    scalemesh = 100//split\n",
    "    ycut = ngrid_cart*nphi_max//36\n",
    "    print(\"scalemesh\", scalemesh)\n",
    "    print(\"ngrid_cart*(nphi_max//36)\", ngrid_cart*nphi_max//36)\n",
    "#     paramvals = np.ones((scalemesh*ngrid_cart, scalemesh, scalemesh*ngrid_cart))*np.nan\n",
    "    paramvals = np.ones((scalemesh, ngrid_cart, ycut, ngrid_cart))*np.nan\n",
    "    print(paramvals.shape)\n",
    "    plusprev = 0\n",
    "    \n",
    "    # generate grid for tessalation algo\n",
    "    grid_tess = grid(ds = ds, ngrid_cart = ngrid_cart, inc_r = inc_r, inc_t = [0,ntheta_max], inc_p = [0,4])\n",
    "    print(\"grid_tess.cart_x.shape\", grid_tess.cart_x.shape)\n",
    "    \n",
    "    for i in range(scalemesh):\n",
    "        print(\"scalemesh*i = \", scalemesh*i)\n",
    "        # keeping track of the start and end angle\n",
    "        plus = (i+1)*split\n",
    "        print(\"plusprev, plus\", plusprev, plus)\n",
    "    \n",
    "        # compute a dict of points as keys with the the embedding tetrahedron as the value\n",
    "        dict_p_tetra_emc3 = manual_tessalation(grid_obj = grid_tess)\n",
    "\n",
    "        # compute the parameter meshgrid\n",
    "        parammesh_tor_reduced = np.asarray(ds.Te)[inc_r[0]:inc_r[1],plusprev:plus,:nphi_max]\n",
    "        print(\"Tor reduced\", parammesh_tor_reduced.shape)\n",
    "\n",
    "        paramvals[i] =  make_param_mesh(dict_p_tetra = dict_p_tetra_emc3,\n",
    "                                        grid_obj = grid_tess,\n",
    "                                        param_torgrid = parammesh_tor_reduced) \n",
    "        plusprev = plus\n",
    "    tok = time.time()\n",
    "    return np.nansum(paramvals, axis = 0), tok - tik"
   ]
  },
  {
   "cell_type": "code",
   "execution_count": null,
   "id": "2ed208ec",
   "metadata": {},
   "outputs": [],
   "source": [
    "\"\"\"\n",
    "This is the manual tessalation without splitting\n",
    "\"\"\"\n",
    "# start clock\n",
    "tik = time.time()\n",
    "\n",
    "# generate grid for tessalation algo\n",
    "grid_tess = grid(ds = ds, ngrid_cart = 50, inc_r = [20,80], inc_t = [0,512], inc_p = [0,4])\n",
    "\n",
    "# compute a dict of points as keys with the the embedding tetrahedron as the value\n",
    "dict_p_tetra_emc3 = manual_tessalation(grid_obj = grid_tess)\n",
    "\n",
    "# compute the parameter meshgrid, the inidice shoudl match the boundaries set in the grid generation\n",
    "parammesh_tor_reduced = np.asarray(ds.Te)[20:80,:,:4]\n",
    "\n",
    "Te_mesh_tessalation =  make_param_mesh(dict_p_tetra = dict_p_tetra_emc3,\n",
    "                                       grid_obj = grid_tess,\n",
    "                                       param_torgrid = parammesh_tor_reduced) \n",
    "\n",
    "tok = time.time()"
   ]
  },
  {
   "cell_type": "code",
   "execution_count": null,
   "id": "c1427f85",
   "metadata": {},
   "outputs": [],
   "source": [
    "Te_mesh_tessalation.shape\n",
    "print(\"Runtime with tessalation\", tok-tik, \"seconds.\")"
   ]
  },
  {
   "cell_type": "code",
   "execution_count": null,
   "id": "1537614a",
   "metadata": {},
   "outputs": [],
   "source": [
    "# np.where(np.isnan(Te_mesh_tessalation) == False)"
   ]
  },
  {
   "cell_type": "code",
   "execution_count": null,
   "id": "cba767b0",
   "metadata": {
    "scrolled": false
   },
   "outputs": [],
   "source": [
    "def plot_Te_tess(iy):\n",
    "    plt.figure(figsize=(10,10))\n",
    "    im = plt.imshow(Te_mesh_tessalation[:,iy].T)\n",
    "    plt.colorbar(im)\n",
    "iy = widgets.IntSlider(min = 0, max = 4, value = 0)\n",
    "interact(plot_Te_tess, iy = iy)"
   ]
  },
  {
   "cell_type": "code",
   "execution_count": null,
   "id": "d99e4927",
   "metadata": {},
   "outputs": [],
   "source": [
    "\"\"\"\n",
    "A walkthrough on how to plot with the vtk objects\n",
    "\"\"\"\n",
    "\n",
    "# make the structured grid object from vtk lib\n",
    "sg_tess = tvtk.StructuredGrid(dimensions=grid_tess.cart_x.shape)\n",
    "# set the grid point coords using a flattened array of the meshgrid array\n",
    "sg_tess.points = grid_tess.cartflat\n",
    "# define a scalar field using the raveled version of the meshgrid array\n",
    "sg_tess.point_data.scalars = Te_mesh_tessalation.copy().ravel()\n",
    "# give the scalar parameter a suitable name\n",
    "sg_tess.point_data.scalars.name = \"Te\"\n",
    "# clear the field\n",
    "mlab.clf()\n",
    "#add the dataset to the pipeline, the principle is to add several object on top of each other\n",
    "src_tess = mlab.pipeline.add_dataset(sg_tess)\n",
    "# make a cut object to cut the 3D volum in slices in a user defined direction\n",
    "cut_tess = mlab.pipeline.scalar_cut_plane(src_tess)\n",
    "# make a contour plot of the scalar field\n",
    "cont_tess = mlab.pipeline.iso_surface(cut_tess)"
   ]
  }
 ],
 "metadata": {
  "kernelspec": {
   "display_name": "Python 3",
   "language": "python",
   "name": "python3"
  },
  "language_info": {
   "codemirror_mode": {
    "name": "ipython",
    "version": 3
   },
   "file_extension": ".py",
   "mimetype": "text/x-python",
   "name": "python",
   "nbconvert_exporter": "python",
   "pygments_lexer": "ipython3",
   "version": "3.6.9"
  }
 },
 "nbformat": 4,
 "nbformat_minor": 5
}
