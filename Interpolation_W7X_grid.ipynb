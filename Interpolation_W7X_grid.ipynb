{
 "cells": [
  {
   "cell_type": "code",
   "execution_count": 1,
   "id": "58787804",
   "metadata": {},
   "outputs": [],
   "source": [
    "# computational libs\n",
    "from scipy.spatial import Delaunay\n",
    "import numpy as np\n",
    "import scipy as sp\n",
    "from matplotlib import pyplot as plt\n",
    "from matplotlib import cm\n",
    "import time\n",
    "import sparse\n",
    "import random\n",
    "# %matplotlib\n",
    "\n",
    "#vtk libs\n",
    "from tvtk.api import tvtk\n",
    "from mayavi.scripts import mayavi2\n",
    "from PyQt5 import QtCore\n",
    "import sip\n",
    "import vtk\n",
    "\n",
    "#emc3 libs\n",
    "import numpy as np\n",
    "import xarray as xr\n",
    "import netCDF4"
   ]
  },
  {
   "cell_type": "code",
   "execution_count": 2,
   "id": "e8d8cd2e",
   "metadata": {},
   "outputs": [],
   "source": [
    "# importing the mayavi plotting lib\n",
    "from mayavi import mlab\n",
    "# this must be run as the first line, telling jupyter that can be interactively used\n",
    "%gui qt"
   ]
  },
  {
   "cell_type": "code",
   "execution_count": 3,
   "id": "087171d1",
   "metadata": {},
   "outputs": [
    {
     "name": "stdout",
     "output_type": "stream",
     "text": [
      "Enabling notebook extension jupyter-js-widgets/extension...\r\n",
      "      - Validating: \u001b[32mOK\u001b[0m\r\n"
     ]
    }
   ],
   "source": [
    "!jupyter nbextension enable --py widgetsnbextension"
   ]
  },
  {
   "cell_type": "code",
   "execution_count": 4,
   "id": "c0e3ad63",
   "metadata": {},
   "outputs": [],
   "source": [
    "#from grid import grid"
   ]
  },
  {
   "cell_type": "code",
   "execution_count": 5,
   "id": "a87d6cb4",
   "metadata": {},
   "outputs": [],
   "source": [
    "# importing widget libs to make interactive plots\n",
    "import ipywidgets as widgets\n",
    "from ipywidgets import interact, interactive, fixed, interact_manual"
   ]
  },
  {
   "cell_type": "code",
   "execution_count": 6,
   "id": "4b0f0ea7",
   "metadata": {},
   "outputs": [],
   "source": [
    "# open the dataset containing the emc3 example\n",
    "path = r\"~/Dokumente/emc3_example.nc\"\n",
    "ds = xr.open_dataset(path)\n",
    "#ds"
   ]
  },
  {
   "cell_type": "code",
   "execution_count": 7,
   "id": "cff49496",
   "metadata": {},
   "outputs": [],
   "source": [
    "def make_parammesh_vtk(grid_obj, sgrid, param_torgrid, ret_nans = False):\n",
    "    \"\"\"\n",
    "    Args:np sparsenp sparse\n",
    "     - grid_obj, grid object defined in one of the cells below\n",
    "     - sgrid, tvtk.StructureGrid object\n",
    "     - param_torgrid, type ndarray, parameter of interest on a toroidal meshgrid structure\n",
    "     - renans, bool, return NaN vales of points found in a cell or not\n",
    "    Out:\n",
    "     - parammesh, ndarray, interpolated parameter values on a 3d cartesian grid\n",
    "    \"\"\"\n",
    "    import numpy as np\n",
    "    import vtk\n",
    "    from tvtk.api import tvtk\n",
    "    import itertools\n",
    "    # make a dict to store potential nan values that appear in points found in a cell\n",
    "    dictnans = {}\n",
    "    notfound = []\n",
    "    \n",
    "    # make the mehsgrid for the parameter we want to interpolate form the original data\n",
    "    parammesh = np.nan*np.ones(grid_obj.cart_x.shape)\n",
    "    \n",
    "    # pass initial/default values to the find_cell function\n",
    "    cell = None\n",
    "    cid = int(6e3)\n",
    "    tol2 = 1e-3\n",
    "    subid = vtk.reference(-1)\n",
    "    pcoord = np.zeros((3))\n",
    "    weights = np.zeros(8)\n",
    "    \n",
    "     #making coarse grid\n",
    "    numc = 20\n",
    "    coarse = np.zeros((numc, numc, numc), dtype=bool)\n",
    "    spatial_toroidal = np.array([grid_obj.__dict__[\"tor_\"+d] for d in \"xyz\"])\n",
    "    minmax = [np.array([func(grid_obj.__dict__[\"tor_\"+d]) for d in \"xyz\"]) for func in [np.min, np.max]]\n",
    "    offset = minmax[0]\n",
    "    dist = (minmax[1] - minmax[0]+1e-6)/numc\n",
    "    for i,j,k in itertools.product(*[range(x-1) for x in grid_obj.tor_x.shape]):\n",
    "        block = spatial_toroidal[:,i:i+2, j:j+2, k:k+2].reshape(3, 8)\n",
    "        minmax = [func(block, axis=1) for func in [np.min, np.max]]\n",
    "        indices = [((m - offset) / dist).astype(int) for m in minmax]\n",
    "        for ijk in itertools.product(*[range(a,b+1) for a,b in zip(*indices)]):\n",
    "            coarse[ijk] = True\n",
    "    \n",
    "    # iterate through points in the cartesian grid\n",
    "    for pid, p in enumerate(grid_obj.cartflat):\n",
    "        # check the coarse grid for points first\n",
    "        if not coarse[tuple(((p-offset)/dist).astype(int) )]:\n",
    "            continue\n",
    "        #find the cell p is interior to\n",
    "        cid = sgrid.find_cell(p, cell, cid, tol2, subid, pcoord, weights)\n",
    "        # if find_cell returns -1 there is either a numerical error or it did not find the point in that cell\n",
    "        if cid == -1:\n",
    "            notfound.append(cid)\n",
    "            continue\n",
    "        else:            \n",
    "            # unravel index of each vertex of the cell found from the toroidal grid\n",
    "            newgridshape = (grid_obj.tor_x.shape[0]-1, grid_obj.tor_x.shape[1]-1, grid_obj.tor_x.shape[2]-1)\n",
    "\n",
    "            # get indicies of the cell corner\n",
    "            ir, it, ip = np.unravel_index(cid, newgridshape)\n",
    "\n",
    "            #find the potential values of each vertex of the cell and interpolate the data using weights\n",
    "            pvals = param_torgrid[ir:(ir+2), it:(it+2), ip:(ip+2)].ravel() * weights\n",
    "            paramval = np.sum(pvals, axis = 0)\n",
    "\n",
    "            # find coordinate indices of the point in the cartesian grid structure with cartesian indicies\n",
    "            coord_idx = np.argwhere((grid_obj.cart_x == p[0]) & \n",
    "                                    (grid_obj.cart_y == p[1]) & \n",
    "                                    (grid_obj.cart_z == p[2]))[0] \n",
    "            # Assign the cartesian parameter mesh the parameter value\n",
    "            parammesh[coord_idx[0], coord_idx[1], coord_idx[2]] = paramval\n",
    "            \n",
    "    # if user input chosen return nans then return nans \n",
    "    if ret_nans:\n",
    "        # generate different return when including the dictionary containing the nans\n",
    "        return parammesh, dictnans, notfound\n",
    "    else:\n",
    "        return parammesh, notfound"
   ]
  },
  {
   "cell_type": "code",
   "execution_count": 8,
   "id": "060372ff",
   "metadata": {},
   "outputs": [
    {
     "name": "stdout",
     "output_type": "stream",
     "text": [
      "Overwriting grid.py\n"
     ]
    }
   ],
   "source": [
    "%%writefile grid.py\n",
    "\n",
    "class grid:\n",
    "    def __init__(self, ds, ngrid_cart = None, inc_r = [None, None], inc_t = [None, None], inc_p = [None, None]):\n",
    "        \"\"\"\n",
    "        Args:\n",
    "         - xarray, ds is a dataset containing the W7X data\n",
    "         - np.int64, ngrid_cart is cartesian grid resolution \n",
    "         - list dim 2 (min,max), inc_r, inc_t, inc_p is the minmax of the grid indexes in r, theta and phi direction\n",
    "         \n",
    "        Out:\n",
    "         - grid object, both cartesian meshgrid of toroidal and cartesian grid, can also get as flattened arrays\n",
    "        \n",
    "        Note: Periodic boundary conditions is added in theta direction\n",
    "        \"\"\"\n",
    "        import numpy as np\n",
    "        \n",
    "        dgrid = np.asarray( ds.R_bounds.mean(dim=(\"delta_r\", \"delta_theta\", \"delta_phi\")) )[inc_r[0]:inc_r[1],\n",
    "                                                                                            inc_t[0]:inc_t[1],\n",
    "                                                                                            inc_p[0]:inc_p[1]].shape\n",
    "        \n",
    "        self.R, self.theta, self.phi, self.tor_z = np.ones(dgrid)*np.nan, np.ones(dgrid)*np.nan, np.ones(dgrid)*np.nan, np.ones(dgrid)*np.nan\n",
    "        \n",
    "        self.R = np.asarray( ds.R_bounds.mean(dim=(\"delta_r\", \"delta_theta\", \"delta_phi\")) )[inc_r[0]:inc_r[1],\n",
    "                                                                                             inc_t[0]:inc_t[1],\n",
    "                                                                                             inc_p[0]:inc_p[1]]\n",
    "\n",
    "        \n",
    "        self.tor_z = np.asarray(ds.z_bounds.mean(dim=(\"delta_r\", \"delta_theta\", \"delta_phi\")))[inc_r[0]:inc_r[1],\n",
    "                                                                                               inc_t[0]:inc_t[1],\n",
    "                                                                                               inc_p[0]:inc_p[1]]\n",
    "\n",
    "        \n",
    "        self.phi = np.asarray( ds.phi_bounds.mean(dim=\"delta_phi\") )[inc_p[0]:inc_p[1]]\n",
    "\n",
    "        \n",
    "        self.tor_x = np.asarray( self.R * np.cos(self.phi) )\n",
    "        self.tor_y = np.asarray( self.R * np.sin(self.phi) )\n",
    "        if ngrid_cart == None:\n",
    "            ngrid_cart = 100\n",
    "        \n",
    "        ivl_p = int(inc_p[1] - inc_p[0])\n",
    "        chunking = 2\n",
    "        chunkingids = (2,3,4)\n",
    "        self.cart_x, self.cart_y, self.cart_z = np.meshgrid(np.linspace(np.min(self.tor_x),np.max(self.tor_x), ngrid_cart), \n",
    "                                                            np.linspace(np.min(self.tor_y),np.max(self.tor_y), ngrid_cart), \n",
    "                                                            np.linspace(np.min(self.tor_z),np.max(self.tor_z), ngrid_cart),\n",
    "                                                            indexing = \"ij\")\n",
    "        \"\"\"self.cart_x, self.cart_y, self.cart_z = np.meshgrid(np.linspace(np.min(self.tor_x),np.max(self.tor_x), ngrid_cart), \n",
    "                                                            np.linspace(np.min(self.tor_y),np.max(self.tor_y), ngrid_cart), \n",
    "                                                            np.linspace(np.min(self.tor_z),np.max(self.tor_z), ngrid_cart),\n",
    "                                                            indexing = \"ij\")\"\"\"\n",
    "     \n",
    "        self.cartflat = np.ones((self.cart_x.shape[0]*self.cart_x.shape[1]*self.cart_x.shape[2], 3) )*np.nan\n",
    "        self.cartflat[:,0] = self.cart_x.flatten()\n",
    "        self.cartflat[:,1] = self.cart_y.flatten()\n",
    "        self.cartflat[:,2] = self.cart_z.flatten()\n",
    "        \n",
    "        self.torflat = np.ones((self.tor_x.shape[0]*self.tor_x.shape[1]*self.tor_x.shape[2], 3))*np.nan\n",
    "        self.torflat[:,0] = self.tor_x.flatten()\n",
    "        self.torflat[:,1] = self.tor_y.flatten()\n",
    "        self.torflat[:,2] = self.tor_z.flatten()"
   ]
  },
  {
   "cell_type": "code",
   "execution_count": 9,
   "id": "47bab39a",
   "metadata": {},
   "outputs": [
    {
     "name": "stdout",
     "output_type": "stream",
     "text": [
      "Overwriting makemesh_indices.py\n"
     ]
    }
   ],
   "source": [
    "%%writefile makemesh_indices.py\n",
    "def make_parammesh_vtk_indices(grid_obj, sgrid, skip_coarsegrid = 10, sp = (29,2,16), tolsqrd = 1e-8):\n",
    "    \"\"\"\n",
    "    Args:\n",
    "     - grid_obj, grid object defined in one of the cells below\n",
    "     - sgrid, tvtk.StructureGrid object\n",
    "     - renans, bool, return NaN vales of points found in a cell or not\n",
    "    Out:\n",
    "     - parammesh_indices, ndarray np.int32, interpolated parameter vertex indices and weights on a 3d cartesian grid\n",
    "     dim = (x, y, z, coord index vertices of cell/weights of vertices)\n",
    "    \"\"\"\n",
    "    import numpy as np\n",
    "    import vtk\n",
    "    from tvtk.api import tvtk\n",
    "    import itertools\n",
    "    # need to have grid.py in the same folder as this py file\n",
    "    from grid import grid\n",
    "    \n",
    "    # make the mehsgrid for the parameter we want to interpolate form the original data\n",
    "    # + (2,8) represents (indices/weights, vertex)\n",
    "    parammesh_indices = -np.ones(grid_obj.cart_x.shape + (8,), dtype=np.int32 )\n",
    "    parammesh_weights = np.nan*np.ones(grid_obj.cart_x.shape + (8,), dtype=np.float32)\n",
    "    # pass initial/default values to the find_cell function\n",
    "    cell = None\n",
    "    cid = int(6e3)\n",
    "    tol2 = tolsqrd\n",
    "    print(tol2)\n",
    "    subid = vtk.reference(-1)\n",
    "    pcoord = np.zeros(3)\n",
    "    weights = np.zeros(8, dtype=np.float32)\n",
    "    \n",
    "    # generate the shape of the cellular emc3 grid\n",
    "    grid_of_cells_shape = (grid_obj.tor_x.shape[0]-1, grid_obj.tor_x.shape[1]-1, grid_obj.tor_x.shape[2]-1)\n",
    "    \n",
    "    # for storing cell ids of the emc3 grid to each grid point in the cartesian grid\n",
    "    cids = np.zeros(grid_obj.cart_x.shape, dtype=np.int32)-2\n",
    "    cs = sp # this is now hardcoded, need to find a generalized solution\n",
    "    todo = [tuple(list(cs))] #starting index of point to search for in the cells to search\n",
    "    found = False\n",
    "    while todo:\n",
    "        cur = todo.pop()\n",
    "        #find the cell p is interior to\n",
    "        cid = sgrid.find_cell([grid_obj.cart_x[cur], grid_obj.cart_y[cur], grid_obj.cart_z[cur]], \n",
    "                              cell, cid, tol2, subid, pcoord, weights)\n",
    "        cids[cur] = cid\n",
    "        if cid >= 0:\n",
    "            found = True\n",
    "            for dist in itertools.product(range(-1,2),repeat=3): #iterate through neighbours\n",
    "                nxt = tuple(a+b for a,b in zip(dist, cur))\n",
    "                outofbounds = False\n",
    "                for i in range(3):\n",
    "                    if nxt[i]>=grid_obj.cart_x.shape[i]:\n",
    "                        outofbounds = True\n",
    "                if outofbounds:\n",
    "                    continue\n",
    "                if cids[nxt] == -2:\n",
    "                    cids[nxt] = -3\n",
    "                    todo.append(nxt)\n",
    "            # unravel index of each vertex of the cell found from the toroidal grid\n",
    "            ir, it, ip = np.unravel_index(cid, grid_of_cells_shape)\n",
    "            idx = np.zeros((2,2,2), dtype=int)\n",
    "            for d_ir, dit, dip in itertools.product(range(2), repeat=3):\n",
    "                idx[d_ir, dit, dip] = np.ravel_multi_index((ir+d_ir,it+dit,ip+dip), grid_obj.tor_x.shape)\n",
    "            idx.shape = 8\n",
    "            #represents the indices of the flattened parametermesh on the emc3 grid structure\n",
    "#             print(parammesh_indices.shape, parammesh_indices.dtype, cur, type(cur), idx, idx.dtype, weights, weights.dtype)\n",
    "            parammesh_indices[cur] = idx\n",
    "            # represents the weights corresponding to the parameter indices above\n",
    "            parammesh_weights[cur] = weights\n",
    "        #if find_cell returns -1 there is either a numerical error or it did not find the point in that cell\n",
    "        if not found:\n",
    "            print(\"guessing startpoint\")\n",
    "            cs = tuple(np.random.randint(low = 0, high = max(grid_obj.cart_x.shape), size = 3))\n",
    "            todo.append(cs)\n",
    "    return parammesh_indices, parammesh_weights\n",
    "\n",
    "def from_indices_to_paramvals(idxs, weights, param_torgrid):\n",
    "    \"\"\"\n",
    "    Current problem is that it is not identical to the former method where the the parametervalues are extracted\n",
    "    rather than the indices of the toroidal grid.\n",
    "    \"\"\"\n",
    "    #imports for importing to external file later\n",
    "    import numpy as np\n",
    "    # shape pmesh as (50,50,50), if ngrid = 50\n",
    "    pmesh = np.ones(idxs.shape[:3], dtype=np.float64)*np.nan\n",
    "    # make a flattened array of sum of indices of all vertices in the cell, if any is nan then discard the cell\n",
    "    irav = np.sum(idxs, axis = 3).ravel()\n",
    "    # store indices of indices which are numbers in a flattened structjupyter labextension install @jupyter-widgets/jupyterlab-managerure\n",
    "    isnotnan = np.where(np.isnan(irav) == False)[0]\n",
    "    # array of indexes that is not nanvalued\n",
    "    notnanidxs = np.asarray(idxs.reshape(idxs.shape[0]**3,8)[isnotnan], dtype=np.int32)\n",
    "    pmesh_re = pmesh.ravel()\n",
    "    pmesh_re[isnotnan] = np.sum(param_torgrid.ravel()[notnanidxs] * weights.reshape(weights.shape[0]**3, 8)[isnotnan], axis = 1)\n",
    "    pmesh = pmesh_re.reshape(idxs.shape[:3])\n",
    "    return pmesh   "
   ]
  },
  {
   "cell_type": "code",
   "execution_count": 10,
   "id": "a30c41fd",
   "metadata": {},
   "outputs": [],
   "source": [
    "from grid import grid\n",
    "grid_emc3 = grid(ds = ds, ngrid_cart = 128, inc_r = [40, 138], inc_t = [0,512], inc_p = [0,10])"
   ]
  },
  {
   "cell_type": "code",
   "execution_count": 11,
   "id": "e93d7203",
   "metadata": {},
   "outputs": [
    {
     "data": {
      "text/plain": [
       "'usgrid_emc3 = tvtk.UnstructuredGrid(points = grid_emc3.torflat)\\ntet_type = tvtk.Hexahedron().cell_type # VTK_TETRA == 10\\nhexs = np.arange(len(grid_emc3.torflat), len(grid_emc3.torflat)-1)\\nusgrid_emc3.set_cells(tet_type, hexs)'"
      ]
     },
     "execution_count": 11,
     "metadata": {},
     "output_type": "execute_result"
    }
   ],
   "source": [
    "dimgrid = list([x for x in grid_emc3.tor_x.shape[::-1]])\n",
    "sgrid_emc3 = tvtk.StructuredGrid(dimensions=dimgrid)\n",
    "sgrid_emc3.points = grid_emc3.torflat\n",
    "\n",
    "sgridvtk = vtk.vtkStructuredGrid()\n",
    "sgridvtk.points = grid_emc3.torflat \n",
    "\n",
    "\"\"\"usgrid_emc3 = tvtk.UnstructuredGrid(points = grid_emc3.torflat)\n",
    "tet_type = tvtk.Hexahedron().cell_type # VTK_TETRA == 10\n",
    "hexs = np.arange(len(grid_emc3.torflat), len(grid_emc3.torflat)-1)\n",
    "usgrid_emc3.set_cells(tet_type, hexs)\"\"\""
   ]
  },
  {
   "cell_type": "code",
   "execution_count": 12,
   "id": "36f58c57",
   "metadata": {},
   "outputs": [
    {
     "data": {
      "text/plain": [
       "\"# View the data.\\n@mayavi2.standalone\\ndef view():\\n    from mayavi.sources.vtk_data_source import VTKDataSource\\n    from mayavi.modules.api import Outline, GridPlane, StructuredGridOutline\\n\\n    mayavi.new_scene()\\n    src = VTKDataSource(data=sgrid_emc3)\\n    mayavi.add_source(src)\\n    mayavi.add_module(Outline())\\n    g = GridPlane()\\n    g.grid_plane.axis = 'x'\\n    mayavi.add_module(g)\\n    g = GridPlane()\\n    g.grid_plane.axis = 'y'\\n    mayavi.add_module(g)\\n    g = GridPlane()\\n    g.grid_plane.axis = 'z'\\n    mayavi.add_module(g)\\n\\nif __name__ == '__main__':\\n    view()\""
      ]
     },
     "execution_count": 12,
     "metadata": {},
     "output_type": "execute_result"
    }
   ],
   "source": [
    "\n",
    "\"\"\"Plotting the actual values in the W7X grid.\n",
    "\"\"\"\n",
    "\n",
    "\"\"\"# View the data.\n",
    "@mayavi2.standalone\n",
    "def view():\n",
    "    from mayavi.sources.vtk_data_source import VTKDataSource\n",
    "    from mayavi.modules.api import Outline, GridPlane, StructuredGridOutline\n",
    "\n",
    "    mayavi.new_scene()\n",
    "    src = VTKDataSource(data=sgrid_emc3)\n",
    "    mayavi.add_source(src)\n",
    "    mayavi.add_module(Outline())\n",
    "    g = GridPlane()\n",
    "    g.grid_plane.axis = 'x'\n",
    "    mayavi.add_module(g)\n",
    "    g = GridPlane()\n",
    "    g.grid_plane.axis = 'y'\n",
    "    mayavi.add_module(g)\n",
    "    g = GridPlane()\n",
    "    g.grid_plane.axis = 'z'\n",
    "    mayavi.add_module(g)\n",
    "\n",
    "if __name__ == '__main__':\n",
    "    view()\"\"\""
   ]
  },
  {
   "cell_type": "code",
   "execution_count": 13,
   "id": "fb90bfa1",
   "metadata": {
    "scrolled": true
   },
   "outputs": [
    {
     "name": "stdout",
     "output_type": "stream",
     "text": [
      "1e-08\n",
      "guessing startpoint\n",
      "guessing startpoint\n",
      "guessing startpoint\n",
      "guessing startpoint\n",
      "guessing startpoint\n",
      "guessing startpoint\n",
      "guessing startpoint\n",
      "guessing startpoint\n",
      "guessing startpoint\n",
      "guessing startpoint\n",
      "guessing startpoint\n",
      "guessing startpoint\n",
      "guessing startpoint\n",
      "guessing startpoint\n",
      "guessing startpoint\n",
      "guessing startpoint\n",
      "guessing startpoint\n",
      "guessing startpoint\n",
      "guessing startpoint\n",
      "guessing startpoint\n",
      "guessing startpoint\n",
      "guessing startpoint\n",
      "guessing startpoint\n",
      "guessing startpoint\n",
      "guessing startpoint\n",
      "To make indicies it took  57.42478919029236\n"
     ]
    }
   ],
   "source": [
    "from makemesh_indices import make_parammesh_vtk_indices,from_indices_to_paramvals\n",
    "tik = time.time()\n",
    "idxmesh, weightmesh = make_parammesh_vtk_indices(grid_obj = grid_emc3,\n",
    "                                                 sgrid = sgrid_emc3, sp = (0, 0, 0))\n",
    "tok = time.time()\n",
    "runtime_idxmesh = tok-tik\n",
    "print(\"To make indicies it took \", runtime_idxmesh)"
   ]
  },
  {
   "cell_type": "code",
   "execution_count": 14,
   "id": "dcef570c",
   "metadata": {},
   "outputs": [
    {
     "name": "stdout",
     "output_type": "stream",
     "text": [
      "0.02\n",
      "guessing startpoint\n",
      "To make indicies it took  80.81538391113281\n"
     ]
    }
   ],
   "source": [
    "tik = time.time()\n",
    "idxmesh_hightol, weightmesh_hightol = make_parammesh_vtk_indices(grid_obj = grid_emc3,\n",
    "                                                                 sgrid = sgrid_emc3, sp = (0, 0, 0), \n",
    "                                                                 tolsqrd = 2e-2)\n",
    "tok = time.time()\n",
    "runtime_idxmesh = tok-tik\n",
    "print(\"To make indicies it took \", runtime_idxmesh)"
   ]
  },
  {
   "cell_type": "code",
   "execution_count": 15,
   "id": "82d7ba84",
   "metadata": {},
   "outputs": [
    {
     "name": "stdout",
     "output_type": "stream",
     "text": [
      "To evaluate indicies took  0.41826534271240234\n"
     ]
    }
   ],
   "source": [
    "tik = time.time()\n",
    "pmeshtest = from_indices_to_paramvals(idxs = idxmesh, \n",
    "                                      weights = weightmesh, \n",
    "                                      param_torgrid = np.asarray(ds.Te)[40:138,:512,:10])\n",
    "tok = time.time()\n",
    "print(\"To evaluate indicies took \", tok - tik)"
   ]
  },
  {
   "cell_type": "code",
   "execution_count": 18,
   "id": "b4911c62",
   "metadata": {},
   "outputs": [
    {
     "name": "stdout",
     "output_type": "stream",
     "text": [
      "To evaluate indicies took  0.3087947368621826\n"
     ]
    }
   ],
   "source": [
    "tik = time.time()\n",
    "pmeshtest_hightol = from_indices_to_paramvals(idxs = idxmesh_hightol,\n",
    "                                              weights = weightmesh_hightol,\n",
    "                                              param_torgrid = np.asarray(ds.Te)[40:138,:512,:10])\n",
    "tok = time.time()\n",
    "print(\"To evaluate indicies took \", tok - tik)"
   ]
  },
  {
   "cell_type": "code",
   "execution_count": 30,
   "id": "046b2ba1",
   "metadata": {
    "scrolled": false
   },
   "outputs": [
    {
     "data": {
      "text/plain": [
       "<function __main__.plot_Te(iy)>"
      ]
     },
     "execution_count": 30,
     "metadata": {},
     "output_type": "execute_result"
    }
   ],
   "source": [
    "%matplotlib\n",
    "def plot_Te(iy):\n",
    "    plt.figure(figsize=(10,10))\n",
    "    im = plt.imshow(np.sum([pmeshtest_hightol[:,iy].T[::-1],-pmeshtest[:,iy].T[::-1]], axis=0))\n",
    "    plt.colorbar(im)\n",
    "\n",
    "iy = widgets.IntSlider(min = 0, max = pmeshtest.shape[1]-1, value = 20)\n",
    "interact(plot_Te, iy = iy)"
   ]
  },
  {
   "cell_type": "code",
   "execution_count": null,
   "id": "a3010f84",
   "metadata": {},
   "outputs": [],
   "source": [
    "\"\"\"\n",
    "Comparing the interpolated region with what I should see.\n",
    "\"\"\"\n",
    "def plot_emc3toroidal(ip):\n",
    "    figemc3 = plt.figure(figsize=(10,10))\n",
    "    axemc3 = figemc3.add_subplot()\n",
    "    clev = np.arange(ds.Te[40:138,:,ip].min(),ds.Te[40:138,:,ip].max(),.5)\n",
    "    cemc3 = axemc3.contourf(grid_emc3.R[:,:,ip], \n",
    "                            grid_emc3.tor_z[:,:,ip], \n",
    "                            ds.Te[40:138,:,ip], \n",
    "                            clev)\n",
    "    figemc3.colorbar(cemc3)\n",
    "phislider = widgets.IntSlider(min = 0, max = 3, value = 0)\n",
    "interact(plot_emc3toroidal, ip = phislider)"
   ]
  },
  {
   "cell_type": "code",
   "execution_count": null,
   "id": "3e6f09c8",
   "metadata": {},
   "outputs": [],
   "source": [
    "print(pmeshtest[64:69,4,78:84])\n",
    "pmeshtest[65,4,80]"
   ]
  },
  {
   "cell_type": "code",
   "execution_count": null,
   "id": "2ac550bb",
   "metadata": {},
   "outputs": [],
   "source": [
    "cell = None\n",
    "cid = int(6e3)\n",
    "tol2 = 1e-8\n",
    "subid = vtk.reference(-1)\n",
    "pcoord = np.zeros(3)\n",
    "weights = np.zeros(8, dtype=np.float32)\n",
    "out = np.zeros((100,100), dtype=int)\n",
    "for i in range(100):\n",
    "    for j in range(100):\n",
    "        out[j, i] = sgrid_emc3.find_cell([grid_emc3.cart_x[65,4,80], \n",
    "                                  grid_emc3.cart_y[65,4,80]-(i-50)/1280/2, \n",
    "                                  grid_emc3.cart_z[65,4,80]-(j-50)/1280/2],\n",
    "                                 cell, cid, tol2, subid, pcoord, weights)\n",
    "    #print(i, found)\n",
    "plt.figure(figsize=(10,10))\n",
    "plt.imshow(out, origin='lower')\n",
    "plt.colorbar()\n",
    "#plt.figure(figsize=(10,10))\n",
    "#%matplotlib qt\n",
    "#print(out[:,18])\n",
    "#print(out[1:,18]- out[:-1,18])\n",
    "#plt.plot(out[:,18])\n",
    "#-312571 + 307972, -307972   +    0   +    0 + 303373"
   ]
  },
  {
   "cell_type": "code",
   "execution_count": null,
   "id": "9fcc0760",
   "metadata": {},
   "outputs": [],
   "source": [
    "hexahedron_emc3 = sgrid_emc3.get_cell(sgrid_emc3.find_cell([grid_emc3.cart_x[105,4,45], \n",
    "                                                            grid_emc3.cart_y[105,4,45], \n",
    "                                                            grid_emc3.cart_z[105,4,45]],\n",
    "                                                           cell, cid, tol2, subid, pcoord, weights))\n",
    "\n",
    "def main():\n",
    "    colors = vtk.vtkNamedColors()\n",
    "\n",
    "    # Set the background color.\n",
    "    colors.SetColor(\"BkgColor\", [51, 77, 102, 255])\n",
    "\n",
    "    # For the hexahedron setup the coordinates of eight points.\n",
    "    # The two faces must be in counter clockwise order as viewed from the\n",
    "    # outside.\n",
    "    pointCoordinates = hexahedron_emc3.points.to_array()\n",
    "    # Create the points.\n",
    "    points = vtk.vtkPoints()\n",
    "\n",
    "    # Create a hexahedron from the points.\n",
    "    hexahedron = vtk.vtkHexahedron()\n",
    "\n",
    "    for i in range(0, len(pointCoordinates)):\n",
    "        points.InsertNextPoint(pointCoordinates[i])\n",
    "        hexahedron.GetPointIds().SetId(i, i)\n",
    "\n",
    "    # Add the hexahedron to a cell array.\n",
    "    hexs = vtk.vtkCellArray()\n",
    "    hexs.InsertNextCell(hexahedron)\n",
    "\n",
    "    # Add the points and hexahedron to an unstructured grid.\n",
    "    uGrid = vtk.vtkUnstructuredGrid()\n",
    "    uGrid.SetPoints(points)\n",
    "    uGrid.InsertNextCell(hexahedron.GetCellType(), hexahedron.GetPointIds())\n",
    "\n",
    "    # Visualize.\n",
    "    mapper = vtk.vtkDataSetMapper()\n",
    "    mapper.SetInputData(uGrid)\n",
    "\n",
    "    actor = vtk.vtkActor()\n",
    "    actor.GetProperty().SetColor(colors.GetColor3d(\"PeachPuff\"))\n",
    "    actor.SetMapper(mapper)\n",
    "\n",
    "    renderer = vtk.vtkRenderer()\n",
    "    renderWindow = vtk.vtkRenderWindow()\n",
    "    renderWindow.SetWindowName(\"Hexahedron\")\n",
    "    renderWindow.AddRenderer(renderer)\n",
    "    renderWindowInteractor = vtk.vtkRenderWindowInteractor()\n",
    "    renderWindowInteractor.SetRenderWindow(renderWindow)\n",
    "\n",
    "    renderer.AddActor(actor)\n",
    "    renderer.SetBackground(colors.GetColor3d(\"BkgColor\"))\n",
    "    renderer.ResetCamera()\n",
    "    renderer.GetActiveCamera().Azimuth(30)\n",
    "    renderer.GetActiveCamera().Elevation(30)\n",
    "\n",
    "    renderWindow.Render()\n",
    "    renderWindowInteractor.Start()\n",
    "\n",
    "\n",
    "if __name__ == '__main__':\n",
    "    main()"
   ]
  },
  {
   "cell_type": "code",
   "execution_count": null,
   "id": "f168ebc8",
   "metadata": {},
   "outputs": [],
   "source": [
    "from matplotlib import pyplot as plt\n",
    "hexahedron_emc3 = sgrid_emc3.get_cell(307972)\n",
    "points3d = hexahedron_emc3.points.to_array()\n",
    "points3d.shape\n",
    "inv = points3d[::-1]\n",
    "mlab.clf()\n",
    "mlab.points3d(points3d[:,0], points3d[:,1], points3d[:,2], scale_factor=1.5e-3)\n",
    "mlab.axes()\n",
    "mlab.outline()"
   ]
  },
  {
   "cell_type": "code",
   "execution_count": null,
   "id": "50dda558",
   "metadata": {},
   "outputs": [],
   "source": [
    "unrav = np.unravel_index(307972, grid_emc3.tor_x.shape)\n",
    "unrav"
   ]
  },
  {
   "cell_type": "code",
   "execution_count": null,
   "id": "c04d7dfe",
   "metadata": {},
   "outputs": [],
   "source": [
    "import xemc3\n",
    "idx=65,4,80\n",
    "xyz = [grid_emc3.__dict__[\"cart_\"+d][idx] for d in \"xyz\"]\n",
    "x,y,z =xyz\n",
    "r = np.sqrt(x**2+y**2)\n",
    "phi = np.arctan2(y,x)\n",
    "ds[\"tmp\"] = ds.Te.copy()\n",
    "ds.tmp.data[...] = 0\n",
    "\n",
    "plt.figure(figsize=(20,20))\n",
    "ds.tmp.data[60,77] = 1\n",
    "ds.emc3.plot_Rz(\"tmp\", phi)\n",
    "plt.scatter(r, z)\n",
    "#ds.tmp.data.shape\n",
    "unrav"
   ]
  }
 ],
 "metadata": {
  "kernelspec": {
   "display_name": "Python 3",
   "language": "python",
   "name": "python3"
  },
  "language_info": {
   "codemirror_mode": {
    "name": "ipython",
    "version": 3
   },
   "file_extension": ".py",
   "mimetype": "text/x-python",
   "name": "python",
   "nbconvert_exporter": "python",
   "pygments_lexer": "ipython3",
   "version": "3.6.9"
  }
 },
 "nbformat": 4,
 "nbformat_minor": 5
}
