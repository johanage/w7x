{
 "cells": [
  {
   "cell_type": "code",
   "execution_count": 2,
   "id": "be859ecb",
   "metadata": {},
   "outputs": [
    {
     "data": {
      "text/plain": [
       "svmem(total=33731371008, available=31435005952, percent=6.8, used=1651060736, free=26113953792, active=3070865408, inactive=3899867136, buffers=0, cached=5966356480, shared=77312000, slab=226500608)"
      ]
     },
     "execution_count": 2,
     "metadata": {},
     "output_type": "execute_result"
    }
   ],
   "source": [
    "import numpy as np\n",
    "from matplotlib import pyplot as plt\n",
    "import psutil\n",
    "psutil.virtual_memory()"
   ]
  },
  {
   "cell_type": "code",
   "execution_count": 3,
   "id": "81e17200",
   "metadata": {},
   "outputs": [],
   "source": [
    "from synthdata_utils import grid_torus, scalar_field, noisy_scalar_field, toroidal_to_cart_coord\n",
    "from synthdata_utils import cart_to_toroidal_coord, onemode_scalar_field, noisy_onemode_scalar_field"
   ]
  },
  {
   "cell_type": "code",
   "execution_count": null,
   "id": "2544905f",
   "metadata": {
    "scrolled": true
   },
   "outputs": [],
   "source": [
    "\"\"\"\n",
    "Generating the synthetic data without noise\n",
    "\"\"\"\n",
    "gridsynth = grid_torus(ngrid_cart = 250, ngrid_tor = 250, R0 = 2)\n",
    "synthfield_tor = scalar_field(R = gridsynth.R, \n",
    "                              theta = gridsynth.theta, \n",
    "                              phi = gridsynth.phi)\n",
    "synthfield_tor_simple = onemode_scalar_field(R = gridsynth.R, \n",
    "                                             theta = gridsynth.theta, \n",
    "                                             phi = gridsynth.phi, \n",
    "                                             nmodes_phi = 3, nmodes_theta = 3)\n",
    "\n",
    "#do it on a cartesian example\n",
    "R1,theta1,phi1 = cart_to_toroidal_coord(x = gridsynth.cart_x, y = gridsynth.cart_y, z = gridsynth.cart_z)\n",
    "synthfield_cart = scalar_field(R = R1, theta = theta1, phi = phi1)\n",
    "synthfield_cart_simple = onemode_scalar_field(R = R1, theta = theta1, phi = phi1, \n",
    "                                              nmodes_phi = 3, nmodes_theta = 3)\n",
    "\n",
    "\"\"\"\n",
    "Generating the synthetic data with noise\n",
    "\"\"\"\n",
    "noisy_tor = []\n",
    "noisy_tor_simp = []\n",
    "noisy_cart = []\n",
    "noisy_cart_simp = []\n",
    "for t in range(20):\n",
    "    noisy_synthfield_tor = noisy_scalar_field(R = gridsynth.R,\n",
    "                                              theta = gridsynth.theta, \n",
    "                                              phi = gridsynth.phi)\n",
    "    noisy_tor.append(noisy_synthfield_tor)\n",
    "    noisy_synthfield_tor_simple = noisy_onemode_scalar_field(R = gridsynth.R, \n",
    "                                                             theta = gridsynth.theta, \n",
    "                                                             phi = gridsynth.phi, \n",
    "                                                             nmodes_phi = 3, nmodes_theta = 3)\n",
    "    noisy_tor_simp.append(noisy_synthfield_tor_simple)\n",
    "    noisy_synthfield_cart = noisy_scalar_field(R = R1, theta = theta1, phi = phi1)\n",
    "    noisy_cart.append(noisy_synthfield_cart)\n",
    "    noisy_synthfield_cart_simple = noisy_onemode_scalar_field(R = R1, theta = theta1, phi = phi1, \n",
    "                                                              nmodes_phi = 3, nmodes_theta = 3)\n",
    "    noisy_cart_simp.append(noisy_synthfield_cart_simple)"
   ]
  },
  {
   "cell_type": "code",
   "execution_count": null,
   "id": "880146d1",
   "metadata": {},
   "outputs": [],
   "source": [
    "from makemesh_indices import make_parammesh_vtk_indices, from_indices_to_paramvals\n",
    "from tvtk.api import tvtk\n",
    "dimgrid = list([x for x in gridsynth.tor_x.shape[::-1]])\n",
    "sgrid_synth = tvtk.StructuredGrid(dimensions=dimgrid)\n",
    "sgrid_synth.points = gridsynth.torflat\n",
    "sgrid_synth.point_data.scalars = synthfield_tor.ravel()\n",
    "sgrid_synth.point_data.scalars.name = \"pm_noisefree\""
   ]
  },
  {
   "cell_type": "code",
   "execution_count": null,
   "id": "694df1ce",
   "metadata": {},
   "outputs": [],
   "source": [
    "#%gui qt\n",
    "#from mayavi import mlab"
   ]
  },
  {
   "cell_type": "code",
   "execution_count": null,
   "id": "99c45405",
   "metadata": {},
   "outputs": [],
   "source": [
    "\"\"\"\n",
    "Plotting the actual values in the W7X grid with the electron temperature as a test.\n",
    "\"\"\"\n",
    "# clear the field\n",
    "#mlab.clf()\n",
    "##add the dataset to the pipeline, the principle is to add several object on top of each other\n",
    "#src = mlab.pipeline.add_dataset(sgrid_synth)\n",
    "## make a cut object to cut the 3D volum in slices in a user defined direction\n",
    "#cut = mlab.pipeline.scalar_cut_plane(src)\n",
    "## add the outline of the 3d domain\n",
    "#mlab.outline()\n",
    "## add axis to the plot\n",
    "#mlab.axes()"
   ]
  },
  {
   "cell_type": "code",
   "execution_count": null,
   "id": "43aecaad",
   "metadata": {},
   "outputs": [],
   "source": [
    "from ipywidgets import interact, widgets\n",
    "\n",
    "\"\"\"\"\n",
    "Comparing the interpolated region with what I should see.\n",
    "\"\"\"\n",
    "def plot_torfield(field, ip, grid = gridsynth):\n",
    "    fig = plt.figure(figsize=(10,10))\n",
    "    ax = fig.add_subplot()\n",
    "    clev = np.arange(field.min(),field.max(),.5)\n",
    "    c = ax.contourf(grid.cyl_R[:,:,ip], \n",
    "                    grid.cyl_z[:,:,ip], \n",
    "                    field[:,:,ip], \n",
    "                    clev)\n",
    "    fig.colorbar(c)\n",
    "\n",
    "def plot_toroidal(ip):\n",
    "    plot_torfield(field = synthfield_tor_simple, ip = ip)\n",
    "phislider = widgets.IntSlider(min = 0, max = gridsynth.tor_x.shape[2]-1, value = 0)\n",
    "interact(plot_toroidal, ip = phislider)"
   ]
  },
  {
   "cell_type": "code",
   "execution_count": null,
   "id": "503791c0",
   "metadata": {},
   "outputs": [],
   "source": [
    "def plot_fixedR(ir, ip):\n",
    "    plt.plot(synthfield_tor_simple[ir,:,ip])\n",
    "Rslider = widgets.IntSlider(min = 0, max = synthfield_tor_simple.shape[0]-1, value = 0)\n",
    "phislider = widgets.IntSlider(min = 0, max = synthfield_tor_simple.shape[2]-1, value = 0)\n",
    "interact(plot_fixedR, ir = Rslider, ip = phislider)"
   ]
  },
  {
   "cell_type": "code",
   "execution_count": null,
   "id": "d94c2d18",
   "metadata": {},
   "outputs": [],
   "source": [
    "def plot_toroidal(ip):\n",
    "    plot_torfield(field = synthfield_tor, ip = ip)\n",
    "phislider = widgets.IntSlider(min = 0, max = gridsynth.tor_x.shape[2]-1, value = 0)\n",
    "interact(plot_toroidal, ip = phislider)"
   ]
  },
  {
   "cell_type": "code",
   "execution_count": null,
   "id": "285cd952",
   "metadata": {},
   "outputs": [],
   "source": [
    "def plot_fixedR(ir, ip):\n",
    "    plt.plot(synthfield_tor[ir,:,ip])\n",
    "Rslider = widgets.IntSlider(min = 0, max = synthfield_tor.shape[0]-1, value = 0)\n",
    "phislider = widgets.IntSlider(min = 0, max = synthfield_tor.shape[2]-1, value = 0)\n",
    "interact(plot_fixedR, ir = Rslider, ip = phislider)"
   ]
  },
  {
   "cell_type": "code",
   "execution_count": null,
   "id": "22f85a9a",
   "metadata": {},
   "outputs": [],
   "source": [
    "fig_simple = plt.figure(figsize=(10,10))\n",
    "axs_simple = fig_simple.subplots(2, 2)\n",
    "im0 = axs_simple[0,0].imshow(synthfield_cart[:,synthfield_cart.shape[1]//2].T[::-1])\n",
    "im1 = axs_simple[0,1].imshow(synthfield_cart[:,:,synthfield_cart.shape[2]//2].T[::-1])\n",
    "im2 = axs_simple[1,0].imshow(synthfield_cart_simple[:,synthfield_cart_simple.shape[1]//2].T[::-1])\n",
    "im3 = axs_simple[1,1].imshow(synthfield_cart_simple[:,:,synthfield_cart.shape[2]//2].T[::-1])\n",
    "fig_simple.colorbar(im0, ax = axs_simple[0])\n",
    "fig_simple.colorbar(im2, ax = axs_simple[1])"
   ]
  },
  {
   "cell_type": "code",
   "execution_count": null,
   "id": "c0424c24",
   "metadata": {},
   "outputs": [],
   "source": [
    "fig_simple = plt.figure(figsize=(10,10))\n",
    "axs_simple = fig_simple.subplots(2, 2)\n",
    "im0 = axs_simple[0,0].imshow(noisy_synthfield_cart[:,noisy_synthfield_cart.shape[1]//2].T[::-1])\n",
    "im1 = axs_simple[0,1].imshow(noisy_synthfield_cart[:,:,noisy_synthfield_cart.shape[2]//2].T[::-1])\n",
    "im2 = axs_simple[1,0].imshow(noisy_synthfield_cart_simple[:,noisy_synthfield_cart_simple.shape[1]//2].T[::-1])\n",
    "im3 = axs_simple[1,1].imshow(noisy_synthfield_cart_simple[:,:,noisy_synthfield_cart_simple.shape[2]//2].T[::-1])\n",
    "fig_simple.colorbar(im0, ax = axs_simple[0])\n",
    "fig_simple.colorbar(im2, ax = axs_simple[1])"
   ]
  },
  {
   "cell_type": "code",
   "execution_count": null,
   "id": "38eb9070",
   "metadata": {
    "scrolled": true
   },
   "outputs": [],
   "source": [
    "idxsynth, weightsynth = make_parammesh_vtk_indices(grid_obj = gridsynth, sgrid = sgrid_synth, tolsqrd=5e-2)"
   ]
  },
  {
   "cell_type": "code",
   "execution_count": null,
   "id": "c923ab18",
   "metadata": {},
   "outputs": [],
   "source": [
    "with open('%s/synthdata3/idxs_'%cwd+'%i.npy'%(idxsynth.shape[0]), 'wb') as f:\n",
    "                np.save(f, idxsynth)\n",
    "f.close()\n",
    "with open('%s/synthdata3/weights_'%cwd+'%i.npy'%(idxsynth.shape[0]), 'wb') as f:\n",
    "                np.save(f, weightsynth)\n",
    "f.close()"
   ]
  },
  {
   "cell_type": "code",
   "execution_count": null,
   "id": "620789de",
   "metadata": {},
   "outputs": [],
   "source": [
    "idxsynth[13,55,45]\n",
    "print(idxsynth[0,0,0])"
   ]
  },
  {
   "cell_type": "code",
   "execution_count": null,
   "id": "dfb968a2",
   "metadata": {},
   "outputs": [],
   "source": [
    "pmesh_cart_synth = from_indices_to_paramvals(idxs = idxsynth, \n",
    "                                             weights = weightsynth, \n",
    "                                             param_torgrid = synthfield_tor)"
   ]
  },
  {
   "cell_type": "code",
   "execution_count": null,
   "id": "b9d4deb0",
   "metadata": {},
   "outputs": [],
   "source": [
    "pmesh_cart_synth_simple = from_indices_to_paramvals(idxs = idxsynth, \n",
    "                                                    weights = weightsynth,\n",
    "                                                    param_torgrid = synthfield_tor_simple)"
   ]
  },
  {
   "cell_type": "code",
   "execution_count": null,
   "id": "39787eaa",
   "metadata": {},
   "outputs": [],
   "source": [
    "simp_halfslice_y = pmesh_cart_synth_simple.shape[1]//2-1\n",
    "simp_halfslice_z = pmesh_cart_synth_simple.shape[2]//2-1\n",
    "\n",
    "print(simp_halfslice_y)\n",
    "\n",
    "fig_simple = plt.figure(figsize=(30,30))\n",
    "axs_simple = fig_simple.subplots(2, 2)\n",
    "im0 = axs_simple[0,0].imshow(pmesh_cart_synth_simple[:,simp_halfslice_y].T[::-1])\n",
    "im1 = axs_simple[0,1].imshow(pmesh_cart_synth_simple[:,:,simp_halfslice_z].T[::-1])\n",
    "im2 = axs_simple[1,0].imshow(pmesh_cart_synth[:,simp_halfslice_y].T[::-1])\n",
    "im3 = axs_simple[1,1].imshow(pmesh_cart_synth[:,:,simp_halfslice_z].T[::-1])\n",
    "fig_simple.colorbar(im0, ax = axs_simple[0])\n",
    "fig_simple.colorbar(im2, ax = axs_simple[1])"
   ]
  },
  {
   "cell_type": "code",
   "execution_count": null,
   "id": "0f6c7dd8",
   "metadata": {},
   "outputs": [],
   "source": [
    "def plot_fixedR(ix,iz):\n",
    "    plt.plot(pmesh_cart_synth_simple[ix,:,iz])\n",
    "xslider = widgets.IntSlider(min = 0, max = synthfield_tor.shape[0]-1, value = 0)\n",
    "zslider = widgets.IntSlider(min = 0, max = synthfield_tor.shape[2]-1, value = 0)\n",
    "interact(plot_fixedR, ix = xslider, iz = zslider)"
   ]
  },
  {
   "cell_type": "code",
   "execution_count": null,
   "id": "68525129",
   "metadata": {},
   "outputs": [],
   "source": [
    "pmesh_cart_synth_noisy = from_indices_to_paramvals(idxs = idxsynth,\n",
    "                                                   weights = weightsynth,\n",
    "                                                   param_torgrid = noisy_synthfield_tor)"
   ]
  },
  {
   "cell_type": "code",
   "execution_count": null,
   "id": "45e7b6ba",
   "metadata": {},
   "outputs": [],
   "source": [
    "pmesh_cart_synth_noisy_simple = from_indices_to_paramvals(idxs = idxsynth,\n",
    "                                                          weights = weightsynth,\n",
    "                                                          param_torgrid = noisy_synthfield_tor_simple)"
   ]
  },
  {
   "cell_type": "code",
   "execution_count": null,
   "id": "91f6cc6e",
   "metadata": {},
   "outputs": [],
   "source": [
    "halfslice_y = pmesh_cart_synth_noisy_simple.shape[1]//2\n",
    "halfslice_z = pmesh_cart_synth_noisy_simple.shape[2]//2\n",
    "\n",
    "fig_simple = plt.figure(figsize=(30,30))\n",
    "axs_simple = fig_simple.subplots(2, 2)\n",
    "im0 = axs_simple[0,0].imshow(pmesh_cart_synth_noisy_simple[:,halfslice_y].T[::-1])\n",
    "im1 = axs_simple[0,1].imshow(pmesh_cart_synth_noisy_simple[:,:,halfslice_z].T[::-1])\n",
    "im2 = axs_simple[1,0].imshow(pmesh_cart_synth_noisy[:,halfslice_y].T[::-1])\n",
    "im3 = axs_simple[1,1].imshow(pmesh_cart_synth_noisy[:,:,halfslice_z].T[::-1])\n",
    "fig_simple.colorbar(im0, ax = axs_simple[0])\n",
    "fig_simple.colorbar(im2, ax = axs_simple[1])"
   ]
  },
  {
   "cell_type": "code",
   "execution_count": null,
   "id": "9be6b444",
   "metadata": {},
   "outputs": [],
   "source": [
    "noise_interpol = pmesh_cart_synth_noisy - synthfield_cart\n",
    "plt.hist(noise_filter.ravel(), bins=100, density=True, label='Noise interpolation')\n",
    "truenoise = noisy_synthfield_tor - synthfield_tor\n",
    "plt.hist(truenoise.ravel(), bins=100, density=True, label='Noise true')\n",
    "plt.title(\"Noise\")\n",
    "plt.xlabel('Noise value')\n",
    "plt.ylabel('# samples')\n",
    "plt.legend()"
   ]
  },
  {
   "cell_type": "code",
   "execution_count": null,
   "id": "d9d82f12",
   "metadata": {},
   "outputs": [],
   "source": [
    "pmesh_cart_noisy = []\n",
    "pmesh_cart_noisy_simp = []\n",
    "for t in range(20):\n",
    "    pmesh_cart_synth_noisy = from_indices_to_paramvals(idxs = idxsynth,\n",
    "                                                   weights = weightsynth,\n",
    "                                                   param_torgrid = noisy_tor[t])\n",
    "    pmesh_cart_noisy.append(pmesh_cart_synth_noisy)\n",
    "    pmesh_cart_synth_noisy_simp = from_indices_to_paramvals(idxs = idxsynth,\n",
    "                                                   weights = weightsynth,\n",
    "                                                   param_torgrid = noisy_tor_simp[t])\n",
    "    pmesh_cart_noisy_simp.append(pmesh_cart_synth_noisy_simp)"
   ]
  },
  {
   "cell_type": "code",
   "execution_count": null,
   "id": "c7294bc1",
   "metadata": {},
   "outputs": [],
   "source": [
    "with open('%s/synthdata3/ts_pmesh_cart_noisy'%cwd+'%i.npy'%(idxsynth.shape[0]), 'wb') as f:\n",
    "                np.save(f, pmesh_cart_noisy)\n",
    "f.close()\n",
    "\n",
    "with open('%s/synthdata3/ts_pmesh_cart_noisy_simp'%cwd+'%i.npy'%(idxsynth.shape[0]), 'wb') as f:\n",
    "                np.save(f, pmesh_cart_noisy_simp)\n",
    "f.close()"
   ]
  },
  {
   "cell_type": "code",
   "execution_count": null,
   "id": "f6393944",
   "metadata": {},
   "outputs": [],
   "source": [
    "from skimage.restoration import denoise_wavelet, cycle_spin\n",
    "from skimage.metrics import peak_signal_noise_ratio\n",
    "import time\n",
    "psutil.virtual_memory()"
   ]
  },
  {
   "cell_type": "code",
   "execution_count": null,
   "id": "36a3444c",
   "metadata": {},
   "outputs": [],
   "source": [
    "def shiftinv_wavelet_denoising(tsdata, int_y = [0,pmesh_cart_noisy[0].shape[1]]):\n",
    "    \"\"\"\n",
    "    Args:\n",
    "     - tsdata, list of ndarray np.float64 (nt,)(nr,)(ix, iy, iz), list of times of list of regions of parameter mesh\n",
    "     - int_phi, list of int, defining the interval in phi direction\n",
    "    Out:\n",
    "    \"\"\"\n",
    "    tik = time.time()\n",
    "    denoised_t = []\n",
    "    for t in range(len(tsdata)):\n",
    "        img = tsdata[t].T[::-1,int_y[0]:int_y[1]].copy()\n",
    "        imgisnan = np.isnan(img)\n",
    "        img[imgisnan] = np.zeros(img[imgisnan].shape)\n",
    "        # multichannel = bool, do you have rgb/csv/hsv etc?, convert2ycbcr = bool, req multichannel = True\n",
    "        # denoise_kwargs = dict(multichannel=False, convert2ycbcr=False, wavelet='db1', rescale_sigma=True)\n",
    "        denoised = cycle_spin(img, func=denoise_wavelet, max_shifts=(4,4,4))#max_shifts=img.shape\n",
    "        del img\n",
    "        # set values that were nan before the denoising back to nan\n",
    "        denoised[imgisnan] = np.ones(denoised[imgisnan].shape)*np.nan\n",
    "        del imgisnan\n",
    "        denoised_t.append(denoised)\n",
    "        del denoised\n",
    "    tok = time.time()\n",
    "    return denoised_t, tok-tik"
   ]
  },
  {
   "cell_type": "code",
   "execution_count": null,
   "id": "901f2162",
   "metadata": {
    "scrolled": false
   },
   "outputs": [],
   "source": [
    "noisy_tor_filtered, runtime1 = shiftinv_wavelet_denoising(tsdata = pmesh_cart_noisy)"
   ]
  },
  {
   "cell_type": "code",
   "execution_count": null,
   "id": "38672e2c",
   "metadata": {},
   "outputs": [],
   "source": [
    "len(noisy_tor_filtered)\n",
    "noisy_tor_filtered[0].shape"
   ]
  },
  {
   "cell_type": "code",
   "execution_count": null,
   "id": "9a9d74eb",
   "metadata": {},
   "outputs": [],
   "source": [
    "halfslice_y = noisy_tor_filtered[0].shape[1]//2\n",
    "halfslice_z = noisy_tor_filtered[0].shape[2]//2\n",
    "\n",
    "fig_simple = plt.figure(figsize=(30,30))\n",
    "axs_simple = fig_simple.subplots(2, 2)\n",
    "im0 = axs_simple[0,0].imshow(noisy_tor_filtered[0][:,halfslice_y])\n",
    "im1 = axs_simple[0,1].imshow(noisy_tor_filtered[0][halfslice_z])\n",
    "im2 = axs_simple[1,0].imshow(noisy_tor_filtered[1][:,halfslice_y])\n",
    "im3 = axs_simple[1,1].imshow(noisy_tor_filtered[1][halfslice_z])\n",
    "fig_simple.colorbar(im0, ax = axs_simple[0])\n",
    "fig_simple.colorbar(im2, ax = axs_simple[1])"
   ]
  },
  {
   "cell_type": "code",
   "execution_count": null,
   "id": "24ffd037",
   "metadata": {},
   "outputs": [],
   "source": [
    "print(runtime1)\n",
    "noise_tor_mean = np.array(noisy_cart) - sum(noisy_cart)/len(noisy_cart)\n",
    "noise_tor_filter = np.array(noisy_cart) - np.array(noisy_tor_filtered)"
   ]
  },
  {
   "cell_type": "code",
   "execution_count": 4,
   "id": "29ae10b9",
   "metadata": {},
   "outputs": [],
   "source": [
    "import os\n",
    "cwd = os.getcwd()"
   ]
  },
  {
   "cell_type": "code",
   "execution_count": null,
   "id": "508dee95",
   "metadata": {},
   "outputs": [],
   "source": [
    "\"\"\"for i in range(20):\n",
    "    with open('%s/synthdata3/ts_'%cwd+'%i_denoised_filter_%i.npy'%(noise_tor_filter[0].shape[0], i), 'wb') as f_ts:\n",
    "                np.save(f_ts, noise_tor_filter[i])\n",
    "f_ts.close()\"\"\"\n",
    "\n",
    "for i in range(20):\n",
    "    with open('%s/synthdata3/ts_'%cwd+'%i_denoised_mean_%i.npy'%(noise_tor_filter[0].shape[0], i), 'wb') as f_ts:\n",
    "                np.save(f_ts, noise_tor_mean[i])\n",
    "f_ts.close()"
   ]
  },
  {
   "cell_type": "code",
   "execution_count": 5,
   "id": "b20fba1b",
   "metadata": {},
   "outputs": [],
   "source": [
    "noise_tor_filter = []\n",
    "for i in range(20):\n",
    "    with open('%s/synthdata3/ts_'%cwd+'%i_denoised_filter_%i.npy'%(250, i), 'rb') as f_ts:\n",
    "        temp_data = np.load(f_ts)\n",
    "        noise_tor_filter.append(temp_data)\n",
    "        del temp_data             \n",
    "f_ts.close()\n",
    "noise_tor_filter = np.array(noise_tor_filter)\n",
    "\n",
    "noise_tor_mean = []\n",
    "for i in range(20):\n",
    "    with open('%s/synthdata3/ts_'%cwd+'%i_denoised_mean_%i.npy'%(250, i), 'rb') as f_ts:\n",
    "        temp_data = np.load(f_ts)\n",
    "        noise_tor_mean.append(temp_data)\n",
    "        del temp_data             \n",
    "f_ts.close()\n",
    "noise_tor_mean = np.array(noise_tor_mean)"
   ]
  },
  {
   "cell_type": "code",
   "execution_count": 7,
   "id": "69d5e459",
   "metadata": {},
   "outputs": [
    {
     "data": {
      "text/plain": [
       "(312500000,)"
      ]
     },
     "execution_count": 7,
     "metadata": {},
     "output_type": "execute_result"
    }
   ],
   "source": [
    "noise_tor_mean.ravel().shape"
   ]
  },
  {
   "cell_type": "code",
   "execution_count": 8,
   "id": "ed0ff6ba",
   "metadata": {},
   "outputs": [
    {
     "data": {
      "text/plain": [
       "[<matplotlib.lines.Line2D at 0x7f0cd9d1efd0>]"
      ]
     },
     "execution_count": 8,
     "metadata": {},
     "output_type": "execute_result"
    },
    {
     "ename": "OverflowError",
     "evalue": "Exceeded cell block limit (set 'agg.path.chunksize' rcparam)",
     "output_type": "error",
     "traceback": [
      "\u001b[0;31m---------------------------------------------------------------------------\u001b[0m",
      "\u001b[0;31mOverflowError\u001b[0m                             Traceback (most recent call last)",
      "\u001b[0;32m~/.local/lib/python3.6/site-packages/matplotlib/backends/backend_agg.py\u001b[0m in \u001b[0;36mdraw_path\u001b[0;34m(self, gc, path, transform, rgbFace)\u001b[0m\n\u001b[1;32m    158\u001b[0m             \u001b[0;32mtry\u001b[0m\u001b[0;34m:\u001b[0m\u001b[0;34m\u001b[0m\u001b[0;34m\u001b[0m\u001b[0m\n\u001b[0;32m--> 159\u001b[0;31m                 \u001b[0mself\u001b[0m\u001b[0;34m.\u001b[0m\u001b[0m_renderer\u001b[0m\u001b[0;34m.\u001b[0m\u001b[0mdraw_path\u001b[0m\u001b[0;34m(\u001b[0m\u001b[0mgc\u001b[0m\u001b[0;34m,\u001b[0m \u001b[0mpath\u001b[0m\u001b[0;34m,\u001b[0m \u001b[0mtransform\u001b[0m\u001b[0;34m,\u001b[0m \u001b[0mrgbFace\u001b[0m\u001b[0;34m)\u001b[0m\u001b[0;34m\u001b[0m\u001b[0;34m\u001b[0m\u001b[0m\n\u001b[0m\u001b[1;32m    160\u001b[0m             \u001b[0;32mexcept\u001b[0m \u001b[0mOverflowError\u001b[0m \u001b[0;32mas\u001b[0m \u001b[0merr\u001b[0m\u001b[0;34m:\u001b[0m\u001b[0;34m\u001b[0m\u001b[0;34m\u001b[0m\u001b[0m\n",
      "\u001b[0;31mOverflowError\u001b[0m: In draw_path: Exceeded cell block limit",
      "\nThe above exception was the direct cause of the following exception:\n",
      "\u001b[0;31mOverflowError\u001b[0m                             Traceback (most recent call last)",
      "\u001b[0;32m~/.local/lib/python3.6/site-packages/IPython/core/formatters.py\u001b[0m in \u001b[0;36m__call__\u001b[0;34m(self, obj)\u001b[0m\n\u001b[1;32m    339\u001b[0m                 \u001b[0;32mpass\u001b[0m\u001b[0;34m\u001b[0m\u001b[0;34m\u001b[0m\u001b[0m\n\u001b[1;32m    340\u001b[0m             \u001b[0;32melse\u001b[0m\u001b[0;34m:\u001b[0m\u001b[0;34m\u001b[0m\u001b[0;34m\u001b[0m\u001b[0m\n\u001b[0;32m--> 341\u001b[0;31m                 \u001b[0;32mreturn\u001b[0m \u001b[0mprinter\u001b[0m\u001b[0;34m(\u001b[0m\u001b[0mobj\u001b[0m\u001b[0;34m)\u001b[0m\u001b[0;34m\u001b[0m\u001b[0;34m\u001b[0m\u001b[0m\n\u001b[0m\u001b[1;32m    342\u001b[0m             \u001b[0;31m# Finally look for special method names\u001b[0m\u001b[0;34m\u001b[0m\u001b[0;34m\u001b[0m\u001b[0;34m\u001b[0m\u001b[0m\n\u001b[1;32m    343\u001b[0m             \u001b[0mmethod\u001b[0m \u001b[0;34m=\u001b[0m \u001b[0mget_real_method\u001b[0m\u001b[0;34m(\u001b[0m\u001b[0mobj\u001b[0m\u001b[0;34m,\u001b[0m \u001b[0mself\u001b[0m\u001b[0;34m.\u001b[0m\u001b[0mprint_method\u001b[0m\u001b[0;34m)\u001b[0m\u001b[0;34m\u001b[0m\u001b[0;34m\u001b[0m\u001b[0m\n",
      "\u001b[0;32m~/.local/lib/python3.6/site-packages/IPython/core/pylabtools.py\u001b[0m in \u001b[0;36m<lambda>\u001b[0;34m(fig)\u001b[0m\n\u001b[1;32m    246\u001b[0m \u001b[0;34m\u001b[0m\u001b[0m\n\u001b[1;32m    247\u001b[0m     \u001b[0;32mif\u001b[0m \u001b[0;34m'png'\u001b[0m \u001b[0;32min\u001b[0m \u001b[0mformats\u001b[0m\u001b[0;34m:\u001b[0m\u001b[0;34m\u001b[0m\u001b[0;34m\u001b[0m\u001b[0m\n\u001b[0;32m--> 248\u001b[0;31m         \u001b[0mpng_formatter\u001b[0m\u001b[0;34m.\u001b[0m\u001b[0mfor_type\u001b[0m\u001b[0;34m(\u001b[0m\u001b[0mFigure\u001b[0m\u001b[0;34m,\u001b[0m \u001b[0;32mlambda\u001b[0m \u001b[0mfig\u001b[0m\u001b[0;34m:\u001b[0m \u001b[0mprint_figure\u001b[0m\u001b[0;34m(\u001b[0m\u001b[0mfig\u001b[0m\u001b[0;34m,\u001b[0m \u001b[0;34m'png'\u001b[0m\u001b[0;34m,\u001b[0m \u001b[0;34m**\u001b[0m\u001b[0mkwargs\u001b[0m\u001b[0;34m)\u001b[0m\u001b[0;34m)\u001b[0m\u001b[0;34m\u001b[0m\u001b[0;34m\u001b[0m\u001b[0m\n\u001b[0m\u001b[1;32m    249\u001b[0m     \u001b[0;32mif\u001b[0m \u001b[0;34m'retina'\u001b[0m \u001b[0;32min\u001b[0m \u001b[0mformats\u001b[0m \u001b[0;32mor\u001b[0m \u001b[0;34m'png2x'\u001b[0m \u001b[0;32min\u001b[0m \u001b[0mformats\u001b[0m\u001b[0;34m:\u001b[0m\u001b[0;34m\u001b[0m\u001b[0;34m\u001b[0m\u001b[0m\n\u001b[1;32m    250\u001b[0m         \u001b[0mpng_formatter\u001b[0m\u001b[0;34m.\u001b[0m\u001b[0mfor_type\u001b[0m\u001b[0;34m(\u001b[0m\u001b[0mFigure\u001b[0m\u001b[0;34m,\u001b[0m \u001b[0;32mlambda\u001b[0m \u001b[0mfig\u001b[0m\u001b[0;34m:\u001b[0m \u001b[0mretina_figure\u001b[0m\u001b[0;34m(\u001b[0m\u001b[0mfig\u001b[0m\u001b[0;34m,\u001b[0m \u001b[0;34m**\u001b[0m\u001b[0mkwargs\u001b[0m\u001b[0;34m)\u001b[0m\u001b[0;34m)\u001b[0m\u001b[0;34m\u001b[0m\u001b[0;34m\u001b[0m\u001b[0m\n",
      "\u001b[0;32m~/.local/lib/python3.6/site-packages/IPython/core/pylabtools.py\u001b[0m in \u001b[0;36mprint_figure\u001b[0;34m(fig, fmt, bbox_inches, **kwargs)\u001b[0m\n\u001b[1;32m    130\u001b[0m         \u001b[0mFigureCanvasBase\u001b[0m\u001b[0;34m(\u001b[0m\u001b[0mfig\u001b[0m\u001b[0;34m)\u001b[0m\u001b[0;34m\u001b[0m\u001b[0;34m\u001b[0m\u001b[0m\n\u001b[1;32m    131\u001b[0m \u001b[0;34m\u001b[0m\u001b[0m\n\u001b[0;32m--> 132\u001b[0;31m     \u001b[0mfig\u001b[0m\u001b[0;34m.\u001b[0m\u001b[0mcanvas\u001b[0m\u001b[0;34m.\u001b[0m\u001b[0mprint_figure\u001b[0m\u001b[0;34m(\u001b[0m\u001b[0mbytes_io\u001b[0m\u001b[0;34m,\u001b[0m \u001b[0;34m**\u001b[0m\u001b[0mkw\u001b[0m\u001b[0;34m)\u001b[0m\u001b[0;34m\u001b[0m\u001b[0;34m\u001b[0m\u001b[0m\n\u001b[0m\u001b[1;32m    133\u001b[0m     \u001b[0mdata\u001b[0m \u001b[0;34m=\u001b[0m \u001b[0mbytes_io\u001b[0m\u001b[0;34m.\u001b[0m\u001b[0mgetvalue\u001b[0m\u001b[0;34m(\u001b[0m\u001b[0;34m)\u001b[0m\u001b[0;34m\u001b[0m\u001b[0;34m\u001b[0m\u001b[0m\n\u001b[1;32m    134\u001b[0m     \u001b[0;32mif\u001b[0m \u001b[0mfmt\u001b[0m \u001b[0;34m==\u001b[0m \u001b[0;34m'svg'\u001b[0m\u001b[0;34m:\u001b[0m\u001b[0;34m\u001b[0m\u001b[0;34m\u001b[0m\u001b[0m\n",
      "\u001b[0;32m~/.local/lib/python3.6/site-packages/matplotlib/backend_bases.py\u001b[0m in \u001b[0;36mprint_figure\u001b[0;34m(self, filename, dpi, facecolor, edgecolor, orientation, format, bbox_inches, pad_inches, bbox_extra_artists, backend, **kwargs)\u001b[0m\n\u001b[1;32m   2215\u001b[0m                     \u001b[0morientation\u001b[0m\u001b[0;34m=\u001b[0m\u001b[0morientation\u001b[0m\u001b[0;34m,\u001b[0m\u001b[0;34m\u001b[0m\u001b[0;34m\u001b[0m\u001b[0m\n\u001b[1;32m   2216\u001b[0m                     \u001b[0mbbox_inches_restore\u001b[0m\u001b[0;34m=\u001b[0m\u001b[0m_bbox_inches_restore\u001b[0m\u001b[0;34m,\u001b[0m\u001b[0;34m\u001b[0m\u001b[0;34m\u001b[0m\u001b[0m\n\u001b[0;32m-> 2217\u001b[0;31m                     **kwargs)\n\u001b[0m\u001b[1;32m   2218\u001b[0m             \u001b[0;32mfinally\u001b[0m\u001b[0;34m:\u001b[0m\u001b[0;34m\u001b[0m\u001b[0;34m\u001b[0m\u001b[0m\n\u001b[1;32m   2219\u001b[0m                 \u001b[0;32mif\u001b[0m \u001b[0mbbox_inches\u001b[0m \u001b[0;32mand\u001b[0m \u001b[0mrestore_bbox\u001b[0m\u001b[0;34m:\u001b[0m\u001b[0;34m\u001b[0m\u001b[0;34m\u001b[0m\u001b[0m\n",
      "\u001b[0;32m~/.local/lib/python3.6/site-packages/matplotlib/backend_bases.py\u001b[0m in \u001b[0;36mwrapper\u001b[0;34m(*args, **kwargs)\u001b[0m\n\u001b[1;32m   1637\u001b[0m             \u001b[0mkwargs\u001b[0m\u001b[0;34m.\u001b[0m\u001b[0mpop\u001b[0m\u001b[0;34m(\u001b[0m\u001b[0marg\u001b[0m\u001b[0;34m)\u001b[0m\u001b[0;34m\u001b[0m\u001b[0;34m\u001b[0m\u001b[0m\n\u001b[1;32m   1638\u001b[0m \u001b[0;34m\u001b[0m\u001b[0m\n\u001b[0;32m-> 1639\u001b[0;31m         \u001b[0;32mreturn\u001b[0m \u001b[0mfunc\u001b[0m\u001b[0;34m(\u001b[0m\u001b[0;34m*\u001b[0m\u001b[0margs\u001b[0m\u001b[0;34m,\u001b[0m \u001b[0;34m**\u001b[0m\u001b[0mkwargs\u001b[0m\u001b[0;34m)\u001b[0m\u001b[0;34m\u001b[0m\u001b[0;34m\u001b[0m\u001b[0m\n\u001b[0m\u001b[1;32m   1640\u001b[0m \u001b[0;34m\u001b[0m\u001b[0m\n\u001b[1;32m   1641\u001b[0m     \u001b[0;32mreturn\u001b[0m \u001b[0mwrapper\u001b[0m\u001b[0;34m\u001b[0m\u001b[0;34m\u001b[0m\u001b[0m\n",
      "\u001b[0;32m~/.local/lib/python3.6/site-packages/matplotlib/backends/backend_agg.py\u001b[0m in \u001b[0;36mprint_png\u001b[0;34m(self, filename_or_obj, metadata, pil_kwargs, *args)\u001b[0m\n\u001b[1;32m    507\u001b[0m             \u001b[0;34m*\u001b[0m\u001b[0mmetadata\u001b[0m\u001b[0;34m*\u001b[0m\u001b[0;34m,\u001b[0m \u001b[0mincluding\u001b[0m \u001b[0mthe\u001b[0m \u001b[0mdefault\u001b[0m \u001b[0;34m'Software'\u001b[0m \u001b[0mkey\u001b[0m\u001b[0;34m.\u001b[0m\u001b[0;34m\u001b[0m\u001b[0;34m\u001b[0m\u001b[0m\n\u001b[1;32m    508\u001b[0m         \"\"\"\n\u001b[0;32m--> 509\u001b[0;31m         \u001b[0mFigureCanvasAgg\u001b[0m\u001b[0;34m.\u001b[0m\u001b[0mdraw\u001b[0m\u001b[0;34m(\u001b[0m\u001b[0mself\u001b[0m\u001b[0;34m)\u001b[0m\u001b[0;34m\u001b[0m\u001b[0;34m\u001b[0m\u001b[0m\n\u001b[0m\u001b[1;32m    510\u001b[0m         mpl.image.imsave(\n\u001b[1;32m    511\u001b[0m             \u001b[0mfilename_or_obj\u001b[0m\u001b[0;34m,\u001b[0m \u001b[0mself\u001b[0m\u001b[0;34m.\u001b[0m\u001b[0mbuffer_rgba\u001b[0m\u001b[0;34m(\u001b[0m\u001b[0;34m)\u001b[0m\u001b[0;34m,\u001b[0m \u001b[0mformat\u001b[0m\u001b[0;34m=\u001b[0m\u001b[0;34m\"png\"\u001b[0m\u001b[0;34m,\u001b[0m \u001b[0morigin\u001b[0m\u001b[0;34m=\u001b[0m\u001b[0;34m\"upper\"\u001b[0m\u001b[0;34m,\u001b[0m\u001b[0;34m\u001b[0m\u001b[0;34m\u001b[0m\u001b[0m\n",
      "\u001b[0;32m~/.local/lib/python3.6/site-packages/matplotlib/backends/backend_agg.py\u001b[0m in \u001b[0;36mdraw\u001b[0;34m(self)\u001b[0m\n\u001b[1;32m    405\u001b[0m              (self.toolbar._wait_cursor_for_draw_cm() if self.toolbar\n\u001b[1;32m    406\u001b[0m               else nullcontext()):\n\u001b[0;32m--> 407\u001b[0;31m             \u001b[0mself\u001b[0m\u001b[0;34m.\u001b[0m\u001b[0mfigure\u001b[0m\u001b[0;34m.\u001b[0m\u001b[0mdraw\u001b[0m\u001b[0;34m(\u001b[0m\u001b[0mself\u001b[0m\u001b[0;34m.\u001b[0m\u001b[0mrenderer\u001b[0m\u001b[0;34m)\u001b[0m\u001b[0;34m\u001b[0m\u001b[0;34m\u001b[0m\u001b[0m\n\u001b[0m\u001b[1;32m    408\u001b[0m             \u001b[0;31m# A GUI class may be need to update a window using this draw, so\u001b[0m\u001b[0;34m\u001b[0m\u001b[0;34m\u001b[0m\u001b[0;34m\u001b[0m\u001b[0m\n\u001b[1;32m    409\u001b[0m             \u001b[0;31m# don't forget to call the superclass.\u001b[0m\u001b[0;34m\u001b[0m\u001b[0;34m\u001b[0m\u001b[0;34m\u001b[0m\u001b[0m\n",
      "\u001b[0;32m~/.local/lib/python3.6/site-packages/matplotlib/artist.py\u001b[0m in \u001b[0;36mdraw_wrapper\u001b[0;34m(artist, renderer, *args, **kwargs)\u001b[0m\n\u001b[1;32m     39\u001b[0m                 \u001b[0mrenderer\u001b[0m\u001b[0;34m.\u001b[0m\u001b[0mstart_filter\u001b[0m\u001b[0;34m(\u001b[0m\u001b[0;34m)\u001b[0m\u001b[0;34m\u001b[0m\u001b[0;34m\u001b[0m\u001b[0m\n\u001b[1;32m     40\u001b[0m \u001b[0;34m\u001b[0m\u001b[0m\n\u001b[0;32m---> 41\u001b[0;31m             \u001b[0;32mreturn\u001b[0m \u001b[0mdraw\u001b[0m\u001b[0;34m(\u001b[0m\u001b[0martist\u001b[0m\u001b[0;34m,\u001b[0m \u001b[0mrenderer\u001b[0m\u001b[0;34m,\u001b[0m \u001b[0;34m*\u001b[0m\u001b[0margs\u001b[0m\u001b[0;34m,\u001b[0m \u001b[0;34m**\u001b[0m\u001b[0mkwargs\u001b[0m\u001b[0;34m)\u001b[0m\u001b[0;34m\u001b[0m\u001b[0;34m\u001b[0m\u001b[0m\n\u001b[0m\u001b[1;32m     42\u001b[0m         \u001b[0;32mfinally\u001b[0m\u001b[0;34m:\u001b[0m\u001b[0;34m\u001b[0m\u001b[0;34m\u001b[0m\u001b[0m\n\u001b[1;32m     43\u001b[0m             \u001b[0;32mif\u001b[0m \u001b[0martist\u001b[0m\u001b[0;34m.\u001b[0m\u001b[0mget_agg_filter\u001b[0m\u001b[0;34m(\u001b[0m\u001b[0;34m)\u001b[0m \u001b[0;32mis\u001b[0m \u001b[0;32mnot\u001b[0m \u001b[0;32mNone\u001b[0m\u001b[0;34m:\u001b[0m\u001b[0;34m\u001b[0m\u001b[0;34m\u001b[0m\u001b[0m\n",
      "\u001b[0;32m~/.local/lib/python3.6/site-packages/matplotlib/figure.py\u001b[0m in \u001b[0;36mdraw\u001b[0;34m(self, renderer)\u001b[0m\n\u001b[1;32m   1862\u001b[0m             \u001b[0mself\u001b[0m\u001b[0;34m.\u001b[0m\u001b[0mpatch\u001b[0m\u001b[0;34m.\u001b[0m\u001b[0mdraw\u001b[0m\u001b[0;34m(\u001b[0m\u001b[0mrenderer\u001b[0m\u001b[0;34m)\u001b[0m\u001b[0;34m\u001b[0m\u001b[0;34m\u001b[0m\u001b[0m\n\u001b[1;32m   1863\u001b[0m             mimage._draw_list_compositing_images(\n\u001b[0;32m-> 1864\u001b[0;31m                 renderer, self, artists, self.suppressComposite)\n\u001b[0m\u001b[1;32m   1865\u001b[0m \u001b[0;34m\u001b[0m\u001b[0m\n\u001b[1;32m   1866\u001b[0m             \u001b[0mrenderer\u001b[0m\u001b[0;34m.\u001b[0m\u001b[0mclose_group\u001b[0m\u001b[0;34m(\u001b[0m\u001b[0;34m'figure'\u001b[0m\u001b[0;34m)\u001b[0m\u001b[0;34m\u001b[0m\u001b[0;34m\u001b[0m\u001b[0m\n",
      "\u001b[0;32m~/.local/lib/python3.6/site-packages/matplotlib/image.py\u001b[0m in \u001b[0;36m_draw_list_compositing_images\u001b[0;34m(renderer, parent, artists, suppress_composite)\u001b[0m\n\u001b[1;32m    129\u001b[0m     \u001b[0;32mif\u001b[0m \u001b[0mnot_composite\u001b[0m \u001b[0;32mor\u001b[0m \u001b[0;32mnot\u001b[0m \u001b[0mhas_images\u001b[0m\u001b[0;34m:\u001b[0m\u001b[0;34m\u001b[0m\u001b[0;34m\u001b[0m\u001b[0m\n\u001b[1;32m    130\u001b[0m         \u001b[0;32mfor\u001b[0m \u001b[0ma\u001b[0m \u001b[0;32min\u001b[0m \u001b[0martists\u001b[0m\u001b[0;34m:\u001b[0m\u001b[0;34m\u001b[0m\u001b[0;34m\u001b[0m\u001b[0m\n\u001b[0;32m--> 131\u001b[0;31m             \u001b[0ma\u001b[0m\u001b[0;34m.\u001b[0m\u001b[0mdraw\u001b[0m\u001b[0;34m(\u001b[0m\u001b[0mrenderer\u001b[0m\u001b[0;34m)\u001b[0m\u001b[0;34m\u001b[0m\u001b[0;34m\u001b[0m\u001b[0m\n\u001b[0m\u001b[1;32m    132\u001b[0m     \u001b[0;32melse\u001b[0m\u001b[0;34m:\u001b[0m\u001b[0;34m\u001b[0m\u001b[0;34m\u001b[0m\u001b[0m\n\u001b[1;32m    133\u001b[0m         \u001b[0;31m# Composite any adjacent images together\u001b[0m\u001b[0;34m\u001b[0m\u001b[0;34m\u001b[0m\u001b[0;34m\u001b[0m\u001b[0m\n",
      "\u001b[0;32m~/.local/lib/python3.6/site-packages/matplotlib/artist.py\u001b[0m in \u001b[0;36mdraw_wrapper\u001b[0;34m(artist, renderer, *args, **kwargs)\u001b[0m\n\u001b[1;32m     39\u001b[0m                 \u001b[0mrenderer\u001b[0m\u001b[0;34m.\u001b[0m\u001b[0mstart_filter\u001b[0m\u001b[0;34m(\u001b[0m\u001b[0;34m)\u001b[0m\u001b[0;34m\u001b[0m\u001b[0;34m\u001b[0m\u001b[0m\n\u001b[1;32m     40\u001b[0m \u001b[0;34m\u001b[0m\u001b[0m\n\u001b[0;32m---> 41\u001b[0;31m             \u001b[0;32mreturn\u001b[0m \u001b[0mdraw\u001b[0m\u001b[0;34m(\u001b[0m\u001b[0martist\u001b[0m\u001b[0;34m,\u001b[0m \u001b[0mrenderer\u001b[0m\u001b[0;34m,\u001b[0m \u001b[0;34m*\u001b[0m\u001b[0margs\u001b[0m\u001b[0;34m,\u001b[0m \u001b[0;34m**\u001b[0m\u001b[0mkwargs\u001b[0m\u001b[0;34m)\u001b[0m\u001b[0;34m\u001b[0m\u001b[0;34m\u001b[0m\u001b[0m\n\u001b[0m\u001b[1;32m     42\u001b[0m         \u001b[0;32mfinally\u001b[0m\u001b[0;34m:\u001b[0m\u001b[0;34m\u001b[0m\u001b[0;34m\u001b[0m\u001b[0m\n\u001b[1;32m     43\u001b[0m             \u001b[0;32mif\u001b[0m \u001b[0martist\u001b[0m\u001b[0;34m.\u001b[0m\u001b[0mget_agg_filter\u001b[0m\u001b[0;34m(\u001b[0m\u001b[0;34m)\u001b[0m \u001b[0;32mis\u001b[0m \u001b[0;32mnot\u001b[0m \u001b[0;32mNone\u001b[0m\u001b[0;34m:\u001b[0m\u001b[0;34m\u001b[0m\u001b[0;34m\u001b[0m\u001b[0m\n",
      "\u001b[0;32m~/.local/lib/python3.6/site-packages/matplotlib/cbook/deprecation.py\u001b[0m in \u001b[0;36mwrapper\u001b[0;34m(*inner_args, **inner_kwargs)\u001b[0m\n\u001b[1;32m    409\u001b[0m                          \u001b[0;32melse\u001b[0m \u001b[0mdeprecation_addendum\u001b[0m\u001b[0;34m,\u001b[0m\u001b[0;34m\u001b[0m\u001b[0;34m\u001b[0m\u001b[0m\n\u001b[1;32m    410\u001b[0m                 **kwargs)\n\u001b[0;32m--> 411\u001b[0;31m         \u001b[0;32mreturn\u001b[0m \u001b[0mfunc\u001b[0m\u001b[0;34m(\u001b[0m\u001b[0;34m*\u001b[0m\u001b[0minner_args\u001b[0m\u001b[0;34m,\u001b[0m \u001b[0;34m**\u001b[0m\u001b[0minner_kwargs\u001b[0m\u001b[0;34m)\u001b[0m\u001b[0;34m\u001b[0m\u001b[0;34m\u001b[0m\u001b[0m\n\u001b[0m\u001b[1;32m    412\u001b[0m \u001b[0;34m\u001b[0m\u001b[0m\n\u001b[1;32m    413\u001b[0m     \u001b[0;32mreturn\u001b[0m \u001b[0mwrapper\u001b[0m\u001b[0;34m\u001b[0m\u001b[0;34m\u001b[0m\u001b[0m\n",
      "\u001b[0;32m~/.local/lib/python3.6/site-packages/matplotlib/axes/_base.py\u001b[0m in \u001b[0;36mdraw\u001b[0;34m(self, renderer, inframe)\u001b[0m\n\u001b[1;32m   2745\u001b[0m             \u001b[0mrenderer\u001b[0m\u001b[0;34m.\u001b[0m\u001b[0mstop_rasterizing\u001b[0m\u001b[0;34m(\u001b[0m\u001b[0;34m)\u001b[0m\u001b[0;34m\u001b[0m\u001b[0;34m\u001b[0m\u001b[0m\n\u001b[1;32m   2746\u001b[0m \u001b[0;34m\u001b[0m\u001b[0m\n\u001b[0;32m-> 2747\u001b[0;31m         \u001b[0mmimage\u001b[0m\u001b[0;34m.\u001b[0m\u001b[0m_draw_list_compositing_images\u001b[0m\u001b[0;34m(\u001b[0m\u001b[0mrenderer\u001b[0m\u001b[0;34m,\u001b[0m \u001b[0mself\u001b[0m\u001b[0;34m,\u001b[0m \u001b[0martists\u001b[0m\u001b[0;34m)\u001b[0m\u001b[0;34m\u001b[0m\u001b[0;34m\u001b[0m\u001b[0m\n\u001b[0m\u001b[1;32m   2748\u001b[0m \u001b[0;34m\u001b[0m\u001b[0m\n\u001b[1;32m   2749\u001b[0m         \u001b[0mrenderer\u001b[0m\u001b[0;34m.\u001b[0m\u001b[0mclose_group\u001b[0m\u001b[0;34m(\u001b[0m\u001b[0;34m'axes'\u001b[0m\u001b[0;34m)\u001b[0m\u001b[0;34m\u001b[0m\u001b[0;34m\u001b[0m\u001b[0m\n",
      "\u001b[0;32m~/.local/lib/python3.6/site-packages/matplotlib/image.py\u001b[0m in \u001b[0;36m_draw_list_compositing_images\u001b[0;34m(renderer, parent, artists, suppress_composite)\u001b[0m\n\u001b[1;32m    129\u001b[0m     \u001b[0;32mif\u001b[0m \u001b[0mnot_composite\u001b[0m \u001b[0;32mor\u001b[0m \u001b[0;32mnot\u001b[0m \u001b[0mhas_images\u001b[0m\u001b[0;34m:\u001b[0m\u001b[0;34m\u001b[0m\u001b[0;34m\u001b[0m\u001b[0m\n\u001b[1;32m    130\u001b[0m         \u001b[0;32mfor\u001b[0m \u001b[0ma\u001b[0m \u001b[0;32min\u001b[0m \u001b[0martists\u001b[0m\u001b[0;34m:\u001b[0m\u001b[0;34m\u001b[0m\u001b[0;34m\u001b[0m\u001b[0m\n\u001b[0;32m--> 131\u001b[0;31m             \u001b[0ma\u001b[0m\u001b[0;34m.\u001b[0m\u001b[0mdraw\u001b[0m\u001b[0;34m(\u001b[0m\u001b[0mrenderer\u001b[0m\u001b[0;34m)\u001b[0m\u001b[0;34m\u001b[0m\u001b[0;34m\u001b[0m\u001b[0m\n\u001b[0m\u001b[1;32m    132\u001b[0m     \u001b[0;32melse\u001b[0m\u001b[0;34m:\u001b[0m\u001b[0;34m\u001b[0m\u001b[0;34m\u001b[0m\u001b[0m\n\u001b[1;32m    133\u001b[0m         \u001b[0;31m# Composite any adjacent images together\u001b[0m\u001b[0;34m\u001b[0m\u001b[0;34m\u001b[0m\u001b[0;34m\u001b[0m\u001b[0m\n",
      "\u001b[0;32m~/.local/lib/python3.6/site-packages/matplotlib/artist.py\u001b[0m in \u001b[0;36mdraw_wrapper\u001b[0;34m(artist, renderer, *args, **kwargs)\u001b[0m\n\u001b[1;32m     39\u001b[0m                 \u001b[0mrenderer\u001b[0m\u001b[0;34m.\u001b[0m\u001b[0mstart_filter\u001b[0m\u001b[0;34m(\u001b[0m\u001b[0;34m)\u001b[0m\u001b[0;34m\u001b[0m\u001b[0;34m\u001b[0m\u001b[0m\n\u001b[1;32m     40\u001b[0m \u001b[0;34m\u001b[0m\u001b[0m\n\u001b[0;32m---> 41\u001b[0;31m             \u001b[0;32mreturn\u001b[0m \u001b[0mdraw\u001b[0m\u001b[0;34m(\u001b[0m\u001b[0martist\u001b[0m\u001b[0;34m,\u001b[0m \u001b[0mrenderer\u001b[0m\u001b[0;34m,\u001b[0m \u001b[0;34m*\u001b[0m\u001b[0margs\u001b[0m\u001b[0;34m,\u001b[0m \u001b[0;34m**\u001b[0m\u001b[0mkwargs\u001b[0m\u001b[0;34m)\u001b[0m\u001b[0;34m\u001b[0m\u001b[0;34m\u001b[0m\u001b[0m\n\u001b[0m\u001b[1;32m     42\u001b[0m         \u001b[0;32mfinally\u001b[0m\u001b[0;34m:\u001b[0m\u001b[0;34m\u001b[0m\u001b[0;34m\u001b[0m\u001b[0m\n\u001b[1;32m     43\u001b[0m             \u001b[0;32mif\u001b[0m \u001b[0martist\u001b[0m\u001b[0;34m.\u001b[0m\u001b[0mget_agg_filter\u001b[0m\u001b[0;34m(\u001b[0m\u001b[0;34m)\u001b[0m \u001b[0;32mis\u001b[0m \u001b[0;32mnot\u001b[0m \u001b[0;32mNone\u001b[0m\u001b[0;34m:\u001b[0m\u001b[0;34m\u001b[0m\u001b[0;34m\u001b[0m\u001b[0m\n",
      "\u001b[0;32m~/.local/lib/python3.6/site-packages/matplotlib/lines.py\u001b[0m in \u001b[0;36mdraw\u001b[0;34m(self, renderer)\u001b[0m\n\u001b[1;32m    784\u001b[0m \u001b[0;34m\u001b[0m\u001b[0m\n\u001b[1;32m    785\u001b[0m                 \u001b[0mgc\u001b[0m\u001b[0;34m.\u001b[0m\u001b[0mset_dashes\u001b[0m\u001b[0;34m(\u001b[0m\u001b[0mself\u001b[0m\u001b[0;34m.\u001b[0m\u001b[0m_dashOffset\u001b[0m\u001b[0;34m,\u001b[0m \u001b[0mself\u001b[0m\u001b[0;34m.\u001b[0m\u001b[0m_dashSeq\u001b[0m\u001b[0;34m)\u001b[0m\u001b[0;34m\u001b[0m\u001b[0;34m\u001b[0m\u001b[0m\n\u001b[0;32m--> 786\u001b[0;31m                 \u001b[0mrenderer\u001b[0m\u001b[0;34m.\u001b[0m\u001b[0mdraw_path\u001b[0m\u001b[0;34m(\u001b[0m\u001b[0mgc\u001b[0m\u001b[0;34m,\u001b[0m \u001b[0mtpath\u001b[0m\u001b[0;34m,\u001b[0m \u001b[0maffine\u001b[0m\u001b[0;34m.\u001b[0m\u001b[0mfrozen\u001b[0m\u001b[0;34m(\u001b[0m\u001b[0;34m)\u001b[0m\u001b[0;34m)\u001b[0m\u001b[0;34m\u001b[0m\u001b[0;34m\u001b[0m\u001b[0m\n\u001b[0m\u001b[1;32m    787\u001b[0m                 \u001b[0mgc\u001b[0m\u001b[0;34m.\u001b[0m\u001b[0mrestore\u001b[0m\u001b[0;34m(\u001b[0m\u001b[0;34m)\u001b[0m\u001b[0;34m\u001b[0m\u001b[0;34m\u001b[0m\u001b[0m\n\u001b[1;32m    788\u001b[0m \u001b[0;34m\u001b[0m\u001b[0m\n",
      "\u001b[0;32m~/.local/lib/python3.6/site-packages/matplotlib/backends/backend_agg.py\u001b[0m in \u001b[0;36mdraw_path\u001b[0;34m(self, gc, path, transform, rgbFace)\u001b[0m\n\u001b[1;32m    160\u001b[0m             \u001b[0;32mexcept\u001b[0m \u001b[0mOverflowError\u001b[0m \u001b[0;32mas\u001b[0m \u001b[0merr\u001b[0m\u001b[0;34m:\u001b[0m\u001b[0;34m\u001b[0m\u001b[0;34m\u001b[0m\u001b[0m\n\u001b[1;32m    161\u001b[0m                 raise OverflowError(\"Exceeded cell block limit (set \"\n\u001b[0;32m--> 162\u001b[0;31m                                     \"'agg.path.chunksize' rcparam)\") from err\n\u001b[0m\u001b[1;32m    163\u001b[0m \u001b[0;34m\u001b[0m\u001b[0m\n\u001b[1;32m    164\u001b[0m     def draw_path_collection(self, gc, master_transform, paths, all_transforms,\n",
      "\u001b[0;31mOverflowError\u001b[0m: Exceeded cell block limit (set 'agg.path.chunksize' rcparam)"
     ]
    },
    {
     "data": {
      "text/plain": [
       "<Figure size 432x288 with 1 Axes>"
      ]
     },
     "metadata": {
      "needs_background": "light"
     },
     "output_type": "display_data"
    }
   ],
   "source": [
    "import matplotlib as mpl\n",
    "mpl.rcParams['agg.path.chunksize'] = 500000000\n",
    "\n",
    "plt.plot(noise_tor_mean.ravel(), noise_tor_filter.ravel())"
   ]
  }
 ],
 "metadata": {
  "kernelspec": {
   "display_name": "Python 3",
   "language": "python",
   "name": "python3"
  },
  "language_info": {
   "codemirror_mode": {
    "name": "ipython",
    "version": 3
   },
   "file_extension": ".py",
   "mimetype": "text/x-python",
   "name": "python",
   "nbconvert_exporter": "python",
   "pygments_lexer": "ipython3",
   "version": "3.6.9"
  }
 },
 "nbformat": 4,
 "nbformat_minor": 5
}
