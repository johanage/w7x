{
 "cells": [
  {
   "cell_type": "code",
   "execution_count": 1,
   "id": "29ae10b9",
   "metadata": {},
   "outputs": [],
   "source": [
    "import os\n",
    "cwd = os.getcwd()"
   ]
  },
  {
   "cell_type": "code",
   "execution_count": 2,
   "id": "be859ecb",
   "metadata": {},
   "outputs": [
    {
     "data": {
      "text/plain": [
       "svmem(total=33731371008, available=31085350912, percent=7.8, used=2036252672, free=31189164032, active=1625448448, inactive=405811200, buffers=0, cached=505954304, shared=83869696, slab=126373888)"
      ]
     },
     "execution_count": 2,
     "metadata": {},
     "output_type": "execute_result"
    }
   ],
   "source": [
    "import numpy as np\n",
    "from matplotlib import pyplot as plt\n",
    "import psutil\n",
    "psutil.virtual_memory()"
   ]
  },
  {
   "cell_type": "code",
   "execution_count": 3,
   "id": "81e17200",
   "metadata": {},
   "outputs": [],
   "source": [
    "from synthdata_utils import grid_torus, scalar_field, noisy_scalar_field, toroidal_to_cart_coord\n",
    "from synthdata_utils import cart_to_toroidal_coord, onemode_scalar_field, noisy_onemode_scalar_field"
   ]
  },
  {
   "cell_type": "code",
   "execution_count": 4,
   "id": "2544905f",
   "metadata": {
    "scrolled": true
   },
   "outputs": [],
   "source": [
    "\"\"\"\n",
    "Generating the synthetic data without noise\n",
    "\"\"\"\n",
    "gridsynth = grid_torus(ngrid_cart = 250, ngrid_tor = 250, R0 = 2)\n",
    "synthfield_tor = scalar_field(R = gridsynth.R, \n",
    "                              theta = gridsynth.theta, \n",
    "                              phi = gridsynth.phi)\n",
    "synthfield_tor_simple = onemode_scalar_field(R = gridsynth.R, \n",
    "                                             theta = gridsynth.theta, \n",
    "                                             \n",
    "                                             phi = gridsynth.phi, \n",
    "                                             nmodes_phi = 3, nmodes_theta = 3)\n",
    "\n",
    "#do it on a cartesian example\n",
    "R1,theta1,phi1 = cart_to_toroidal_coord(x = gridsynth.cart_x, y = gridsynth.cart_y, z = gridsynth.cart_z)\n",
    "synthfield_cart = scalar_field(R = R1, theta = theta1, phi = phi1)\n",
    "synthfield_cart_simple = onemode_scalar_field(R = R1, theta = theta1, phi = phi1, \n",
    "                                              nmodes_phi = 3, nmodes_theta = 3)"
   ]
  },
  {
   "cell_type": "code",
   "execution_count": null,
   "id": "4170be5a",
   "metadata": {},
   "outputs": [],
   "source": [
    "plt.imshow(synthfield_cart.T[::-1][:,124])"
   ]
  },
  {
   "cell_type": "code",
   "execution_count": null,
   "id": "334d1596",
   "metadata": {},
   "outputs": [],
   "source": [
    "with open('%s/synthdata3/truefield_cart_'%cwd+'%i.npy'%(250), 'wb') as f:\n",
    "    np.save(f, synthfield_cart)\n",
    "f.close()\n",
    "\n",
    "with open('%s/synthdata3/truefield_cart_simple_'%cwd+'%i.npy'%(250), 'wb') as f:\n",
    "    np.save(f, synthfield_cart_simple)\n",
    "f.close()"
   ]
  },
  {
   "cell_type": "code",
   "execution_count": null,
   "id": "e648c551",
   "metadata": {},
   "outputs": [],
   "source": [
    "\"\"\"\n",
    "Generating the synthetic data with noise, the point is to get something similar to the emc3 simulation,\n",
    "where you have different noise for each iteration.\n",
    "\"\"\"\n",
    "noisy_tor = []\n",
    "noisy_tor_simp = []\n",
    "noisy_cart = []\n",
    "noisy_cart_simp = []\n",
    "for t in range(20):\n",
    "    noisy_synthfield_tor = noisy_scalar_field(R = gridsynth.R,\n",
    "                                              theta = gridsynth.theta, \n",
    "                                              phi = gridsynth.phi)\n",
    "    noisy_tor.append(noisy_synthfield_tor)\n",
    "    noisy_synthfield_tor_simple = noisy_onemode_scalar_field(R = gridsynth.R, \n",
    "                                                             theta = gridsynth.theta, \n",
    "                                                             phi = gridsynth.phi, \n",
    "                                                             nmodes_phi = 3, nmodes_theta = 3)\n",
    "    noisy_tor_simp.append(noisy_synthfield_tor_simple)\n",
    "    noisy_synthfield_cart = noisy_scalar_field(R = R1, theta = theta1, phi = phi1)\n",
    "    noisy_cart.append(noisy_synthfield_cart)\n",
    "    noisy_synthfield_cart_simple = noisy_onemode_scalar_field(R = R1, theta = theta1, phi = phi1, \n",
    "                                                              nmodes_phi = 3, nmodes_theta = 3)\n",
    "    noisy_cart_simp.append(noisy_synthfield_cart_simple)"
   ]
  },
  {
   "cell_type": "code",
   "execution_count": null,
   "id": "768e5911",
   "metadata": {},
   "outputs": [],
   "source": [
    "folder = 'Analytical_solution_cart'\n",
    "\"\"\"\n",
    "with open('%s/synthdata3/'%cwd+folder+'/ts_noisy_tor_'+'%i.npy'%(250), 'wb') as f:\n",
    "    np.save(f, noisy_tor)\n",
    "f.close()\n",
    "\n",
    "with open('%s/synthdata3/'%cwd+folder+'/ts_noisy_tor_simp_'+'%i.npy'%(250), 'wb') as f:\n",
    "    np.save(f, noisy_tor_simp)\n",
    "f.close()\n",
    "\n",
    "with open('%s/synthdata3/'%cwd+folder+'/ts_cart_'+'%i.npy'%(250), 'wb') as f:\n",
    "    np.save(f, noisy_cart)\n",
    "f.close()\n",
    "\n",
    "with open('%s/synthdata3/'%cwd+folder+'/ts_cart_simp_'+'%i.npy'%(250), 'wb') as f:\n",
    "    np.save(f, noisy_cart_simp)\n",
    "f.close()\"\"\""
   ]
  },
  {
   "cell_type": "code",
   "execution_count": 5,
   "id": "df14fc5a",
   "metadata": {},
   "outputs": [
    {
     "ename": "NameError",
     "evalue": "name 'folder' is not defined",
     "output_type": "error",
     "traceback": [
      "\u001b[0;31m---------------------------------------------------------------------------\u001b[0m",
      "\u001b[0;31mNameError\u001b[0m                                 Traceback (most recent call last)",
      "\u001b[0;32m<ipython-input-5-765ec1dce397>\u001b[0m in \u001b[0;36m<module>\u001b[0;34m\u001b[0m\n\u001b[1;32m     11\u001b[0m f.close()\"\"\"\n\u001b[1;32m     12\u001b[0m \u001b[0;34m\u001b[0m\u001b[0m\n\u001b[0;32m---> 13\u001b[0;31m \u001b[0;32mwith\u001b[0m \u001b[0mopen\u001b[0m\u001b[0;34m(\u001b[0m\u001b[0;34m'%s/synthdata3/'\u001b[0m\u001b[0;34m%\u001b[0m\u001b[0mcwd\u001b[0m\u001b[0;34m+\u001b[0m\u001b[0mfolder\u001b[0m\u001b[0;34m+\u001b[0m\u001b[0;34m'/ts_cart_simp_'\u001b[0m\u001b[0;34m+\u001b[0m\u001b[0;34m'%i.npy'\u001b[0m\u001b[0;34m%\u001b[0m\u001b[0;34m(\u001b[0m\u001b[0;36m250\u001b[0m\u001b[0;34m)\u001b[0m\u001b[0;34m,\u001b[0m \u001b[0;34m'rb'\u001b[0m\u001b[0;34m)\u001b[0m \u001b[0;32mas\u001b[0m \u001b[0mf\u001b[0m\u001b[0;34m:\u001b[0m\u001b[0;34m\u001b[0m\u001b[0;34m\u001b[0m\u001b[0m\n\u001b[0m\u001b[1;32m     14\u001b[0m     \u001b[0mnoisy_cart_simp\u001b[0m \u001b[0;34m=\u001b[0m \u001b[0mnp\u001b[0m\u001b[0;34m.\u001b[0m\u001b[0mload\u001b[0m\u001b[0;34m(\u001b[0m\u001b[0mf\u001b[0m\u001b[0;34m)\u001b[0m\u001b[0;34m\u001b[0m\u001b[0;34m\u001b[0m\u001b[0m\n\u001b[1;32m     15\u001b[0m \u001b[0mf\u001b[0m\u001b[0;34m.\u001b[0m\u001b[0mclose\u001b[0m\u001b[0;34m(\u001b[0m\u001b[0;34m)\u001b[0m\u001b[0;34m\u001b[0m\u001b[0;34m\u001b[0m\u001b[0m\n",
      "\u001b[0;31mNameError\u001b[0m: name 'folder' is not defined"
     ]
    }
   ],
   "source": [
    "\"\"\"with open('%s/synthdata3/'%cwd+folder+'/ts_noisy_tor_'+'%i.npy'%(250), 'rb') as f:\n",
    "    noisy_tor = np.load(f)\n",
    "f.close()\n",
    "\n",
    "with open('%s/synthdata3/'%cwd+folder+'/ts_noisy_tor_simp_'+'%i.npy'%(250), 'rb') as f:\n",
    "    noisy_tor_simp = np.load(f)\n",
    "f.close()\"\"\"\n",
    "\n",
    "\"\"\"with open('%s/synthdata3/'%cwd+folder+'/ts_cart_'+'%i.npy'%(250), 'rb') as f:\n",
    "    noisy_cart = np.load(f)\n",
    "f.close()\"\"\"\n",
    "\n",
    "with open('%s/synthdata3/'%cwd+folder+'/ts_cart_simp_'+'%i.npy'%(250), 'rb') as f:\n",
    "    noisy_cart_simp = np.load(f)\n",
    "f.close()"
   ]
  },
  {
   "cell_type": "code",
   "execution_count": null,
   "id": "880146d1",
   "metadata": {},
   "outputs": [],
   "source": [
    "from makemesh_indices import make_parammesh_vtk_indices, from_indices_to_paramvals\n",
    "from tvtk.api import tvtk\n",
    "dimgrid = list([x for x in gridsynth.tor_x.shape[::-1]])\n",
    "sgrid_synth = tvtk.StructuredGrid(dimensions=dimgrid)\n",
    "sgrid_synth.points = gridsynth.torflat\n",
    "sgrid_synth.point_data.scalars = synthfield_tor.ravel()\n",
    "sgrid_synth.point_data.scalars.name = \"pm_noisefree\""
   ]
  },
  {
   "cell_type": "code",
   "execution_count": null,
   "id": "97b16a7c",
   "metadata": {},
   "outputs": [],
   "source": [
    "dimgrid"
   ]
  },
  {
   "cell_type": "code",
   "execution_count": null,
   "id": "694df1ce",
   "metadata": {},
   "outputs": [],
   "source": [
    "%gui qt\n",
    "from mayavi import mlab"
   ]
  },
  {
   "cell_type": "code",
   "execution_count": null,
   "id": "99c45405",
   "metadata": {},
   "outputs": [],
   "source": [
    "\"\"\"\n",
    "Plotting the actual values in the W7X grid with the electron temperature as a test.\n",
    "\"\"\"\n",
    "# clear the field\n",
    "mlab.clf()\n",
    "#add the dataset to the pipeline, the principle is to add several object on top of each other\n",
    "src = mlab.pipeline.add_dataset(sgrid_synth)\n",
    "# make a cut object to cut the 3D volum in slices in a user defined direction\n",
    "cut = mlab.pipeline.scalar_cut_plane(src)\n",
    "# add the outline of the 3d domain\n",
    "mlab.outline()\n",
    "# add axis to the plot\n",
    "mlab.axes()"
   ]
  },
  {
   "cell_type": "code",
   "execution_count": null,
   "id": "43aecaad",
   "metadata": {},
   "outputs": [],
   "source": [
    "from ipywidgets import interact, widgets\n",
    "\n",
    "\"\"\"\"\n",
    "Comparing the interpolated region with what I should see.\n",
    "\"\"\"\n",
    "def plot_torfield(field, ip, grid = gridsynth):\n",
    "    fig = plt.figure(figsize=(10,10))\n",
    "    ax = fig.add_subplot()\n",
    "    clev = np.arange(field.min(),field.max(),.5)\n",
    "    c = ax.contourf(grid.cyl_R[:,:,ip], \n",
    "                    grid.cyl_z[:,:,ip], \n",
    "                    field[:,:,ip], \n",
    "                    clev)\n",
    "    fig.colorbar(c)\n",
    "\n",
    "def plot_toroidal(ip):\n",
    "    plot_torfield(field = synthfield_tor_simple, ip = ip)\n",
    "phislider = widgets.IntSlider(min = 0, max = gridsynth.tor_x.shape[2]-1, value = 0)\n",
    "interact(plot_toroidal, ip = phislider)"
   ]
  },
  {
   "cell_type": "code",
   "execution_count": null,
   "id": "503791c0",
   "metadata": {},
   "outputs": [],
   "source": [
    "def plot_fixedR(ir, ip):\n",
    "    plt.plot(synthfield_tor_simple[ir,:,ip])\n",
    "Rslider = widgets.IntSlider(min = 0, max = synthfield_tor_simple.shape[0]-1, value = 0)\n",
    "phislider = widgets.IntSlider(min = 0, max = synthfield_tor_simple.shape[2]-1, value = 0)\n",
    "interact(plot_fixedR, ir = Rslider, ip = phislider)"
   ]
  },
  {
   "cell_type": "code",
   "execution_count": null,
   "id": "d94c2d18",
   "metadata": {},
   "outputs": [],
   "source": [
    "def plot_toroidal(ip):\n",
    "    plot_torfield(field = synthfield_tor, ip = ip)\n",
    "phislider = widgets.IntSlider(min = 0, max = gridsynth.tor_x.shape[2]-1, value = 0)\n",
    "interact(plot_toroidal, ip = phislider)"
   ]
  },
  {
   "cell_type": "code",
   "execution_count": null,
   "id": "285cd952",
   "metadata": {},
   "outputs": [],
   "source": [
    "def plot_fixedR(ir, ip):\n",
    "    plt.plot(synthfield_tor[ir,:,ip])\n",
    "Rslider = widgets.IntSlider(min = 0, max = synthfield_tor.shape[0]-1, value = 0)\n",
    "phislider = widgets.IntSlider(min = 0, max = synthfield_tor.shape[2]-1, value = 0)\n",
    "interact(plot_fixedR, ir = Rslider, ip = phislider)"
   ]
  },
  {
   "cell_type": "code",
   "execution_count": null,
   "id": "22f85a9a",
   "metadata": {},
   "outputs": [],
   "source": [
    "fig_simple = plt.figure(figsize=(10,10))\n",
    "axs_simple = fig_simple.subplots(2, 2)\n",
    "im0 = axs_simple[0,0].imshow(synthfield_cart[:,synthfield_cart.shape[1]//2].T[::-1])\n",
    "im1 = axs_simple[0,1].imshow(synthfield_cart[:,:,synthfield_cart.shape[2]//2].T[::-1])\n",
    "im2 = axs_simple[1,0].imshow(synthfield_cart_simple[:,synthfield_cart_simple.shape[1]//2].T[::-1])\n",
    "im3 = axs_simple[1,1].imshow(synthfield_cart_simple[:,:,synthfield_cart.shape[2]//2].T[::-1])\n",
    "fig_simple.colorbar(im0, ax = axs_simple[0])\n",
    "fig_simple.colorbar(im2, ax = axs_simple[1])"
   ]
  },
  {
   "cell_type": "code",
   "execution_count": null,
   "id": "c0424c24",
   "metadata": {},
   "outputs": [],
   "source": [
    "fig_simple = plt.figure(figsize=(10,10))\n",
    "axs_simple = fig_simple.subplots(2, 2)\n",
    "im0 = axs_simple[0,0].imshow(noisy_synthfield_cart[:,noisy_synthfield_cart.shape[1]//2].T[::-1])\n",
    "im1 = axs_simple[0,1].imshow(noisy_synthfield_cart[:,:,noisy_synthfield_cart.shape[2]//2].T[::-1])\n",
    "im2 = axs_simple[1,0].imshow(noisy_synthfield_cart_simple[:,noisy_synthfield_cart_simple.shape[1]//2].T[::-1])\n",
    "im3 = axs_simple[1,1].imshow(noisy_synthfield_cart_simple[:,:,noisy_synthfield_cart_simple.shape[2]//2].T[::-1])\n",
    "fig_simple.colorbar(im0, ax = axs_simple[0])\n",
    "fig_simple.colorbar(im2, ax = axs_simple[1])"
   ]
  },
  {
   "cell_type": "code",
   "execution_count": null,
   "id": "38eb9070",
   "metadata": {
    "scrolled": true
   },
   "outputs": [],
   "source": [
    "#idxsynth, weightsynth = make_parammesh_vtk_indices(grid_obj = gridsynth, sgrid = sgrid_synth, tolsqrd=5e-2)"
   ]
  },
  {
   "cell_type": "code",
   "execution_count": null,
   "id": "c923ab18",
   "metadata": {},
   "outputs": [],
   "source": [
    "\"\"\"\"with open('%s/synthdata3/idxs_'%cwd+'%i.npy'%(idxsynth.shape[0]), 'wb') as f:\n",
    "                np.save(f, idxsynth)\n",
    "f.close()\n",
    "with open('%s/synthdata3/weights_'%cwd+'%i.npy'%(idxsynth.shape[0]), 'wb') as f:\n",
    "                np.save(f, weightsynth)\n",
    "f.close()\"\"\""
   ]
  },
  {
   "cell_type": "code",
   "execution_count": null,
   "id": "e42bfb0b",
   "metadata": {},
   "outputs": [],
   "source": [
    "with open('%s/synthdata3/idxs_'%cwd+'%i.npy'%(250), 'rb') as f:\n",
    "    idxsynth = np.load(f)\n",
    "f.close()\n",
    "with open('%s/synthdata3/weights_'%cwd+'%i.npy'%(250), 'rb') as f:\n",
    "    weightsynth = np.load(f)\n",
    "f.close()"
   ]
  },
  {
   "cell_type": "code",
   "execution_count": null,
   "id": "fd35c0bd",
   "metadata": {},
   "outputs": [],
   "source": [
    "psutil.virtual_memory()"
   ]
  },
  {
   "cell_type": "code",
   "execution_count": null,
   "id": "dfb968a2",
   "metadata": {},
   "outputs": [],
   "source": [
    "pmesh_cart_synth = from_indices_to_paramvals(idxs = idxsynth, \n",
    "                                             weights = weightsynth, \n",
    "                                             param_torgrid = synthfield_tor)"
   ]
  },
  {
   "cell_type": "code",
   "execution_count": null,
   "id": "b9d4deb0",
   "metadata": {},
   "outputs": [],
   "source": [
    "pmesh_cart_synth_simple = from_indices_to_paramvals(idxs = idxsynth, \n",
    "                                                    weights = weightsynth,\n",
    "                                                    param_torgrid = synthfield_tor_simple)"
   ]
  },
  {
   "cell_type": "code",
   "execution_count": null,
   "id": "87f48d22",
   "metadata": {},
   "outputs": [],
   "source": [
    "with open('%s/synthdata3/pmesh_cart_synth_noisefree_'%cwd+'%i.npy'%(idxsynth.shape[0]), 'wb') as f:\n",
    "    np.save(f, pmesh_cart_synth)\n",
    "f.close()\n",
    "with open('%s/synthdata3/pmesh_cart_synth_simple_noisefree_'%cwd+'%i.npy'%(idxsynth.shape[0]), 'wb') as f:\n",
    "    np.save(f, pmesh_cart_synth_simple)\n",
    "f.close()"
   ]
  },
  {
   "cell_type": "code",
   "execution_count": null,
   "id": "3c69b188",
   "metadata": {},
   "outputs": [],
   "source": [
    "def plot_field_comparison(field1, field2, interpol1, interpol2):\n",
    "    simp_halfslice_y = field1.shape[1]//2-1\n",
    "    simp_halfslice_z = field1.shape[2]//2-1\n",
    "    delta_simple = interpol1 - field1\n",
    "    delta = interpol2 - field2\n",
    "    \n",
    "    fig = plt.figure(figsize=(30,30))\n",
    "    axs = fig.subplots(2, 2)\n",
    "    im0 = axs[0,0].imshow(interpol1[:,simp_halfslice_y].T[::-1])\n",
    "    im1 = axs[0,1].imshow(interpol1[:,:,simp_halfslice_y].T[::-1])\n",
    "    im2 = axs[1,0].imshow(interpol2[:,simp_halfslice_y].T[::-1])\n",
    "    im3 = axs[1,1].imshow(interpol2[:,:,simp_halfslice_z].T[::-1])\n",
    "    fig.colorbar(im0, ax = axs[0,0])\n",
    "    fig.colorbar(im1, ax = axs[0,1])\n",
    "    fig.colorbar(im2, ax = axs[1,0])\n",
    "    fig.colorbar(im3, ax = axs[1,1])\n",
    "    \n",
    "\n",
    "    fig_simple = plt.figure(figsize=(30,30))\n",
    "    axs_simple = fig_simple.subplots(2, 2)\n",
    "    im0 = axs_simple[0,0].imshow(delta_simple[:,simp_halfslice_y].T[::-1])\n",
    "    im1 = axs_simple[0,1].imshow(delta_simple[:,:,simp_halfslice_y].T[::-1])\n",
    "    im2 = axs_simple[1,0].imshow(delta[:,simp_halfslice_y].T[::-1])\n",
    "    im3 = axs_simple[1,1].imshow(delta[:,:,simp_halfslice_z].T[::-1])\n",
    "    fig_simple.colorbar(im0, ax = axs_simple[0,0])\n",
    "    fig_simple.colorbar(im1, ax = axs_simple[0,1])\n",
    "    fig_simple.colorbar(im2, ax = axs_simple[1,0])\n",
    "    fig_simple.colorbar(im3, ax = axs_simple[1,1])\n",
    "    "
   ]
  },
  {
   "cell_type": "code",
   "execution_count": null,
   "id": "39787eaa",
   "metadata": {
    "scrolled": false
   },
   "outputs": [],
   "source": [
    "plot_field_comparison(field1 = synthfield_cart_simple, field2 = synthfield_cart, \n",
    "                      interpol1 = pmesh_cart_synth_simple, interpol2 = pmesh_cart_synth)"
   ]
  },
  {
   "cell_type": "code",
   "execution_count": null,
   "id": "931375b4",
   "metadata": {},
   "outputs": [],
   "source": [
    "\"\"\"with open('%s/synthdata3/ts_noisy_tor_'%cwd+'%i.npy'%(250), 'rb') as f:\n",
    "    noisy_tor = np.load(f)\n",
    "f.close()\n",
    "\n",
    "with open('%s/synthdata3/ts_noisy_tor_simp_'%cwd+'%i.npy'%(250), 'rb') as f:\n",
    "    noisy_tor_simp = np.load(f)\n",
    "f.close()\n",
    "\n",
    "with open('%s/synthdata3/ts_cart_'%cwd+'%i.npy'%(250), 'rb') as f:\n",
    "    noisy_cart = np.load(f)\n",
    "f.close()\n",
    "\n",
    "with open('%s/synthdata3/ts_cart_simp_'%cwd+'%i.npy'%(250), 'rb') as f:\n",
    "    noisy_cart_simp = np.load(f)\n",
    "f.close()\"\"\""
   ]
  },
  {
   "cell_type": "code",
   "execution_count": null,
   "id": "d9d82f12",
   "metadata": {},
   "outputs": [],
   "source": [
    "pmesh_cart_noisy = []\n",
    "pmesh_cart_noisy_simp = []\n",
    "for t in range(20):    \n",
    "    pmesh_cart_synth_noisy = from_indices_to_paramvals(idxs = idxsynth,\n",
    "                                                   weights = weightsynth,\n",
    "                                                   param_torgrid = noisy_tor[t])\n",
    "    pmesh_cart_noisy.append(pmesh_cart_synth_noisy)\n",
    "    pmesh_cart_synth_noisy_simp = from_indices_to_paramvals(idxs = idxsynth,\n",
    "                                                   weights = weightsynth,\n",
    "                                                   param_torgrid = noisy_tor_simp[t])\n",
    "    pmesh_cart_noisy_simp.append(pmesh_cart_synth_noisy_simp)"
   ]
  },
  {
   "cell_type": "code",
   "execution_count": null,
   "id": "c7294bc1",
   "metadata": {},
   "outputs": [],
   "source": [
    "\"Save the noisy interpolated data\"\n",
    "\n",
    "with open('%s/synthdata3/ts_pmesh_cart_noisy'%cwd+'%i.npy'%(idxsynth.shape[0]), 'wb') as f:\n",
    "                np.save(f, pmesh_cart_noisy)\n",
    "f.close()\n",
    "\n",
    "with open('%s/synthdata3/ts_pmesh_cart_noisy_simp'%cwd+'%i.npy'%(idxsynth.shape[0]), 'wb') as f:\n",
    "                np.save(f, pmesh_cart_noisy_simp)\n",
    "f.close()\n",
    "\n",
    "with open('%s/synthdata3/ts_truenoise_'%cwd+'%i.npy'%(idxsynth.shape[0]), 'wb') as f:\n",
    "                np.save(f, np.array(noisy_tor) - synthfield_tor)\n",
    "f.close()\n",
    "\n",
    "with open('%s/synthdata3/ts_truenoise_simple_'%cwd+'%i.npy'%(idxsynth.shape[0]), 'wb') as f:\n",
    "                np.save(f, np.array(noisy_tor_simp) - synthfield_tor)\n",
    "f.close()"
   ]
  },
  {
   "cell_type": "code",
   "execution_count": null,
   "id": "98952685",
   "metadata": {},
   "outputs": [],
   "source": [
    "folder_interpol = 'Interpolated'\n",
    "with open('%s/synthdata3/'%cwd+folder_interpol+'/ts_pmesh_cart_noisy'+'%i.npy'%(250), 'rb') as f:\n",
    "    pmesh_cart_noisy = np.load(f)\n",
    "f.close()"
   ]
  },
  {
   "cell_type": "code",
   "execution_count": null,
   "id": "9be6b444",
   "metadata": {},
   "outputs": [],
   "source": [
    "noise_interpol = pmesh_cart_noisy[0] - synthfield_cart\n",
    "plt.hist(noise_interpol.ravel(), bins=100, density=True, label='Noise interpolation')\n",
    "truenoise = noisy_synthfield_tor - synthfield_tor\n",
    "plt.hist(truenoise.ravel(), bins=100, density=True, label='Noise true')\n",
    "plt.title(\"Noise\")\n",
    "plt.xlabel('Noise value')\n",
    "plt.ylabel('# samples')\n",
    "plt.legend()"
   ]
  },
  {
   "cell_type": "code",
   "execution_count": null,
   "id": "ca0f9632",
   "metadata": {},
   "outputs": [],
   "source": [
    "psutil.virtual_memory()"
   ]
  },
  {
   "cell_type": "code",
   "execution_count": 10,
   "id": "f6393944",
   "metadata": {},
   "outputs": [
    {
     "data": {
      "text/plain": [
       "svmem(total=33731371008, available=26409934848, percent=21.7, used=6713720832, free=23961088000, active=6295199744, inactive=2946924544, buffers=0, cached=3056562176, shared=80650240, slab=128782336)"
      ]
     },
     "execution_count": 10,
     "metadata": {},
     "output_type": "execute_result"
    }
   ],
   "source": [
    "from skimage.restoration import denoise_wavelet, cycle_spin\n",
    "from skimage.metrics import peak_signal_noise_ratio\n",
    "import time\n",
    "psutil.virtual_memory()"
   ]
  },
  {
   "cell_type": "code",
   "execution_count": 11,
   "id": "36a3444c",
   "metadata": {},
   "outputs": [],
   "source": [
    "def shiftinv_wavelet_denoising(tsdata, max_shifts = (4,4,4)):\n",
    "    \"\"\"\n",
    "    Args:\n",
    "     - tsdata, list of ndarray np.float64 (nt,)(nr,)(ix, iy, iz), list of times of list of regions of parameter mesh\n",
    "     - int_phi, list of int, defining the interval in phi direction\n",
    "    Out:\n",
    "    \"\"\"\n",
    "    int_y = [0,tsdata[0].shape[1]]\n",
    "    tik = time.time()\n",
    "    denoised_t = []\n",
    "    for t in range(len(tsdata)):\n",
    "        img = tsdata[t].T[::-1,int_y[0]:int_y[1]].copy()\n",
    "        imgisnan = np.isnan(img)\n",
    "        img[imgisnan] = np.zeros(img[imgisnan].shape)\n",
    "        # multichannel = bool, do you have rgb/csv/hsv etc?, convert2ycbcr = bool, req multichannel = True\n",
    "        denoise_kwargs = dict(rescale_sigma=False)\n",
    "        denoised = cycle_spin(img, func=denoise_wavelet, \n",
    "                              max_shifts=max_shifts, func_kw = denoise_kwargs)\n",
    "        del img\n",
    "        # set values that were nan before the denoising back to nan\n",
    "        denoised[imgisnan] = np.ones(denoised[imgisnan].shape)*np.nan\n",
    "        del imgisnan\n",
    "        denoised_t.append(denoised)\n",
    "        del denoised\n",
    "    tok = time.time()\n",
    "    return denoised_t, tok-tik"
   ]
  },
  {
   "cell_type": "code",
   "execution_count": null,
   "id": "96db6426",
   "metadata": {},
   "outputs": [],
   "source": [
    "# extracting the noise from the simple example using the filter\n",
    "root_interpol = '%s/synthdata3/'%cwd+'Interpolated'\n",
    "with open(root_interpol+'/ts_pmesh_cart_noisy_simp%i.npy'%(250), 'rb') as f:\n",
    "    pmesh_cart_noisy_simple = np.load(f)\n",
    "f.close()\n",
    "only_filter_250_simple, runtime_only_filter_250_simple = shiftinv_wavelet_denoising(tsdata = pmesh_cart_noisy_simple)"
   ]
  },
  {
   "cell_type": "code",
   "execution_count": null,
   "id": "901f2162",
   "metadata": {
    "scrolled": true
   },
   "outputs": [],
   "source": [
    "pmesh_cart_noisy_filtered, runtime = shiftinv_wavelet_denoising(tsdata = pmesh_cart_noisy)"
   ]
  },
  {
   "cell_type": "markdown",
   "id": "5d04464b",
   "metadata": {},
   "source": [
    "# PSNR analysis of convergence with regards to choice of max cycle shifts"
   ]
  },
  {
   "cell_type": "code",
   "execution_count": null,
   "id": "a74710d6",
   "metadata": {},
   "outputs": [],
   "source": [
    "ms_shifts = [(2*i,2*i,2*i) for i in range(1,5)]\n",
    "print(ms_shifts)\n",
    "type(synthfield_cart)"
   ]
  },
  {
   "cell_type": "code",
   "execution_count": null,
   "id": "6fed63b6",
   "metadata": {},
   "outputs": [],
   "source": [
    "def psnr_scan(original, noisy_ts, ms):\n",
    "    psnr_l = []\n",
    "    runtimes = []\n",
    "    for i in range(len(ms)):\n",
    "        filtered, runtime = shiftinv_wavelet_denoising(tsdata = noisy_ts, \n",
    "                                                       max_shifts = ms[i])\n",
    "        psnr_ts = np.zeros(len(filtered))\n",
    "        for t in range(len(filtered)):\n",
    "            psnr_ts[t] = peak_signal_noise_ratio(image_true = original, \n",
    "                                                 image_test = np.array(filtered[t]),\n",
    "                                                 data_range = np.max(filtered[t])-np.min(filtered[t]))\n",
    "        psnr_l.append(psnr_ts)\n",
    "        runtimes.append(runtime)\n",
    "    return psnr_l, runtimes"
   ]
  },
  {
   "cell_type": "code",
   "execution_count": null,
   "id": "e5d4076e",
   "metadata": {},
   "outputs": [],
   "source": [
    "psnr_scan_250_10modes, runtime_scan_250_10modes = psnr_scan(original = synthfield_cart, \n",
    "                                                            noisy_ts = noisy_cart, \n",
    "                                                            ms = ms_shifts)"
   ]
  },
  {
   "cell_type": "code",
   "execution_count": null,
   "id": "db5355fb",
   "metadata": {},
   "outputs": [],
   "source": [
    "psnr_scan_250_10modes_interpolated, runtime_scan_250_10modes_interpol = psnr_scan(original = synthfield_cart,\n",
    "                                                                                  noisy_ts = pmesh_cart_noisy,\n",
    "                                                                                  ms = ms_shifts[0])"
   ]
  },
  {
   "cell_type": "code",
   "execution_count": null,
   "id": "8152e8da",
   "metadata": {},
   "outputs": [],
   "source": [
    "psnr_scan_250_10modes_interpolated"
   ]
  },
  {
   "cell_type": "code",
   "execution_count": null,
   "id": "a7709931",
   "metadata": {},
   "outputs": [],
   "source": [
    "plt.title(\"Runtime $n_{\\\\phi} = n_{\\\\theta} = 10$\")\n",
    "plt.plot(np.arange(1,5),runtime_scan_250_10modes)\n",
    "plt.ylabel(\"Runtime\")\n",
    "plt.xlabel(\"Max cycle shifts along each axis\")"
   ]
  },
  {
   "cell_type": "code",
   "execution_count": null,
   "id": "43440bb6",
   "metadata": {},
   "outputs": [],
   "source": [
    "plt.title(\"PSNR convergence\")\n",
    "for t in range(np.array(psnr_scan_250_10modes).shape[1]):\n",
    "    plt.plot(np.arange(1,5)*2,np.array(psnr_scan_250_10modes)[:,t], '-o')\n",
    "plt.xlabel(\"Max cycle shifts along each axis\")\n",
    "plt.ylabel(\"PSNR $\\mathrm{dB}$\")\n",
    "plt.grid()"
   ]
  },
  {
   "cell_type": "code",
   "execution_count": null,
   "id": "992e8c18",
   "metadata": {},
   "outputs": [],
   "source": [
    "psnr_scan_250_10modes_interpolated"
   ]
  },
  {
   "cell_type": "code",
   "execution_count": null,
   "id": "1d32546c",
   "metadata": {},
   "outputs": [],
   "source": [
    "runtime_scan_250_10modes_interpol"
   ]
  },
  {
   "cell_type": "code",
   "execution_count": null,
   "id": "636c3c65",
   "metadata": {},
   "outputs": [],
   "source": [
    "plt.title(\"PSNR convergence interpolated data\")\n",
    "for t in range(np.array(psnr_scan_250_10modes_interpolated).shape[1]):\n",
    "    plt.plot(np.arange(1,5)*2,np.array(psnr_scan_250_10modes_interpolated)[:,t], '-o')\n",
    "plt.xlabel(\"Max cycle shifts along each axis\")\n",
    "plt.ylabel(\"PSNR $\\mathrm{dB}$\")\n",
    "plt.xlim(0,10)\n",
    "plt.ylim(0,100)\n",
    "plt.grid()"
   ]
  },
  {
   "cell_type": "code",
   "execution_count": null,
   "id": "29339072",
   "metadata": {},
   "outputs": [],
   "source": [
    "print(runtime)\n",
    "with open('%s/synthdata3/pmesh_cart_noisy_filtered_'%cwd+'%i.npy'%(250), 'wb') as f:\n",
    "    np.save(f, pmesh_cart_noisy_filtered)\n",
    "f.close()"
   ]
  },
  {
   "cell_type": "code",
   "execution_count": null,
   "id": "51ac2000",
   "metadata": {},
   "outputs": [],
   "source": [
    "with open('%s/synthdata3/ts_cart_'%cwd+'%i.npy'%(250), 'rb') as f:\n",
    "    noisy_cart = np.load(f)\n",
    "f.close()\n",
    "only_filter, runtime = shiftinv_wavelet_denoising(tsdata = noisy_cart)"
   ]
  },
  {
   "cell_type": "code",
   "execution_count": null,
   "id": "6ac0a28e",
   "metadata": {},
   "outputs": [],
   "source": [
    "with open('%s/synthdata3/only_filter_'%cwd+'%i.npy'%(250), 'wb') as f:\n",
    "    np.save(f, only_filter)\n",
    "f.close()"
   ]
  },
  {
   "cell_type": "code",
   "execution_count": null,
   "id": "3e5c8902",
   "metadata": {},
   "outputs": [],
   "source": [
    "with open('%s/synthdata3/only_filter_'%cwd+'%i.npy'%(250), 'rb') as f:\n",
    "    only_filter = np.load(f)\n",
    "f.close()"
   ]
  },
  {
   "cell_type": "code",
   "execution_count": null,
   "id": "4f91b50a",
   "metadata": {},
   "outputs": [],
   "source": [
    "plt.figure(figsize=(20,20))\n",
    "im = plt.imshow(only_filter[0][:,124])\n",
    "plt.colorbar(im)"
   ]
  },
  {
   "cell_type": "code",
   "execution_count": null,
   "id": "9a9d74eb",
   "metadata": {},
   "outputs": [],
   "source": [
    "halfslice_y = noisy_cart_filtered[0].shape[1]//2\n",
    "halfslice_z = noisy_cart_filtered[0].shape[2]//2\n",
    "\n",
    "fig_simple = plt.figure(figsize=(30,30))\n",
    "axs_simple = fig_simple.subplots(2, 2)\n",
    "im0 = axs_simple[0,0].imshow(noisy_cart_filtered[0][:,halfslice_y])\n",
    "im1 = axs_simple[0,1].imshow(noisy_cart_filtered[0][halfslice_z])\n",
    "im2 = axs_simple[1,0].imshow(noisy_cart_filtered[1][:,halfslice_y])\n",
    "im3 = axs_simple[1,1].imshow(noisy_cart_filtered[1][halfslice_z])\n",
    "fig_simple.colorbar(im0, ax = axs_simple[0])\n",
    "fig_simple.colorbar(im2, ax = axs_simple[1])"
   ]
  },
  {
   "cell_type": "markdown",
   "id": "89caed9a",
   "metadata": {},
   "source": [
    "# Noise calculation of example with $n_{\\phi} = n_{\\theta} = 10$"
   ]
  },
  {
   "cell_type": "code",
   "execution_count": null,
   "id": "9216e492",
   "metadata": {},
   "outputs": [],
   "source": [
    "psutil.virtual_memory()"
   ]
  },
  {
   "cell_type": "code",
   "execution_count": null,
   "id": "73953114",
   "metadata": {},
   "outputs": [],
   "source": [
    "with open('%s/synthdata3/pmesh_cart_noisy_filtered_250'%cwd+'.npy', 'rb') as f:\n",
    "    pmesh_denoised_250 = np.load(f)\n",
    "f.close()\n",
    "\n",
    "plt.figure(figsize=(20,20))\n",
    "im = plt.imshow(pmesh_denoised_250[0][:,125])\n",
    "plt.colorbar(im)"
   ]
  },
  {
   "cell_type": "code",
   "execution_count": null,
   "id": "c988df6e",
   "metadata": {},
   "outputs": [],
   "source": [
    "\"\"\"with open('%s/synthdata3/ts_noisy_tor_'%cwd+'%i.npy'%(250), 'rb') as f:\n",
    "    noisy_tor = np.load(f)\n",
    "f.close()\n",
    "\n",
    "with open('%s/synthdata3/ts_noisy_tor_simp_'%cwd+'%i.npy'%(250), 'rb') as f:\n",
    "    noisy_tor_simp = np.load(f)\n",
    "f.close()\n",
    "\"\"\"\n",
    "with open('%s/synthdata3/ts_cart_'%cwd+'%i.npy'%(250), 'rb') as f:\n",
    "    noisy_cart = np.load(f)\n",
    "f.close()\n",
    "\n",
    "\"\"\"with open('%s/synthdata3/ts_cart_simp_'%cwd+'%i.npy'%(250), 'rb') as f:\n",
    "    pmesh_cart_noisy_simp = np.load(f)\n",
    "f.close()\n",
    "\n",
    "with open('%s/synthdata3/ts_pmesh_cart_noisy'%cwd+'%i.npy'%(250), 'rb') as f:\n",
    "    pmesh_cart_noisy = np.load(f)\n",
    "f.close()\"\"\""
   ]
  },
  {
   "cell_type": "code",
   "execution_count": null,
   "id": "b76bf91f",
   "metadata": {},
   "outputs": [],
   "source": [
    "truenoise = np.array([noisy_cart[i].T[::-1] - synthfield_cart.T[::-1] for i in range(len(noisy_cart))])"
   ]
  },
  {
   "cell_type": "code",
   "execution_count": null,
   "id": "5f25e4a6",
   "metadata": {},
   "outputs": [],
   "source": [
    "with open('%s/synthdata3/pmesh_cart_noisy_filtered_'%cwd+'%i.npy'%(250), 'rb') as f:\n",
    "    pmesh_cart_noisy_filtered = np.load(f)\n",
    "f.close()"
   ]
  },
  {
   "cell_type": "code",
   "execution_count": null,
   "id": "2635d41b",
   "metadata": {},
   "outputs": [],
   "source": [
    "with open('%s/synthdata3/only_filter_'%cwd+'%i.npy'%(250), 'rb') as f:\n",
    "    only_filter = np.load(f)\n",
    "f.close()"
   ]
  },
  {
   "cell_type": "code",
   "execution_count": null,
   "id": "24ffd037",
   "metadata": {},
   "outputs": [],
   "source": [
    "noise_tor_mean = np.array(noisy_cart) - sum(noisy_cart)/len(noisy_cart)\n",
    "noise_tor_filter = np.array([only_filter[i] - synthfield_cart.T[::-1] for i in range(len(only_filter))])\n",
    "noise_tor_interpol_filter = np.array([pmesh_cart_noisy_filtered[i] - synthfield_cart.T[::-1] for i in range(len(pmesh_cart_noisy_filtered))])"
   ]
  },
  {
   "cell_type": "code",
   "execution_count": null,
   "id": "00a943ef",
   "metadata": {},
   "outputs": [],
   "source": [
    "plt.imshow(pmesh_cart_noisy_filtered[0][:,124])"
   ]
  },
  {
   "cell_type": "code",
   "execution_count": null,
   "id": "0f6c5fd4",
   "metadata": {},
   "outputs": [],
   "source": [
    "plt.imshow(synthfield_cart.T[::-1][:,124])"
   ]
  },
  {
   "cell_type": "code",
   "execution_count": null,
   "id": "508dee95",
   "metadata": {},
   "outputs": [],
   "source": [
    "for i in range(20):\n",
    "    with open('%s/synthdata3/ts_'%cwd+'%i_denoised_filter_%i.npy'%(noise_tor_filter[0].shape[0], i), 'wb') as f_ts:\n",
    "                np.save(f_ts, noise_tor_filter[i])\n",
    "f_ts.close()\n",
    "\n",
    "for i in range(20):\n",
    "    with open('%s/synthdata3/ts_'%cwd+'%i_denoised_interpol_filter_%i.npy'%(noise_tor_filter[0].shape[0], i), 'wb') as f_ts:\n",
    "                np.save(f_ts, noise_tor_interpol_filter[i])\n",
    "f_ts.close()\n",
    "\n",
    "for i in range(20):\n",
    "    with open('%s/synthdata3/ts_'%cwd+'%i_denoised_mean_%i.npy'%(noise_tor_filter[0].shape[0], i), 'wb') as f_ts:\n",
    "                np.save(f_ts, noise_tor_mean[i])\n",
    "f_ts.close()"
   ]
  },
  {
   "cell_type": "code",
   "execution_count": null,
   "id": "b20fba1b",
   "metadata": {},
   "outputs": [],
   "source": [
    "\"\"\"noise_tor_filter = []\n",
    "for i in range(20):\n",
    "    with open('%s/synthdata3/ts_'%cwd+'%i_denoised_filter_%i.npy'%(250, i), 'rb') as f_ts:\n",
    "        temp_data = np.load(f_ts)\n",
    "        noise_tor_filter.append(temp_data)\n",
    "        del temp_data             \n",
    "f_ts.close()\n",
    "noise_tor_filter = np.array(noise_tor_filter)\n",
    "\n",
    "noise_tor_mean = []\n",
    "for i in range(20):\n",
    "    with open('%s/synthdata3/ts_'%cwd+'%i_denoised_mean_%i.npy'%(250, i), 'rb') as f_ts:\n",
    "        temp_data = np.load(f_ts)\n",
    "        noise_tor_mean.append(temp_data)\n",
    "        del temp_data             \n",
    "f_ts.close()\n",
    "noise_tor_mean = np.array(noise_tor_mean)\"\"\""
   ]
  },
  {
   "cell_type": "code",
   "execution_count": null,
   "id": "69d5e459",
   "metadata": {},
   "outputs": [],
   "source": [
    "noise_tor_mean.ravel().shape"
   ]
  },
  {
   "cell_type": "code",
   "execution_count": null,
   "id": "ed0ff6ba",
   "metadata": {},
   "outputs": [],
   "source": [
    "\"\"\"import matplotlib as mpl\n",
    "mpl.rcParams['agg.path.chunksize'] = 500000000\n",
    "\"\"\"\n",
    "plt.plot(noise_tor_mean.ravel()[:int(1e4)], noise_tor_filter.ravel()[:int(1e4)], 'k.')\n",
    "plt.xlabel('$\\\\theta_t - \\\\langle \\\\theta \\\\rangle$')\n",
    "plt.ylabel('$\\\\theta_t - \\\\tilde{\\\\theta}_t$')"
   ]
  },
  {
   "cell_type": "code",
   "execution_count": null,
   "id": "97e652f5",
   "metadata": {},
   "outputs": [],
   "source": [
    "plt.plot(noise_tor_mean.ravel()[:int(1e4)], noise_tor_mean.ravel()[:int(1e4)], 'k.')\n",
    "plt.ylabel('$\\\\theta_t - \\\\langle \\\\theta \\\\rangle$')\n",
    "plt.xlabel('$\\\\epsilon$')"
   ]
  },
  {
   "cell_type": "code",
   "execution_count": null,
   "id": "f5582b07",
   "metadata": {},
   "outputs": [],
   "source": [
    "plt.plot(truenoise.ravel()[:int(1e4)], noise_tor_filter.ravel()[:int(1e4)], 'k.')\n",
    "plt.xlabel('$\\\\epsilon$')\n",
    "plt.ylabel('$\\\\theta_t - \\\\tilde{\\\\theta}_t$')"
   ]
  },
  {
   "cell_type": "code",
   "execution_count": null,
   "id": "6864cb14",
   "metadata": {},
   "outputs": [],
   "source": [
    "plt.plot(truenoise.ravel()[int(9e7):int(1e8)], noise_tor_interpol_filter.ravel()[int(9e7):int(1e8)], 'k.')\n",
    "plt.xlabel('$\\\\epsilon$')\n",
    "plt.ylabel('$\\\\theta_t - \\\\tilde{\\\\theta}_t^{(interpol)}$')"
   ]
  },
  {
   "cell_type": "code",
   "execution_count": null,
   "id": "2daca53b",
   "metadata": {},
   "outputs": [],
   "source": [
    "std_filter = np.nanstd(noise_tor_filter, axis = )\n",
    "std_mean = np.std(noise_tor_mean.ravel())\n",
    "std_true = np.nanstd(truenoise.ravel())"
   ]
  },
  {
   "cell_type": "markdown",
   "id": "c59b0dd5",
   "metadata": {},
   "source": [
    "# Noise calculation for example with $n_{\\phi} = n_{\\theta} = 3$"
   ]
  },
  {
   "cell_type": "code",
   "execution_count": 12,
   "id": "6f1ad4a3",
   "metadata": {},
   "outputs": [
    {
     "data": {
      "text/plain": [
       "svmem(total=33731371008, available=26418352128, percent=21.7, used=6705516544, free=23969214464, active=6286360576, inactive=2947158016, buffers=0, cached=3056640000, shared=80650240, slab=128331776)"
      ]
     },
     "execution_count": 12,
     "metadata": {},
     "output_type": "execute_result"
    }
   ],
   "source": [
    "psutil.virtual_memory()"
   ]
  },
  {
   "cell_type": "code",
   "execution_count": null,
   "id": "357d222d",
   "metadata": {},
   "outputs": [],
   "source": [
    "#open necessary datasets\n",
    "root = '%s/synthdata3/'%cwd\n",
    "with open(root+'Interpolated/ts_pmesh_cart_noisy_simp%i.npy'%(250), 'rb') as f:\n",
    "    pmesh_cart_synth_simple = np.load(f)\n",
    "pmesh_cart_filter_simple, runtime_cart_filter_simple = shiftinv_wavelet_denoising(tsdata = pmesh_cart_synth_simple)\n",
    "noise_filter_simple = [pmesh_cart_filter_simple[i] - synthfield_cart_simple for i in range(len(pmesh_cart_filter_simple))]\n",
    "noise_filter_simple = np.array(noise_filter_simple)"
   ]
  },
  {
   "cell_type": "code",
   "execution_count": null,
   "id": "7286489c",
   "metadata": {},
   "outputs": [],
   "source": [
    "noise_filter_simple"
   ]
  },
  {
   "cell_type": "code",
   "execution_count": null,
   "id": "d7a5c839",
   "metadata": {},
   "outputs": [],
   "source": [
    "with open(root+'Filtered/only_filter_%i_simple.npy'%(250), 'wb') as f:\n",
    "    np.save(f, noise_filter_simple)\n",
    "f.close()"
   ]
  },
  {
   "cell_type": "code",
   "execution_count": null,
   "id": "b9d7f220",
   "metadata": {},
   "outputs": [],
   "source": [
    "noise_filter_simple.shape"
   ]
  },
  {
   "cell_type": "code",
   "execution_count": null,
   "id": "cc5e322a",
   "metadata": {},
   "outputs": [],
   "source": [
    "pmesh_cart_synth_simple.shape\n",
    "pmesh_cart_synth_simple\n",
    "plt.imshow(pmesh_cart_synth_simple[0,:,125].T[::-1])\n",
    "plt.imshow(noise_filter_simple[0,:,125].T[::-1])"
   ]
  },
  {
   "cell_type": "code",
   "execution_count": null,
   "id": "899a2ed9",
   "metadata": {},
   "outputs": [],
   "source": [
    "with open(root+'Filtered/only_filter_%i_simple.npy'%(250), 'rb') as f:\n",
    "    noise_filter_simple = np.load(f)\n",
    "f.close()\n",
    "\n",
    "noise_mean_simple = pmesh_cart_synth_simple - np.nanmean(pmesh_cart_synth_simple, axis=0)\n",
    "with open(root+'Analytical_solution_cart/ts_truenoise_simple_%i.npy'%(250), 'rb') as f:\n",
    "    truenoise_simple = np.load(f)"
   ]
  },
  {
   "cell_type": "markdown",
   "id": "b496682d",
   "metadata": {},
   "source": [
    "# L2 measure of noise and error"
   ]
  },
  {
   "cell_type": "code",
   "execution_count": null,
   "id": "1d374dd1",
   "metadata": {},
   "outputs": [],
   "source": [
    "def make_ts_import(nsim, folder_file):\n",
    "    ts = []\n",
    "    for i in range(1,nsim):\n",
    "        with open('%s/synthdata3/'%cwd+folder_file%(250,i)+'.npy', 'rb') as f:\n",
    "            noise_i = np.load(f)\n",
    "        f.close()\n",
    "        ts.append(noise_i)\n",
    "    return ts\n",
    "ts_noise_filter = make_ts_import(nsim = 20, folder_file = 'Noise_filter/ts_%i_denoised_filter_%i')\n",
    "\n",
    "ts_noise_mean = make_ts_import(nsim = 20, folder_file = 'Noise_mean/ts_%i_denoised_mean_%i')\n",
    "\n",
    "with open('%s/synthdata3/'%cwd+'Interpolated/ts_pmesh_cart_noisy%i'%(250)+'.npy', 'rb') as f:\n",
    "    ts_noise_interpolation = np.load(f)\n",
    "f.close()\n",
    "\n",
    "with open('%s/synthdata3/'%cwd+'Interpolated_filtered/ts_noise_pmesh_cart_filtered_%i'%(250)+'.npy', 'rb') as f:\n",
    "    ts_noise_interpolation_filter = np.load(f)\n",
    "f.close()"
   ]
  },
  {
   "cell_type": "code",
   "execution_count": null,
   "id": "2ae89d1f",
   "metadata": {},
   "outputs": [],
   "source": [
    "def l2norm_scalarnoise(noise):\n",
    "    epsilon = np.nansum((noise**2).ravel())\n",
    "    return epsilon"
   ]
  },
  {
   "cell_type": "code",
   "execution_count": null,
   "id": "c277d594",
   "metadata": {},
   "outputs": [],
   "source": [
    "def make_l2_list(ts_noise):\n",
    "    l2_list_noise = []\n",
    "    for i in range(len(ts_noise)):\n",
    "        l2_noise_i = l2norm_scalarnoise(noise = ts_noise[i])\n",
    "        l2_list_noise.append(l2_noise_i)\n",
    "    return l2_list_noise\n",
    "l2_list_noise_mean = make_l2_list(ts_noise = ts_noise_mean)\n",
    "l2_list_noise_filter = make_l2_list(ts_noise = ts_noise_filter)\n",
    "l2_list_noise_interpolation = make_l2_list(ts_noise = [ts_noise_interpolation[i] - synthfield_cart for i in range(len(ts_noise_interpolation))])\n",
    "l2_list_noise_interpolation_filter = make_l2_list(ts_noise = [ts_noise_interpolation_filter[i] - synthfield_cart for i in range(len(ts_noise_interpolation_filter))])"
   ]
  },
  {
   "cell_type": "code",
   "execution_count": null,
   "id": "cbd10f5d",
   "metadata": {},
   "outputs": [],
   "source": [
    "print(l2_list_noise_mean)\n",
    "with open('%s/synthdata3/'%cwd+'L2_noise/l2_%i_mean.npy'%(250), 'wb') as f:\n",
    "    np.save(f, l2_list_noise_interpolation_filter)"
   ]
  },
  {
   "cell_type": "code",
   "execution_count": null,
   "id": "0fff98dd",
   "metadata": {},
   "outputs": [],
   "source": [
    "with open('%s/synthdata3/'%cwd+'L2_noise/l2_%i_filter.npy'%(250), 'rb') as f:\n",
    "    l2_filter = np.load(f)\n",
    "with open('%s/synthdata3/'%cwd+'L2_noise/l2_%i_interpolated.npy'%(250), 'rb') as f:\n",
    "    l2_interpol = np.load(f)\n",
    "    \n",
    "with open('%s/synthdata3/'%cwd+'L2_noise/l2_%i_interpolated_filtered.npy'%(250), 'rb') as f:\n",
    "    l2_interpolated_filtered = np.load(f)\n",
    "\n",
    "np.set_printoptions(precision=1)\n",
    "print([ '%.1f' % elem for elem in l2_filter ])\n",
    "print([ '%.1f' % elem for elem in l2_interpol ])\n",
    "print([ '%.1f' % elem for elem in l2_interpolated_filtered ])\n",
    "print([ '%.1f' % elem for elem in l2_list_noise_mean ])"
   ]
  },
  {
   "cell_type": "code",
   "execution_count": null,
   "id": "cc49a365",
   "metadata": {},
   "outputs": [],
   "source": [
    "t1 = np.arange(1,20)\n",
    "t2 = np.arange(0,20)\n",
    "plt.scatter(t1, l2_filter, label='$L_2$-filter')\n",
    "plt.scatter(t2, l2_interpol, label='$L_2$-interpol')\n",
    "plt.scatter(t2, l2_interpolated_filtered, label='$L_2$-interpol_filtered')\n",
    "plt.scatter(t1, l2_list_noise_mean, label='$L_2$-mean')\n",
    "plt.legend()\n"
   ]
  },
  {
   "cell_type": "code",
   "execution_count": null,
   "id": "c56d42e3",
   "metadata": {},
   "outputs": [],
   "source": [
    "plt.scatter(t1, l2_filter, label='$L_2$-filter')\n",
    "plt.scatter(t2, l2_interpol, label='$L_2$-interpol')\n",
    "plt.scatter(t1, l2_list_noise_mean, label='$L_2$-mean')\n",
    "plt.legend()"
   ]
  },
  {
   "cell_type": "code",
   "execution_count": null,
   "id": "860e3192",
   "metadata": {},
   "outputs": [],
   "source": [
    "plt.scatter(t2, l2_interpolated_filtered, label='$L_2$-interpol_filtered')\n",
    "\n",
    "plt.legend()\n"
   ]
  }
 ],
 "metadata": {
  "kernelspec": {
   "display_name": "Python 3",
   "language": "python",
   "name": "python3"
  },
  "language_info": {
   "codemirror_mode": {
    "name": "ipython",
    "version": 3
   },
   "file_extension": ".py",
   "mimetype": "text/x-python",
   "name": "python",
   "nbconvert_exporter": "python",
   "pygments_lexer": "ipython3",
   "version": "3.6.9"
  }
 },
 "nbformat": 4,
 "nbformat_minor": 5
}
