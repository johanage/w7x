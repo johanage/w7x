{
 "cells": [
  {
   "cell_type": "code",
   "execution_count": null,
   "id": "be859ecb",
   "metadata": {},
   "outputs": [],
   "source": [
    "import numpy as np\n",
    "from matplotlib import pyplot as plt\n",
    "import psutil\n",
    "psutil.virtual_memory()"
   ]
  },
  {
   "cell_type": "code",
   "execution_count": 2,
   "id": "065efdd4",
   "metadata": {},
   "outputs": [
    {
     "name": "stdout",
     "output_type": "stream",
     "text": [
      "Overwriting synthdata_utils.py\n"
     ]
    }
   ],
   "source": [
    "#%%writefile synthdata_utils.py\n",
    "\n",
    "def scalar_field(R, theta, phi, nmodes_phi = 10, nmodes_theta = 10, R0 = 2):\n",
    "    import numpy as np\n",
    "    field = np.zeros(R.shape)\n",
    "    field = 10*np.exp(-(R-R0))\n",
    "    field+= np.sum(np.array([np.cos(10*theta*j/(2*np.pi)) for j in range(1,nmodes_theta)]), axis = 0)\n",
    "    field+= np.sum(np.array([np.cos(20*phi*i/(2*np.pi)) for i in range(1,nmodes_phi)]), axis = 0)\n",
    "    return field\n",
    "\n",
    "def noisy_scalar_field(R, theta, phi, nmodes_phi = 10, nmodes_theta = 10, R0 = 2, sigma = 0.5):\n",
    "    import numpy as np\n",
    "    field = np.zeros(R.shape)\n",
    "    field = 10*np.exp(-(R-R0)) + np.random.normal(0, sigma, size=R.shape)\n",
    "    field+= np.sum(np.array([np.cos(10*theta*j/(2*np.pi)) for j in range(1,nmodes_theta)]), axis = 0)\n",
    "    field+= np.sum(np.array([np.cos(20*phi*i/(2*np.pi)) for i in range(1,nmodes_phi)]), axis = 0)\n",
    "    return field\n",
    "\n",
    "\n",
    "class grid_torus:\n",
    "    \"\"\"\n",
    "    Generates a grid object with both flattened and mesh versions of cartesian\n",
    "    and toroidal grid.\n",
    "    \"\"\"\n",
    "    def __init__(self, ngrid_cart, ngrid_tor, R0):\n",
    "        import numpy as np\n",
    "        self.R, self.theta, self.phi = np.meshgrid(np.linspace(1e-2, 1,ngrid_tor), \n",
    "                                                   np.linspace(0,2*np.pi, ngrid_tor), \n",
    "                                                   np.linspace(0,2*np.pi, 2*ngrid_tor),\n",
    "                                                   indexing='ij')\n",
    "        self.cart_x, self.cart_y, self.cart_z = np.meshgrid(np.linspace(-3,3, ngrid_cart),\n",
    "                                                            np.linspace(-3,3, ngrid_cart),\n",
    "                                                            np.linspace(-1,1, ngrid_cart),\n",
    "                                                            indexing='ij')\n",
    "        self.tor_x = (R0 + self.R*np.cos(self.theta))*np.cos(self.phi)\n",
    "        self.tor_y = (R0 + self.R*np.cos(self.theta))*np.sin(self.phi)\n",
    "        self.tor_z = self.R*np.sin(self.theta)\n",
    "        \n",
    "        self.cartflat = np.zeros((ngrid_cart**3, 3))\n",
    "        self.cartflat[:,0] = self.cart_x.flatten()\n",
    "        self.cartflat[:,1] = self.cart_y.flatten()\n",
    "        self.cartflat[:,2] = self.cart_z.flatten()\n",
    "        \n",
    "        self.torflat = np.zeros((2*ngrid_tor**3, 3))\n",
    "        self.torflat[:,0] = self.tor_x.flatten()\n",
    "        self.torflat[:,1] = self.tor_y.flatten()\n",
    "        self.torflat[:,2] = self.tor_z.flatten()\n",
    "    def delete_all(self):\n",
    "        del self.R\n",
    "        del self.theta\n",
    "        del self.phi\n",
    "        del self.cart_x\n",
    "        del self.cart_y\n",
    "        del self.cart_z\n",
    "        del self.tor_x\n",
    "        del self.tor_y\n",
    "        del self.tor_z\n",
    "        del self.torflat\n",
    "        del self.cartflat\n",
    "        \n",
    "def toroidal_to_cart_coord(R0, R, theta, phi):\n",
    "    import numpy as np\n",
    "    x = (R0 + R*np.cos(theta))*np.cos(phi)\n",
    "    y = (R0 + R*np.cos(theta))*np.sin(phi)\n",
    "    z = R*np.sin(theta)\n",
    "    return x, y, z\n",
    "\n",
    "def cart_to_toroidal_coord(x, y, z, R0 = 2):\n",
    "    import numpy as np\n",
    "    R = np.sqrt( (np.sqrt(x**2 + y**2)- R0)**2 + z**2)\n",
    "    theta = np.arctan2(z, np.sqrt(x**2 + y**2)-R0)\n",
    "    phi = np.arctan2(y, x)\n",
    "    return R, theta, phi"
   ]
  },
  {
   "cell_type": "code",
   "execution_count": null,
   "id": "2a9f27a2",
   "metadata": {},
   "outputs": [],
   "source": [
    "gridsynth = grid_torus(ngrid_cart = 300, ngrid_tor = 300, R0 = 2)\n",
    "print(gridsynth.R.shape, gridsynth.theta.shape, gridsynth.phi.shape)"
   ]
  },
  {
   "cell_type": "code",
   "execution_count": null,
   "id": "0ae369a6",
   "metadata": {},
   "outputs": [],
   "source": [
    "\"\"\"\n",
    "Generating the synthetic data wihtout noise\n",
    "\"\"\"\n",
    "synthfield_tor = scalar_field(R = gridsynth.R, theta = gridsynth.theta, phi = gridsynth.phi)\n",
    "synthfield_tor[:20] = np.ones(synthfield_tor[:20].shape)*np.nan\n",
    "synthfield_tor[synthfield_tor.shape[0]*8//10:] = np.ones(synthfield_tor[synthfield_tor.shape[0]*8//10:].shape)*np.nan\n",
    "R1,theta1,phi1 = cart_to_toroidal_coord(x = gridsynth.cart_x, y = gridsynth.cart_y, z = gridsynth.cart_z)\n",
    "synthfield_cart = scalar_field(R = R1, theta = theta1, phi = phi1)"
   ]
  },
  {
   "cell_type": "code",
   "execution_count": null,
   "id": "80fc1f2a",
   "metadata": {},
   "outputs": [],
   "source": [
    "plt.figure(figsize=(10,10))\n",
    "plt.imshow(synthfield_cart[:,50].T)\n",
    "plt.colorbar()"
   ]
  },
  {
   "cell_type": "code",
   "execution_count": null,
   "id": "4938aed3",
   "metadata": {},
   "outputs": [],
   "source": [
    "\"\"\"\n",
    "Generating the synthetic data wiht noise\n",
    "\"\"\"\n",
    "noisy_synthfield_tor = noisy_scalar_field(R = gridsynth.R, theta = gridsynth.theta, phi = gridsynth.phi)\n",
    "noisy_synthfield_cart = noisy_scalar_field(R = R1, theta = theta1, phi = phi1)"
   ]
  },
  {
   "cell_type": "code",
   "execution_count": null,
   "id": "70891f8c",
   "metadata": {},
   "outputs": [],
   "source": [
    "plt.figure(figsize=(10,10))\n",
    "plt.imshow(noisy_synthfield_cart[:,50].T)\n",
    "plt.colorbar()"
   ]
  },
  {
   "cell_type": "code",
   "execution_count": null,
   "id": "dfcfdd36",
   "metadata": {},
   "outputs": [],
   "source": [
    "from makemesh_indices import make_parammesh_vtk_indices, from_indices_to_paramvals\n",
    "from tvtk.api import tvtk\n",
    "sgrid_synth = tvtk.StructuredGrid(dimensions=gridsynth.R.shape)\n",
    "sgrid_synth.points = gridsynth.torflat"
   ]
  },
  {
   "cell_type": "code",
   "execution_count": null,
   "id": "3428b832",
   "metadata": {},
   "outputs": [],
   "source": [
    "#make_parammesh_vtk_indices?\n",
    "#from_indices_to_paramvals?"
   ]
  },
  {
   "cell_type": "code",
   "execution_count": null,
   "id": "2544905f",
   "metadata": {
    "scrolled": true
   },
   "outputs": [],
   "source": [
    "gridsynth = grid_torus(ngrid_cart = 300, ngrid_tor = 300, R0 = 2)\n",
    "idxsynth, weightsynth = make_parammesh_vtk_indices(grid_obj = gridsynth, sgrid = sgrid_synth, tolsqrd=5e-2)"
   ]
  },
  {
   "cell_type": "code",
   "execution_count": null,
   "id": "dfb968a2",
   "metadata": {},
   "outputs": [],
   "source": [
    "pmesh_cart_synth = from_indices_to_paramvals(idxs = idxsynth, \n",
    "                                             weights = weightsynth, \n",
    "                                             param_torgrid = synthfield_tor)"
   ]
  },
  {
   "cell_type": "code",
   "execution_count": null,
   "id": "31b7d900",
   "metadata": {},
   "outputs": [],
   "source": [
    "plt.figure(figsize=(10,10))\n",
    "plt.imshow(pmesh_cart_synth[:,50].T)\n",
    "plt.colorbar()"
   ]
  }
 ],
 "metadata": {
  "kernelspec": {
   "display_name": "Python 3",
   "language": "python",
   "name": "python3"
  },
  "language_info": {
   "codemirror_mode": {
    "name": "ipython",
    "version": 3
   },
   "file_extension": ".py",
   "mimetype": "text/x-python",
   "name": "python",
   "nbconvert_exporter": "python",
   "pygments_lexer": "ipython3",
   "version": "3.6.9"
  }
 },
 "nbformat": 4,
 "nbformat_minor": 5
}
