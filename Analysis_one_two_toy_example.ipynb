{
 "cells": [
  {
   "cell_type": "code",
   "execution_count": 1,
   "id": "9001883b",
   "metadata": {},
   "outputs": [],
   "source": [
    "from scipy.spatial import Delaunay\n",
    "import numpy as np\n",
    "import scipy as sp\n",
    "from matplotlib import pyplot as plt\n",
    "from matplotlib import cm\n",
    "import time\n",
    "from tvtk.api import tvtk"
   ]
  },
  {
   "cell_type": "code",
   "execution_count": 2,
   "id": "a122cbef",
   "metadata": {},
   "outputs": [],
   "source": [
    "# import selfmade utils\n",
    "from synthdata_utils import grid_torus\n",
    "from makemesh_indices import make_parammesh_vtk_indices, from_indices_to_paramvals"
   ]
  },
  {
   "cell_type": "code",
   "execution_count": 3,
   "id": "ecfba649",
   "metadata": {},
   "outputs": [],
   "source": [
    "grid1 = grid_torus(ngrid_cart = 20, ngrid_tor = 20, R0 = 2)"
   ]
  },
  {
   "cell_type": "code",
   "execution_count": 4,
   "id": "6cfbe566",
   "metadata": {
    "scrolled": false
   },
   "outputs": [],
   "source": [
    "\"\"\"\n",
    "Define some potential that is easy to interpret. Just to have some values to interpolate from.\n",
    "\"\"\"\n",
    "\n",
    "def testpot(r):\n",
    "    return np.exp(-r)\n",
    "\n",
    "tpot_tor = testpot(r = grid1.R)\n",
    "\n",
    "tpot_cart = testpot(r = np.sqrt((np.sqrt(grid1.cart_x**2 + grid1.cart_y**2) - 2)**2 + grid1.cart_z**2))"
   ]
  },
  {
   "cell_type": "code",
   "execution_count": 5,
   "id": "8c56540b",
   "metadata": {},
   "outputs": [],
   "source": [
    "dimgrid = list([x for x in grid1.tor_x.shape[::-1]])\n",
    "sgrid1 = tvtk.StructuredGrid(dimensions=dimgrid)\n",
    "sgrid1.points = grid1.torflat\n",
    "sgrid1.point_data.scalars = tpot_tor.ravel()\n",
    "sgrid1.point_data.scalars.name = \"Radial_field\""
   ]
  },
  {
   "cell_type": "code",
   "execution_count": 34,
   "id": "5c96b39c",
   "metadata": {},
   "outputs": [
    {
     "name": "stdout",
     "output_type": "stream",
     "text": [
      "[1, 2, 3]\n",
      "<class 'str'>\n"
     ]
    }
   ],
   "source": [
    "def func1(*args, **kwargs):\n",
    "    print([arg for arg in args])\n",
    "    for key in kwargs:\n",
    "        print(type(key))\n",
    "\n",
    "func1(1,2,3, r = 1)"
   ]
  },
  {
   "cell_type": "code",
   "execution_count": 37,
   "id": "c7a69a5d",
   "metadata": {},
   "outputs": [
    {
     "name": "stdout",
     "output_type": "stream",
     "text": [
      "tpot_alldir\n"
     ]
    }
   ],
   "source": [
    "str1 = 'tpot_alldir'\n",
    "print(str1[:11])"
   ]
  },
  {
   "cell_type": "code",
   "execution_count": 110,
   "id": "8b62f4d5",
   "metadata": {},
   "outputs": [],
   "source": [
    "\"\"\"\n",
    "Use MMS to confirm that error of grid converges as you increase the number of gridpoints.\n",
    "Strategy:\n",
    "1. Establish all grids with increasing number of points in the cartesian grid.\n",
    "2. Calculate the interpolation\n",
    "3. Compare potential values with the direct solution on the cartesian grid and compute a 1D measure of the error.\n",
    "4. Plot error in loglog and see if the error converges.\n",
    "\n",
    "\"\"\"\n",
    "def MMS_gridres(npnts = 5, init_res = 50, **kwargs):\n",
    "    tik = time.time()\n",
    "\n",
    "    gridlist = []\n",
    "    tpot_cartlist = []\n",
    "    tpot_torlist = []\n",
    "    ngridlist = []\n",
    "    for i in range(npnts):\n",
    "        gridlist.append( grid_torus(ngrid_cart = init_res, ngrid_tor = init_res*(i+1), R0 = 2) )\n",
    "        ngridlist.append(gridlist[i].tor_x.shape)\n",
    "        for key in kwargs:\n",
    "            if key == 'func1':\n",
    "                r_tpot = np.sqrt((np.sqrt(gridlist[i].cart_x**2 + gridlist[i].cart_y**2) - 2)**2 + gridlist[i].cart_z**2)\n",
    "                tpot_cartlist.append( kwargs[key](r = r_tpot ) )\n",
    "                tpot_torlist.append( kwargs[key](r = gridlist[i].R) )\n",
    "            elif key == 'func2_1':\n",
    "                tpot_cartlist.append( kwargs[key](gridlist[i] ) )\n",
    "            elif key == 'func2_2':\n",
    "                tpot_torlist.append( kwargs[key](gridlist[i]) )\n",
    "                    \n",
    "    ngridlist = np.array(ngridlist)\n",
    "\n",
    "    sgrid_list = []\n",
    "    potmesh_vtk_list = []\n",
    "    runtimelist = []\n",
    "    for i in range(len(gridlist)):\n",
    "        print(\"iteration #\", i)\n",
    "        sgrid_list.append(tvtk.StructuredGrid(dimensions=gridlist[i].tor_x.shape[::-1]))\n",
    "        sgrid_list[i].points = gridlist[i].torflat\n",
    "        idxs, ws = make_parammesh_vtk_indices(grid_obj = gridlist[i],sgrid = sgrid_list[i],sp = (0,0,0))\n",
    "        parammesh = from_indices_to_paramvals(idxs=idxs, weights=ws, param_torgrid=tpot_torlist[i])\n",
    "        potmesh_vtk_list.append( parammesh )\n",
    "        tok = time.time()\n",
    "        runtimelist.append(tok-tik)\n",
    "    return potmesh_vtk_list, tpot_cartlist, ngridlist, runtimelist"
   ]
  },
  {
   "cell_type": "code",
   "execution_count": 58,
   "id": "968af3b1",
   "metadata": {},
   "outputs": [
    {
     "name": "stdout",
     "output_type": "stream",
     "text": [
      "iteration # 0\n",
      "1e-08\n",
      "guessing startpoint\n",
      "guessing startpoint\n",
      "iteration # 1\n",
      "1e-08\n",
      "guessing startpoint\n",
      "guessing startpoint\n",
      "iteration # 2\n",
      "1e-08\n",
      "guessing startpoint\n",
      "iteration # 3\n",
      "1e-08\n",
      "guessing startpoint\n",
      "guessing startpoint\n",
      "guessing startpoint\n",
      "iteration # 4\n",
      "1e-08\n",
      "guessing startpoint\n",
      "guessing startpoint\n"
     ]
    }
   ],
   "source": [
    "potmesh_vtk_list, tpot_cartlist, ngridlist, runtimelist = MMS_gridres(func1 = testpot)"
   ]
  },
  {
   "cell_type": "code",
   "execution_count": 99,
   "id": "c92f731d",
   "metadata": {},
   "outputs": [
    {
     "name": "stdout",
     "output_type": "stream",
     "text": [
      "[1.86397538e-08 4.51978916e-09 1.98288108e-09 1.10692948e-09\n",
      " 7.37884369e-10]\n",
      "[1.86397538e-08 4.51978916e-09 1.98288108e-09 1.10692948e-09\n",
      " 7.37884369e-10]\n",
      "[1.86397538e-08 4.51978916e-09 1.98288108e-09 1.10692948e-09\n",
      " 7.37884369e-10]\n"
     ]
    }
   ],
   "source": [
    "\"\"\"\n",
    "Use the l2norm of the difference between the analytical solution and the interpolated solution\n",
    "as the measure of error related to the resolution of the grid.\n",
    "\"\"\"\n",
    "\n",
    "def calc_l2_norm(field):\n",
    "    normconst = np.prod(field.shape)**(3/2)\n",
    "    return np.sqrt(np.nansum(field**2))/normconst\n",
    "\n",
    "l2s = np.zeros((len(potmesh_vtk_list),3))\n",
    "for i in range(len(l2s)):\n",
    "    for j in range(l2s.shape[1]):\n",
    "        l2s[i,j] = calc_l2_norm(field = potmesh_vtk_list[i] - tpot_cartlist[i])\n",
    "\n",
    "\n",
    "print(l2s[:,0])\n",
    "print(l2s[:,1])\n",
    "print(l2s[:,2])"
   ]
  },
  {
   "cell_type": "code",
   "execution_count": 100,
   "id": "aaa9afea",
   "metadata": {},
   "outputs": [
    {
     "data": {
      "text/plain": [
       "array([ 50, 100, 150, 200, 250])"
      ]
     },
     "execution_count": 100,
     "metadata": {},
     "output_type": "execute_result"
    }
   ],
   "source": [
    "ngridlist[:,0]"
   ]
  },
  {
   "cell_type": "code",
   "execution_count": 101,
   "id": "8f778314",
   "metadata": {},
   "outputs": [
    {
     "data": {
      "image/png": "[encoded data removed]",
      "text/plain": [
       "<Figure size 432x288 with 1 Axes>"
      ]
     },
     "metadata": {
      "needs_background": "light"
     },
     "output_type": "display_data"
    }
   ],
   "source": [
    "# make a list over the grid resolution\n",
    "\n",
    "plt.figure()\n",
    "plt.plot(1/ngridlist[:,0], l2s[:,0], '--',label = \"$n_{grid, \\\\hat{r}}$\")\n",
    "plt.plot(1/ngridlist[:,1], l2s[:,1], '-.',label = \"$n_{grid, \\\\hat{\\\\theta}}$\")\n",
    "plt.plot(1/ngridlist[:,2], l2s[:,2], '-',label = \"$n_{grid, \\\\hat{\\\\phi}}$\")\n",
    "plt.xlabel(\"$\\\\frac{1}{n_{grid}}$\")\n",
    "plt.ylabel(\"$L^2(\\\\Phi(\\\\mathbf{r}))$\")\n",
    "plt.xscale(\"log\")\n",
    "plt.yscale(\"log\")\n",
    "plt.legend()\n",
    "plt.show()"
   ]
  },
  {
   "cell_type": "code",
   "execution_count": 97,
   "id": "351550c3",
   "metadata": {},
   "outputs": [],
   "source": [
    "#%%writefile expofit.py\n",
    "\"\"\"\n",
    "Do exponential fit the gridscaling data compared with the l2 norm.\n",
    "\"\"\"\n",
    "def expofit(ngx, ngy, ngz, l2list):\n",
    "    \"\"\"\n",
    "    Do exponential fit of the change in gridpoint res compared to l2 of the noise of a scalar field.\n",
    "    Args:\n",
    "    - ngx, array np.int32, array of grid res along x axis\n",
    "    - ngy, array np.int32, array of grid res along y axis\n",
    "    - ngz, array np.int32, array of grid res along z axis\n",
    "    - l2list, array of np.float64, array of l2 norms for different resolutions\n",
    "    Out:\n",
    "    - None, plots the exponential fit.\n",
    "    \"\"\"\n",
    "    import numpy as np\n",
    "    from matplotlib import pyplot as plt\n",
    "    ax, bx = np.polyfit(np.log(1/ngx), np.log(l2list[:,0]), 1, w=np.sqrt(l2list[:,0]))\n",
    "    ay, by = np.polyfit(np.log(1/ngy), np.log(l2list[:,1]), 1, w=np.sqrt(l2list[:,1]))\n",
    "    az, bz = np.polyfit(np.log(1/ngz), np.log(l2list[:,2]), 1, w=np.sqrt(l2list[:,2]))\n",
    "    \n",
    "    plt.figure()\n",
    "    plt.plot(1/ngx, l2list[:,0], '--o',label = \"$n_{grid, \\\\hat{r}}$\")\n",
    "    plt.plot(1/ngy, l2list[:,1], '-o',label = \"$n_{grid, \\\\hat{\\\\theta}}$\")\n",
    "    plt.plot(1/ngz, l2list[:,2], '-x',label = \"$n_{grid, \\\\hat{\\\\phi}}$\")\n",
    "    plt.plot(1/ngx, np.exp(ax*np.log(1/ngx) + bx), '--',label = \"$\\\\approx n_{grid, \\\\hat{r}}$\")\n",
    "    plt.plot(1/ngy, np.exp(ay*np.log(1/ngy) + by), '-.',label = \"$\\\\approx n_{grid, \\\\hat{\\\\theta}}$\")\n",
    "    plt.plot(1/ngz, np.exp(az*np.log(1/ngz) + bz), '-',label = \"$\\\\approx n_{grid, \\\\hat{\\\\phi}}$\")\n",
    "    plt.xlabel(\"$\\\\frac{1}{n_{grid}}$\")\n",
    "    plt.ylabel(\"$L^2(\\\\Phi(\\\\mathbf{r}))$\")\n",
    "    plt.xscale(\"log\")\n",
    "    plt.yscale(\"log\")\n",
    "    plt.legend()\n",
    "    plt.show()"
   ]
  },
  {
   "cell_type": "code",
   "execution_count": 102,
   "id": "9567fbf3",
   "metadata": {},
   "outputs": [
    {
     "data": {
      "image/png": "[encoded data removed]",
      "text/plain": [
       "<Figure size 432x288 with 1 Axes>"
      ]
     },
     "metadata": {
      "needs_background": "light"
     },
     "output_type": "display_data"
    }
   ],
   "source": [
    "#from expofit import expofit\n",
    "expofit(ngx = ngridlist[:,0], ngy = ngridlist[:,1], ngz = ngridlist[:,2], l2list = l2s)"
   ]
  },
  {
   "cell_type": "code",
   "execution_count": 118,
   "id": "9bc0da84",
   "metadata": {},
   "outputs": [],
   "source": [
    "\"\"\"\n",
    "Now define a potential which varies in all directions. The potential varies periodically in theta and phi direction.\n",
    "\"\"\"\n",
    "def tpot_alldir_cart(grid_obj):\n",
    "    r = np.sqrt((np.sqrt(grid_obj.cart_x**2 + grid_obj.cart_y**2) - 2)**2 + grid_obj.cart_z**2)\n",
    "    theta = np.arctan2(grid_obj.cart_z,np.sqrt(grid_obj.cart_x**2 + grid_obj.cart_y**2) - 2)\n",
    "    phi = np.arctan2(grid_obj.cart_y,grid_obj.cart_x)\n",
    "    return np.exp(-r)*np.sin(theta)*np.cos(phi)\n",
    "\n",
    "def tpot_alldir_tor(grid_obj):\n",
    "    return np.exp(-grid_obj.R)*np.sin(grid_obj.theta)*np.cos(grid_obj.phi)"
   ]
  },
  {
   "cell_type": "code",
   "execution_count": 119,
   "id": "8949ce2d",
   "metadata": {},
   "outputs": [
    {
     "name": "stdout",
     "output_type": "stream",
     "text": [
      "iteration # 0\n",
      "1e-08\n",
      "guessing startpoint\n",
      "guessing startpoint\n",
      "iteration # 1\n",
      "1e-08\n",
      "guessing startpoint\n",
      "guessing startpoint\n",
      "guessing startpoint\n",
      "iteration # 2\n",
      "1e-08\n",
      "guessing startpoint\n",
      "guessing startpoint\n",
      "guessing startpoint\n",
      "guessing startpoint\n",
      "guessing startpoint\n",
      "guessing startpoint\n",
      "guessing startpoint\n",
      "iteration # 3\n",
      "1e-08\n",
      "guessing startpoint\n",
      "guessing startpoint\n",
      "guessing startpoint\n",
      "iteration # 4\n",
      "1e-08\n",
      "guessing startpoint\n",
      "guessing startpoint\n",
      "guessing startpoint\n",
      "iteration # 5\n",
      "1e-08\n",
      "guessing startpoint\n",
      "guessing startpoint\n",
      "guessing startpoint\n",
      "guessing startpoint\n",
      "guessing startpoint\n",
      "guessing startpoint\n",
      "guessing startpoint\n",
      "iteration # 6\n",
      "1e-08\n",
      "guessing startpoint\n",
      "guessing startpoint\n",
      "guessing startpoint\n",
      "guessing startpoint\n",
      "guessing startpoint\n",
      "guessing startpoint\n",
      "guessing startpoint\n",
      "guessing startpoint\n",
      "guessing startpoint\n",
      "guessing startpoint\n",
      "guessing startpoint\n",
      "iteration # 7\n",
      "1e-08\n",
      "guessing startpoint\n",
      "guessing startpoint\n",
      "guessing startpoint\n",
      "guessing startpoint\n",
      "guessing startpoint\n",
      "guessing startpoint\n",
      "guessing startpoint\n",
      "guessing startpoint\n",
      "guessing startpoint\n",
      "guessing startpoint\n",
      "guessing startpoint\n",
      "guessing startpoint\n",
      "guessing startpoint\n",
      "guessing startpoint\n",
      "guessing startpoint\n",
      "guessing startpoint\n",
      "iteration # 8\n",
      "1e-08\n",
      "guessing startpoint\n",
      "guessing startpoint\n",
      "guessing startpoint\n",
      "guessing startpoint\n",
      "guessing startpoint\n",
      "guessing startpoint\n",
      "guessing startpoint\n",
      "iteration # 9\n",
      "1e-08\n",
      "guessing startpoint\n"
     ]
    }
   ],
   "source": [
    "potmesh_vtk_list2, tpot_cartlist2, ngridlist2, runtimelist2 = MMS_gridres(npnts = 10,\n",
    "                                                                          init_res = 50,\n",
    "                                                                          func2_1 = tpot_alldir_cart, \n",
    "                                                                          func2_2 = tpot_alldir_tor)"
   ]
  },
  {
   "cell_type": "code",
   "execution_count": 120,
   "id": "afecc7e7",
   "metadata": {},
   "outputs": [
    {
     "data": {
      "text/plain": [
       "<matplotlib.colorbar.Colorbar at 0x7f10737182e8>"
      ]
     },
     "execution_count": 120,
     "metadata": {},
     "output_type": "execute_result"
    },
    {
     "data": {
      "image/png": "[encoded data removed]",
      "text/plain": [
       "<Figure size 432x288 with 2 Axes>"
      ]
     },
     "metadata": {
      "needs_background": "light"
     },
     "output_type": "display_data"
    }
   ],
   "source": [
    "plt.imshow(potmesh_vtk_list2[0][:,24].T[::-1])\n",
    "plt.colorbar()"
   ]
  },
  {
   "cell_type": "code",
   "execution_count": 121,
   "id": "f112f174",
   "metadata": {},
   "outputs": [
    {
     "data": {
      "text/plain": [
       "<matplotlib.colorbar.Colorbar at 0x7f107316f828>"
      ]
     },
     "execution_count": 121,
     "metadata": {},
     "output_type": "execute_result"
    },
    {
     "data": {
      "image/png": "[encoded data removed]",
      "text/plain": [
       "<Figure size 432x288 with 2 Axes>"
      ]
     },
     "metadata": {
      "needs_background": "light"
     },
     "output_type": "display_data"
    }
   ],
   "source": [
    "plt.imshow(tpot_cartlist2[0][:,24].T[::-1])\n",
    "plt.colorbar()"
   ]
  },
  {
   "cell_type": "code",
   "execution_count": 122,
   "id": "704035f2",
   "metadata": {},
   "outputs": [
    {
     "data": {
      "image/png": "[encoded data removed]",
      "text/plain": [
       "<Figure size 432x288 with 1 Axes>"
      ]
     },
     "metadata": {
      "needs_background": "light"
     },
     "output_type": "display_data"
    }
   ],
   "source": [
    "l2s2 = np.zeros((len(potmesh_vtk_list2),3))\n",
    "for i in range(len(l2s2)):\n",
    "    for j in range(l2s2.shape[1]):\n",
    "        l2s2[i,j] = calc_l2_norm(field = potmesh_vtk_list2[i] - tpot_cartlist2[i])\n",
    "expofit(ngx = ngridlist2[:,0], ngy = ngridlist2[:,1], ngz = ngridlist2[:,2], l2list = l2s2)"
   ]
  }
 ],
 "metadata": {
  "kernelspec": {
   "display_name": "Python 3",
   "language": "python",
   "name": "python3"
  },
  "language_info": {
   "codemirror_mode": {
    "name": "ipython",
    "version": 3
   },
   "file_extension": ".py",
   "mimetype": "text/x-python",
   "name": "python",
   "nbconvert_exporter": "python",
   "pygments_lexer": "ipython3",
   "version": "3.6.9"
  }
 },
 "nbformat": 4,
 "nbformat_minor": 5
}
