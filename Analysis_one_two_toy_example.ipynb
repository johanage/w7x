{
 "cells": [
  {
   "cell_type": "code",
   "execution_count": 15,
   "id": "9001883b",
   "metadata": {},
   "outputs": [],
   "source": [
    "from scipy.spatial import Delaunay\n",
    "import numpy as np\n",
    "import scipy as sp\n",
    "from matplotlib import pyplot as plt\n",
    "from matplotlib import cm\n",
    "import time\n",
    "from tvtk.api import tvtk"
   ]
  },
  {
   "cell_type": "code",
   "execution_count": 16,
   "id": "a122cbef",
   "metadata": {},
   "outputs": [],
   "source": [
    "# import selfmade utils\n",
    "from synthdata_utils import grid_torus\n",
    "from makemesh_indices import make_parammesh_vtk_indices, from_indices_to_paramvals"
   ]
  },
  {
   "cell_type": "code",
   "execution_count": 17,
   "id": "ecfba649",
   "metadata": {},
   "outputs": [],
   "source": [
    "grid1 = grid_torus(ngrid_cart = 20, ngrid_tor = 20, R0 = 2)"
   ]
  },
  {
   "cell_type": "code",
   "execution_count": 18,
   "id": "6cfbe566",
   "metadata": {
    "scrolled": false
   },
   "outputs": [],
   "source": [
    "\"\"\"\n",
    "Define some potential that is easy to interpret. Just to have some values to interpolate from.\n",
    "\"\"\"\n",
    "\n",
    "def testpot(r):\n",
    "    return np.exp(-r)\n",
    "\n",
    "tpot_tor = testpot(r = grid1.R)\n",
    "\n",
    "tpot_cart = testpot(r = np.sqrt((np.sqrt(grid1.cart_x**2 + grid1.cart_y**2) - 2)**2 + grid1.cart_z**2))"
   ]
  },
  {
   "cell_type": "code",
   "execution_count": 19,
   "id": "8c56540b",
   "metadata": {},
   "outputs": [],
   "source": [
    "dimgrid = list([x for x in grid1.tor_x.shape[::-1]])\n",
    "sgrid1 = tvtk.StructuredGrid(dimensions=dimgrid)\n",
    "sgrid1.points = grid1.torflat\n",
    "sgrid1.point_data.scalars = tpot_tor.ravel()\n",
    "sgrid1.point_data.scalars.name = \"Radial_field\""
   ]
  },
  {
   "cell_type": "code",
   "execution_count": 20,
   "id": "8bd950cf",
   "metadata": {},
   "outputs": [
    {
     "name": "stdout",
     "output_type": "stream",
     "text": [
      "1e-08\n",
      "guessing startpoint\n",
      "guessing startpoint\n"
     ]
    }
   ],
   "source": [
    "potmesh1, runtime1 = make_parammesh_vtk_indices(grid_obj=grid1, sgrid=sgrid1, sp = (0,0,0))"
   ]
  },
  {
   "cell_type": "code",
   "execution_count": 21,
   "id": "b5859767",
   "metadata": {},
   "outputs": [
    {
     "data": {
      "text/plain": [
       "(20, 20, 20, 8)"
      ]
     },
     "execution_count": 21,
     "metadata": {},
     "output_type": "execute_result"
    }
   ],
   "source": [
    "potmesh1.shape\n",
    "# np.max(np.abs(potmesh1-tpot_cart))"
   ]
  },
  {
   "cell_type": "code",
   "execution_count": 22,
   "id": "8b62f4d5",
   "metadata": {},
   "outputs": [
    {
     "name": "stdout",
     "output_type": "stream",
     "text": [
      "This cell use  2.0262954235076904 seconds to run.\n"
     ]
    }
   ],
   "source": [
    "\"\"\"\n",
    "Use MMS to confirm that error of grid converges as you increase the number of gridpoints.\n",
    "Strategy:\n",
    "1. Establish all grids with increasing number of points in the cartesian grid.\n",
    "2. Calculate the interpolation\n",
    "3. Compare potential values with the direct solution on the cartesian grid and compute a 1D measure of the error.\n",
    "4. Plot error in loglog and see if the error converges.\n",
    "\n",
    "\"\"\"\n",
    "tik = time.time()\n",
    "\n",
    "gridlist = []\n",
    "tpot_cartlist = []\n",
    "tpot_torlist = []\n",
    "ngridlist = []\n",
    "for i in range(5):\n",
    "    gridlist.append( grid_torus(ngrid_cart = 50, ngrid_tor = 50*(i+1), R0 = 2) )\n",
    "    ngridlist.append(gridlist[i].tor_x.shape)\n",
    "    tpot_cartlist.append( testpot(r = np.sqrt((np.sqrt(gridlist[i].cart_x**2 + gridlist[i].cart_y**2) - 2)**2 + \n",
    "                                              gridlist[i].cart_z**2)) )\n",
    "    tpot_torlist.append( testpot(r = gridlist[i].R) )\n",
    "\n",
    "ngridlist = np.array(ngridlist)\n",
    "tok = time.time()\n",
    "print(\"This cell use \", tok - tik, \"seconds to run.\")"
   ]
  },
  {
   "cell_type": "code",
   "execution_count": 23,
   "id": "42792373",
   "metadata": {},
   "outputs": [
    {
     "name": "stdout",
     "output_type": "stream",
     "text": [
      "iteration # 0\n",
      "1e-08\n",
      "guessing startpoint\n",
      "guessing startpoint\n",
      "guessing startpoint\n",
      "guessing startpoint\n",
      "guessing startpoint\n",
      "guessing startpoint\n",
      "guessing startpoint\n",
      "guessing startpoint\n",
      "guessing startpoint\n",
      "guessing startpoint\n",
      "iteration # 1\n",
      "1e-08\n",
      "guessing startpoint\n",
      "guessing startpoint\n",
      "guessing startpoint\n",
      "guessing startpoint\n",
      "guessing startpoint\n",
      "guessing startpoint\n",
      "iteration # 2\n",
      "1e-08\n",
      "guessing startpoint\n",
      "iteration # 3\n",
      "1e-08\n",
      "guessing startpoint\n",
      "guessing startpoint\n",
      "guessing startpoint\n",
      "guessing startpoint\n",
      "guessing startpoint\n",
      "guessing startpoint\n",
      "guessing startpoint\n",
      "iteration # 4\n",
      "1e-08\n",
      "guessing startpoint\n",
      "guessing startpoint\n",
      "guessing startpoint\n",
      "guessing startpoint\n",
      "guessing startpoint\n",
      "guessing startpoint\n",
      "guessing startpoint\n"
     ]
    }
   ],
   "source": [
    "sgrid_list = []\n",
    "potmesh_vtk_list = []\n",
    "runtimelist = []\n",
    "for i in range(len(gridlist)):\n",
    "    print(\"iteration #\", i)\n",
    "    tik = time.time()\n",
    "    sgrid_list.append(tvtk.StructuredGrid(dimensions=gridlist[i].tor_x.shape[::-1]))\n",
    "    sgrid_list[i].points = gridlist[i].torflat\n",
    "    idxs, ws = make_parammesh_vtk_indices(grid_obj = gridlist[i],sgrid = sgrid_list[i],sp = (0,0,0))\n",
    "    parammesh = from_indices_to_paramvals(idxs=idxs, weights=ws, param_torgrid=tpot_torlist[i])\n",
    "    potmesh_vtk_list.append( parammesh )\n",
    "    tok = time.time()\n",
    "    runtimelist.append(tok-tik)"
   ]
  },
  {
   "cell_type": "code",
   "execution_count": 24,
   "id": "9b41cdb8",
   "metadata": {},
   "outputs": [
    {
     "data": {
      "text/plain": [
       "<matplotlib.colorbar.Colorbar at 0x7f433e540f28>"
      ]
     },
     "execution_count": 24,
     "metadata": {},
     "output_type": "execute_result"
    },
    {
     "data": {
      "image/png": "[encoded data removed]",
      "text/plain": [
       "<Figure size 432x288 with 2 Axes>"
      ]
     },
     "metadata": {
      "needs_background": "light"
     },
     "output_type": "display_data"
    }
   ],
   "source": [
    "plt.imshow(potmesh_vtk_list[4][:,potmesh_vtk_list[4].shape[1]//2 - 1].T)\n",
    "plt.colorbar()"
   ]
  },
  {
   "cell_type": "code",
   "execution_count": 26,
   "id": "5434fc2d",
   "metadata": {},
   "outputs": [
    {
     "data": {
      "text/plain": [
       "<matplotlib.colorbar.Colorbar at 0x7f433e426d30>"
      ]
     },
     "execution_count": 26,
     "metadata": {},
     "output_type": "execute_result"
    },
    {
     "data": {
      "image/png": "[encoded data removed]",
      "text/plain": [
       "<Figure size 432x288 with 2 Axes>"
      ]
     },
     "metadata": {
      "needs_background": "light"
     },
     "output_type": "display_data"
    }
   ],
   "source": [
    "plt.imshow(tpot_cartlist[4][:,tpot_cartlist[4].shape[1]//2 - 1].T)\n",
    "plt.colorbar()"
   ]
  },
  {
   "cell_type": "code",
   "execution_count": 27,
   "id": "c92f731d",
   "metadata": {},
   "outputs": [
    {
     "name": "stdout",
     "output_type": "stream",
     "text": [
      "[1.86397538e-08 4.51978916e-09 1.98288108e-09 1.10692948e-09\n",
      " 7.37884369e-10]\n",
      "[1.86397538e-08 4.51978916e-09 1.98288108e-09 1.10692948e-09\n",
      " 7.37884369e-10]\n",
      "[1.86397538e-08 4.51978916e-09 1.98288108e-09 1.10692948e-09\n",
      " 7.37884369e-10]\n"
     ]
    }
   ],
   "source": [
    "\"\"\"\n",
    "Use the l2norm of the difference between the analytical solution and the interpolated solution\n",
    "as the measure of error related to the resolution of the grid.\n",
    "\"\"\"\n",
    "\n",
    "def calc_l2_norm(field):\n",
    "    normconst = np.prod(field.shape)**(3/2)\n",
    "    return np.sqrt(np.nansum(field**2))/normconst\n",
    "\n",
    "l2s = np.zeros((len(potmesh_vtk_list),3))\n",
    "for i in range(len(l2s)):\n",
    "    for j in range(l2s.shape[1]):\n",
    "        l2s[i,j] = calc_l2_norm(field = potmesh_vtk_list[i] - tpot_cartlist[i])\n",
    "\n",
    "\n",
    "print(l2s[:,0])\n",
    "print(l2s[:,1])\n",
    "print(l2s[:,2])"
   ]
  },
  {
   "cell_type": "code",
   "execution_count": 28,
   "id": "aaa9afea",
   "metadata": {},
   "outputs": [
    {
     "data": {
      "text/plain": [
       "array([ 50, 100, 150, 200, 250])"
      ]
     },
     "execution_count": 28,
     "metadata": {},
     "output_type": "execute_result"
    }
   ],
   "source": [
    "ngridlist[:,0]"
   ]
  },
  {
   "cell_type": "code",
   "execution_count": 29,
   "id": "8f778314",
   "metadata": {},
   "outputs": [
    {
     "data": {
      "image/png": "[encoded data removed]",
      "text/plain": [
       "<Figure size 432x288 with 1 Axes>"
      ]
     },
     "metadata": {
      "needs_background": "light"
     },
     "output_type": "display_data"
    }
   ],
   "source": [
    "# make a list over the grid resolution\n",
    "\n",
    "plt.figure()\n",
    "plt.plot(1/ngridlist[:,0], l2s[:,0], '--',label = \"$n_{grid, \\\\hat{r}}$\")\n",
    "plt.plot(1/ngridlist[:,1], l2s[:,1], '-.',label = \"$n_{grid, \\\\hat{\\\\theta}}$\")\n",
    "plt.plot(1/ngridlist[:,2], l2s[:,2], '-',label = \"$n_{grid, \\\\hat{\\\\phi}}$\")\n",
    "plt.xlabel(\"$\\\\frac{1}{n_{grid}}$\")\n",
    "plt.ylabel(\"$L^2(\\\\Phi(\\\\mathbf{r}))$\")\n",
    "plt.xscale(\"log\")\n",
    "plt.yscale(\"log\")\n",
    "plt.legend()\n",
    "plt.show()"
   ]
  },
  {
   "cell_type": "code",
   "execution_count": 32,
   "id": "351550c3",
   "metadata": {},
   "outputs": [
    {
     "data": {
      "image/png": "[encoded data removed]",
      "text/plain": [
       "<Figure size 432x288 with 1 Axes>"
      ]
     },
     "metadata": {
      "needs_background": "light"
     },
     "output_type": "display_data"
    }
   ],
   "source": [
    "#%%writefile expofit.py\n",
    "\"\"\"\n",
    "Do exponential fit the gridscaling data compared with the l2 norm.\n",
    "\"\"\"\n",
    "def expofit(ngx, ngy, ngz, l2list):\n",
    "    \"\"\"\n",
    "    Do exponential fit of the change in gridpoint res compared to l2 of the noise of a scalar field.\n",
    "    Args:\n",
    "    - ngx, array np.int32, array of grid res along x axis\n",
    "    - ngy, array np.int32, array of grid res along y axis\n",
    "    - ngz, array np.int32, array of grid res along z axis\n",
    "    - l2list, array of np.float64, array of l2 norms for different resolutions\n",
    "    Out:\n",
    "    - None, plots the exponential fit.\n",
    "    \"\"\"\n",
    "    import numpy as np\n",
    "    ax, bx = np.polyfit(np.log(1/ngx), np.log(l2list[:,0]), 1, w=np.sqrt(l2list[:,0]))\n",
    "    ay, by = np.polyfit(np.log(1/ngy), np.log(l2list[:,1]), 1, w=np.sqrt(l2list[:,1]))\n",
    "    az, bz = np.polyfit(np.log(1/ngz), np.log(l2list[:,2]), 1, w=np.sqrt(l2list[:,2]))\n",
    "    \n",
    "    plt.figure()\n",
    "    plt.plot(1/ngx, l2list[:,0], '--',label = \"$n_{grid, \\\\hat{r}}$\")\n",
    "    plt.plot(1/ngy, l2list[:,1], '-.',label = \"$n_{grid, \\\\hat{\\\\theta}}$\")\n",
    "    plt.plot(1/ngz, l2list[:,2], '-',label = \"$n_{grid, \\\\hat{\\\\phi}}$\")\n",
    "    plt.plot(1/ngx, np.exp(ax*np.log(1/ngx) + bx), '--',label = \"$\\\\approx n_{grid, \\\\hat{r}}$\")\n",
    "    plt.plot(1/ngy, np.exp(ay*np.log(1/ngy) + by), '-.',label = \"$\\\\approx n_{grid, \\\\hat{\\\\theta}}$\")\n",
    "    plt.plot(1/ngz, np.exp(az*np.log(1/ngz) + bz), '-',label = \"$\\\\approx n_{grid, \\\\hat{\\\\phi}}$\")\n",
    "    plt.xlabel(\"$\\\\frac{1}{n_{grid}}$\")\n",
    "    plt.ylabel(\"$L^2(\\\\Phi(\\\\mathbf{r}))$\")\n",
    "    plt.xscale(\"log\")\n",
    "    plt.yscale(\"log\")\n",
    "    plt.legend()\n",
    "    plt.show()\n",
    "    \n",
    "expofit(ngx = ngridlist[:,0], ngy = ngridlist[:,1], ngz = ngridlist[:,2], l2list = l2s)"
   ]
  }
 ],
 "metadata": {
  "kernelspec": {
   "display_name": "Python 3",
   "language": "python",
   "name": "python3"
  },
  "language_info": {
   "codemirror_mode": {
    "name": "ipython",
    "version": 3
   },
   "file_extension": ".py",
   "mimetype": "text/x-python",
   "name": "python",
   "nbconvert_exporter": "python",
   "pygments_lexer": "ipython3",
   "version": "3.6.9"
  }
 },
 "nbformat": 4,
 "nbformat_minor": 5
}
