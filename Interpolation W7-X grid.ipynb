{
 "cells": [
  {
   "cell_type": "code",
   "execution_count": 1,
   "id": "58787804",
   "metadata": {},
   "outputs": [],
   "source": [
    "# computational libs\n",
    "from scipy.spatial import Delaunay\n",
    "import numpy as np\n",
    "import scipy as sp\n",
    "from matplotlib import pyplot as plt\n",
    "from matplotlib import cm\n",
    "import time\n",
    "import random\n",
    "from numba import jit\n",
    "# %matplotlib\n",
    "\n",
    "#vtk libs\n",
    "from tvtk.api import tvtk\n",
    "from mayavi.scripts import mayavi2\n",
    "from PyQt5 import QtCore\n",
    "import sip\n",
    "import vtk\n",
    "\n",
    "#emc3 libs\n",
    "import numpy as np\n",
    "import pandas as pd\n",
    "import xarray as xr\n",
    "import netCDF4"
   ]
  },
  {
   "cell_type": "code",
   "execution_count": 2,
   "id": "e8d8cd2e",
   "metadata": {},
   "outputs": [],
   "source": [
    "# importing the mayavi plotting lib\n",
    "from mayavi import mlab\n",
    "# this must be run as the first line, telling jupyter that can be interactively used\n",
    "%gui qt"
   ]
  },
  {
   "cell_type": "code",
   "execution_count": 3,
   "id": "a87d6cb4",
   "metadata": {},
   "outputs": [],
   "source": [
    "# importing widget libs to make interactive plots\n",
    "import ipywidgets as widgets\n",
    "from ipywidgets import interact, interactive, fixed, interact_manual"
   ]
  },
  {
   "cell_type": "code",
   "execution_count": 4,
   "id": "17f870c9",
   "metadata": {},
   "outputs": [],
   "source": [
    "tvtk.StructuredGrid.find_and_get_cell?"
   ]
  },
  {
   "cell_type": "code",
   "execution_count": 5,
   "id": "cff49496",
   "metadata": {},
   "outputs": [
    {
     "name": "stdout",
     "output_type": "stream",
     "text": [
      "Overwriting make_parammesh_vtk.py\n"
     ]
    }
   ],
   "source": [
    "%%writefile make_parammesh_vtk.py\n",
    "\n",
    "def make_parammesh_vtk(grid_obj, sgrid, param_torgrid, ret_nans = False):\n",
    "    \"\"\"\n",
    "    Args:\n",
    "     - grid_obj, grid object defined in one of the cells below\n",
    "     - sgrid, tvtk.StructureGrid object\n",
    "     - param_torgrid, type ndarray, parameter of interest on a toroidal meshgrid structure\n",
    "     - renans, bool, return NaN vales of points found in a cell or not\n",
    "    Out:\n",
    "     - parammesh, ndarray, interpolated parameter values on a 3d cartesian grid\n",
    "    \"\"\"\n",
    "    import numpy as np\n",
    "    import vtk\n",
    "    from tvtk.api import tvtk\n",
    "    # make a dict to store potential nan values that appear in points found in a cell\n",
    "    dictnans = {}\n",
    "    notfound = []\n",
    "    \n",
    "    # make the mehsgrid for the parameter we want to interpolate form the original data\n",
    "    parammesh = np.nan*np.ones(grid_obj.cart_x.shape)\n",
    "    \n",
    "    # pass initial/default values to the find_cell function\n",
    "    cell = None\n",
    "    cid = int(6e3)\n",
    "    tol2 = 1e-3\n",
    "    subid = vtk.reference(-1)\n",
    "    pcoord = np.zeros((3))\n",
    "    weights = np.zeros(8)\n",
    "    \n",
    "    # iterate through points in the cartesian grid\n",
    "    for pid, p in enumerate(grid_obj.cartflat):\n",
    "        #find the cell p is interior to\n",
    "        cid = sgrid.find_cell(p, cell, cid, tol2, subid, pcoord, weights)\n",
    "        # if find_cell returns -1 there is either a numerical error or it did not find the point in that cell\n",
    "        if cid == -1:\n",
    "            notfound.append(cid)\n",
    "            continue\n",
    "        else:            \n",
    "            # unravel index of each vertex of the cell found from the toroidal grid\n",
    "            newgridshape = (grid_obj.tor_x.shape[0]-1, grid_obj.tor_x.shape[1]-1, grid_obj.tor_x.shape[2]-1)\n",
    "            store_cid[pid] = cid\n",
    "            store_weights[pid, :] = weights\n",
    "            # do the rest later\n",
    "            ir, it, ip = np.unravel_index(cid, newgridshape)\n",
    "\n",
    "            #find the potential values of each vertex of the cell and interpolate the data using weights\n",
    "            pvals = param_torgrid[ir:(ir+2), it:(it+2), ip:(ip+2)].flatten() * weights\n",
    "            paramval = np.nansum(pvals.ravel(), axis = 0)\n",
    "\n",
    "            # find coordinate indices of the point in the cartesian grid structure with cartesian indicies\n",
    "            coord_idx = np.argwhere((grid_obj.cart_x == p[0]) & \n",
    "                                    (grid_obj.cart_y == p[1]) & \n",
    "                                    (grid_obj.cart_z == p[2]))[0] \n",
    "            # Assign the cartesian parameter mesh the parameter value\n",
    "            parammesh[coord_idx[0], coord_idx[1], coord_idx[2]] = paramval\n",
    "            \n",
    "    # if user input chosen return nans then return nans \n",
    "    if ret_nans:\n",
    "        # generate different return when including the dictionary containing the nans\n",
    "        return parammesh, dictnans, notfound\n",
    "    else:\n",
    "        return parammesh, notfound"
   ]
  },
  {
   "cell_type": "code",
   "execution_count": 10,
   "id": "dea01443",
   "metadata": {},
   "outputs": [
    {
     "name": "stdout",
     "output_type": "stream",
     "text": [
      "Overwriting manual_tessalation.py\n"
     ]
    }
   ],
   "source": [
    "%%writefile manual_tessalation.py\n",
    "\n",
    "def manual_tessalation(grid_obj, int_R = [None, None], int_t = [None, None], int_p = [None, None]):\n",
    "    \"\"\"\n",
    "    The problem is that it is not possible to merge two Delaunay objects or add additional points.\n",
    "    Possible strategy is to do a search and find out for which of the tetrahedra of each 3d romboid \n",
    "    each point is interior to.\n",
    "    \"\"\"\n",
    "    dict_p_tetrahedron = {}\n",
    "    n = 3\n",
    "    gridflat = np.zeros((n**3,) + (3,))\n",
    "    \n",
    "    \"\"\"\n",
    "    Defining the restriction on the region we do the triangulation on. \n",
    "    Iterate from a to b in all directions.\n",
    "    \"\"\"\n",
    "    air = int_R[0]\n",
    "    bir = int_R[1]\n",
    "    if not bir:\n",
    "        bir = grid_obj.tor_x.shape[0]-n\n",
    "    if not air:\n",
    "        air = 0\n",
    "        \n",
    "    ait = int_t[0]\n",
    "    bit = int_t[1]\n",
    "    if not bit:\n",
    "        bit= grid_obj.tor_x.shape[1]\n",
    "    if not ait:\n",
    "        ait = 0\n",
    "        \n",
    "    aip = int_p[0]\n",
    "    bip = int_p[1]\n",
    "    if not bip:\n",
    "        bip = grid_obj.tor_x.shape[2]-n\n",
    "    if not aip:\n",
    "        aip = 0\n",
    "        \n",
    "\n",
    "    for ir in range(air, bir):\n",
    "        for it in range(ait, bit):\n",
    "            for ip in range(aip, bip):\n",
    "                if grid_obj.tor_x.shape[1]-n <= it:\n",
    "                    nlow = it-grid_obj.tor_x.shape[1]\n",
    "                    nhigh = nlow + n-1\n",
    "                    idxs_t = np.linspace(nlow,nhigh,n, dtype = np.int32)\n",
    "                    gridflat[:,0] = grid_obj.tor_x[ir:(ir + n), idxs_t, ip:(ip + n)].flatten()\n",
    "                    gridflat[:,1] = grid_obj.tor_y[ir:(ir + n), idxs_t, ip:(ip + n)].flatten()\n",
    "                    gridflat[:,2] = grid_obj.tor_z[ir:(ir + n), idxs_t, ip:(ip + n)].flatten()\n",
    "                else:\n",
    "                    gridflat[:,0] = grid_obj.tor_x[ir:(ir + n), it:(it + n), ip:(ip + n)].flatten()\n",
    "                    gridflat[:,1] = grid_obj.tor_y[ir:(ir + n), it:(it + n), ip:(ip + n)].flatten()\n",
    "                    gridflat[:,2] = grid_obj.tor_z[ir:(ir + n), it:(it + n), ip:(ip + n)].flatten()\n",
    "                tri = Delaunay(gridflat)\n",
    "                idx_tri = tri.simplices\n",
    "                coord_tri = gridflat[idx_tri]\n",
    "\n",
    "                minx = np.min(gridflat[:,0])\n",
    "                maxx = np.max(gridflat[:,0])\n",
    "                miny = np.min(gridflat[:,1])\n",
    "                maxy = np.max(gridflat[:,1])\n",
    "                minz = np.min(gridflat[:,2])\n",
    "                maxz = np.max(gridflat[:,2])\n",
    "\n",
    "                epsx = grid_obj.cart_x[1,0,0] - grid_obj.cart_x[0,0,0]\n",
    "                epsy = grid_obj.cart_y[0,1,0] - grid_obj.cart_y[0,0,0]\n",
    "                epsz = grid_obj.cart_z[0,0,1] - grid_obj.cart_z[0,0,0]\n",
    "            \n",
    "                idx_inside = np.argwhere((minx - epsx < grid_obj.cartflat[:,0]) & (maxx + epsx > grid_obj.cartflat[:,0]) &\n",
    "                                         (miny - epsy < grid_obj.cartflat[:,1]) & (maxy + epsy > grid_obj.cartflat[:,1]) &\n",
    "                                         (minz - epsz < grid_obj.cartflat[:,2]) & (maxz + epsz > grid_obj.cartflat[:,2]) )\n",
    "                for i in idx_inside:\n",
    "                    p = grid_obj.cartflat[i][0]\n",
    "                    idx_simplex_embed_p = tri.find_simplex(p)\n",
    "                    if idx_simplex_embed_p != -1:\n",
    "                        p_tuple = tuple(list(p))\n",
    "                        dict_p_tetrahedron[p_tuple] = coord_tri[idx_simplex_embed_p]                \n",
    "\n",
    "    return dict_p_tetrahedron"
   ]
  },
  {
   "cell_type": "code",
   "execution_count": 11,
   "id": "7f6c20a3",
   "metadata": {},
   "outputs": [
    {
     "name": "stdout",
     "output_type": "stream",
     "text": [
      "Overwriting interpolation_p_in_simplex.py\n"
     ]
    }
   ],
   "source": [
    "%%writefile interpolation_p_in_simplex.py\n",
    "\n",
    "\"\"\"\n",
    "Now that we have found all coordinates and \n",
    "the tetrahedra of which they are interior, we want to assign values to each point\n",
    "interior to each tetrahedra by using an interpolation scheme.\n",
    "\n",
    "Interpolation scheme 1:\n",
    "\n",
    "Weighted values by normalized inverse distance to each vertex of the tetrahedron.\n",
    "By normalized we mean the sum of the inverse distances should equal 1.\n",
    "\"\"\"\n",
    "\n",
    "def interpolation_p_in_simplex(p, simplex, dict_vals):\n",
    "    \"\"\"\n",
    "    Args:\n",
    "    p - ndarray np.float64, (x,y,z) cart coords of p in tetrahedron/simplex, dim (3,)\n",
    "    simplex - ndarray np.float64, (x,y,z) cart coord of each vertex of tetrahedron/simplex, dim (4,3)\n",
    "    dict_vals - dictionary value scalar valuesof potential, key coord of a vertex, \n",
    "                len = number of grid points in toroidal coord\n",
    "    Out:\n",
    "    paramval = ndarray np.float64, scalar, \n",
    "               param value interpolated from param vals at vertices, dim (1,)\n",
    "    \"\"\"\n",
    "    vals = []\n",
    "    for i in range(len(simplex)):\n",
    "        vals.append(dict_vals[tuple(simplex[i])])\n",
    "    vals = np.asarray(vals, np.float64)\n",
    "    euc_dists = np.sqrt(np.sum((simplex - p)**2, axis = 1)) + 1e-8\n",
    "    N = 1/(np.sum(1/euc_dists, axis=0))\n",
    "    paramval = np.sum(N*vals/euc_dists, axis = 0)\n",
    "    return paramval"
   ]
  },
  {
   "cell_type": "code",
   "execution_count": 12,
   "id": "8b11f645",
   "metadata": {},
   "outputs": [
    {
     "name": "stdout",
     "output_type": "stream",
     "text": [
      "Overwriting interpolation_p_in_simplex.py\n"
     ]
    }
   ],
   "source": [
    "%%writefile interpolation_p_in_simplex.py\n",
    "\"\"\"\n",
    "Now test the interpolation method wiht actual potential data from the exponentially decaying potential.\n",
    "\"\"\"\n",
    "def make_param_mesh(dict_p_tetra, grid_obj, param_torgrid, ret_dict = False, ret_nans = False):\n",
    "    \"\"\"\n",
    "    Args:\n",
    "     - dict_p_tetra, dict with key coordinate of point and values tetrahedron which the point is interior to\n",
    "     - grid_obj, grid object containing the different grid structures\n",
    "     - param_torgrid, parameter\n",
    "     - ret_dict, bool return dict with key coordinate and value parameter value\n",
    "     - ret_nans, bool return dict of nan values\n",
    "    Out:\n",
    "     - parammesh, ndarray np.float64, meshgrid of parameter values\n",
    "     - if ret_dict and ret_nans is True, return them as well\n",
    "    \n",
    "    Make a dictionary with key = coord xyz and value = potential value \n",
    "    of the potential values connected to grid points from the toroidal grid.\n",
    "\n",
    "    \"\"\"\n",
    "    dict_coord_tpot = {}\n",
    "    dict_coord_nan = {}\n",
    "    for i in range(len(grid_obj.torflat)):\n",
    "        dict_coord_tpot[tuple(grid_obj.torflat[i])] = param_torgrid.flatten()[i]\n",
    "\n",
    "    # Points interior to one of the tetrahedra that the toroidal volume is divided in\n",
    "    ps_interior = np.asarray(list(dict_p_tetra.keys()), dtype = np.float64)\n",
    "\n",
    "    # Make a dictionary with key coord, value interpolated parameter value\n",
    "    dict_coord_pot_interpol = {}\n",
    "    \n",
    "    # Make a meshgrid of interpolated parameter values\n",
    "    parammesh = np.nan*np.ones(grid_obj.cart_x.shape)\n",
    "    \n",
    "    for i in range(len(ps_interior)):\n",
    "        coord_idx = np.argwhere((grid_obj.cart_x == ps_interior[i][0]) & \n",
    "                                (grid_obj.cart_y == ps_interior[i][1]) & \n",
    "                                (grid_obj.cart_z == ps_interior[i][2]))[0] \n",
    "        parammesh[coord_idx[0], coord_idx[1], coord_idx[2]] = interpolation_p_in_simplex(p = ps_interior[i],\n",
    "                                                            simplex = dict_p_tetra[tuple(ps_interior[i])], \n",
    "                                                            dict_vals = dict_coord_tpot)\n",
    "        if parammesh[coord_idx[0], coord_idx[1], coord_idx[2]] == np.nan:\n",
    "            dict_coord_nan[ps_interior[i]] = np.nan\n",
    "        if ret_dict:\n",
    "            dict_coord_pot_interpol[tuple(ps_interior[i])] = parammesh[coord_idx[0], coord_idx[1], coord_idx[2]]\n",
    "    if ret_nans:\n",
    "        ret = [parammesh, dict_coord_nan]\n",
    "    if ret_dict:\n",
    "        ret = [parammesh, dict_coord_pot_inerpol]\n",
    "    ret = parammesh\n",
    "    return ret"
   ]
  },
  {
   "cell_type": "code",
   "execution_count": 26,
   "id": "4b0f0ea7",
   "metadata": {},
   "outputs": [],
   "source": [
    "path = r\"C:\\Users\\joag\\Documents\\Notebooks\\emc3_example.nc\"\n",
    "ds = xr.open_dataset(path)\n",
    "# ds"
   ]
  },
  {
   "cell_type": "code",
   "execution_count": 14,
   "id": "060372ff",
   "metadata": {},
   "outputs": [
    {
     "name": "stdout",
     "output_type": "stream",
     "text": [
      "Overwriting grid.py\n"
     ]
    }
   ],
   "source": [
    "%%writefile grid.py\n",
    "\n",
    "class grid:\n",
    "    def __init__(self, ds, ngrid_cart = None, inc_r = [None, None], inc_t = [None, None], inc_p = [None, None]):\n",
    "        \"\"\"\n",
    "        Args:\n",
    "         - xarray, ds is a dataset containing the W7X data\n",
    "         - np.int64, ngrid_cart is cartesian grid resolution \n",
    "         - list dim 2 (min,max), inc_r, inc_t, inc_p is the minmax of the grid indexes in r, theta and phi direction\n",
    "         \n",
    "        Out:\n",
    "         - grid object, both cartesian meshgrid of toroidal and cartesian grid, can also get as flattened arrays\n",
    "        \n",
    "        Note: Periodic boundary conditions is added in theta direction\n",
    "        \"\"\"\n",
    "        import numpy as np\n",
    "        \n",
    "        dgrid = np.asarray( ds.R_bounds.mean(dim=(\"delta_r\", \"delta_theta\", \"delta_phi\")) )[inc_r[0]:inc_r[1],\n",
    "                                                                                            inc_t[0]:inc_t[1],\n",
    "                                                                                            inc_p[0]:inc_p[1]].shape\n",
    "        #regenerating dimensions to add periodic boundary conditions in theta dir\n",
    "#         dgrid = list(dgrid)\n",
    "#         dgrid[1] += 1\n",
    "#         dgrid = tuple(dgrid)\n",
    "#         print(\"dim grid\",dgrid)\n",
    "        \n",
    "        self.R, self.theta, self.phi, self.tor_z = np.ones(dgrid)*np.nan, np.ones(dgrid)*np.nan, np.ones(dgrid)*np.nan, np.ones(dgrid)*np.nan\n",
    "        \n",
    "        self.R = np.asarray( ds.R_bounds.mean(dim=(\"delta_r\", \"delta_theta\", \"delta_phi\")) )[inc_r[0]:inc_r[1],\n",
    "                                                                                             inc_t[0]:inc_t[1],\n",
    "                                                                                             inc_p[0]:inc_p[1]]\n",
    "        # set the periodic BC for R vals\n",
    "#         self.R[:,-1,:] = self.R[:,0,:]\n",
    "        \n",
    "        self.tor_z = np.asarray(ds.z_bounds.mean(dim=(\"delta_r\", \"delta_theta\", \"delta_phi\")))[inc_r[0]:inc_r[1],\n",
    "                                                                                               inc_t[0]:inc_t[1],\n",
    "                                                                                               inc_p[0]:inc_p[1]]\n",
    "        # set the periodic BC for z vals\n",
    "#         self.tor_z[:,-1,:] = self.tor_z[:,0,:]\n",
    "        \n",
    "        self.phi = np.asarray( ds.phi_bounds.mean(dim=\"delta_phi\") )[inc_p[0]:inc_p[1]]\n",
    "        # set the periodic BC for phi values\n",
    "#         self.phi[:,-1,:] = self.phi[:,0,:]\n",
    "        \n",
    "        self.tor_x = np.asarray( self.R * np.cos(self.phi) )\n",
    "        self.tor_y = np.asarray( self.R * np.sin(self.phi) )\n",
    "        if ngrid_cart == None:\n",
    "            ngrid_cart = 100\n",
    "        \n",
    "        ivl_p = int(inc_p[1] - inc_p[0])\n",
    "        self.cart_x, self.cart_y, self.cart_z = np.meshgrid(np.linspace(np.min(self.tor_x),np.max(self.tor_x), ngrid_cart), \n",
    "                                                            np.linspace(np.min(self.tor_y),np.max(self.tor_y), ngrid_cart), \n",
    "                                                            np.linspace(np.min(self.tor_z),np.max(self.tor_z), ngrid_cart),\n",
    "                                                            indexing = \"ij\")\n",
    "     \n",
    "        self.cartflat = np.ones((self.cart_x.shape[0]*self.cart_x.shape[1]*self.cart_x.shape[2], 3) )*np.nan\n",
    "        self.cartflat[:,0] = self.cart_x.flatten()\n",
    "        self.cartflat[:,1] = self.cart_y.flatten()\n",
    "        self.cartflat[:,2] = self.cart_z.flatten()\n",
    "        \n",
    "        self.torflat = np.ones((self.tor_x.shape[0]*self.tor_x.shape[1]*self.tor_x.shape[2], 3))*np.nan\n",
    "        self.torflat[:,0] = self.tor_x.flatten()\n",
    "        self.torflat[:,1] = self.tor_y.flatten()\n",
    "        self.torflat[:,2] = self.tor_z.flatten()"
   ]
  },
  {
   "cell_type": "code",
   "execution_count": 16,
   "id": "c0e3ad63",
   "metadata": {},
   "outputs": [],
   "source": [
    "from grid import grid"
   ]
  },
  {
   "cell_type": "code",
   "execution_count": 6,
   "id": "27fd47e2",
   "metadata": {},
   "outputs": [
    {
     "name": "stdout",
     "output_type": "stream",
     "text": [
      "[[[0.5869596  0.41526205]\n",
      "  [0.10241474 0.94707834]]\n",
      "\n",
      " [[0.91290864 0.46692861]\n",
      "  [0.83857119 0.75837355]]]\n"
     ]
    },
    {
     "data": {
      "text/plain": [
       "array([0.5869596 , 0.41526205, 0.10241474, 0.94707834, 0.91290864,\n",
       "       0.46692861, 0.83857119, 0.75837355])"
      ]
     },
     "execution_count": 6,
     "metadata": {},
     "output_type": "execute_result"
    }
   ],
   "source": [
    "a = np.random.rand(4,4,4)\n",
    "print(a[0:2, 0:2, 0:2])\n",
    "a[0:2, 0:2, 0:2].flatten()"
   ]
  },
  {
   "cell_type": "code",
   "execution_count": 8,
   "id": "8e817361",
   "metadata": {},
   "outputs": [
    {
     "data": {
      "text/plain": [
       "array([500, 501, 510, 511, 600, 601, 610, 611])"
      ]
     },
     "execution_count": 8,
     "metadata": {},
     "output_type": "execute_result"
    }
   ],
   "source": [
    "from itertools import product as iprod\n",
    "# unravel index of each vertex of the cell found from the toroidal grid\n",
    "grid_of_cells_shape1 = (10,10,10)\n",
    "ir, it, ip = np.unravel_index(500, grid_of_cells_shape1)\n",
    "idx = np.zeros((2,2,2), dtype=np.int32)\n",
    "for d_ir, dit, dip in iprod(range(2), repeat=3):\n",
    "    idx[d_ir, dit, dip] = np.ravel_multi_index((ir+d_ir,it+dit,ip+dip), grid_of_cells_shape1)\n",
    "idx.shape = 8\n",
    "idx"
   ]
  },
  {
   "cell_type": "code",
   "execution_count": 98,
   "id": "75c6b2e1",
   "metadata": {},
   "outputs": [],
   "source": [
    "def make_parammesh_vtk_indices(grid_obj, sgrid):\n",
    "    \"\"\"\n",
    "    Args:\n",
    "     - grid_obj, grid object defined in one of the cells below\n",
    "     - sgrid, tvtk.StructureGrid object\n",
    "     - renans, bool, return NaN vales of points found in a cell or not\n",
    "    Out:\n",
    "     - parammesh_indices, ndarray np.int32, interpolated parameter vertex indices and weights on a 3d cartesian grid\n",
    "     dim = (x, y, z, coord index vertices of cell/weights of vertices)\n",
    "    \"\"\"\n",
    "    import numpy as np\n",
    "    import vtk\n",
    "    from tvtk.api import tvtk\n",
    "    \n",
    "    # make the mehsgrid for the parameter we want to interpolate form the original data\n",
    "    # + (2,8) represents (indicies/weights, vertex)\n",
    "    parammesh_indices = np.nan*np.ones(grid_obj.cart_x.shape + (2,8), dtype=np.int32)\n",
    "    # pass initial/default values to the find_cell function\n",
    "    cell = None\n",
    "    cid = int(6e3)\n",
    "    tol2 = 1e-3\n",
    "    subid = vtk.reference(-1)\n",
    "    pcoord = np.zeros((3))\n",
    "    weights = np.zeros(8)\n",
    "    # iterate through points in the cartesian grid\n",
    "    for p in grid_obj.cartflat:\n",
    "#         if coarse_grid[tuple((p-offset)/spacing)]:\n",
    "#             continue\n",
    "        #find the cell p is interior to\n",
    "        cid = sgrid.find_cell(p, cell, cid, tol2, subid, pcoord, weights)\n",
    "        # if find_cell returns -1 there is either a numerical error or it did not find the point in that cell\n",
    "        if cid == -1:\n",
    "            continue\n",
    "        else:            \n",
    "            # unravel index of each vertex of the cell found from the toroidal grid\n",
    "            grid_of_cells_shape = (grid_obj.tor_x.shape[0]-1, grid_obj.tor_x.shape[1]-1, grid_obj.tor_x.shape[2]-1)\n",
    "#             print(\"grid_of_cells_shape\", grid_of_cells_shape)\n",
    "            ir, it, ip = np.unravel_index(cid, grid_of_cells_shape)\n",
    "            idx = np.zeros((2,2,2), dtype=np.int32)\n",
    "            for d_ir, dit, dip in iprod(range(2), repeat=3):\n",
    "                \"\"\"\n",
    "                Current problem is that I get coord ValueError when doing the np.ravel_multi_index\n",
    "                \"\"\"\n",
    "#                 print((ir+d_ir,it+dit,ip+dip))\n",
    "                if ir == grid_of_cells_shape[0]-1:\n",
    "                    continue\n",
    "                elif it == grid_of_cells_shape[1]-1:\n",
    "                    continue\n",
    "                elif ip == grid_of_cells_shape[2]-1:\n",
    "                    continue\n",
    "                else:\n",
    "                    idx[d_ir, dit, dip] = np.int32(np.ravel_multi_index((ir+d_ir,it+dit,ip+dip), grid_of_cells_shape))\n",
    "            idx.shape = 8\n",
    "            # find coordinate indices of the point in the cartesian grid structure with cartesian indicies\n",
    "            coord_idx = np.argwhere((grid_obj.cart_x == p[0]) & \n",
    "                                    (grid_obj.cart_y == p[1]) & \n",
    "                                    (grid_obj.cart_z == p[2]))[0]\n",
    "            parammesh_indices[coord_idx[0], coord_idx[1], coord_idx[2],0] = idx\n",
    "            parammesh_indices[coord_idx[0], coord_idx[1], coord_idx[2],1] = weights\n",
    "    return parammesh_indices"
   ]
  },
  {
   "cell_type": "code",
   "execution_count": 99,
   "id": "a30c41fd",
   "metadata": {},
   "outputs": [],
   "source": [
    "grid_emc3 = grid(ds = ds, ngrid_cart = 50, inc_r = [60, 80], inc_t = [0,100], inc_p = [0,4])"
   ]
  },
  {
   "cell_type": "code",
   "execution_count": 100,
   "id": "e93d7203",
   "metadata": {},
   "outputs": [],
   "source": [
    "dimgrid = list(grid_emc3.tor_x.shape[::-1])\n",
    "sgrid_emc3 = tvtk.StructuredGrid(dimensions=dimgrid)\n",
    "sgrid_emc3.points = grid_emc3.torflat\n",
    "sgrid_emc3.point_data.scalars = np.asarray(ds.Te)[60:80,:100,:4].flatten()\n",
    "sgrid_emc3.point_data.scalars.name = \"Te\""
   ]
  },
  {
   "cell_type": "code",
   "execution_count": 101,
   "id": "fb90bfa1",
   "metadata": {},
   "outputs": [],
   "source": [
    "idxmesh = make_parammesh_vtk_indices(grid_obj = grid_emc3,\n",
    "                                     sgrid = sgrid_emc3)"
   ]
  },
  {
   "cell_type": "code",
   "execution_count": 102,
   "id": "afe66984",
   "metadata": {},
   "outputs": [
    {
     "data": {
      "text/plain": [
       "(50, 50, 50, 2, 8)"
      ]
     },
     "execution_count": 102,
     "metadata": {},
     "output_type": "execute_result"
    }
   ],
   "source": [
    "idxmesh.shape"
   ]
  },
  {
   "cell_type": "code",
   "execution_count": 118,
   "id": "e7b0ae99",
   "metadata": {},
   "outputs": [
    {
     "ename": "IndexError",
     "evalue": "only integers, slices (`:`), ellipsis (`...`), numpy.newaxis (`None`) and integer or boolean arrays are valid indices",
     "output_type": "error",
     "traceback": [
      "\u001b[1;31m---------------------------------------------------------------------------\u001b[0m",
      "\u001b[1;31mIndexError\u001b[0m                                Traceback (most recent call last)",
      "\u001b[1;32m<ipython-input-118-d88feedc6428>\u001b[0m in \u001b[0;36m<module>\u001b[1;34m\u001b[0m\n\u001b[0;32m      1\u001b[0m \u001b[0marr\u001b[0m \u001b[1;33m=\u001b[0m \u001b[0mnp\u001b[0m\u001b[1;33m.\u001b[0m\u001b[0marray\u001b[0m\u001b[1;33m(\u001b[0m\u001b[1;33m[\u001b[0m\u001b[1;36m1\u001b[0m\u001b[1;33m,\u001b[0m\u001b[1;36m1\u001b[0m\u001b[1;33m,\u001b[0m\u001b[1;36m1\u001b[0m\u001b[1;33m]\u001b[0m\u001b[1;33m)\u001b[0m\u001b[1;33m\u001b[0m\u001b[1;33m\u001b[0m\u001b[0m\n\u001b[1;32m----> 2\u001b[1;33m \u001b[0marr\u001b[0m\u001b[1;33m[\u001b[0m\u001b[0mnp\u001b[0m\u001b[1;33m.\u001b[0m\u001b[0mnan\u001b[0m\u001b[1;33m]\u001b[0m\u001b[1;33m\u001b[0m\u001b[1;33m\u001b[0m\u001b[0m\n\u001b[0m",
      "\u001b[1;31mIndexError\u001b[0m: only integers, slices (`:`), ellipsis (`...`), numpy.newaxis (`None`) and integer or boolean arrays are valid indices"
     ]
    }
   ],
   "source": [
    "arr = np.array([1,1,1])\n",
    "arr[np.nan]"
   ]
  },
  {
   "cell_type": "code",
   "execution_count": 132,
   "id": "accbaa1e",
   "metadata": {},
   "outputs": [],
   "source": [
    "def from_indices_to_paramvals(indicies, param_torgrid):\n",
    "    \"\"\"\n",
    "    Current problem is that casting indicies array from float to int makes the nan values disappear\n",
    "    and NaNs cannot be used as indicies. What datatype do I use for the indicies representing\n",
    "    cartesian points not found by the find_cell function???\n",
    "    \"\"\"\n",
    "    print(param_torgrid.ravel().shape)\n",
    "    # shape = (50, 50, 50, 8)\n",
    "    weights = indicies[:,:,:,1]\n",
    "    idxs = indicies[:,:,:,0]\n",
    "    print(type(idxs[0,0,0,0]))\n",
    "    isnotnan = np.where(np.isnan(idxs.ravel()) == False)[0]\n",
    "    pmesh = np.nansum(param_torgrid[idxs] * weights, axis = 3)\n",
    "    pmesh.reshape(indicies[:,:,:,0,0].shape)\n",
    "    return pmesh    "
   ]
  },
  {
   "cell_type": "code",
   "execution_count": 131,
   "id": "82d7ba84",
   "metadata": {},
   "outputs": [
    {
     "name": "stdout",
     "output_type": "stream",
     "text": [
      "(8000,)\n",
      "<class 'numpy.float64'>\n"
     ]
    },
    {
     "ename": "ValueError",
     "evalue": "operands could not be broadcast together with shapes (65224,) (1000000,) ",
     "output_type": "error",
     "traceback": [
      "\u001b[1;31m---------------------------------------------------------------------------\u001b[0m",
      "\u001b[1;31mValueError\u001b[0m                                Traceback (most recent call last)",
      "\u001b[1;32m<ipython-input-131-ea3fe3053bcb>\u001b[0m in \u001b[0;36m<module>\u001b[1;34m\u001b[0m\n\u001b[1;32m----> 1\u001b[1;33m \u001b[0mpmeshtest\u001b[0m \u001b[1;33m=\u001b[0m \u001b[0mfrom_indices_to_paramvals\u001b[0m\u001b[1;33m(\u001b[0m\u001b[0mindicies\u001b[0m \u001b[1;33m=\u001b[0m \u001b[0midxmesh\u001b[0m\u001b[1;33m,\u001b[0m \u001b[0mparam_torgrid\u001b[0m \u001b[1;33m=\u001b[0m \u001b[0mnp\u001b[0m\u001b[1;33m.\u001b[0m\u001b[0masarray\u001b[0m\u001b[1;33m(\u001b[0m\u001b[0mds\u001b[0m\u001b[1;33m.\u001b[0m\u001b[0mTe\u001b[0m\u001b[1;33m)\u001b[0m\u001b[1;33m[\u001b[0m\u001b[1;36m60\u001b[0m\u001b[1;33m:\u001b[0m\u001b[1;36m80\u001b[0m\u001b[1;33m,\u001b[0m\u001b[1;33m:\u001b[0m\u001b[1;36m100\u001b[0m\u001b[1;33m,\u001b[0m\u001b[1;33m:\u001b[0m\u001b[1;36m4\u001b[0m\u001b[1;33m]\u001b[0m\u001b[1;33m)\u001b[0m\u001b[1;33m\u001b[0m\u001b[1;33m\u001b[0m\u001b[0m\n\u001b[0m",
      "\u001b[1;32m<ipython-input-130-bc2a345b8664>\u001b[0m in \u001b[0;36mfrom_indices_to_paramvals\u001b[1;34m(indicies, param_torgrid)\u001b[0m\n\u001b[0;32m     11\u001b[0m     \u001b[0midxs_nonnan\u001b[0m \u001b[1;33m=\u001b[0m \u001b[0mnp\u001b[0m\u001b[1;33m.\u001b[0m\u001b[0marray\u001b[0m\u001b[1;33m(\u001b[0m\u001b[0midxs\u001b[0m\u001b[1;33m.\u001b[0m\u001b[0mravel\u001b[0m\u001b[1;33m(\u001b[0m\u001b[1;33m)\u001b[0m\u001b[1;33m[\u001b[0m\u001b[0misnotnan\u001b[0m\u001b[1;33m]\u001b[0m\u001b[1;33m,\u001b[0m \u001b[0mdtype\u001b[0m\u001b[1;33m=\u001b[0m\u001b[0mnp\u001b[0m\u001b[1;33m.\u001b[0m\u001b[0mint32\u001b[0m\u001b[1;33m)\u001b[0m\u001b[1;33m\u001b[0m\u001b[1;33m\u001b[0m\u001b[0m\n\u001b[0;32m     12\u001b[0m     \u001b[0mweights_nonnan\u001b[0m \u001b[1;33m=\u001b[0m \u001b[0mnp\u001b[0m\u001b[1;33m.\u001b[0m\u001b[0marray\u001b[0m\u001b[1;33m(\u001b[0m\u001b[0mweights\u001b[0m\u001b[1;33m.\u001b[0m\u001b[0mravel\u001b[0m\u001b[1;33m(\u001b[0m\u001b[1;33m)\u001b[0m\u001b[1;33m[\u001b[0m\u001b[0misnotnan\u001b[0m\u001b[1;33m]\u001b[0m\u001b[1;33m,\u001b[0m \u001b[0mdtype\u001b[0m\u001b[1;33m=\u001b[0m\u001b[0mnp\u001b[0m\u001b[1;33m.\u001b[0m\u001b[0mint32\u001b[0m\u001b[1;33m)\u001b[0m\u001b[1;33m\u001b[0m\u001b[1;33m\u001b[0m\u001b[0m\n\u001b[1;32m---> 13\u001b[1;33m     \u001b[0mpmesh\u001b[0m \u001b[1;33m=\u001b[0m \u001b[0mnp\u001b[0m\u001b[1;33m.\u001b[0m\u001b[0mnansum\u001b[0m\u001b[1;33m(\u001b[0m\u001b[0mparam_torgrid\u001b[0m\u001b[1;33m.\u001b[0m\u001b[0mravel\u001b[0m\u001b[1;33m(\u001b[0m\u001b[1;33m)\u001b[0m\u001b[1;33m[\u001b[0m\u001b[0midxs_nonnan\u001b[0m\u001b[1;33m]\u001b[0m \u001b[1;33m*\u001b[0m \u001b[0mweights\u001b[0m\u001b[1;33m.\u001b[0m\u001b[0mravel\u001b[0m\u001b[1;33m(\u001b[0m\u001b[1;33m)\u001b[0m\u001b[1;33m,\u001b[0m \u001b[0maxis\u001b[0m \u001b[1;33m=\u001b[0m \u001b[1;36m3\u001b[0m\u001b[1;33m)\u001b[0m\u001b[1;33m\u001b[0m\u001b[1;33m\u001b[0m\u001b[0m\n\u001b[0m\u001b[0;32m     14\u001b[0m     \u001b[0mpmesh\u001b[0m\u001b[1;33m.\u001b[0m\u001b[0mreshape\u001b[0m\u001b[1;33m(\u001b[0m\u001b[0mindicies\u001b[0m\u001b[1;33m[\u001b[0m\u001b[1;33m:\u001b[0m\u001b[1;33m,\u001b[0m\u001b[1;33m:\u001b[0m\u001b[1;33m,\u001b[0m\u001b[1;33m:\u001b[0m\u001b[1;33m,\u001b[0m\u001b[1;36m0\u001b[0m\u001b[1;33m,\u001b[0m\u001b[1;36m0\u001b[0m\u001b[1;33m]\u001b[0m\u001b[1;33m.\u001b[0m\u001b[0mshape\u001b[0m\u001b[1;33m)\u001b[0m\u001b[1;33m\u001b[0m\u001b[1;33m\u001b[0m\u001b[0m\n\u001b[0;32m     15\u001b[0m     \u001b[1;32mreturn\u001b[0m \u001b[0mpmesh\u001b[0m\u001b[1;33m\u001b[0m\u001b[1;33m\u001b[0m\u001b[0m\n",
      "\u001b[1;31mValueError\u001b[0m: operands could not be broadcast together with shapes (65224,) (1000000,) "
     ]
    }
   ],
   "source": [
    "pmeshtest = from_indices_to_paramvals(indicies = idxmesh, param_torgrid = np.asarray(ds.Te)[60:80,:100,:4])"
   ]
  },
  {
   "cell_type": "code",
   "execution_count": null,
   "id": "046b2ba1",
   "metadata": {},
   "outputs": [],
   "source": [
    "plt.imshow(pmeshtest[:,1])"
   ]
  },
  {
   "cell_type": "code",
   "execution_count": 37,
   "id": "c4bcd2af",
   "metadata": {},
   "outputs": [
    {
     "data": {
      "text/plain": [
       "<mayavi.modules.axes.Axes at 0x29dea4ee630>"
      ]
     },
     "execution_count": 37,
     "metadata": {},
     "output_type": "execute_result"
    }
   ],
   "source": [
    "\"\"\"\n",
    "Plotting the actual values in the W7X grid.\n",
    "\"\"\"\n",
    "# clear the field\n",
    "mlab.clf()\n",
    "#add the dataset to the pipeline, the principle is to add several object on top of each other\n",
    "src_emc3 = mlab.pipeline.add_dataset(sgrid_emc3)\n",
    "# make a cut object to cut the 3D volum in slices in a user defined direction\n",
    "cut_emc3 = mlab.pipeline.scalar_cut_plane(src_emc3)\n",
    "# make a contour plot of the scalar field\n",
    "cont_emc3 = mlab.pipeline.iso_surface(cut_emc3)\n",
    "# add the outline of the 3d domain\n",
    "mlab.outline()\n",
    "# add axis to the plot\n",
    "mlab.axes()"
   ]
  },
  {
   "cell_type": "code",
   "execution_count": 20,
   "id": "5a287fa6",
   "metadata": {},
   "outputs": [
    {
     "data": {
      "text/plain": [
       "'\\nPlaying with hexahedron object to figure out how to plot the cells.\\n'"
      ]
     },
     "execution_count": 20,
     "metadata": {},
     "output_type": "execute_result"
    }
   ],
   "source": [
    "\"\"\"\n",
    "Playing with hexahedron object to figure out how to plot the cells.\n",
    "\"\"\"\n",
    "\n",
    "# hexahedron_emc3 = sgrid_emc3.get_cell(1000)\n",
    "# hexahedron_emc3.points.to_array()"
   ]
  },
  {
   "cell_type": "code",
   "execution_count": 21,
   "id": "de97a507",
   "metadata": {},
   "outputs": [],
   "source": [
    "# # get the dimension of the cell\n",
    "# hexahedron_emc3.cell_dimension\n",
    "# # get indicies of vertices used in edge id which is the argument\n",
    "# hexahedron_emc3.get_edge_array(4)\n",
    "# #\n",
    "# hexa_traitnames = hexahedron_emc3.all_trait_names()\n",
    "# type(hexa_traitnames)\n",
    "# type(hexahedron_emc3.points.to_array())\n",
    "\n",
    "# # get the vertexpoints by getting a point object of the hexahedron and casting it to an array\n",
    "# vertex_points = hexahedron_emc3.points.to_array()\n",
    "# vertex_points = np.asarray(vertex_points)\n",
    "# xx, yy, zz = np.meshgrid(vertex_points[:,0], vertex_points[:,1], vertex_points[:,2])\n",
    "# sgobj_hexa = tvtk.StructuredGrid(dimensions = xx.shape[::-1])\n",
    "# sgobj_hexa.points = vertex_points"
   ]
  },
  {
   "cell_type": "code",
   "execution_count": 22,
   "id": "2d056b3a",
   "metadata": {},
   "outputs": [],
   "source": [
    "# # clear the field\n",
    "# mlab.clf()\n",
    "# # mlab.points3d(xx, yy, zz)\n",
    "# mlab.points3d(xx, yy, zz, np.ones(zz.shape)*1e3)\n",
    "# mlab.outline()\n",
    "# mlab.axes()"
   ]
  },
  {
   "cell_type": "code",
   "execution_count": 23,
   "id": "6704da96",
   "metadata": {},
   "outputs": [
    {
     "ename": "NameError",
     "evalue": "name 'store_cid' is not defined",
     "output_type": "error",
     "traceback": [
      "\u001b[1;31m---------------------------------------------------------------------------\u001b[0m",
      "\u001b[1;31mNameError\u001b[0m                                 Traceback (most recent call last)",
      "\u001b[1;32m<ipython-input-23-9e865e49316e>\u001b[0m in \u001b[0;36m<module>\u001b[1;34m\u001b[0m\n\u001b[0;32m      4\u001b[0m \u001b[1;32mfrom\u001b[0m \u001b[0mmake_parammesh_vtk\u001b[0m \u001b[1;32mimport\u001b[0m \u001b[0mmake_parammesh_vtk\u001b[0m\u001b[1;33m\u001b[0m\u001b[1;33m\u001b[0m\u001b[0m\n\u001b[0;32m      5\u001b[0m \u001b[0mtik\u001b[0m \u001b[1;33m=\u001b[0m \u001b[0mtime\u001b[0m\u001b[1;33m.\u001b[0m\u001b[0mtime\u001b[0m\u001b[1;33m(\u001b[0m\u001b[1;33m)\u001b[0m\u001b[1;33m\u001b[0m\u001b[1;33m\u001b[0m\u001b[0m\n\u001b[1;32m----> 6\u001b[1;33m Te_mesh_vtk, dictnans_emc3, notfound_emc3 = make_parammesh_vtk(grid_obj = grid_emc3,\n\u001b[0m\u001b[0;32m      7\u001b[0m                                                                \u001b[0msgrid\u001b[0m \u001b[1;33m=\u001b[0m \u001b[0msgrid_emc3\u001b[0m\u001b[1;33m,\u001b[0m\u001b[1;33m\u001b[0m\u001b[1;33m\u001b[0m\u001b[0m\n\u001b[0;32m      8\u001b[0m                                                                \u001b[0mparam_torgrid\u001b[0m \u001b[1;33m=\u001b[0m \u001b[0mnp\u001b[0m\u001b[1;33m.\u001b[0m\u001b[0masarray\u001b[0m\u001b[1;33m(\u001b[0m\u001b[0mds\u001b[0m\u001b[1;33m.\u001b[0m\u001b[0mTe\u001b[0m\u001b[1;33m)\u001b[0m\u001b[1;33m[\u001b[0m\u001b[1;36m20\u001b[0m\u001b[1;33m:\u001b[0m\u001b[1;36m24\u001b[0m\u001b[1;33m,\u001b[0m\u001b[1;33m:\u001b[0m\u001b[1;36m5\u001b[0m\u001b[1;33m,\u001b[0m\u001b[1;33m:\u001b[0m\u001b[1;36m4\u001b[0m\u001b[1;33m]\u001b[0m\u001b[1;33m,\u001b[0m\u001b[1;33m\u001b[0m\u001b[1;33m\u001b[0m\u001b[0m\n",
      "\u001b[1;32m~\\Documents\\Notebooks\\W7X_internship\\make_parammesh_vtk.py\u001b[0m in \u001b[0;36mmake_parammesh_vtk\u001b[1;34m(grid_obj, sgrid, param_torgrid, ret_nans)\u001b[0m\n\u001b[0;32m     39\u001b[0m             \u001b[1;31m# unravel index of each vertex of the cell found from the toroidal grid\u001b[0m\u001b[1;33m\u001b[0m\u001b[1;33m\u001b[0m\u001b[1;33m\u001b[0m\u001b[0m\n\u001b[0;32m     40\u001b[0m             \u001b[0mnewgridshape\u001b[0m \u001b[1;33m=\u001b[0m \u001b[1;33m(\u001b[0m\u001b[0mgrid_obj\u001b[0m\u001b[1;33m.\u001b[0m\u001b[0mtor_x\u001b[0m\u001b[1;33m.\u001b[0m\u001b[0mshape\u001b[0m\u001b[1;33m[\u001b[0m\u001b[1;36m0\u001b[0m\u001b[1;33m]\u001b[0m\u001b[1;33m-\u001b[0m\u001b[1;36m1\u001b[0m\u001b[1;33m,\u001b[0m \u001b[0mgrid_obj\u001b[0m\u001b[1;33m.\u001b[0m\u001b[0mtor_x\u001b[0m\u001b[1;33m.\u001b[0m\u001b[0mshape\u001b[0m\u001b[1;33m[\u001b[0m\u001b[1;36m1\u001b[0m\u001b[1;33m]\u001b[0m\u001b[1;33m-\u001b[0m\u001b[1;36m1\u001b[0m\u001b[1;33m,\u001b[0m \u001b[0mgrid_obj\u001b[0m\u001b[1;33m.\u001b[0m\u001b[0mtor_x\u001b[0m\u001b[1;33m.\u001b[0m\u001b[0mshape\u001b[0m\u001b[1;33m[\u001b[0m\u001b[1;36m2\u001b[0m\u001b[1;33m]\u001b[0m\u001b[1;33m-\u001b[0m\u001b[1;36m1\u001b[0m\u001b[1;33m)\u001b[0m\u001b[1;33m\u001b[0m\u001b[1;33m\u001b[0m\u001b[0m\n\u001b[1;32m---> 41\u001b[1;33m             \u001b[0mstore_cid\u001b[0m\u001b[1;33m[\u001b[0m\u001b[0mpid\u001b[0m\u001b[1;33m]\u001b[0m \u001b[1;33m=\u001b[0m \u001b[0mcid\u001b[0m\u001b[1;33m\u001b[0m\u001b[1;33m\u001b[0m\u001b[0m\n\u001b[0m\u001b[0;32m     42\u001b[0m             \u001b[0mstore_weights\u001b[0m\u001b[1;33m[\u001b[0m\u001b[0mpid\u001b[0m\u001b[1;33m,\u001b[0m \u001b[1;33m:\u001b[0m\u001b[1;33m]\u001b[0m \u001b[1;33m=\u001b[0m \u001b[0mweights\u001b[0m\u001b[1;33m\u001b[0m\u001b[1;33m\u001b[0m\u001b[0m\n\u001b[0;32m     43\u001b[0m             \u001b[1;31m# do the rest later\u001b[0m\u001b[1;33m\u001b[0m\u001b[1;33m\u001b[0m\u001b[1;33m\u001b[0m\u001b[0m\n",
      "\u001b[1;31mNameError\u001b[0m: name 'store_cid' is not defined"
     ]
    }
   ],
   "source": [
    "\"\"\"\n",
    "Do the actual interpolation. Measures the runtime with tik tok.\n",
    "\"\"\"\n",
    "from make_parammesh_vtk import make_parammesh_vtk\n",
    "tik = time.time()\n",
    "Te_mesh_vtk, dictnans_emc3, notfound_emc3 = make_parammesh_vtk(grid_obj = grid_emc3,\n",
    "                                                               sgrid = sgrid_emc3,\n",
    "                                                               param_torgrid = np.asarray(ds.Te)[20:24,:5,:4], \n",
    "                                                               ret_nans = True )\n",
    "tok = time.time()"
   ]
  },
  {
   "cell_type": "code",
   "execution_count": 24,
   "id": "1992f86d",
   "metadata": {},
   "outputs": [
    {
     "ename": "NameError",
     "evalue": "name 'tok' is not defined",
     "output_type": "error",
     "traceback": [
      "\u001b[1;31m---------------------------------------------------------------------------\u001b[0m",
      "\u001b[1;31mNameError\u001b[0m                                 Traceback (most recent call last)",
      "\u001b[1;32m<ipython-input-24-92d06c44913b>\u001b[0m in \u001b[0;36m<module>\u001b[1;34m\u001b[0m\n\u001b[1;32m----> 1\u001b[1;33m \u001b[0mprint\u001b[0m\u001b[1;33m(\u001b[0m\u001b[1;34m\"The vtk interpolation took \"\u001b[0m\u001b[1;33m,\u001b[0m \u001b[0mtok\u001b[0m \u001b[1;33m-\u001b[0m \u001b[0mtik\u001b[0m\u001b[1;33m,\u001b[0m \u001b[1;34m\"seconds to run for an increment of phi by 3.\"\u001b[0m\u001b[1;33m)\u001b[0m\u001b[1;33m\u001b[0m\u001b[1;33m\u001b[0m\u001b[0m\n\u001b[0m\u001b[0;32m      2\u001b[0m \u001b[0mprint\u001b[0m\u001b[1;33m(\u001b[0m\u001b[1;34m\"Len dictnans\"\u001b[0m\u001b[1;33m,\u001b[0m \u001b[0mlen\u001b[0m\u001b[1;33m(\u001b[0m\u001b[0mdictnans_emc3\u001b[0m\u001b[1;33m)\u001b[0m\u001b[1;33m)\u001b[0m\u001b[1;33m\u001b[0m\u001b[1;33m\u001b[0m\u001b[0m\n\u001b[0;32m      3\u001b[0m \u001b[0mprint\u001b[0m\u001b[1;33m(\u001b[0m\u001b[1;34m\"Len notfound\"\u001b[0m\u001b[1;33m,\u001b[0m \u001b[0mlen\u001b[0m\u001b[1;33m(\u001b[0m\u001b[0mnotfound_emc3\u001b[0m\u001b[1;33m)\u001b[0m\u001b[1;33m)\u001b[0m\u001b[1;33m\u001b[0m\u001b[1;33m\u001b[0m\u001b[0m\n",
      "\u001b[1;31mNameError\u001b[0m: name 'tok' is not defined"
     ]
    }
   ],
   "source": [
    "print(\"The vtk interpolation took \", tok - tik, \"seconds to run for an increment of phi by 3.\")\n",
    "print(\"Len dictnans\", len(dictnans_emc3))\n",
    "print(\"Len notfound\", len(notfound_emc3))"
   ]
  },
  {
   "cell_type": "code",
   "execution_count": null,
   "id": "653ab6cc",
   "metadata": {},
   "outputs": [],
   "source": [
    "def from_dict_to_meshgrid(grid_obj, pdict, param_torgrid):\n",
    "    # make the mehsgrid for the parameter we want to interpolate form the original data\n",
    "    pmesh = np.nan*np.ones(grid_obj.cart_x.shape)\n",
    "    for cart_coord in pdict.keys():\n",
    "        coord = np.array(list(cart_coord))\n",
    "        indicies_weight = pdict[cart_coord]\n",
    "        pval = []\n",
    "        for index in indicies_weight.keys():\n",
    "#             print(list(index))\n",
    "#             print(indicies_weight[index])\n",
    "            idx = list(index)\n",
    "#             print(param_torgrid[idx[0], idx[1], idx[2]])\n",
    "            pval.append( np.float64(param_torgrid[idx[0], idx[1], idx[2]]*indicies_weight[index]) )\n",
    "        pval = np.asarray(pval)\n",
    "        psum = np.nansum(pval)\n",
    "        pmesh[coord[0], coord[1], coord[2]] = psum  \n",
    "    return pmesh"
   ]
  },
  {
   "cell_type": "code",
   "execution_count": null,
   "id": "236bfdf1",
   "metadata": {},
   "outputs": [],
   "source": [
    "len(paramdict)\n",
    "pmesh_dicttest = from_dict_to_meshgrid(grid_obj = grid_emc3, \n",
    "                                       pdict = paramdict, \n",
    "                                       param_torgrid=np.asarray(ds.Te[20:80,:100,:4]))"
   ]
  },
  {
   "cell_type": "code",
   "execution_count": null,
   "id": "39651784",
   "metadata": {},
   "outputs": [],
   "source": [
    "np.where(np.isnan(pmesh_dicttest) == False)[0].shape"
   ]
  },
  {
   "cell_type": "code",
   "execution_count": null,
   "id": "6bf9c4bd",
   "metadata": {},
   "outputs": [],
   "source": [
    "plt.imshow(pmesh_dicttest[:,25])"
   ]
  },
  {
   "cell_type": "code",
   "execution_count": null,
   "id": "8481e43f",
   "metadata": {},
   "outputs": [],
   "source": [
    "from numba import jit"
   ]
  },
  {
   "cell_type": "code",
   "execution_count": null,
   "id": "b79f3b2c",
   "metadata": {},
   "outputs": [],
   "source": [
    "\"\"\"\n",
    "Confirm equal shapes!\n",
    "\"\"\"\n",
    "Te_mesh_vtk.shape\n",
    "Te_mesh_vtk.flatten().shape\n",
    "grid_emc3.cartflat.shape"
   ]
  },
  {
   "cell_type": "code",
   "execution_count": null,
   "id": "6cf1c691",
   "metadata": {},
   "outputs": [],
   "source": [
    "np.where(np.isnan(Te_mesh_vtk) == False)[0].shape"
   ]
  },
  {
   "cell_type": "code",
   "execution_count": null,
   "id": "28fec6b9",
   "metadata": {},
   "outputs": [],
   "source": [
    "# visualize contour of the interpolated values in 3d with colors defined by electron temperature\n",
    "dimgrid_cart = list(grid_emc3.cart_x.shape)\n",
    "sgrid_cart_emc3 = tvtk.StructuredGrid(dimensions=dimgrid_cart)\n",
    "s_Te = Te_mesh_vtk.copy()\n",
    "sgrid_cart_emc3.points = grid_emc3.cartflat\n",
    "sgrid_cart_emc3.point_data.scalars = s_Te.ravel()\n",
    "sgrid_cart_emc3.point_data.scalars.name = \"Te\"\n",
    "\n",
    "mlab.clf()\n",
    "#add the dataset to the pipeline\n",
    "src_cart = mlab.pipeline.add_dataset(sgrid_cart_emc3)\n",
    "cut_cart = mlab.pipeline.scalar_cut_plane(src_cart)\n",
    "cont_cart = mlab.pipeline.iso_surface(src_cart)"
   ]
  },
  {
   "cell_type": "code",
   "execution_count": null,
   "id": "4bb6f0d0",
   "metadata": {
    "scrolled": true
   },
   "outputs": [],
   "source": [
    "\"\"\"\n",
    "Y-slices of interpolated data.\n",
    "\"\"\"\n",
    "%matplotlib\n",
    "def plot_Te(iy):\n",
    "    plt.figure(figsize=(10,10))\n",
    "    im = plt.imshow(Te_mesh_vtk.T[::-1][:,iy])\n",
    "    plt.colorbar(im)\n",
    "iy = widgets.IntSlider(min = 0, max = Te_mesh_vtk.shape[1]-1, value = 2)\n",
    "interact(plot_Te, iy = iy)"
   ]
  },
  {
   "cell_type": "code",
   "execution_count": null,
   "id": "96f71b2e",
   "metadata": {},
   "outputs": [],
   "source": [
    "\"\"\"\n",
    "Check NaN valued point embedded by non NaN valued points.\n",
    "\"\"\"\n",
    "\n",
    "Te_mesh_vtk[70,2,31]"
   ]
  },
  {
   "cell_type": "code",
   "execution_count": null,
   "id": "a3010f84",
   "metadata": {},
   "outputs": [],
   "source": [
    "\"\"\"\n",
    "Comparing the interpolated region with what I should see.\n",
    "\"\"\"\n",
    "def plot_emc3toroidal(ip):\n",
    "    figemc3 = plt.figure(figsize=(15,15))\n",
    "    axemc3 = figemc3.add_subplot()\n",
    "    clev = np.arange(ds.Te[20:80,:,ip].min(),ds.Te[20:80,:,ip].max(),.5)\n",
    "    cemc3 = axemc3.contourf(grid_emc3.R[:,:,ip], \n",
    "                            grid_emc3.tor_z[:,:,ip], \n",
    "                            ds.Te[20:80,0:50,ip], \n",
    "                            clev)\n",
    "    figemc3.colorbar(cemc3)\n",
    "phislider = widgets.IntSlider(min = 0, max = 3, value = 0)\n",
    "interact(plot_emc3toroidal, ip = phislider)"
   ]
  },
  {
   "cell_type": "code",
   "execution_count": null,
   "id": "e94d16ab",
   "metadata": {},
   "outputs": [],
   "source": [
    "\"\"\"\n",
    "do the same using unstructured grid just to get \n",
    "to know how to work with different grid structures\n",
    "\"\"\"\n",
    "\n",
    "tet_type = tvtk.Tetra().cell_type # VTK_TETRA == 10\n",
    "tets = np.arange(len(grid_emc3.cartflat), len(grid_emc3.cartflat)-1)\n",
    "usgrid_emc3 = tvtk.UnstructuredGrid(points = grid_emc3.cartflat)\n",
    "usgrid_emc3.set_cells(tet_type, tets)\n",
    "usgrid_emc3.point_data.scalars = s_Te.ravel()\n",
    "usgrid_emc3.point_data.scalars.name = \"Te\"\n",
    "# clear the field\n",
    "mlab.clf()\n",
    "#add the dataset to the pipeline\n",
    "src_cart = mlab.pipeline.add_dataset(sgrid_cart_emc3)\n",
    "cut_cart = mlab.pipeline.scalar_cut_plane(src_cart)\n",
    "cont_cart = mlab.pipeline.iso_surface(src_cart)"
   ]
  },
  {
   "cell_type": "code",
   "execution_count": null,
   "id": "c98f42c1",
   "metadata": {},
   "outputs": [],
   "source": [
    "\"\"\"\n",
    "In the cell the point is to do the manual tessalation by splitting up the grid in the theta direction and merge\n",
    "the parameter space.\n",
    "\n",
    "Current issue: The data is not merged properly, evident after plotting the data.\n",
    "\"\"\"\n",
    "def runtess_algo(split = 5, inc_r = [20, 80], ntheta_max = 20, nphi_max = 4, ngrid_cart = 50):\n",
    "    \"\"\"\n",
    "    Args:\n",
    "     - split, int; is the number of theta angles you split the theta interval in\n",
    "     - ntheta_max, int; the max number of theta angles to include\n",
    "     - nphi_max, int; the number of phi angles to include\n",
    "    Out:\n",
    "     - paramvals, ndarray dim (grid.cart.shape); the meshgrid contatining the parameter values, assumes scalars\n",
    "     - the runtime\n",
    "    \"\"\"\n",
    "    # start clock\n",
    "    tik = time.time()\n",
    "    scalemesh = 100//split\n",
    "    ycut = ngrid_cart*nphi_max//36\n",
    "    print(\"scalemesh\", scalemesh)\n",
    "    print(\"ngrid_cart*(nphi_max//36)\", ngrid_cart*nphi_max//36)\n",
    "#     paramvals = np.ones((scalemesh*ngrid_cart, scalemesh, scalemesh*ngrid_cart))*np.nan\n",
    "    paramvals = np.ones((scalemesh, ngrid_cart, ycut, ngrid_cart))*np.nan\n",
    "    print(paramvals.shape)\n",
    "    plusprev = 0\n",
    "    \n",
    "    # generate grid for tessalation algo\n",
    "    grid_tess = grid(ds = ds, ngrid_cart = ngrid_cart, inc_r = inc_r, inc_t = [0,ntheta_max], inc_p = [0,4])\n",
    "    print(\"grid_tess.cart_x.shape\", grid_tess.cart_x.shape)\n",
    "    \n",
    "    for i in range(scalemesh):\n",
    "        print(\"scalemesh*i = \", scalemesh*i)\n",
    "        # keeping track of the start and end angle\n",
    "        plus = (i+1)*split\n",
    "        print(\"plusprev, plus\", plusprev, plus)\n",
    "    \n",
    "        # compute a dict of points as keys with the the embedding tetrahedron as the value\n",
    "        dict_p_tetra_emc3 = manual_tessalation(grid_obj = grid_tess)\n",
    "\n",
    "        # compute the parameter meshgrid\n",
    "        parammesh_tor_reduced = np.asarray(ds.Te)[inc_r[0]:inc_r[1],plusprev:plus,:nphi_max]\n",
    "        print(\"Tor reduced\", parammesh_tor_reduced.shape)\n",
    "\n",
    "        paramvals[i] =  make_param_mesh(dict_p_tetra = dict_p_tetra_emc3,\n",
    "                                        grid_obj = grid_tess,\n",
    "                                        param_torgrid = parammesh_tor_reduced) \n",
    "        plusprev = plus\n",
    "    tok = time.time()\n",
    "    return np.nansum(paramvals, axis = 0), tok - tik"
   ]
  },
  {
   "cell_type": "code",
   "execution_count": null,
   "id": "2ed208ec",
   "metadata": {},
   "outputs": [],
   "source": [
    "\"\"\"\n",
    "This is the manual tessalation without splitting\n",
    "\"\"\"\n",
    "# start clock\n",
    "tik = time.time()\n",
    "\n",
    "# generate grid for tessalation algo\n",
    "grid_tess = grid(ds = ds, ngrid_cart = 50, inc_r = [20,80], inc_t = [0,512], inc_p = [0,4])\n",
    "\n",
    "# compute a dict of points as keys with the the embedding tetrahedron as the value\n",
    "dict_p_tetra_emc3 = manual_tessalation(grid_obj = grid_tess)\n",
    "\n",
    "# compute the parameter meshgrid, the inidice shoudl match the boundaries set in the grid generation\n",
    "parammesh_tor_reduced = np.asarray(ds.Te)[20:80,:,:4]\n",
    "\n",
    "Te_mesh_tessalation =  make_param_mesh(dict_p_tetra = dict_p_tetra_emc3,\n",
    "                                       grid_obj = grid_tess,\n",
    "                                       param_torgrid = parammesh_tor_reduced) \n",
    "\n",
    "tok = time.time()"
   ]
  },
  {
   "cell_type": "code",
   "execution_count": null,
   "id": "c1427f85",
   "metadata": {},
   "outputs": [],
   "source": [
    "Te_mesh_tessalation.shape\n",
    "print(\"Runtime with tessalation\", tok-tik, \"seconds.\")"
   ]
  },
  {
   "cell_type": "code",
   "execution_count": null,
   "id": "1537614a",
   "metadata": {},
   "outputs": [],
   "source": [
    "# np.where(np.isnan(Te_mesh_tessalation) == False)"
   ]
  },
  {
   "cell_type": "code",
   "execution_count": null,
   "id": "cba767b0",
   "metadata": {
    "scrolled": false
   },
   "outputs": [],
   "source": [
    "def plot_Te_tess(iy):\n",
    "    plt.figure(figsize=(10,10))\n",
    "    im = plt.imshow(Te_mesh_tessalation[:,iy].T)\n",
    "    plt.colorbar(im)\n",
    "iy = widgets.IntSlider(min = 0, max = 4, value = 0)\n",
    "interact(plot_Te_tess, iy = iy)"
   ]
  },
  {
   "cell_type": "code",
   "execution_count": null,
   "id": "d99e4927",
   "metadata": {},
   "outputs": [],
   "source": [
    "\"\"\"\n",
    "A walkthrough on how to plot with the vtk objects\n",
    "\"\"\"\n",
    "\n",
    "# make the structured grid object from vtk lib\n",
    "sg_tess = tvtk.StructuredGrid(dimensions=grid_tess.cart_x.shape)\n",
    "# set the grid point coords using a flattened array of the meshgrid array\n",
    "sg_tess.points = grid_tess.cartflat\n",
    "# define a scalar field using the raveled version of the meshgrid array\n",
    "sg_tess.point_data.scalars = Te_mesh_tessalation.copy().ravel()\n",
    "# give the scalar parameter a suitable name\n",
    "sg_tess.point_data.scalars.name = \"Te\"\n",
    "# clear the field\n",
    "mlab.clf()\n",
    "#add the dataset to the pipeline, the principle is to add several object on top of each other\n",
    "src_tess = mlab.pipeline.add_dataset(sg_tess)\n",
    "# make a cut object to cut the 3D volum in slices in a user defined direction\n",
    "cut_tess = mlab.pipeline.scalar_cut_plane(src_tess)\n",
    "# make a contour plot of the scalar field\n",
    "cont_tess = mlab.pipeline.iso_surface(cut_tess)"
   ]
  }
 ],
 "metadata": {
  "kernelspec": {
   "display_name": "Python 3",
   "language": "python",
   "name": "python3"
  },
  "language_info": {
   "codemirror_mode": {
    "name": "ipython",
    "version": 3
   },
   "file_extension": ".py",
   "mimetype": "text/x-python",
   "name": "python",
   "nbconvert_exporter": "python",
   "pygments_lexer": "ipython3",
   "version": "3.9.5"
  }
 },
 "nbformat": 4,
 "nbformat_minor": 5
}
