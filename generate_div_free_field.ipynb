{
 "cells": [
  {
   "cell_type": "code",
   "execution_count": 1,
   "id": "9f07c9af",
   "metadata": {},
   "outputs": [],
   "source": [
    "import numpy as np\n",
    "import scipy as sp\n",
    "from matplotlib import pyplot as plt\n",
    "from mayavi import mlab\n",
    "\n",
    "%gui qt"
   ]
  },
  {
   "cell_type": "code",
   "execution_count": 2,
   "id": "48f8760e",
   "metadata": {},
   "outputs": [
    {
     "data": {
      "text/plain": [
       "<mayavi.modules.axes.Axes at 0x29c568c09a0>"
      ]
     },
     "execution_count": 2,
     "metadata": {},
     "output_type": "execute_result"
    }
   ],
   "source": [
    "def f(A, sigma, x,y,z):\n",
    "    return A*np.exp(-(x**2+y**2+z**2)/sigma)\n",
    "\n",
    "def divfree_field(A, sigma, x, y, z):\n",
    "    field = np.zeros((3,)+x.shape)\n",
    "    fval = f(A = A, sigma = sigma, x = x, y = y, z = z)\n",
    "    field[0] = fval*(z - y)\n",
    "    field[1] = fval*(x - z)\n",
    "    field[2] = fval*(y - x)\n",
    "    return field\n",
    "formesh = np.linspace(-6,6, 50)\n",
    "xx, yy, zz = np.meshgrid(formesh, formesh, formesh, indexing = 'ij')\n",
    "B = divfree_field(A = 1, sigma = 0.5, x = xx, y = yy, z = zz)\n",
    "\n",
    "mlab.clf()\n",
    "mlab.quiver3d(xx,yy,zz, B[0], B[1], B[2])\n",
    "mlab.outline()\n",
    "mlab.axes()"
   ]
  },
  {
   "cell_type": "code",
   "execution_count": null,
   "id": "7882c2c8",
   "metadata": {},
   "outputs": [],
   "source": []
  }
 ],
 "metadata": {
  "kernelspec": {
   "display_name": "Python 3",
   "language": "python",
   "name": "python3"
  },
  "language_info": {
   "codemirror_mode": {
    "name": "ipython",
    "version": 3
   },
   "file_extension": ".py",
   "mimetype": "text/x-python",
   "name": "python",
   "nbconvert_exporter": "python",
   "pygments_lexer": "ipython3",
   "version": "3.9.6"
  }
 },
 "nbformat": 4,
 "nbformat_minor": 5
}
