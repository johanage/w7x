{
 "cells": [
  {
   "cell_type": "code",
   "execution_count": null,
   "id": "8074fb91",
   "metadata": {},
   "outputs": [],
   "source": [
    "from osa import Client\n",
    "import numpy as np\n",
    "import matplotlib.pyplot as plt"
   ]
  },
  {
   "cell_type": "code",
   "execution_count": null,
   "id": "a2e9dd33",
   "metadata": {},
   "outputs": [],
   "source": [
    "cl = Client(\"http://esb.ipp-hgw.mpg.de:8280/services/w7xfp?wsdl\")"
   ]
  },
  {
   "cell_type": "code",
   "execution_count": null,
   "id": "0819d877",
   "metadata": {},
   "outputs": [],
   "source": [
    "# should be 21\n",
    "cl.service.getProfilesNumberOfKnots()"
   ]
  },
  {
   "cell_type": "code",
   "execution_count": null,
   "id": "9a508d37",
   "metadata": {},
   "outputs": [],
   "source": [
    "# print(cl.service)"
   ]
  },
  {
   "cell_type": "code",
   "execution_count": null,
   "id": "2251676d",
   "metadata": {},
   "outputs": [],
   "source": [
    "# print(cl.types)"
   ]
  },
  {
   "cell_type": "code",
   "execution_count": null,
   "id": "8aaf652b",
   "metadata": {},
   "outputs": [],
   "source": [
    "p = cl.types.Points3D()\n",
    "p.x1 = [5.5, 5.55, 5.6]\n",
    "p.x2 = [0.0, 0.0, 0.0]\n",
    "p.x3 = [0.0, 3.14, 6.28]"
   ]
  },
  {
   "cell_type": "code",
   "execution_count": null,
   "id": "7fa468dd",
   "metadata": {},
   "outputs": [],
   "source": [
    "pressure = [0,0,0,0,0,0,0,0,0,0,0,0,0,0,0,0,0,0,0,0,0]\n",
    "jtor = [0,0,0,0,0,0,0,0,0,0,0,0,0,0,0,0,0,0,0,0,0]\n",
    "coil_currents = [10000,10000,10000,10000,10000,0,0]\n",
    "plasma_radius = 0.52\n",
    "\n",
    "rMn = cl.service.getFourierCoefficientsRmn(pressure,jtor,plasma_radius,coil_currents)\n",
    "zMn = cl.service.getFourierCoefficientsZmn(pressure,jtor,plasma_radius,coil_currents)\n",
    "\n",
    "iota = cl.service.getIotaProfile(pressure, jtor, plasma_radius, coil_currents)\n",
    "print(iota)"
   ]
  },
  {
   "cell_type": "code",
   "execution_count": null,
   "id": "07b23c72",
   "metadata": {},
   "outputs": [],
   "source": [
    "tracer = Client('http://esb.ipp-hgw.mpg.de:8280/services/FieldLineProxy?wsdl')\n",
    "\n",
    "''' set the start points (R, phi, Z) for the tracing... '''\n",
    "p = tracer.types.Points3D()\n",
    "p.x1 = np.linspace(5.64, 6.3, 30)\n",
    "p.x2 = np.zeros(30)\n",
    "p.x3 = np.zeros(30)\n",
    "\n",
    "''' set a coil configuration ... '''\n",
    "config = tracer.types.MagneticConfig()\n",
    "\n",
    "''' e.g. using a config ID from CoilsDB: \n",
    "    1 : 'w7x standard case', 3 : 'low iota', 4 : 'high iota', 5 : 'low mirror', etc. '''\n",
    "config.configIds = [1] \n",
    "\n",
    "''' you could also create your own coil configurations \n",
    "    e.g. use only all type 3 of the non-planar sc coils from w7x: '''\n",
    "#config.coilsIds = [162, 167, 172, 177, 182, 187, 192, 197, 202, 207]\n",
    "#config.coilsIdsCurrents = [9993.92, 9993.92, 9993.92, 9993.92, 9993.92, 9993.92, 9993.92, 9993.92, 9993.92, 9993.92]\n",
    "\n",
    "''' you can use a grid for speeding up your requests. \n",
    "    Without a grid all tracing steps will be calculated by using Biot-Savart \n",
    "'''\n",
    "my_grid = tracer.types.CylindricalGrid()\n",
    "my_grid.RMin = 4.05\n",
    "my_grid.RMax = 6.75\n",
    "my_grid.ZMin = -1.35\n",
    "my_grid.ZMax = 1.35\n",
    "my_grid.numR = 181\n",
    "my_grid.numZ = 181\n",
    "my_grid.numPhi = 481\n",
    "\n",
    "g = tracer.types.Grid()\n",
    "g.cylindrical = my_grid\n",
    "g.fieldSymmetry = 5\n",
    "\n",
    "config.grid = g\n",
    "\n",
    "\n",
    "pctask = tracer.types.PoincareInPhiPlane()\n",
    "pctask.numPoints = 300\n",
    "pctask.phi0 = [0.0]\n",
    "                     \n",
    "task = tracer.types.Task()\n",
    "task.step = 0.01\n",
    "task.poincare = pctask\n",
    "\n",
    "''' you can use a Machine object for a limitation of the tracing region. \n",
    "    This sample uses a torus model (id = 164) from ComponentsDB: '''\n",
    "machine = tracer.types.Machine()\n",
    "machine.meshedModelsIds = [164] \n",
    "machine_grid = tracer.types.CartesianGrid()\n",
    "machine_grid.XMin = -7\n",
    "machine_grid.XMax = 7\n",
    "machine_grid.YMin = -7\n",
    "machine_grid.YMax = 7\n",
    "machine_grid.ZMin = -1.5\n",
    "machine_grid.ZMax = 1.5\n",
    "machine_grid.numX = 400\n",
    "machine_grid.numY = 400\n",
    "machine_grid.numZ = 100\n",
    "\n",
    "machine.grid = machine_grid\n",
    "# machine = None\n",
    "\n",
    "''' make a request to the web service: '''\n",
    "result = tracer.service.trace(p, config, task, machine, None)\n",
    "\n",
    "''' plot the results: '''\n",
    "for i in range(0,len(result.surfs)):\n",
    "    plt.scatter(result.surfs[i].points.x1, result.surfs[i].points.x3, s=0.1)"
   ]
  },
  {
   "cell_type": "code",
   "execution_count": null,
   "id": "a03972ed",
   "metadata": {},
   "outputs": [],
   "source": [
    "from osa import Client\n",
    "import numpy as np\n",
    "import matplotlib.pyplot as plt\n",
    "\n",
    "flt = Client('http://esb:8280/services/FieldLineProxy?wsdl')\n",
    "\n",
    "p = flt.types.Points3D()\n",
    "p.x1 = np.linspace(6.0,6.3,10)\n",
    "p.x2 = np.zeros(10)\n",
    "p.x3 = np.zeros(10)\n",
    "\n",
    "config = flt.types.MagneticConfig()\n",
    "config.configIds = 0\n"
   ]
  },
  {
   "cell_type": "code",
   "execution_count": null,
   "id": "f4f9ac55",
   "metadata": {},
   "outputs": [],
   "source": [
    "tracer = Client('http://esb.ipp-hgw.mpg.de:8280/services/FieldLineProxy?wsdl')\n",
    "\n",
    "pos = tracer.types.Points3D()\n",
    "pos.x1 = np.linspace(5.6, 6.2, 80)\n",
    "pos.x2 = np.zeros(80)\n",
    "pos.x3 = np.zeros(80)\n",
    "\n",
    "config = tracer.types.MagneticConfig()\n",
    "config.configIds = [15]\n",
    "\n",
    "lineTask = tracer.types.LineTracing()\n",
    "lineTask.numSteps = 300\n",
    "\n",
    "task = tracer.types.Task()\n",
    "task.step = 0.01\n",
    "task.lines = lineTask\n",
    "\n",
    "res = tracer.service.trace(pos, config, task, None, None)\n",
    "# axis = np.asarray([-7.0, 7.0, -5.5, 5.5])\n",
    "\n",
    "for i in range(0, len(res.lines)):\n",
    "    plt.scatter(res.lines[i].vertices.x1, res.lines[i].vertices.x3, s=0.01)"
   ]
  },
  {
   "cell_type": "code",
   "execution_count": null,
   "id": "b2459fd8",
   "metadata": {},
   "outputs": [],
   "source": []
  }
 ],
 "metadata": {
  "kernelspec": {
   "display_name": "Python 3",
   "language": "python",
   "name": "python3"
  },
  "language_info": {
   "codemirror_mode": {
    "name": "ipython",
    "version": 3
   },
   "file_extension": ".py",
   "mimetype": "text/x-python",
   "name": "python",
   "nbconvert_exporter": "python",
   "pygments_lexer": "ipython3",
   "version": "3.9.5"
  }
 },
 "nbformat": 4,
 "nbformat_minor": 5
}
