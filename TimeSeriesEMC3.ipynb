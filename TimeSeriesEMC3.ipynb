{
 "cells": [
  {
   "cell_type": "code",
   "execution_count": null,
   "id": "ad24f650",
   "metadata": {},
   "outputs": [],
   "source": [
    "# gen libs\n",
    "import xarray as xr\n",
    "import numpy as np\n",
    "import scipy as sp\n",
    "from matplotlib import pyplot as plt\n",
    "import time\n",
    "\n",
    "# libs for poincaré\n",
    "from osa import Client\n",
    "\n",
    "# emc3 submodule\n",
    "import xemc3\n",
    "\n",
    "#vtk libs\n",
    "from tvtk.api import tvtk\n",
    "from mayavi.scripts import mayavi2\n",
    "from PyQt5 import QtCore\n",
    "import sip\n",
    "import vtk\n",
    "from mayavi import mlab\n",
    "%gui qt\n",
    "\n",
    "# importing widget libs to make interactive plots\n",
    "import ipywidgets as widgets\n",
    "from ipywidgets import interact, interactive, fixed, interact_manual\n",
    "\n",
    "import os\n",
    "import sys"
   ]
  },
  {
   "cell_type": "code",
   "execution_count": null,
   "id": "c9b8d874",
   "metadata": {},
   "outputs": [],
   "source": [
    "#import the necessary functions from the previous scripts\n",
    "loc_path_interpol_script = r\"C:\\Users\\joag\\Documents\\Notebooks\\W7X_intership\"\n",
    "fps = []\n",
    "fps.append(loc_path_interpol_script + r\"\\make_parammesh_vtk.py\")\n",
    "fps.append(loc_path_interpol_script + r\"\\grid.py\")\n",
    "fps.append(loc_path_interpol_script + r\"\\makemesh_indices.py\")\n",
    "for path in fps:\n",
    "    module_path = os.path.abspath(os.path.join(path))\n",
    "    if module_path not in sys.path:\n",
    "        sys.path.append(module_path)"
   ]
  },
  {
   "cell_type": "code",
   "execution_count": null,
   "id": "9af0d9a3",
   "metadata": {},
   "outputs": [],
   "source": [
    "from make_parammesh_vtk import make_parammesh_vtk\n",
    "from grid import grid\n",
    "from makemesh_indices import make_parammesh_vtk_indices, from_indices_to_paramvals"
   ]
  },
  {
   "cell_type": "code",
   "execution_count": null,
   "id": "a6ff357e",
   "metadata": {},
   "outputs": [],
   "source": [
    "os.chdir(\"..\")"
   ]
  },
  {
   "cell_type": "code",
   "execution_count": null,
   "id": "9384c6b6",
   "metadata": {},
   "outputs": [],
   "source": [
    "path_timeseriesdata_emc3 = r\"~/Dokumente/N01.nc\"\n",
    "ds_tot = xr.open_dataset(path_timeseriesdata_emc3)"
   ]
  },
  {
   "cell_type": "code",
   "execution_count": null,
   "id": "2f5fd8a2",
   "metadata": {},
   "outputs": [],
   "source": [
    "ds_tsdata_emc3 = ds_tot.isel(time = slice(-20,None))\n",
    "ds_tsdata_emc3"
   ]
  },
  {
   "cell_type": "code",
   "execution_count": null,
   "id": "5f524437",
   "metadata": {},
   "outputs": [],
   "source": [
    "def make_timeseries_data(idxmesh, weightmesh, ds_param, grid_obj, sgrid, sp = (0,0,0)):\n",
    "    ts_paramlist = []\n",
    "    for i in range(ds_param.shape[0]):\n",
    "        ts_paramlist.append( from_indices_to_paramvals(idxs = idxmesh,\n",
    "                                                       weights = weightmesh,\n",
    "                                                       param_torgrid = np.asarray(ds_param[i]) ) )"
   ]
  },
  {
   "cell_type": "code",
   "execution_count": null,
   "id": "b4bea1e3",
   "metadata": {},
   "outputs": [],
   "source": [
    "grid_512 = grid(ds = ds_tsdata_emc3, ngrid_cart = 512, inc_r = [0, 139], inc_t = [0,512], inc_p = [0,35])\n",
    "dimgrid = list([x for x in grid_512.tor_x.shape[::-1]])\n",
    "sgrid_512 = tvtk.StructuredGrid(dimensions=dimgrid)\n",
    "sgrid_512.points = grid_512.torflat\n",
    "\n",
    "idxmesh, weightmesh = make_parammesh_vtk_indices(grid_obj = grid_512, \n",
    "                                                 sgrid = sgrid_512, \n",
    "                                                 sp = (0,0,0), \n",
    "                                                 tolsqrd = 2e-2)"
   ]
  },
  {
   "cell_type": "code",
   "execution_count": null,
   "id": "d50a3eac",
   "metadata": {},
   "outputs": [],
   "source": [
    "with open('idxmesh_512.npy', 'wb') as f:\n",
    "    np.save(f, idxmesh)\n",
    "with open('weightmesh_512.npy', 'wb') as f:\n",
    "    np.save(f, weightmesh)"
   ]
  },
  {
   "cell_type": "code",
   "execution_count": null,
   "id": "b90a3fc6",
   "metadata": {},
   "outputs": [],
   "source": [
    "#i400,w400 = np.load(os.getcwd() + r\"/w7x/indices_weights_400.npy\")"
   ]
  },
  {
   "cell_type": "code",
   "execution_count": null,
   "id": "68ca80b2",
   "metadata": {},
   "outputs": [],
   "source": [
    "ts_512 = make_timeseries_data(idxmesh = idxmesh, \n",
    "                              weightmesh = weightmesh, \n",
    "                              ds_param = ds_tsdata_emc3.Te, \n",
    "                              grid_obj = grid_512, sgrid = sgrid_512, sp = (0,0,0))"
   ]
  },
  {
   "cell_type": "code",
   "execution_count": null,
   "id": "9cb001ee",
   "metadata": {},
   "outputs": [],
   "source": [
    "with open('ts_500.npy', 'wb') as f:\n",
    "    np.save(f, ts_512)"
   ]
  },
  {
   "cell_type": "code",
   "execution_count": null,
   "id": "05c52a2c",
   "metadata": {},
   "outputs": [],
   "source": [
    "mean_sel = ds_tsdata_emc3.mean(dim = 'time')"
   ]
  },
  {
   "cell_type": "code",
   "execution_count": null,
   "id": "3a3ca340",
   "metadata": {
    "scrolled": true
   },
   "outputs": [],
   "source": [
    "#std_sel = ds_tsdata_emc3.std(dim = 'time')"
   ]
  },
  {
   "cell_type": "code",
   "execution_count": null,
   "id": "c6f5169a",
   "metadata": {},
   "outputs": [],
   "source": [
    "#std_tot = ds_tsdata_emc3.std()"
   ]
  },
  {
   "cell_type": "code",
   "execution_count": null,
   "id": "aec4b233",
   "metadata": {},
   "outputs": [],
   "source": [
    "\"ir, it, ip tuples representing from to values\"\n",
    "\"\"\"def plot_noise_param(ds, dsparam, mean_dsparam, ir, it, ip):\n",
    "    dsparam = np.array(dsparam)\n",
    "    mean_dsparam = np.array(mean_dsparam)\n",
    "    T = ds.Te.shape[0]\n",
    "    reg_shape = (T, ir[1]-ir[0], it[1]-it[0], ip[1]-ip[0])\n",
    "    t = np.array(np.linspace(0,T-1,T), dtype=np.int64)\n",
    "    plt.figure()\n",
    "    for i in range(reg_shape[1]):\n",
    "        for j in range(reg_shape[2]):\n",
    "            for k in range(reg_shape[3]):\n",
    "                plt.plot(t, dsparam[:, ir[0]+i,it[0]+j,ip[0]+k] - mean_dsparam[ir[0]+i,it[0]+j,ip[0]+k])\n",
    "                plt.xlabel(\"$t$\")\n",
    "                plt.ylabel(\"$\\\\theta_t - \\\\langle \\\\theta(t) \\\\rangle_t$\")\"\"\""
   ]
  },
  {
   "cell_type": "code",
   "execution_count": null,
   "id": "8b909f3a",
   "metadata": {},
   "outputs": [],
   "source": [
    "\"\"\"from ipywidgets import interact\n",
    "import ipywidgets as widgets\n",
    "def sliderplot_noise(ir, it, ip):\n",
    "    plot_noise_param(ds = ds_tsdata_emc3, \n",
    "                     dsparam = ds_tsdata_emc3.Te, \n",
    "                     mean_dsparam = mean_sel.Te, \n",
    "                     ir = ir, it = it, ip = ip)\n",
    "rslider = widgets.IntRangeSlider(min = 0, max = mean_sel.Te.shape[0]-1, value = [130,138], description = 'R')\n",
    "thetaslider = widgets.IntRangeSlider(min = 0, max = mean_sel.Te.shape[1]-1, value = [0,5], description = 'theta')\n",
    "phislider = widgets.IntRangeSlider(min = 0, max = mean_sel.Te.shape[2]-1, value = [0,5], description = 'phi')\n",
    "interact(sliderplot_noise, ir = rslider, it = thetaslider, ip = phislider)\"\"\""
   ]
  },
  {
   "cell_type": "code",
   "execution_count": null,
   "id": "998bda75",
   "metadata": {},
   "outputs": [],
   "source": [
    "\"\"\"grid_meanmean_sel = grid(ds = mean_sel, inc_r = [20, 138], inc_t = [0, 512], inc_p = [0, 4])\n",
    "dimsg = grid_meanmean_sel.tor_x.shape[::-1]\n",
    "sg_meanmean = tvtk.StructuredGrid(dimensions = dimsg)\n",
    "sg_meanmean.points = grid_meanmean_sel.torflat\n",
    "sg_meanmean.point_data.scalars = np.asarray(mean_sel.Te)[20:138,0:512,0:4].flatten()\n",
    "sg_meanmean.point_data.scalars.name = \"Te\" \"\"\""
   ]
  },
  {
   "cell_type": "code",
   "execution_count": null,
   "id": "0aa7f005",
   "metadata": {},
   "outputs": [],
   "source": [
    "\"\"\"\n",
    "Plotting the actual values in the W7X grid with the electron temperature as a test.\n",
    "\"\"\"\n",
    "\"\"\"# clear the field\n",
    "mlab.clf()\n",
    "#add the dataset to the pipeline, the principle is to add several object on top of each other\n",
    "src_emc3 = mlab.pipeline.add_dataset(sg_meanmean)\n",
    "# make a cut object to cut the 3D volum in slices in a user defined direction\n",
    "cut_emc3 = mlab.pipeline.scalar_cut_plane(src_emc3)\n",
    "# make a contour plot of the scalar field\n",
    "cont_emc3 = mlab.pipeline.iso_surface(cut_emc3)\n",
    "# add the outline of the 3d domain\n",
    "mlab.outline()\n",
    "# add axis to the plot\n",
    "mlab.axes()\"\"\""
   ]
  },
  {
   "cell_type": "code",
   "execution_count": null,
   "id": "0412f963",
   "metadata": {},
   "outputs": [],
   "source": [
    "\"\"\"\n",
    "Importing the Poincare plots of the magnetic fields from the web service client for comparing the\n",
    "features with the magnetic configuration of the machine.\n",
    "\"\"\"\n",
    "cl = Client(\"http://esb.ipp-hgw.mpg.de:8280/services/w7xfp?wsdl\")\n",
    "# should be 21\n",
    "cl.service.getProfilesNumberOfKnots()\n",
    "\n",
    "tracer = Client('http://esb.ipp-hgw.mpg.de:8280/services/FieldLineProxy?wsdl')\n",
    "\n",
    "''' set the start points (R, phi, Z) for the tracing... '''\n",
    "p = tracer.types.Points3D()\n",
    "p.x1 = np.linspace(5.64, 6.3, 30)\n",
    "p.x2 = np.zeros(30)\n",
    "p.x3 = np.zeros(30)\n",
    "\n",
    "''' set a coil coilconfiguration ... '''\n",
    "coilconfig = tracer.types.MagneticConfig()\n",
    "\n",
    "''' e.g. using a coilconfig ID from CoilsDB: \n",
    "    1 : 'w7x standard case', 3 : 'low iota', 4 : 'high iota', 5 : 'low mirror', etc. '''\n",
    "coilconfig.configIds = [0] \n",
    "\n",
    "''' you could also create your own coil coilconfigurations \n",
    "    e.g. use only all type 3 of the non-planar sc coils from w7x: '''\n",
    "#coilconfig.coilsIds = [162, 167, 172, 177, 182, 187, 192, 197, 202, 207]\n",
    "#coilconfig.coilsIdsCurrents = [9993.92, 9993.92, 9993.92, 9993.92, 9993.92, 9993.92, 9993.92, 9993.92, 9993.92, 9993.92]\n",
    "\n",
    "''' you can use a grid for speeding up your requests. \n",
    "    Without a grid all tracing steps will be calculated by using Biot-Savart \n",
    "'''\n",
    "my_grid = tracer.types.CylindricalGrid()\n",
    "my_grid.RMin = 4.05\n",
    "my_grid.RMax = 6.75\n",
    "my_grid.ZMin = -1.35\n",
    "my_grid.ZMax = 1.35\n",
    "my_grid.numR = 181\n",
    "my_grid.numZ = 181\n",
    "my_grid.numPhi = 481\n",
    "\n",
    "g = tracer.types.Grid()\n",
    "g.cylindrical = my_grid\n",
    "g.fieldSymmetry = 5\n",
    "\n",
    "coilconfig.grid = g\n",
    "\n",
    "\n",
    "pctask = tracer.types.PoincareInPhiPlane()\n",
    "pctask.numPoints = 300\n",
    "pctask.phi0 = [0.0]\n",
    "                     \n",
    "task = tracer.types.Task()\n",
    "task.step = 0.01\n",
    "task.poincare = pctask\n",
    "\n",
    "''' you can use a Machine object for a limitation of the tracing region. \n",
    "    This sample uses a torus model (id = 164) from ComponentsDB: '''\n",
    "machine = tracer.types.Machine()\n",
    "machine.meshedModelsIds = [164] \n",
    "machine_grid = tracer.types.CartesianGrid()\n",
    "machine_grid.XMin = -7\n",
    "machine_grid.XMax = 7\n",
    "machine_grid.YMin = -7\n",
    "machine_grid.YMax = 7\n",
    "machine_grid.ZMin = -1.5\n",
    "machine_grid.ZMax = 1.5\n",
    "machine_grid.numX = 400\n",
    "machine_grid.numY = 400\n",
    "machine_grid.numZ = 100\n",
    "\n",
    "machine.grid = machine_grid\n",
    "# machine = None\n",
    "\n",
    "''' make a request to the web service: '''\n",
    "result = tracer.service.trace(p, coilconfig, task, machine, None)"
   ]
  },
  {
   "cell_type": "code",
   "execution_count": null,
   "id": "96396165",
   "metadata": {
    "scrolled": false
   },
   "outputs": [],
   "source": [
    "\"\"\"\n",
    "Y-slices of raw data.\n",
    "\"\"\"\n",
    "\"\"\"# %matplotlib\n",
    "ds_sel_Te = ds_tsdata_emc3.Te[:,20:138,0:512,:]\n",
    "def plot_emc3toroidal(itime, ip):\n",
    "    figemc3 = plt.figure(figsize=(10,10))\n",
    "    axemc3 = figemc3.add_subplot()\n",
    "    clev = np.arange(ds_sel_Te[itime,:,:,ip].min(),\n",
    "                     ds_sel_Te[itime,:,:,ip].max(),.5)\n",
    "    cemc3 = axemc3.contourf(grid_meanmean_sel.R[:,:,ip], \n",
    "                            grid_meanmean_sel.tor_z[:,:,ip], \n",
    "                            ds_sel_Te[itime,:,:,ip], \n",
    "                            clev)\n",
    "    figemc3.colorbar(cemc3)\n",
    "    \n",
    "    # Poincaré\n",
    "    for i in range(0,len(result.surfs)):\n",
    "        axemc3.scatter(result.surfs[i].points.x1, result.surfs[i].points.x3, s=0.1)\n",
    "    \n",
    "phislider = widgets.IntSlider(min = 0, max = 3, value = 0)\n",
    "timeslider = widgets.IntSlider(min = 0, max = 19, value = 0)\n",
    "interact(plot_emc3toroidal, itime = timeslider, ip = phislider)\"\"\""
   ]
  },
  {
   "cell_type": "code",
   "execution_count": null,
   "id": "20ee0a53",
   "metadata": {},
   "outputs": [],
   "source": [
    "\"\"\"\n",
    "remember the grid has the dimensions (139,512,36) = (r, theta, phi)\n",
    "only restrict in (r,theta)\n",
    "\"\"\"\n",
    "\n",
    "regstest = np.zeros((5, 2, 2), dtype = np.int64)\n",
    "regstest[:,0,0] = 50\n",
    "regstest[:,0,1] = 138\n",
    "regstest[0,1,0] = 10\n",
    "regstest[0,1,1] = 30\n",
    "regstest[1,1,0] = 50\n",
    "regstest[1,1,1] = 130\n",
    "regstest[2,1,0] = 160\n",
    "regstest[2,1,1] = 190\n",
    "regstest[3,1,0] = 330\n",
    "regstest[3,1,1] = 360\n",
    "regstest[4,1,0] = 380\n",
    "regstest[4,1,1] = 450"
   ]
  },
  {
   "cell_type": "code",
   "execution_count": null,
   "id": "d7ecae5c",
   "metadata": {},
   "outputs": [],
   "source": [
    "import warnings\n",
    "warnings.simplefilter(\"ignore\", UserWarning)\n",
    "\n",
    "def plot_Te_zoomed(itime, ip, ireg):\n",
    "    \"\"\"\n",
    "    Watch out for:\n",
    "    MatplotlibDeprecationWarning: shading='flat' when X and Y have the same dimensions as C is deprecated since 3.3.  Either specify the corners of the quadrilaterals with X and Y, or pass shading='auto', 'nearest' or 'gouraud', or set rcParams['pcolor.shading'].  This will become an error two minor releases later.\n",
    "      c = plt.pcolormesh(R[:, :,ip],\n",
    "    \"\"\"\n",
    "    rcoord, zcoord, data_rzslice = reduce_region_of_interest(ds = ds_tsdata_emc3,\n",
    "                                                             ds_param = ds_tsdata_emc3.Te[itime],\n",
    "                                                             region = regstest[ireg], iphi = ip)\n",
    "    fig = plt.figure(figsize = (10,10))\n",
    "    ax = fig.add_subplot()\n",
    "    c = plt.pcolormesh(rcoord, zcoord, data_rzslice, cmap = plt.cm.jet, shading = 'auto')\n",
    "    plt.colorbar(c, label=\"$T_e$\")\n",
    "    plt.xlabel(\"$R[m]$\")\n",
    "    plt.ylabel(\"$z[m]$\")\n",
    "#     plt.legend()\n",
    "phislider = widgets.IntSlider(min = 0, max = 35)\n",
    "timeslider = widgets.IntSlider(min = 0, max = 19)\n",
    "regionslider = widgets.IntSlider(min = 0, max = len(regstest)-1, value=1)\n",
    "interact(plot_Te_zoomed, itime = timeslider, ip = phislider, ireg = regionslider)"
   ]
  },
  {
   "cell_type": "code",
   "execution_count": null,
   "id": "2d648eeb",
   "metadata": {},
   "outputs": [],
   "source": [
    "gridlist_timeseries = []\n",
    "sgridlist = []\n",
    "i = 0\n",
    "for region in regstest:\n",
    "    print(\"region[0]\", region[0], \"region[1]\", region[1])\n",
    "    # use ngrid_cart = 128 to have dimensions of powers of 2\n",
    "    gridlist_timeseries.append( grid(ds_tsdata_emc3, ngrid_cart=64, inc_r= region[0],inc_t=region[1], inc_p = [0,4] ) )\n",
    "    sg = tvtk.StructuredGrid(dimensions = gridlist_timeseries[i].tor_x.shape[::-1])\n",
    "    sg.points = gridlist_timeseries[i].torflat\n",
    "    sgridlist.append(sg)    \n",
    "    i+=1"
   ]
  },
  {
   "cell_type": "code",
   "execution_count": null,
   "id": "ee040950",
   "metadata": {},
   "outputs": [],
   "source": [
    "\"\"\"\n",
    "Time loop:\n",
    " - instead of doing the interpolation on all timerframes, store indices of points in the w7x grid and then\n",
    " calculate the interpolation just once\n",
    "Looping over cartesian points:\n",
    " - parallelize the for loop\n",
    "\"\"\"\n",
    "\n",
    "\"\"\"def makeparamlist(ds_param, sgridlist, gridlist, regions):\n",
    "    \"\"\"\n",
    "\"\"\"    Args:\n",
    "     - ds_param, xarray np.float64, parameter dataset\n",
    "     - sgridlist, tvtk.StructuredGrid object, the W7X grid\n",
    "     - gridlist, grid object\n",
    "     - regions, ndarray np.int64, indices of the regions of interest\n",
    "    Out:\n",
    "     - ts_paramlist, list of ndarray np.float64, times series meshgrid of parameter values (nt,) (ix, iy, iz)\"\"\"\n",
    "    \"\"\"\n",
    "    ds_param = np.array(ds_param)\n",
    "    ts_paramlist = []\n",
    "    for t in range(ds_param.shape[0]):\n",
    "        print(t)\n",
    "        paramlist = []\n",
    "        for i in range(regions.shape[0]):\n",
    "            # the grids are time indep, only the parameter value varies with time\n",
    "            parammesh_r, notfound = make_parammesh_vtk(grid_obj = gridlist[i],\n",
    "                                                       sgrid = sgridlist[i],\n",
    "                                                       param_torgrid = ds_param[t,regstest[i,0,0]:regstest[i,0,1],\n",
    "                                                                                regstest[i,1,0]:regstest[i,1,1],:] )\n",
    "            paramlist.append(parammesh_r)\n",
    "        ts_paramlist.append(paramlist)\n",
    "    return ts_paramlist\"\"\""
   ]
  },
  {
   "cell_type": "code",
   "execution_count": null,
   "id": "605ccb2f",
   "metadata": {},
   "outputs": [],
   "source": [
    "\"\"\"tik = time.time()\n",
    "pmesh_ts = makeparamlist(ds_param = ds_tsdata_emc3.Te, \n",
    "                         sgridlist = sgridlist, \n",
    "                         gridlist = gridlist_timeseries, \n",
    "                         regions = regstest)\n",
    "tok = time.time()\"\"\""
   ]
  },
  {
   "cell_type": "code",
   "execution_count": null,
   "id": "e314ec86",
   "metadata": {},
   "outputs": [],
   "source": [
    "from save_interpolated_data import parammesh_timeseries_tofile, parammesh_timeseries_readfile"
   ]
  },
  {
   "cell_type": "code",
   "execution_count": null,
   "id": "d32c1c17",
   "metadata": {},
   "outputs": [],
   "source": [
    "# write the interpolated data to file\n",
    "filename_pmesh_ts = 'parameter_meshgrid_time_series_data_128x128x128'\n",
    "parammesh_timeseries_tofile(filename_pmesh_ts, pmesh_ts)"
   ]
  },
  {
   "cell_type": "code",
   "execution_count": null,
   "id": "9abbc251",
   "metadata": {},
   "outputs": [],
   "source": [
    "# load the interpolated data from file\n",
    "pmesh_ts_fromfile = parammesh_timeseries_readfile(filename_pmesh_ts, (len(pmesh_ts),len(pmesh_ts[0]),))"
   ]
  },
  {
   "cell_type": "code",
   "execution_count": null,
   "id": "39940834",
   "metadata": {},
   "outputs": [],
   "source": [
    "print(\"Runtime potmeshlist is \", tok-tik, \"seconds for ngrid = \", gridlist_timeseries[0].cart_x.shape[0])\n",
    "print(len(pmesh_ts))\n",
    "print(len(pmesh_ts[0]))\n",
    "pmesh_ts[0][0].shape"
   ]
  },
  {
   "cell_type": "code",
   "execution_count": null,
   "id": "6b83c483",
   "metadata": {},
   "outputs": [],
   "source": [
    "with open('parametermesh_timeseries.txt', 'w') as f:\n",
    "    for t in pmesh_ts:\n",
    "        for region in t:\n",
    "            f.write(\"%s\\n\" % region)"
   ]
  },
  {
   "cell_type": "code",
   "execution_count": null,
   "id": "585ac710",
   "metadata": {},
   "outputs": [],
   "source": [
    "def plot_interpol_regs(itime, ireg, iy):\n",
    "    plt.figure(figsize=(10,10))\n",
    "    im = plt.imshow(pmesh_ts[itime][ireg].T[::-1][:,iy])\n",
    "    plt.colorbar(im)\n",
    "timeslider = widgets.IntSlider(min = 0, max = len(pmesh_ts)-1, value=0)\n",
    "yslider = widgets.IntSlider(min = 0, max = pmesh_ts[0][0].T[::-1].shape[1]-2, value=1)\n",
    "regionslider = widgets.IntSlider(min = 0, max = len(regstest)-1, value=1)\n",
    "interact(plot_interpol_regs, itime = timeslider, ireg = regionslider, iy = yslider)"
   ]
  },
  {
   "cell_type": "code",
   "execution_count": null,
   "id": "44532923",
   "metadata": {},
   "outputs": [],
   "source": [
    "from skimage.restoration import denoise_wavelet, cycle_spin\n",
    "from skimage import data, img_as_float\n",
    "from skimage.util import random_noise\n",
    "from skimage.metrics import peak_signal_noise_ratio\n",
    "import skimage.data"
   ]
  },
  {
   "cell_type": "code",
   "execution_count": null,
   "id": "57ae2d74",
   "metadata": {},
   "outputs": [],
   "source": [
    "def shiftinv_wavelet_denoising(tsdata, int_y = [0,pmesh_ts[0][0].shape[1]]):\n",
    "    \"\"\"\n",
    "    Args:\n",
    "     - tsdata, list of ndarray np.float64 (nt,)(nr,)(ix, iy, iz), list of times of list of regions of parameter mesh\n",
    "     - int_phi, list of int, defining the interval in phi direction\n",
    "    Out:\n",
    "    \"\"\"\n",
    "    tik = time.time()\n",
    "    denoised = []\n",
    "    for t in range(len(tsdata)):\n",
    "        denoised_regions = []\n",
    "        for r in range(len(tsdata[0])):\n",
    "            img = tsdata[t][r].T[::-1,int_y[0]:int_y[1]].copy()\n",
    "            imgisnan = np.isnan(img)\n",
    "            img[imgisnan] = np.zeros(img[imgisnan].shape)\n",
    "            # multichannel = bool, do you have rgb/csv/hsv etc?, convert2ycbcr = bool, req multichannel = True\n",
    "            # denoise_kwargs = dict(multichannel=False, convert2ycbcr=False, wavelet='db1', rescale_sigma=True)\n",
    "            denoised_reg = cycle_spin(img, func=denoise_wavelet, max_shifts=(4,4,4))#max_shifts=img.shape\n",
    "            # set values that were nan before the denoising back to nan\n",
    "            denoised_reg[imgisnan] = np.ones(denoised_reg[imgisnan].shape)*np.nan\n",
    "            denoised_regions.append(denoised_reg)\n",
    "        denoised.append(denoised_regions)\n",
    "    tok = time.time()\n",
    "    return denoised, tok-tik"
   ]
  },
  {
   "cell_type": "code",
   "execution_count": null,
   "id": "5fb81f33",
   "metadata": {},
   "outputs": [],
   "source": [
    "emc3_denoised, runtime = shiftinv_wavelet_denoising(tsdata = pmesh_ts) "
   ]
  },
  {
   "cell_type": "code",
   "execution_count": null,
   "id": "4b8920c2",
   "metadata": {},
   "outputs": [],
   "source": [
    "emc3_denoised[1][4].shape"
   ]
  },
  {
   "cell_type": "code",
   "execution_count": null,
   "id": "f1048f07",
   "metadata": {},
   "outputs": [],
   "source": [
    "plt.imshow(emc3_denoised[0][1][:,30])"
   ]
  },
  {
   "cell_type": "code",
   "execution_count": null,
   "id": "5b826640",
   "metadata": {},
   "outputs": [],
   "source": [
    "def compare_regplot(ogimg, denoised_img):\n",
    "    fig, ax = plt.subplots(nrows = 2, ncols = 2, figsize = (20,20))\n",
    "    noisy = ax[0,0].imshow(ogimg)\n",
    "    ax[0,0].set_title(\"Noisy\")\n",
    "    fig.colorbar(noisy, ax = ax[0,0])\n",
    "    denoised = ax[0,1].imshow(denoised_img)\n",
    "    ax[0,1].set_title(\"Denoised\")\n",
    "    fig.colorbar(denoised, ax = ax[0,1])\n",
    "    noise = ax[1,0].imshow(ogimg - denoised_img)\n",
    "    ax[1,0].set_title(\"Noise\")\n",
    "    fig.colorbar(noise, ax = ax[1,0])"
   ]
  },
  {
   "cell_type": "code",
   "execution_count": null,
   "id": "dec4a8bf",
   "metadata": {},
   "outputs": [],
   "source": [
    "tik = time.time()\n",
    "img0_reg = pmesh_ts[0][1].T[::-1][:,1:3].copy()\n",
    "imgisnan = np.isnan(img0_reg)\n",
    "img0_reg[imgisnan] = np.zeros(img0_reg[imgisnan].shape)\n",
    "# plt.imshow(img0_reg[:,1])\n",
    "# img0_reg[imgisnan] = np.ones(img0_reg[imgisnan].shape)*np.nan\n",
    "plt.imshow(img0_reg[:,1])\n",
    "# plt.imshow(paramlist[1].T[::-1][:,3])"
   ]
  },
  {
   "cell_type": "code",
   "execution_count": null,
   "id": "af8a0504",
   "metadata": {},
   "outputs": [],
   "source": [
    "np.where(imgisnan == True)[0].shape\n",
    "img0_reg[:,0].shape"
   ]
  },
  {
   "cell_type": "code",
   "execution_count": null,
   "id": "13ebcbe8",
   "metadata": {},
   "outputs": [],
   "source": [
    "# multichannel = bool, do you have rgb/csv/hsv etc?, convert2ycbcr = bool, req multichannel = True\n",
    "# denoise_kwargs = dict(multichannel=False, convert2ycbcr=False, wavelet='db1', rescale_sigma=True)\n",
    "denoised_reg = cycle_spin(img0_reg, func=denoise_wavelet, max_shifts=img0_reg.shape)\n",
    "tok = time.time()"
   ]
  },
  {
   "cell_type": "code",
   "execution_count": null,
   "id": "b91a2e0d",
   "metadata": {},
   "outputs": [],
   "source": [
    "plt.imshow(denoised_reg[:,0])"
   ]
  },
  {
   "cell_type": "code",
   "execution_count": null,
   "id": "3e8ce9e3",
   "metadata": {},
   "outputs": [],
   "source": [
    "# set values that were nan before the denoising back to nan\n",
    "img0_reg[imgisnan] = np.ones(img0_reg[imgisnan].shape)*np.nan\n",
    "denoised_reg[imgisnan] = np.ones(denoised_reg[imgisnan].shape)*np.nan"
   ]
  },
  {
   "cell_type": "code",
   "execution_count": null,
   "id": "1f2b3263",
   "metadata": {},
   "outputs": [],
   "source": [
    "plt.imshow(denoised_reg[:,0])"
   ]
  },
  {
   "cell_type": "code",
   "execution_count": null,
   "id": "c9416817",
   "metadata": {
    "scrolled": false
   },
   "outputs": [],
   "source": [
    "print(\"2D shift-invariant denoising took \", tok - tik, \"seconds.\")\n",
    "compare_regplot(ogimg = img0_reg[:,0], denoised_img = denoised_reg[:,0] )\n",
    "# compare_regplot(ogimg = img0_reg[:,1], denoised_img = denoised_reg[:,1])"
   ]
  },
  {
   "cell_type": "markdown",
   "id": "ee49a466",
   "metadata": {},
   "source": [
    "# Conservation of physical quantities\n",
    "\n",
    "1. Formulate the equations for the particle and flux balance.\n",
    "2. Implement the conservation equations.\n",
    "3. Confirm that the interpolation is conservation preserving.\n",
    "4. Quantify the error of conservation introduced by the interpolation?\n",
    "\n",
    "# The effect of noise with regards to the conservation of physical quantites\n",
    "1. Add independent noiseterms to each terms of the conservation equations and see how it affects the interpolated data.\n",
    "2. Apply the filtering to mean data + known noise terms to quantify the effect of the filtering method.\n",
    "3. Try and quantify when the conservation laws break down by increasing the noise contribution.\n",
    "4. Quantize the effect of the filtering method wiht regards to the conservation laws. How much does the filtering method increase the threshold of the noise contribution with regards to the preservation of conservation laws.\n",
    "\n",
    "# Decomposing the drift terms\n",
    "1. Formulate the equations of the drift terms.\n",
    "2. Split drift terms into divergence-free and non-divergence-free terms.\n",
    "3. Analyze the magnitude of the divergence-free terms. Give relative contribution measures to the $\\mathbf{E}\\times\\mathbf{B}$-terms.\n",
    "4. Give an analysis on whether to implement a divergence-free optimized interpolation scheme or not. If yes, go to the last step.\n",
    "\n",
    "# Implementing divergence-free property of interpolation scheme\n",
    "1. Generate synthetic divergence free field.\n",
    "2. Implement method for checking diverge-free property of the field.\n",
    "3. Investigate the effect that noise contribution has to the divergence-free property of the field and apply the filtering method on the synthetic field to give a measure on how the filtering method improves the preservation of the divergence-free property.\n",
    "4. By using the synthetic divergence-free field, implement a divergence-free interpolation method or optimize the already implemented method.\n",
    "5. Apply the divergence free interpolation on the raw emc3 data and confirm the divergence-free property of the relevant terms.\n",
    "6. Apply the filtering method and repeat step 5.\n",
    "7. Quantize the effect of the filter by comparing to the mean of the time series data.\n",
    "8. Do a bootstrap of the standard deviation to give a measure on the accuracy of the mean, and finally do a bias corrected estimate?"
   ]
  },
  {
   "cell_type": "markdown",
   "id": "44a1661f",
   "metadata": {},
   "source": [
    "# Particle conservation\n",
    "\n",
    "## Generalized particle flux density conservation\n",
    "\n",
    "\\begin{equation}\n",
    "    \\nabla (n v) = S_p\n",
    "\\end{equation}\n",
    "\n",
    "where the particle source term $S_p$ is set to zero because it will only be non-zero in proximity of the targets. $n$ and $v$ is the particle density and fluid velocity so the resulting conservation equation is:\n",
    "\\begin{equation}\n",
    "\\nabla(nv) = 0\n",
    "\\end{equation}\n",
    "\n",
    "\\begin{equation}\n",
    "\\Gamma = -D \\frac{d n}{d \\mathbf{r}}\n",
    "\\end{equation}\n",
    "\n",
    "# Heat flux\n",
    "\n",
    "\\begin{align}\n",
    "q_{\\parallel} = -\\chi_n\\frac{dT_e}{d\\mathbf{r}}\n",
    "q_{\\perp} = K_eT_e^{5/2}\\frac{dT}{d\\mathbf{r}}\n",
    "\\end{align}"
   ]
  },
  {
   "cell_type": "code",
   "execution_count": null,
   "id": "15f5f6b6",
   "metadata": {},
   "outputs": [],
   "source": [
    "# note M is the mach number of the parallell number\n",
    "mean_sel"
   ]
  },
  {
   "cell_type": "code",
   "execution_count": null,
   "id": "94291e4a",
   "metadata": {},
   "outputs": [],
   "source": [
    "# plt.figure(figsize=(20,20))\n",
    "# mean_sel.emc3.plot_Rz('fort.46_0', phi = 0)\n",
    "gridlist_timeseries"
   ]
  },
  {
   "cell_type": "code",
   "execution_count": null,
   "id": "4b663b5a",
   "metadata": {},
   "outputs": [],
   "source": [
    "def get_magneticfield(grid_obj):\n",
    "    \"\"\"\n",
    "    Args:\n",
    "     - grid_obj, grid object\n",
    "    Out:\n",
    "     - Bmesh, ndarray np.float64, meshgrid of the magnetic field components\n",
    "    \"\"\"\n",
    "    config = tracer.types.MagneticConfig()\n",
    "    config.configIds = [0]\n",
    "\n",
    "    pos = tracer.types.Points3D()\n",
    "    pos.x1 = gridlist_timeseries[0].cartflat[:,0]\n",
    "    pos.x2 = gridlist_timeseries[0].cartflat[:,1]\n",
    "    pos.x3 = gridlist_timeseries[0].cartflat[:,2]\n",
    "\n",
    "    res = tracer.service.magneticField(pos, config)\n",
    "    B = np.zeros((3,) + pos.x1.shape)\n",
    "    B[0] = np.asarray(res.field.x1)\n",
    "    B[1] = np.asarray(res.field.x2)\n",
    "    B[2] = np.asarray(res.field.x3)\n",
    "#     print(B.shape)\n",
    "#     idx_othreshold = np.where( np.median(np.sqrt(np.sum(B**2, axis = 0)) ) < np.sqrt(np.sum(B**2, axis = 0)) )[0]\n",
    "#     print(np.sqrt(np.sum(B**2, axis = 0)).shape)\n",
    "#     idx_othreshold = np.where( np.sqrt(np.sum(B**2, axis = 0)) > 5 )[0]\n",
    "#     print(idx_othreshold.shape)\n",
    "#     B[:,idx_othreshold] = np.ones(B[:,idx_othreshold].shape)*np.nan\n",
    "    Bmesh = B.reshape((3,) + (gridlist_timeseries[0].cart_x.shape))\n",
    "    return Bmesh"
   ]
  },
  {
   "cell_type": "code",
   "execution_count": null,
   "id": "17c41402",
   "metadata": {},
   "outputs": [],
   "source": [
    "_ = get_magneticfield(grid_obj = gridlist_timeseries[0])"
   ]
  },
  {
   "cell_type": "code",
   "execution_count": null,
   "id": "412ac780",
   "metadata": {},
   "outputs": [],
   "source": [
    "bmeshreg = []\n",
    "for i in range(len(gridlist_timeseries)):\n",
    "    bmeshreg.append( get_magneticfield(grid_obj = gridlist_timeseries[i]) )"
   ]
  },
  {
   "cell_type": "code",
   "execution_count": null,
   "id": "dbe80a72",
   "metadata": {},
   "outputs": [],
   "source": [
    "len(bmeshreg)\n",
    "bmeshreg"
   ]
  },
  {
   "cell_type": "code",
   "execution_count": null,
   "id": "fe97e187",
   "metadata": {},
   "outputs": [],
   "source": [
    "mlab.clf()\n",
    "mlab.quiver3d(gridlist_timeseries[0].cart_x, \n",
    "              gridlist_timeseries[0].cart_y, \n",
    "              gridlist_timeseries[0].cart_z, \n",
    "              bmeshreg[4][0], bmeshreg[4][1], bmeshreg[4][2])\n",
    "mlab.axes()\n",
    "mlab.scalarbar()\n",
    "mlab.outline()"
   ]
  },
  {
   "cell_type": "code",
   "execution_count": null,
   "id": "0b1e1058",
   "metadata": {},
   "outputs": [],
   "source": [
    "def proj_gradparam_ontob(parammesh, b):\n",
    "    grad = np.gradient(parammesh)\n",
    "    grad = np.array(grad)\n",
    "    print(grad.shape)\n",
    "    print(b.shape)\n",
    "    proj = np.nansum(grad*b, axis = 0)*b\n",
    "    return proj"
   ]
  },
  {
   "cell_type": "code",
   "execution_count": null,
   "id": "5a76cfa1",
   "metadata": {},
   "outputs": [],
   "source": [
    "pmesh_ts[0][0].shape\n",
    "bmeshreg[0].shape"
   ]
  },
  {
   "cell_type": "code",
   "execution_count": null,
   "id": "6ce7d42b",
   "metadata": {},
   "outputs": [],
   "source": [
    "projtest = proj_gradparam_ontob(parammesh = pmesh_ts[0][0], b = bmeshreg[0])"
   ]
  },
  {
   "cell_type": "code",
   "execution_count": null,
   "id": "0f1e93c8",
   "metadata": {},
   "outputs": [],
   "source": [
    "projtest.shape"
   ]
  },
  {
   "cell_type": "code",
   "execution_count": null,
   "id": "47e249ff",
   "metadata": {},
   "outputs": [],
   "source": [
    "mlab.clf()\n",
    "mlab.quiver3d(gridlist_timeseries[0].cart_x, \n",
    "              gridlist_timeseries[0].cart_y, \n",
    "              gridlist_timeseries[0].cart_z, \n",
    "              projtest[0], projtest[1], projtest[2])\n",
    "mlab.axes()\n",
    "mlab.scalarbar()\n",
    "mlab.outline()"
   ]
  },
  {
   "cell_type": "code",
   "execution_count": null,
   "id": "dd55f118",
   "metadata": {},
   "outputs": [],
   "source": [
    "import scipy.constants\n",
    "def calc_electron_vel(machnumber, Te, Ti, m_i = scipy.constants.m_p):\n",
    "    return machnumber*np.sqrt((Te + Ti)/m_i)    "
   ]
  },
  {
   "cell_type": "code",
   "execution_count": null,
   "id": "6652777b",
   "metadata": {},
   "outputs": [],
   "source": [
    "# here the interpolated values for M, Te and Ti shoudl be inserted instead of the means of the w7x griddata\n",
    "el_vel = calc_electron_vel(machnumber = mean_sel.M, Te = mean_sel.Te, Ti = mean_sel.Ti)"
   ]
  },
  {
   "cell_type": "code",
   "execution_count": null,
   "id": "dfd2aba6",
   "metadata": {},
   "outputs": [],
   "source": [
    "\"\"\"\n",
    "Define a function(if necessary) that takes in electron velocity and electron density and calculates the\n",
    "gradient \\nabla(nv) which should be zero\n",
    "\"\"\""
   ]
  }
 ],
 "metadata": {
  "kernelspec": {
   "display_name": "Python 3",
   "language": "python",
   "name": "python3"
  },
  "language_info": {
   "codemirror_mode": {
    "name": "ipython",
    "version": 3
   },
   "file_extension": ".py",
   "mimetype": "text/x-python",
   "name": "python",
   "nbconvert_exporter": "python",
   "pygments_lexer": "ipython3",
   "version": "3.6.9"
  }
 },
 "nbformat": 4,
 "nbformat_minor": 5
}
