{
 "cells": [
  {
   "cell_type": "code",
   "execution_count": 1,
   "id": "ad24f650",
   "metadata": {},
   "outputs": [],
   "source": [
    "# gen libs\n",
    "import xarray as xr\n",
    "import numpy as np\n",
    "import scipy as sp\n",
    "from matplotlib import pyplot as plt\n",
    "import time\n",
    "\n",
    "# libs for poincaré\n",
    "from osa import Client\n",
    "\n",
    "# emc3 submodule\n",
    "import xemc3\n",
    "\n",
    "#vtk libs\n",
    "from tvtk.api import tvtk\n",
    "from mayavi.scripts import mayavi2\n",
    "from PyQt5 import QtCore\n",
    "import sip\n",
    "import vtk\n",
    "from mayavi import mlab\n",
    "%gui qt\n",
    "\n",
    "# importing widget libs to make interactive plots\n",
    "import ipywidgets as widgets\n",
    "from ipywidgets import interact, interactive, fixed, interact_manual\n",
    "\n",
    "import os\n",
    "import sys"
   ]
  },
  {
   "cell_type": "code",
   "execution_count": 2,
   "id": "c9b8d874",
   "metadata": {},
   "outputs": [],
   "source": [
    "#import the necessary functions from the previous scripts\n",
    "loc_path_interpol_script = r\"C:\\Users\\joag\\Documents\\Notebooks\\W7X_intership\"\n",
    "fps = []\n",
    "fps.append(loc_path_interpol_script + r\"\\make_parammesh_vtk.py\")\n",
    "fps.append(loc_path_interpol_script + r\"\\grid.py\")\n",
    "fps.append(loc_path_interpol_script + r\"\\makemesh_indices.py\")\n",
    "for path in fps:\n",
    "    module_path = os.path.abspath(os.path.join(path))\n",
    "    if module_path not in sys.path:\n",
    "        sys.path.append(module_path)"
   ]
  },
  {
   "cell_type": "code",
   "execution_count": 3,
   "id": "9af0d9a3",
   "metadata": {},
   "outputs": [],
   "source": [
    "from make_parammesh_vtk import make_parammesh_vtk\n",
    "from grid import grid\n",
    "from makemesh_indices import make_parammesh_vtk_indices, from_indices_to_paramvals"
   ]
  },
  {
   "cell_type": "code",
   "execution_count": 4,
   "id": "a6ff357e",
   "metadata": {},
   "outputs": [],
   "source": [
    "os.chdir(\"..\")"
   ]
  },
  {
   "cell_type": "code",
   "execution_count": 5,
   "id": "9384c6b6",
   "metadata": {},
   "outputs": [],
   "source": [
    "path_timeseriesdata_emc3 = r\"~/Dokumente/N01.nc\"\n",
    "ds_tot = xr.open_dataset(path_timeseriesdata_emc3)"
   ]
  },
  {
   "cell_type": "code",
   "execution_count": 6,
   "id": "2f5fd8a2",
   "metadata": {},
   "outputs": [
    {
     "data": {
      "text/html": [
       "<div><svg style=\"position: absolute; width: 0; height: 0; overflow: hidden\">\n",
       "<defs>\n",
       "<symbol id=\"icon-database\" viewBox=\"0 0 32 32\">\n",
       "<path d=\"M16 0c-8.837 0-16 2.239-16 5v4c0 2.761 7.163 5 16 5s16-2.239 16-5v-4c0-2.761-7.163-5-16-5z\"></path>\n",
       "<path d=\"M16 17c-8.837 0-16-2.239-16-5v6c0 2.761 7.163 5 16 5s16-2.239 16-5v-6c0 2.761-7.163 5-16 5z\"></path>\n",
       "<path d=\"M16 26c-8.837 0-16-2.239-16-5v6c0 2.761 7.163 5 16 5s16-2.239 16-5v-6c0 2.761-7.163 5-16 5z\"></path>\n",
       "</symbol>\n",
       "<symbol id=\"icon-file-text2\" viewBox=\"0 0 32 32\">\n",
       "<path d=\"M28.681 7.159c-0.694-0.947-1.662-2.053-2.724-3.116s-2.169-2.030-3.116-2.724c-1.612-1.182-2.393-1.319-2.841-1.319h-15.5c-1.378 0-2.5 1.121-2.5 2.5v27c0 1.378 1.122 2.5 2.5 2.5h23c1.378 0 2.5-1.122 2.5-2.5v-19.5c0-0.448-0.137-1.23-1.319-2.841zM24.543 5.457c0.959 0.959 1.712 1.825 2.268 2.543h-4.811v-4.811c0.718 0.556 1.584 1.309 2.543 2.268zM28 29.5c0 0.271-0.229 0.5-0.5 0.5h-23c-0.271 0-0.5-0.229-0.5-0.5v-27c0-0.271 0.229-0.5 0.5-0.5 0 0 15.499-0 15.5 0v7c0 0.552 0.448 1 1 1h7v19.5z\"></path>\n",
       "<path d=\"M23 26h-14c-0.552 0-1-0.448-1-1s0.448-1 1-1h14c0.552 0 1 0.448 1 1s-0.448 1-1 1z\"></path>\n",
       "<path d=\"M23 22h-14c-0.552 0-1-0.448-1-1s0.448-1 1-1h14c0.552 0 1 0.448 1 1s-0.448 1-1 1z\"></path>\n",
       "<path d=\"M23 18h-14c-0.552 0-1-0.448-1-1s0.448-1 1-1h14c0.552 0 1 0.448 1 1s-0.448 1-1 1z\"></path>\n",
       "</symbol>\n",
       "</defs>\n",
       "</svg>\n",
       "<style>/* CSS stylesheet for displaying xarray objects in jupyterlab.\n",
       " *\n",
       " */\n",
       "\n",
       ":root {\n",
       "  --xr-font-color0: var(--jp-content-font-color0, rgba(0, 0, 0, 1));\n",
       "  --xr-font-color2: var(--jp-content-font-color2, rgba(0, 0, 0, 0.54));\n",
       "  --xr-font-color3: var(--jp-content-font-color3, rgba(0, 0, 0, 0.38));\n",
       "  --xr-border-color: var(--jp-border-color2, #e0e0e0);\n",
       "  --xr-disabled-color: var(--jp-layout-color3, #bdbdbd);\n",
       "  --xr-background-color: var(--jp-layout-color0, white);\n",
       "  --xr-background-color-row-even: var(--jp-layout-color1, white);\n",
       "  --xr-background-color-row-odd: var(--jp-layout-color2, #eeeeee);\n",
       "}\n",
       "\n",
       "html[theme=dark],\n",
       "body.vscode-dark {\n",
       "  --xr-font-color0: rgba(255, 255, 255, 1);\n",
       "  --xr-font-color2: rgba(255, 255, 255, 0.54);\n",
       "  --xr-font-color3: rgba(255, 255, 255, 0.38);\n",
       "  --xr-border-color: #1F1F1F;\n",
       "  --xr-disabled-color: #515151;\n",
       "  --xr-background-color: #111111;\n",
       "  --xr-background-color-row-even: #111111;\n",
       "  --xr-background-color-row-odd: #313131;\n",
       "}\n",
       "\n",
       ".xr-wrap {\n",
       "  display: block;\n",
       "  min-width: 300px;\n",
       "  max-width: 700px;\n",
       "}\n",
       "\n",
       ".xr-text-repr-fallback {\n",
       "  /* fallback to plain text repr when CSS is not injected (untrusted notebook) */\n",
       "  display: none;\n",
       "}\n",
       "\n",
       ".xr-header {\n",
       "  padding-top: 6px;\n",
       "  padding-bottom: 6px;\n",
       "  margin-bottom: 4px;\n",
       "  border-bottom: solid 1px var(--xr-border-color);\n",
       "}\n",
       "\n",
       ".xr-header > div,\n",
       ".xr-header > ul {\n",
       "  display: inline;\n",
       "  margin-top: 0;\n",
       "  margin-bottom: 0;\n",
       "}\n",
       "\n",
       ".xr-obj-type,\n",
       ".xr-array-name {\n",
       "  margin-left: 2px;\n",
       "  margin-right: 10px;\n",
       "}\n",
       "\n",
       ".xr-obj-type {\n",
       "  color: var(--xr-font-color2);\n",
       "}\n",
       "\n",
       ".xr-sections {\n",
       "  padding-left: 0 !important;\n",
       "  display: grid;\n",
       "  grid-template-columns: 150px auto auto 1fr 20px 20px;\n",
       "}\n",
       "\n",
       ".xr-section-item {\n",
       "  display: contents;\n",
       "}\n",
       "\n",
       ".xr-section-item input {\n",
       "  display: none;\n",
       "}\n",
       "\n",
       ".xr-section-item input + label {\n",
       "  color: var(--xr-disabled-color);\n",
       "}\n",
       "\n",
       ".xr-section-item input:enabled + label {\n",
       "  cursor: pointer;\n",
       "  color: var(--xr-font-color2);\n",
       "}\n",
       "\n",
       ".xr-section-item input:enabled + label:hover {\n",
       "  color: var(--xr-font-color0);\n",
       "}\n",
       "\n",
       ".xr-section-summary {\n",
       "  grid-column: 1;\n",
       "  color: var(--xr-font-color2);\n",
       "  font-weight: 500;\n",
       "}\n",
       "\n",
       ".xr-section-summary > span {\n",
       "  display: inline-block;\n",
       "  padding-left: 0.5em;\n",
       "}\n",
       "\n",
       ".xr-section-summary-in:disabled + label {\n",
       "  color: var(--xr-font-color2);\n",
       "}\n",
       "\n",
       ".xr-section-summary-in + label:before {\n",
       "  display: inline-block;\n",
       "  content: '►';\n",
       "  font-size: 11px;\n",
       "  width: 15px;\n",
       "  text-align: center;\n",
       "}\n",
       "\n",
       ".xr-section-summary-in:disabled + label:before {\n",
       "  color: var(--xr-disabled-color);\n",
       "}\n",
       "\n",
       ".xr-section-summary-in:checked + label:before {\n",
       "  content: '▼';\n",
       "}\n",
       "\n",
       ".xr-section-summary-in:checked + label > span {\n",
       "  display: none;\n",
       "}\n",
       "\n",
       ".xr-section-summary,\n",
       ".xr-section-inline-details {\n",
       "  padding-top: 4px;\n",
       "  padding-bottom: 4px;\n",
       "}\n",
       "\n",
       ".xr-section-inline-details {\n",
       "  grid-column: 2 / -1;\n",
       "}\n",
       "\n",
       ".xr-section-details {\n",
       "  display: none;\n",
       "  grid-column: 1 / -1;\n",
       "  margin-bottom: 5px;\n",
       "}\n",
       "\n",
       ".xr-section-summary-in:checked ~ .xr-section-details {\n",
       "  display: contents;\n",
       "}\n",
       "\n",
       ".xr-array-wrap {\n",
       "  grid-column: 1 / -1;\n",
       "  display: grid;\n",
       "  grid-template-columns: 20px auto;\n",
       "}\n",
       "\n",
       ".xr-array-wrap > label {\n",
       "  grid-column: 1;\n",
       "  vertical-align: top;\n",
       "}\n",
       "\n",
       ".xr-preview {\n",
       "  color: var(--xr-font-color3);\n",
       "}\n",
       "\n",
       ".xr-array-preview,\n",
       ".xr-array-data {\n",
       "  padding: 0 5px !important;\n",
       "  grid-column: 2;\n",
       "}\n",
       "\n",
       ".xr-array-data,\n",
       ".xr-array-in:checked ~ .xr-array-preview {\n",
       "  display: none;\n",
       "}\n",
       "\n",
       ".xr-array-in:checked ~ .xr-array-data,\n",
       ".xr-array-preview {\n",
       "  display: inline-block;\n",
       "}\n",
       "\n",
       ".xr-dim-list {\n",
       "  display: inline-block !important;\n",
       "  list-style: none;\n",
       "  padding: 0 !important;\n",
       "  margin: 0;\n",
       "}\n",
       "\n",
       ".xr-dim-list li {\n",
       "  display: inline-block;\n",
       "  padding: 0;\n",
       "  margin: 0;\n",
       "}\n",
       "\n",
       ".xr-dim-list:before {\n",
       "  content: '(';\n",
       "}\n",
       "\n",
       ".xr-dim-list:after {\n",
       "  content: ')';\n",
       "}\n",
       "\n",
       ".xr-dim-list li:not(:last-child):after {\n",
       "  content: ',';\n",
       "  padding-right: 5px;\n",
       "}\n",
       "\n",
       ".xr-has-index {\n",
       "  font-weight: bold;\n",
       "}\n",
       "\n",
       ".xr-var-list,\n",
       ".xr-var-item {\n",
       "  display: contents;\n",
       "}\n",
       "\n",
       ".xr-var-item > div,\n",
       ".xr-var-item label,\n",
       ".xr-var-item > .xr-var-name span {\n",
       "  background-color: var(--xr-background-color-row-even);\n",
       "  margin-bottom: 0;\n",
       "}\n",
       "\n",
       ".xr-var-item > .xr-var-name:hover span {\n",
       "  padding-right: 5px;\n",
       "}\n",
       "\n",
       ".xr-var-list > li:nth-child(odd) > div,\n",
       ".xr-var-list > li:nth-child(odd) > label,\n",
       ".xr-var-list > li:nth-child(odd) > .xr-var-name span {\n",
       "  background-color: var(--xr-background-color-row-odd);\n",
       "}\n",
       "\n",
       ".xr-var-name {\n",
       "  grid-column: 1;\n",
       "}\n",
       "\n",
       ".xr-var-dims {\n",
       "  grid-column: 2;\n",
       "}\n",
       "\n",
       ".xr-var-dtype {\n",
       "  grid-column: 3;\n",
       "  text-align: right;\n",
       "  color: var(--xr-font-color2);\n",
       "}\n",
       "\n",
       ".xr-var-preview {\n",
       "  grid-column: 4;\n",
       "}\n",
       "\n",
       ".xr-var-name,\n",
       ".xr-var-dims,\n",
       ".xr-var-dtype,\n",
       ".xr-preview,\n",
       ".xr-attrs dt {\n",
       "  white-space: nowrap;\n",
       "  overflow: hidden;\n",
       "  text-overflow: ellipsis;\n",
       "  padding-right: 10px;\n",
       "}\n",
       "\n",
       ".xr-var-name:hover,\n",
       ".xr-var-dims:hover,\n",
       ".xr-var-dtype:hover,\n",
       ".xr-attrs dt:hover {\n",
       "  overflow: visible;\n",
       "  width: auto;\n",
       "  z-index: 1;\n",
       "}\n",
       "\n",
       ".xr-var-attrs,\n",
       ".xr-var-data {\n",
       "  display: none;\n",
       "  background-color: var(--xr-background-color) !important;\n",
       "  padding-bottom: 5px !important;\n",
       "}\n",
       "\n",
       ".xr-var-attrs-in:checked ~ .xr-var-attrs,\n",
       ".xr-var-data-in:checked ~ .xr-var-data {\n",
       "  display: block;\n",
       "}\n",
       "\n",
       ".xr-var-data > table {\n",
       "  float: right;\n",
       "}\n",
       "\n",
       ".xr-var-name span,\n",
       ".xr-var-data,\n",
       ".xr-attrs {\n",
       "  padding-left: 25px !important;\n",
       "}\n",
       "\n",
       ".xr-attrs,\n",
       ".xr-var-attrs,\n",
       ".xr-var-data {\n",
       "  grid-column: 1 / -1;\n",
       "}\n",
       "\n",
       "dl.xr-attrs {\n",
       "  padding: 0;\n",
       "  margin: 0;\n",
       "  display: grid;\n",
       "  grid-template-columns: 125px auto;\n",
       "}\n",
       "\n",
       ".xr-attrs dt,\n",
       ".xr-attrs dd {\n",
       "  padding: 0;\n",
       "  margin: 0;\n",
       "  float: left;\n",
       "  padding-right: 10px;\n",
       "  width: auto;\n",
       "}\n",
       "\n",
       ".xr-attrs dt {\n",
       "  font-weight: normal;\n",
       "  grid-column: 1;\n",
       "}\n",
       "\n",
       ".xr-attrs dt:hover span {\n",
       "  display: inline-block;\n",
       "  background: var(--xr-background-color);\n",
       "  padding-right: 10px;\n",
       "}\n",
       "\n",
       ".xr-attrs dd {\n",
       "  grid-column: 2;\n",
       "  white-space: pre-wrap;\n",
       "  word-break: break-all;\n",
       "}\n",
       "\n",
       ".xr-icon-database,\n",
       ".xr-icon-file-text2 {\n",
       "  display: inline-block;\n",
       "  vertical-align: middle;\n",
       "  width: 1em;\n",
       "  height: 1.5em !important;\n",
       "  stroke-width: 0;\n",
       "  stroke: currentColor;\n",
       "  fill: currentColor;\n",
       "}\n",
       "</style><pre class='xr-text-repr-fallback'>&lt;xarray.Dataset&gt;\n",
       "Dimensions:                       (delta_phi: 2, delta_r: 2, delta_theta: 2, phi: 36, r: 139, theta: 512, time: 20)\n",
       "Coordinates:\n",
       "    R_bounds                      (r, theta, phi, delta_r, delta_theta, delta_phi) float64 ...\n",
       "    z_bounds                      (r, theta, phi, delta_r, delta_theta, delta_phi) float64 ...\n",
       "    phi_bounds                    (phi, delta_phi) float64 0.0 ... 0.6283\n",
       "Dimensions without coordinates: delta_phi, delta_r, delta_theta, phi, r, theta, time\n",
       "Data variables:\n",
       "    _plasma_map                   (r, theta, phi) int64 ...\n",
       "    ne                            (time, r, theta, phi) float64 ...\n",
       "    nZ1                           (time, r, theta, phi) float64 ...\n",
       "    nZ2                           (time, r, theta, phi) float64 ...\n",
       "    nZ3                           (time, r, theta, phi) float64 ...\n",
       "    nZ4                           (time, r, theta, phi) float64 ...\n",
       "    nZ5                           (time, r, theta, phi) float64 ...\n",
       "    nZ6                           (time, r, theta, phi) float64 ...\n",
       "    M                             (time, r, theta, phi) float64 ...\n",
       "    Te                            (time, r, theta, phi) float64 ...\n",
       "    Ti                            (time, r, theta, phi) float64 ...\n",
       "    Lc                            (r, theta, phi) float64 ...\n",
       "    nH                            (time, r, theta, phi) float64 ...\n",
       "    nH2                           (time, r, theta, phi) float64 ...\n",
       "    nH2+                          (time, r, theta, phi) float64 ...\n",
       "    TH                            (time, r, theta, phi) float64 ...\n",
       "    bf_bounds                     (r, theta, phi, delta_r, delta_theta, delta_phi) float64 ...\n",
       "    PLATES_MAG                    (r, theta, phi) bool ...\n",
       "    TEMPERATURE_I_0               (time, r, theta, phi) float64 ...\n",
       "    DENSITY_E_A_0                 (time, r, theta, phi) float64 ...\n",
       "    DENSITY_E_I_0                 (time, r, theta, phi) float64 ...\n",
       "    DENSITY_E_M_0                 (time, r, theta, phi) float64 ...\n",
       "    fort.40_0                     (time, r, theta, phi) float64 ...\n",
       "    fort.42_0                     (time, r, theta, phi) float64 ...\n",
       "    fort.43_0                     (time, r, theta, phi) float64 ...\n",
       "    fort.46_0                     (time, r, theta, phi) float64 ...\n",
       "    fort.47_0                     (time, r, theta, phi) float64 ...\n",
       "    fort.47_1                     (time, r, theta, phi) float64 ...\n",
       "    IMPURITY_IONIZATION_SOURCE_0  (time, r, theta, phi) float64 ...\n",
       "    IMPURITY_IONIZATION_SOURCE_1  (time, r, theta, phi) float64 ...\n",
       "    IMPURITY_NEUTRAL_0            (time, r, theta, phi) float64 ...\n",
       "    IMP_RADIATION_0               (time, r, theta, phi) float64 ...\n",
       "    FLUX_CONSERVATION_0           (r, theta, phi) float64 ...\n",
       "    LG_CELL_0                     (r, theta, phi) float64 ...</pre><div class='xr-wrap' hidden><div class='xr-header'><div class='xr-obj-type'>xarray.Dataset</div></div><ul class='xr-sections'><li class='xr-section-item'><input id='section-57c49c41-5515-484b-a385-1bc9c1831b56' class='xr-section-summary-in' type='checkbox' disabled ><label for='section-57c49c41-5515-484b-a385-1bc9c1831b56' class='xr-section-summary'  title='Expand/collapse section'>Dimensions:</label><div class='xr-section-inline-details'><ul class='xr-dim-list'><li><span>delta_phi</span>: 2</li><li><span>delta_r</span>: 2</li><li><span>delta_theta</span>: 2</li><li><span>phi</span>: 36</li><li><span>r</span>: 139</li><li><span>theta</span>: 512</li><li><span>time</span>: 20</li></ul></div><div class='xr-section-details'></div></li><li class='xr-section-item'><input id='section-7f9007e6-4c0f-46d4-867c-f3fd49e06d8f' class='xr-section-summary-in' type='checkbox'  checked><label for='section-7f9007e6-4c0f-46d4-867c-f3fd49e06d8f' class='xr-section-summary' >Coordinates: <span>(3)</span></label><div class='xr-section-inline-details'></div><div class='xr-section-details'><ul class='xr-var-list'><li class='xr-var-item'><div class='xr-var-name'><span>R_bounds</span></div><div class='xr-var-dims'>(r, theta, phi, delta_r, delta_theta, delta_phi)</div><div class='xr-var-dtype'>float64</div><div class='xr-var-preview xr-preview'>...</div><input id='attrs-2998e3dc-de8c-4b9f-aecf-305e35607da1' class='xr-var-attrs-in' type='checkbox' ><label for='attrs-2998e3dc-de8c-4b9f-aecf-305e35607da1' title='Show/Hide attributes'><svg class='icon xr-icon-file-text2'><use xlink:href='#icon-file-text2'></use></svg></label><input id='data-9ee9b53f-5f5c-4f26-87b3-df13e49dbe2f' class='xr-var-data-in' type='checkbox'><label for='data-9ee9b53f-5f5c-4f26-87b3-df13e49dbe2f' title='Show/Hide data repr'><svg class='icon xr-icon-database'><use xlink:href='#icon-database'></use></svg></label><div class='xr-var-attrs'><dl class='xr-attrs'><dt><span>units :</span></dt><dd>m</dd></dl></div><div class='xr-var-data'><pre>[20496384 values with dtype=float64]</pre></div></li><li class='xr-var-item'><div class='xr-var-name'><span>z_bounds</span></div><div class='xr-var-dims'>(r, theta, phi, delta_r, delta_theta, delta_phi)</div><div class='xr-var-dtype'>float64</div><div class='xr-var-preview xr-preview'>...</div><input id='attrs-8ef46a20-ec1e-4f2d-9eaf-970f0ae96087' class='xr-var-attrs-in' type='checkbox' ><label for='attrs-8ef46a20-ec1e-4f2d-9eaf-970f0ae96087' title='Show/Hide attributes'><svg class='icon xr-icon-file-text2'><use xlink:href='#icon-file-text2'></use></svg></label><input id='data-82492031-bcc9-4518-b914-11308ad11c48' class='xr-var-data-in' type='checkbox'><label for='data-82492031-bcc9-4518-b914-11308ad11c48' title='Show/Hide data repr'><svg class='icon xr-icon-database'><use xlink:href='#icon-database'></use></svg></label><div class='xr-var-attrs'><dl class='xr-attrs'><dt><span>units :</span></dt><dd>m</dd></dl></div><div class='xr-var-data'><pre>[20496384 values with dtype=float64]</pre></div></li><li class='xr-var-item'><div class='xr-var-name'><span>phi_bounds</span></div><div class='xr-var-dims'>(phi, delta_phi)</div><div class='xr-var-dtype'>float64</div><div class='xr-var-preview xr-preview'>...</div><input id='attrs-2180b9ce-e2b8-4cef-b8de-b1c4ed8bee10' class='xr-var-attrs-in' type='checkbox' disabled><label for='attrs-2180b9ce-e2b8-4cef-b8de-b1c4ed8bee10' title='Show/Hide attributes'><svg class='icon xr-icon-file-text2'><use xlink:href='#icon-file-text2'></use></svg></label><input id='data-3c41c33e-752d-4e9e-b0b4-68aad2ca9577' class='xr-var-data-in' type='checkbox'><label for='data-3c41c33e-752d-4e9e-b0b4-68aad2ca9577' title='Show/Hide data repr'><svg class='icon xr-icon-database'><use xlink:href='#icon-database'></use></svg></label><div class='xr-var-attrs'><dl class='xr-attrs'></dl></div><div class='xr-var-data'><pre>array([[0.      , 0.017453],\n",
       "       [0.017453, 0.034907],\n",
       "       [0.034907, 0.05236 ],\n",
       "       [0.05236 , 0.069813],\n",
       "       [0.069813, 0.087266],\n",
       "       [0.087266, 0.10472 ],\n",
       "       [0.10472 , 0.122173],\n",
       "       [0.122173, 0.139626],\n",
       "       [0.139626, 0.15708 ],\n",
       "       [0.15708 , 0.174533],\n",
       "       [0.174533, 0.191986],\n",
       "       [0.191986, 0.20944 ],\n",
       "       [0.20944 , 0.226893],\n",
       "       [0.226893, 0.244346],\n",
       "       [0.244346, 0.261799],\n",
       "       [0.261799, 0.279253],\n",
       "       [0.279253, 0.296706],\n",
       "       [0.296706, 0.314159],\n",
       "       [0.314159, 0.331613],\n",
       "       [0.331613, 0.349066],\n",
       "       [0.349066, 0.366519],\n",
       "       [0.366519, 0.383972],\n",
       "       [0.383972, 0.401426],\n",
       "       [0.401426, 0.418879],\n",
       "       [0.418879, 0.436332],\n",
       "       [0.436332, 0.453786],\n",
       "       [0.453786, 0.471239],\n",
       "       [0.471239, 0.488692],\n",
       "       [0.488692, 0.506145],\n",
       "       [0.506145, 0.523599],\n",
       "       [0.523599, 0.541052],\n",
       "       [0.541052, 0.558505],\n",
       "       [0.558505, 0.575959],\n",
       "       [0.575959, 0.593412],\n",
       "       [0.593412, 0.610865],\n",
       "       [0.610865, 0.628319]])</pre></div></li></ul></div></li><li class='xr-section-item'><input id='section-12bdc8fb-b0b3-4db5-bef5-03fa7bb04b5d' class='xr-section-summary-in' type='checkbox'  ><label for='section-12bdc8fb-b0b3-4db5-bef5-03fa7bb04b5d' class='xr-section-summary' >Data variables: <span>(34)</span></label><div class='xr-section-inline-details'></div><div class='xr-section-details'><ul class='xr-var-list'><li class='xr-var-item'><div class='xr-var-name'><span>_plasma_map</span></div><div class='xr-var-dims'>(r, theta, phi)</div><div class='xr-var-dtype'>int64</div><div class='xr-var-preview xr-preview'>...</div><input id='attrs-bee2430e-b69f-4ea5-8aaf-8594aed429ba' class='xr-var-attrs-in' type='checkbox' ><label for='attrs-bee2430e-b69f-4ea5-8aaf-8594aed429ba' title='Show/Hide attributes'><svg class='icon xr-icon-file-text2'><use xlink:href='#icon-file-text2'></use></svg></label><input id='data-7a78e844-f94d-4645-acb8-aa92d6951fe4' class='xr-var-data-in' type='checkbox'><label for='data-7a78e844-f94d-4645-acb8-aa92d6951fe4' title='Show/Hide data repr'><svg class='icon xr-icon-database'><use xlink:href='#icon-database'></use></svg></label><div class='xr-var-attrs'><dl class='xr-attrs'><dt><span>numcells :</span></dt><dd>2562048</dd><dt><span>plasmacells :</span></dt><dd>379649</dd><dt><span>other :</span></dt><dd>780311</dd></dl></div><div class='xr-var-data'><pre>[2562048 values with dtype=int64]</pre></div></li><li class='xr-var-item'><div class='xr-var-name'><span>ne</span></div><div class='xr-var-dims'>(time, r, theta, phi)</div><div class='xr-var-dtype'>float64</div><div class='xr-var-preview xr-preview'>...</div><input id='attrs-619ed814-4e5d-4e44-82a0-4b0b11638110' class='xr-var-attrs-in' type='checkbox' ><label for='attrs-619ed814-4e5d-4e44-82a0-4b0b11638110' title='Show/Hide attributes'><svg class='icon xr-icon-file-text2'><use xlink:href='#icon-file-text2'></use></svg></label><input id='data-2254cc21-e113-4f6e-a519-e22c7d5f85e4' class='xr-var-data-in' type='checkbox'><label for='data-2254cc21-e113-4f6e-a519-e22c7d5f85e4' title='Show/Hide data repr'><svg class='icon xr-icon-database'><use xlink:href='#icon-database'></use></svg></label><div class='xr-var-attrs'><dl class='xr-attrs'><dt><span>print_before :</span></dt><dd>           1\n",
       "</dd><dt><span>units :</span></dt><dd>m$^{-3}$</dd><dt><span>long_name :</span></dt><dd>Electron density</dd></dl></div><div class='xr-var-data'><pre>[51240960 values with dtype=float64]</pre></div></li><li class='xr-var-item'><div class='xr-var-name'><span>nZ1</span></div><div class='xr-var-dims'>(time, r, theta, phi)</div><div class='xr-var-dtype'>float64</div><div class='xr-var-preview xr-preview'>...</div><input id='attrs-fe8e9fb8-ee97-4d6a-ba57-22e97430e88e' class='xr-var-attrs-in' type='checkbox' ><label for='attrs-fe8e9fb8-ee97-4d6a-ba57-22e97430e88e' title='Show/Hide attributes'><svg class='icon xr-icon-file-text2'><use xlink:href='#icon-file-text2'></use></svg></label><input id='data-5bcd0199-bb11-4eea-b3f7-0e3b96bab4f3' class='xr-var-data-in' type='checkbox'><label for='data-5bcd0199-bb11-4eea-b3f7-0e3b96bab4f3' title='Show/Hide data repr'><svg class='icon xr-icon-database'><use xlink:href='#icon-database'></use></svg></label><div class='xr-var-attrs'><dl class='xr-attrs'><dt><span>print_before :</span></dt><dd>           2\n",
       "</dd><dt><span>units :</span></dt><dd>m$^{-3}$</dd></dl></div><div class='xr-var-data'><pre>[51240960 values with dtype=float64]</pre></div></li><li class='xr-var-item'><div class='xr-var-name'><span>nZ2</span></div><div class='xr-var-dims'>(time, r, theta, phi)</div><div class='xr-var-dtype'>float64</div><div class='xr-var-preview xr-preview'>...</div><input id='attrs-28d0f2c2-14bc-413f-a2f5-e3cb5f109aa5' class='xr-var-attrs-in' type='checkbox' ><label for='attrs-28d0f2c2-14bc-413f-a2f5-e3cb5f109aa5' title='Show/Hide attributes'><svg class='icon xr-icon-file-text2'><use xlink:href='#icon-file-text2'></use></svg></label><input id='data-4b72e059-7344-48b9-a47e-f8fbe4d39f23' class='xr-var-data-in' type='checkbox'><label for='data-4b72e059-7344-48b9-a47e-f8fbe4d39f23' title='Show/Hide data repr'><svg class='icon xr-icon-database'><use xlink:href='#icon-database'></use></svg></label><div class='xr-var-attrs'><dl class='xr-attrs'><dt><span>print_before :</span></dt><dd>           3\n",
       "</dd><dt><span>units :</span></dt><dd>m$^{-3}$</dd></dl></div><div class='xr-var-data'><pre>[51240960 values with dtype=float64]</pre></div></li><li class='xr-var-item'><div class='xr-var-name'><span>nZ3</span></div><div class='xr-var-dims'>(time, r, theta, phi)</div><div class='xr-var-dtype'>float64</div><div class='xr-var-preview xr-preview'>...</div><input id='attrs-128476ec-aa19-4f5e-a549-860b050fe32c' class='xr-var-attrs-in' type='checkbox' ><label for='attrs-128476ec-aa19-4f5e-a549-860b050fe32c' title='Show/Hide attributes'><svg class='icon xr-icon-file-text2'><use xlink:href='#icon-file-text2'></use></svg></label><input id='data-70728f14-c30f-489c-b92f-9b89286f0245' class='xr-var-data-in' type='checkbox'><label for='data-70728f14-c30f-489c-b92f-9b89286f0245' title='Show/Hide data repr'><svg class='icon xr-icon-database'><use xlink:href='#icon-database'></use></svg></label><div class='xr-var-attrs'><dl class='xr-attrs'><dt><span>print_before :</span></dt><dd>           4\n",
       "</dd><dt><span>units :</span></dt><dd>m$^{-3}$</dd></dl></div><div class='xr-var-data'><pre>[51240960 values with dtype=float64]</pre></div></li><li class='xr-var-item'><div class='xr-var-name'><span>nZ4</span></div><div class='xr-var-dims'>(time, r, theta, phi)</div><div class='xr-var-dtype'>float64</div><div class='xr-var-preview xr-preview'>...</div><input id='attrs-03f25562-68cf-491a-b992-d6937c9fd062' class='xr-var-attrs-in' type='checkbox' ><label for='attrs-03f25562-68cf-491a-b992-d6937c9fd062' title='Show/Hide attributes'><svg class='icon xr-icon-file-text2'><use xlink:href='#icon-file-text2'></use></svg></label><input id='data-6a7efcee-f23f-4af8-beee-dd66111cbb6a' class='xr-var-data-in' type='checkbox'><label for='data-6a7efcee-f23f-4af8-beee-dd66111cbb6a' title='Show/Hide data repr'><svg class='icon xr-icon-database'><use xlink:href='#icon-database'></use></svg></label><div class='xr-var-attrs'><dl class='xr-attrs'><dt><span>print_before :</span></dt><dd>           5\n",
       "</dd><dt><span>units :</span></dt><dd>m$^{-3}$</dd></dl></div><div class='xr-var-data'><pre>[51240960 values with dtype=float64]</pre></div></li><li class='xr-var-item'><div class='xr-var-name'><span>nZ5</span></div><div class='xr-var-dims'>(time, r, theta, phi)</div><div class='xr-var-dtype'>float64</div><div class='xr-var-preview xr-preview'>...</div><input id='attrs-6c40edae-bfa1-48f1-be4e-29217e1fe83f' class='xr-var-attrs-in' type='checkbox' ><label for='attrs-6c40edae-bfa1-48f1-be4e-29217e1fe83f' title='Show/Hide attributes'><svg class='icon xr-icon-file-text2'><use xlink:href='#icon-file-text2'></use></svg></label><input id='data-38a0933e-968a-4d44-bd8e-2c5725b1b7be' class='xr-var-data-in' type='checkbox'><label for='data-38a0933e-968a-4d44-bd8e-2c5725b1b7be' title='Show/Hide data repr'><svg class='icon xr-icon-database'><use xlink:href='#icon-database'></use></svg></label><div class='xr-var-attrs'><dl class='xr-attrs'><dt><span>print_before :</span></dt><dd>           6\n",
       "</dd><dt><span>units :</span></dt><dd>m$^{-3}$</dd></dl></div><div class='xr-var-data'><pre>[51240960 values with dtype=float64]</pre></div></li><li class='xr-var-item'><div class='xr-var-name'><span>nZ6</span></div><div class='xr-var-dims'>(time, r, theta, phi)</div><div class='xr-var-dtype'>float64</div><div class='xr-var-preview xr-preview'>...</div><input id='attrs-edcff5e5-f2c2-4509-8c70-d605f75b07df' class='xr-var-attrs-in' type='checkbox' ><label for='attrs-edcff5e5-f2c2-4509-8c70-d605f75b07df' title='Show/Hide attributes'><svg class='icon xr-icon-file-text2'><use xlink:href='#icon-file-text2'></use></svg></label><input id='data-b33b34d6-7aef-4f0b-8152-c6e97238a54b' class='xr-var-data-in' type='checkbox'><label for='data-b33b34d6-7aef-4f0b-8152-c6e97238a54b' title='Show/Hide data repr'><svg class='icon xr-icon-database'><use xlink:href='#icon-database'></use></svg></label><div class='xr-var-attrs'><dl class='xr-attrs'><dt><span>print_before :</span></dt><dd>           7\n",
       "</dd><dt><span>units :</span></dt><dd>m$^{-3}$</dd></dl></div><div class='xr-var-data'><pre>[51240960 values with dtype=float64]</pre></div></li><li class='xr-var-item'><div class='xr-var-name'><span>M</span></div><div class='xr-var-dims'>(time, r, theta, phi)</div><div class='xr-var-dtype'>float64</div><div class='xr-var-preview xr-preview'>...</div><input id='attrs-7e07d73a-92ec-4006-a73c-cce9479920d5' class='xr-var-attrs-in' type='checkbox' ><label for='attrs-7e07d73a-92ec-4006-a73c-cce9479920d5' title='Show/Hide attributes'><svg class='icon xr-icon-file-text2'><use xlink:href='#icon-file-text2'></use></svg></label><input id='data-1e289112-9665-44c2-bbdc-3d69a373f9d4' class='xr-var-data-in' type='checkbox'><label for='data-1e289112-9665-44c2-bbdc-3d69a373f9d4' title='Show/Hide data repr'><svg class='icon xr-icon-database'><use xlink:href='#icon-database'></use></svg></label><div class='xr-var-attrs'><dl class='xr-attrs'><dt><span>long_name :</span></dt><dd>Mach number</dd></dl></div><div class='xr-var-data'><pre>[51240960 values with dtype=float64]</pre></div></li><li class='xr-var-item'><div class='xr-var-name'><span>Te</span></div><div class='xr-var-dims'>(time, r, theta, phi)</div><div class='xr-var-dtype'>float64</div><div class='xr-var-preview xr-preview'>...</div><input id='attrs-effc3207-89e6-4293-b62e-44f5f6be78dc' class='xr-var-attrs-in' type='checkbox' ><label for='attrs-effc3207-89e6-4293-b62e-44f5f6be78dc' title='Show/Hide attributes'><svg class='icon xr-icon-file-text2'><use xlink:href='#icon-file-text2'></use></svg></label><input id='data-a1c51d97-48f1-4bfe-92b8-db4b33e21611' class='xr-var-data-in' type='checkbox'><label for='data-a1c51d97-48f1-4bfe-92b8-db4b33e21611' title='Show/Hide data repr'><svg class='icon xr-icon-database'><use xlink:href='#icon-database'></use></svg></label><div class='xr-var-attrs'><dl class='xr-attrs'><dt><span>units :</span></dt><dd>eV</dd><dt><span>long_name :</span></dt><dd>Electron temperature</dd></dl></div><div class='xr-var-data'><pre>[51240960 values with dtype=float64]</pre></div></li><li class='xr-var-item'><div class='xr-var-name'><span>Ti</span></div><div class='xr-var-dims'>(time, r, theta, phi)</div><div class='xr-var-dtype'>float64</div><div class='xr-var-preview xr-preview'>...</div><input id='attrs-c88b26b0-82e7-4646-867b-aad27c112efc' class='xr-var-attrs-in' type='checkbox' ><label for='attrs-c88b26b0-82e7-4646-867b-aad27c112efc' title='Show/Hide attributes'><svg class='icon xr-icon-file-text2'><use xlink:href='#icon-file-text2'></use></svg></label><input id='data-482da0ed-7a85-4a0a-9cf6-166ccd0b6357' class='xr-var-data-in' type='checkbox'><label for='data-482da0ed-7a85-4a0a-9cf6-166ccd0b6357' title='Show/Hide data repr'><svg class='icon xr-icon-database'><use xlink:href='#icon-database'></use></svg></label><div class='xr-var-attrs'><dl class='xr-attrs'><dt><span>units :</span></dt><dd>eV</dd><dt><span>long_name :</span></dt><dd>Ion temperature</dd></dl></div><div class='xr-var-data'><pre>[51240960 values with dtype=float64]</pre></div></li><li class='xr-var-item'><div class='xr-var-name'><span>Lc</span></div><div class='xr-var-dims'>(r, theta, phi)</div><div class='xr-var-dtype'>float64</div><div class='xr-var-preview xr-preview'>...</div><input id='attrs-61ce6ef7-423d-488f-b5b5-68cf1089f7ba' class='xr-var-attrs-in' type='checkbox' ><label for='attrs-61ce6ef7-423d-488f-b5b5-68cf1089f7ba' title='Show/Hide attributes'><svg class='icon xr-icon-file-text2'><use xlink:href='#icon-file-text2'></use></svg></label><input id='data-034b7bd9-f458-4745-a711-99bf73c33a6b' class='xr-var-data-in' type='checkbox'><label for='data-034b7bd9-f458-4745-a711-99bf73c33a6b' title='Show/Hide data repr'><svg class='icon xr-icon-database'><use xlink:href='#icon-database'></use></svg></label><div class='xr-var-attrs'><dl class='xr-attrs'><dt><span>units :</span></dt><dd>m</dd><dt><span>long_name :</span></dt><dd>Connection length</dd></dl></div><div class='xr-var-data'><pre>[2562048 values with dtype=float64]</pre></div></li><li class='xr-var-item'><div class='xr-var-name'><span>nH</span></div><div class='xr-var-dims'>(time, r, theta, phi)</div><div class='xr-var-dtype'>float64</div><div class='xr-var-preview xr-preview'>...</div><input id='attrs-ee5f8763-43d1-4278-b35b-b2f8f85fe04b' class='xr-var-attrs-in' type='checkbox' ><label for='attrs-ee5f8763-43d1-4278-b35b-b2f8f85fe04b' title='Show/Hide attributes'><svg class='icon xr-icon-file-text2'><use xlink:href='#icon-file-text2'></use></svg></label><input id='data-6a763370-8190-46c1-9859-b7bbabb874ad' class='xr-var-data-in' type='checkbox'><label for='data-6a763370-8190-46c1-9859-b7bbabb874ad' title='Show/Hide data repr'><svg class='icon xr-icon-database'><use xlink:href='#icon-database'></use></svg></label><div class='xr-var-attrs'><dl class='xr-attrs'><dt><span>units :</span></dt><dd>m$^{-3}$</dd><dt><span>long_name :</span></dt><dd>Atomic deuterium density</dd></dl></div><div class='xr-var-data'><pre>[51240960 values with dtype=float64]</pre></div></li><li class='xr-var-item'><div class='xr-var-name'><span>nH2</span></div><div class='xr-var-dims'>(time, r, theta, phi)</div><div class='xr-var-dtype'>float64</div><div class='xr-var-preview xr-preview'>...</div><input id='attrs-f3331907-05a3-42df-a301-793b77ce2c34' class='xr-var-attrs-in' type='checkbox' ><label for='attrs-f3331907-05a3-42df-a301-793b77ce2c34' title='Show/Hide attributes'><svg class='icon xr-icon-file-text2'><use xlink:href='#icon-file-text2'></use></svg></label><input id='data-e7f00a1d-2e2f-42a8-97bc-450460217156' class='xr-var-data-in' type='checkbox'><label for='data-e7f00a1d-2e2f-42a8-97bc-450460217156' title='Show/Hide data repr'><svg class='icon xr-icon-database'><use xlink:href='#icon-database'></use></svg></label><div class='xr-var-attrs'><dl class='xr-attrs'><dt><span>units :</span></dt><dd>m$^{-3}$</dd><dt><span>long_name :</span></dt><dd>D_2 density</dd></dl></div><div class='xr-var-data'><pre>[51240960 values with dtype=float64]</pre></div></li><li class='xr-var-item'><div class='xr-var-name'><span>nH2+</span></div><div class='xr-var-dims'>(time, r, theta, phi)</div><div class='xr-var-dtype'>float64</div><div class='xr-var-preview xr-preview'>...</div><input id='attrs-f67a7e39-2194-4286-9968-e26760d4e9e7' class='xr-var-attrs-in' type='checkbox' ><label for='attrs-f67a7e39-2194-4286-9968-e26760d4e9e7' title='Show/Hide attributes'><svg class='icon xr-icon-file-text2'><use xlink:href='#icon-file-text2'></use></svg></label><input id='data-af94d2ff-cbd0-47e0-8dba-6e9c795a320e' class='xr-var-data-in' type='checkbox'><label for='data-af94d2ff-cbd0-47e0-8dba-6e9c795a320e' title='Show/Hide data repr'><svg class='icon xr-icon-database'><use xlink:href='#icon-database'></use></svg></label><div class='xr-var-attrs'><dl class='xr-attrs'><dt><span>units :</span></dt><dd>m$^{-3}$</dd><dt><span>long_name :</span></dt><dd>D_2^+ density</dd></dl></div><div class='xr-var-data'><pre>[51240960 values with dtype=float64]</pre></div></li><li class='xr-var-item'><div class='xr-var-name'><span>TH</span></div><div class='xr-var-dims'>(time, r, theta, phi)</div><div class='xr-var-dtype'>float64</div><div class='xr-var-preview xr-preview'>...</div><input id='attrs-e6de2e1e-840d-4270-8e51-460f9f4c7a46' class='xr-var-attrs-in' type='checkbox' ><label for='attrs-e6de2e1e-840d-4270-8e51-460f9f4c7a46' title='Show/Hide attributes'><svg class='icon xr-icon-file-text2'><use xlink:href='#icon-file-text2'></use></svg></label><input id='data-4ec74733-b1bc-49fa-9665-4aad3044cdd8' class='xr-var-data-in' type='checkbox'><label for='data-4ec74733-b1bc-49fa-9665-4aad3044cdd8' title='Show/Hide data repr'><svg class='icon xr-icon-database'><use xlink:href='#icon-database'></use></svg></label><div class='xr-var-attrs'><dl class='xr-attrs'><dt><span>units :</span></dt><dd>eV</dd><dt><span>long_name :</span></dt><dd>Atomic hydrogen temperature</dd></dl></div><div class='xr-var-data'><pre>[51240960 values with dtype=float64]</pre></div></li><li class='xr-var-item'><div class='xr-var-name'><span>bf_bounds</span></div><div class='xr-var-dims'>(r, theta, phi, delta_r, delta_theta, delta_phi)</div><div class='xr-var-dtype'>float64</div><div class='xr-var-preview xr-preview'>...</div><input id='attrs-1ed1c72d-83f1-42f5-8c89-3b96fe9eb17e' class='xr-var-attrs-in' type='checkbox' ><label for='attrs-1ed1c72d-83f1-42f5-8c89-3b96fe9eb17e' title='Show/Hide attributes'><svg class='icon xr-icon-file-text2'><use xlink:href='#icon-file-text2'></use></svg></label><input id='data-5975cd24-5905-4a78-a213-02339462d31a' class='xr-var-data-in' type='checkbox'><label for='data-5975cd24-5905-4a78-a213-02339462d31a' title='Show/Hide data repr'><svg class='icon xr-icon-database'><use xlink:href='#icon-database'></use></svg></label><div class='xr-var-attrs'><dl class='xr-attrs'><dt><span>units :</span></dt><dd>T</dd><dt><span>long_name :</span></dt><dd>Magnetic field strength</dd></dl></div><div class='xr-var-data'><pre>[20496384 values with dtype=float64]</pre></div></li><li class='xr-var-item'><div class='xr-var-name'><span>PLATES_MAG</span></div><div class='xr-var-dims'>(r, theta, phi)</div><div class='xr-var-dtype'>bool</div><div class='xr-var-preview xr-preview'>...</div><input id='attrs-11d13a62-df88-4b33-8eb9-ce2591a63582' class='xr-var-attrs-in' type='checkbox' ><label for='attrs-11d13a62-df88-4b33-8eb9-ce2591a63582' title='Show/Hide attributes'><svg class='icon xr-icon-file-text2'><use xlink:href='#icon-file-text2'></use></svg></label><input id='data-00da8479-b84d-4db6-be15-a184923c36d7' class='xr-var-data-in' type='checkbox'><label for='data-00da8479-b84d-4db6-be15-a184923c36d7' title='Show/Hide data repr'><svg class='icon xr-icon-database'><use xlink:href='#icon-database'></use></svg></label><div class='xr-var-attrs'><dl class='xr-attrs'><dt><span>long_name :</span></dt><dd>Cells that are within or behind plates</dd></dl></div><div class='xr-var-data'><pre>[2562048 values with dtype=bool]</pre></div></li><li class='xr-var-item'><div class='xr-var-name'><span>TEMPERATURE_I_0</span></div><div class='xr-var-dims'>(time, r, theta, phi)</div><div class='xr-var-dtype'>float64</div><div class='xr-var-preview xr-preview'>...</div><input id='attrs-16375661-ab0a-43a9-9fc2-5dc494f087fa' class='xr-var-attrs-in' type='checkbox' disabled><label for='attrs-16375661-ab0a-43a9-9fc2-5dc494f087fa' title='Show/Hide attributes'><svg class='icon xr-icon-file-text2'><use xlink:href='#icon-file-text2'></use></svg></label><input id='data-708d1ccb-f467-40b1-827b-624bcc2208c2' class='xr-var-data-in' type='checkbox'><label for='data-708d1ccb-f467-40b1-827b-624bcc2208c2' title='Show/Hide data repr'><svg class='icon xr-icon-database'><use xlink:href='#icon-database'></use></svg></label><div class='xr-var-attrs'><dl class='xr-attrs'></dl></div><div class='xr-var-data'><pre>[51240960 values with dtype=float64]</pre></div></li><li class='xr-var-item'><div class='xr-var-name'><span>DENSITY_E_A_0</span></div><div class='xr-var-dims'>(time, r, theta, phi)</div><div class='xr-var-dtype'>float64</div><div class='xr-var-preview xr-preview'>...</div><input id='attrs-b3c7c548-648a-4a7e-9f4f-2738ec946552' class='xr-var-attrs-in' type='checkbox' disabled><label for='attrs-b3c7c548-648a-4a7e-9f4f-2738ec946552' title='Show/Hide attributes'><svg class='icon xr-icon-file-text2'><use xlink:href='#icon-file-text2'></use></svg></label><input id='data-bfec41f5-2c6e-4980-af6c-7a3959f439ba' class='xr-var-data-in' type='checkbox'><label for='data-bfec41f5-2c6e-4980-af6c-7a3959f439ba' title='Show/Hide data repr'><svg class='icon xr-icon-database'><use xlink:href='#icon-database'></use></svg></label><div class='xr-var-attrs'><dl class='xr-attrs'></dl></div><div class='xr-var-data'><pre>[51240960 values with dtype=float64]</pre></div></li><li class='xr-var-item'><div class='xr-var-name'><span>DENSITY_E_I_0</span></div><div class='xr-var-dims'>(time, r, theta, phi)</div><div class='xr-var-dtype'>float64</div><div class='xr-var-preview xr-preview'>...</div><input id='attrs-8c96f868-5026-4c6d-9643-fe57a43764d0' class='xr-var-attrs-in' type='checkbox' disabled><label for='attrs-8c96f868-5026-4c6d-9643-fe57a43764d0' title='Show/Hide attributes'><svg class='icon xr-icon-file-text2'><use xlink:href='#icon-file-text2'></use></svg></label><input id='data-fbcbeae3-83c9-4fdd-99b3-e51015954be9' class='xr-var-data-in' type='checkbox'><label for='data-fbcbeae3-83c9-4fdd-99b3-e51015954be9' title='Show/Hide data repr'><svg class='icon xr-icon-database'><use xlink:href='#icon-database'></use></svg></label><div class='xr-var-attrs'><dl class='xr-attrs'></dl></div><div class='xr-var-data'><pre>[51240960 values with dtype=float64]</pre></div></li><li class='xr-var-item'><div class='xr-var-name'><span>DENSITY_E_M_0</span></div><div class='xr-var-dims'>(time, r, theta, phi)</div><div class='xr-var-dtype'>float64</div><div class='xr-var-preview xr-preview'>...</div><input id='attrs-542e6f19-7f54-4e8c-b31d-f7b2c18029a2' class='xr-var-attrs-in' type='checkbox' disabled><label for='attrs-542e6f19-7f54-4e8c-b31d-f7b2c18029a2' title='Show/Hide attributes'><svg class='icon xr-icon-file-text2'><use xlink:href='#icon-file-text2'></use></svg></label><input id='data-246a6541-c6a6-4b6d-b22b-be884dbc60cb' class='xr-var-data-in' type='checkbox'><label for='data-246a6541-c6a6-4b6d-b22b-be884dbc60cb' title='Show/Hide data repr'><svg class='icon xr-icon-database'><use xlink:href='#icon-database'></use></svg></label><div class='xr-var-attrs'><dl class='xr-attrs'></dl></div><div class='xr-var-data'><pre>[51240960 values with dtype=float64]</pre></div></li><li class='xr-var-item'><div class='xr-var-name'><span>fort.40_0</span></div><div class='xr-var-dims'>(time, r, theta, phi)</div><div class='xr-var-dtype'>float64</div><div class='xr-var-preview xr-preview'>...</div><input id='attrs-2271ed9a-ef02-42f4-8da7-39e0e2dd8e3c' class='xr-var-attrs-in' type='checkbox' disabled><label for='attrs-2271ed9a-ef02-42f4-8da7-39e0e2dd8e3c' title='Show/Hide attributes'><svg class='icon xr-icon-file-text2'><use xlink:href='#icon-file-text2'></use></svg></label><input id='data-cfe8bc1d-4045-47e3-825a-20185c662c83' class='xr-var-data-in' type='checkbox'><label for='data-cfe8bc1d-4045-47e3-825a-20185c662c83' title='Show/Hide data repr'><svg class='icon xr-icon-database'><use xlink:href='#icon-database'></use></svg></label><div class='xr-var-attrs'><dl class='xr-attrs'></dl></div><div class='xr-var-data'><pre>[51240960 values with dtype=float64]</pre></div></li><li class='xr-var-item'><div class='xr-var-name'><span>fort.42_0</span></div><div class='xr-var-dims'>(time, r, theta, phi)</div><div class='xr-var-dtype'>float64</div><div class='xr-var-preview xr-preview'>...</div><input id='attrs-d663ffcf-2612-4a44-b118-dbc9e3fe42d2' class='xr-var-attrs-in' type='checkbox' disabled><label for='attrs-d663ffcf-2612-4a44-b118-dbc9e3fe42d2' title='Show/Hide attributes'><svg class='icon xr-icon-file-text2'><use xlink:href='#icon-file-text2'></use></svg></label><input id='data-b2607972-d524-40be-a052-e9b6ba6d8d8c' class='xr-var-data-in' type='checkbox'><label for='data-b2607972-d524-40be-a052-e9b6ba6d8d8c' title='Show/Hide data repr'><svg class='icon xr-icon-database'><use xlink:href='#icon-database'></use></svg></label><div class='xr-var-attrs'><dl class='xr-attrs'></dl></div><div class='xr-var-data'><pre>[51240960 values with dtype=float64]</pre></div></li><li class='xr-var-item'><div class='xr-var-name'><span>fort.43_0</span></div><div class='xr-var-dims'>(time, r, theta, phi)</div><div class='xr-var-dtype'>float64</div><div class='xr-var-preview xr-preview'>...</div><input id='attrs-e7e62393-62a1-4a89-b265-40913ddf733d' class='xr-var-attrs-in' type='checkbox' disabled><label for='attrs-e7e62393-62a1-4a89-b265-40913ddf733d' title='Show/Hide attributes'><svg class='icon xr-icon-file-text2'><use xlink:href='#icon-file-text2'></use></svg></label><input id='data-a5a822ea-da37-49ac-b811-467df1044c85' class='xr-var-data-in' type='checkbox'><label for='data-a5a822ea-da37-49ac-b811-467df1044c85' title='Show/Hide data repr'><svg class='icon xr-icon-database'><use xlink:href='#icon-database'></use></svg></label><div class='xr-var-attrs'><dl class='xr-attrs'></dl></div><div class='xr-var-data'><pre>[51240960 values with dtype=float64]</pre></div></li><li class='xr-var-item'><div class='xr-var-name'><span>fort.46_0</span></div><div class='xr-var-dims'>(time, r, theta, phi)</div><div class='xr-var-dtype'>float64</div><div class='xr-var-preview xr-preview'>...</div><input id='attrs-366c00ee-a1e4-419f-9b68-a84452f522fa' class='xr-var-attrs-in' type='checkbox' disabled><label for='attrs-366c00ee-a1e4-419f-9b68-a84452f522fa' title='Show/Hide attributes'><svg class='icon xr-icon-file-text2'><use xlink:href='#icon-file-text2'></use></svg></label><input id='data-8b494aba-6964-4563-b61d-47cffe5640b1' class='xr-var-data-in' type='checkbox'><label for='data-8b494aba-6964-4563-b61d-47cffe5640b1' title='Show/Hide data repr'><svg class='icon xr-icon-database'><use xlink:href='#icon-database'></use></svg></label><div class='xr-var-attrs'><dl class='xr-attrs'></dl></div><div class='xr-var-data'><pre>[51240960 values with dtype=float64]</pre></div></li><li class='xr-var-item'><div class='xr-var-name'><span>fort.47_0</span></div><div class='xr-var-dims'>(time, r, theta, phi)</div><div class='xr-var-dtype'>float64</div><div class='xr-var-preview xr-preview'>...</div><input id='attrs-0004a88c-e924-488a-bacb-a1d05dd3affb' class='xr-var-attrs-in' type='checkbox' disabled><label for='attrs-0004a88c-e924-488a-bacb-a1d05dd3affb' title='Show/Hide attributes'><svg class='icon xr-icon-file-text2'><use xlink:href='#icon-file-text2'></use></svg></label><input id='data-54f39067-e622-4be3-9bcc-842ec00c7a8d' class='xr-var-data-in' type='checkbox'><label for='data-54f39067-e622-4be3-9bcc-842ec00c7a8d' title='Show/Hide data repr'><svg class='icon xr-icon-database'><use xlink:href='#icon-database'></use></svg></label><div class='xr-var-attrs'><dl class='xr-attrs'></dl></div><div class='xr-var-data'><pre>[51240960 values with dtype=float64]</pre></div></li><li class='xr-var-item'><div class='xr-var-name'><span>fort.47_1</span></div><div class='xr-var-dims'>(time, r, theta, phi)</div><div class='xr-var-dtype'>float64</div><div class='xr-var-preview xr-preview'>...</div><input id='attrs-423fe4a8-a9c8-4124-a35f-c942bae388a8' class='xr-var-attrs-in' type='checkbox' disabled><label for='attrs-423fe4a8-a9c8-4124-a35f-c942bae388a8' title='Show/Hide attributes'><svg class='icon xr-icon-file-text2'><use xlink:href='#icon-file-text2'></use></svg></label><input id='data-5bbb3d17-bbee-446b-a2c2-b1daee3ad20d' class='xr-var-data-in' type='checkbox'><label for='data-5bbb3d17-bbee-446b-a2c2-b1daee3ad20d' title='Show/Hide data repr'><svg class='icon xr-icon-database'><use xlink:href='#icon-database'></use></svg></label><div class='xr-var-attrs'><dl class='xr-attrs'></dl></div><div class='xr-var-data'><pre>[51240960 values with dtype=float64]</pre></div></li><li class='xr-var-item'><div class='xr-var-name'><span>IMPURITY_IONIZATION_SOURCE_0</span></div><div class='xr-var-dims'>(time, r, theta, phi)</div><div class='xr-var-dtype'>float64</div><div class='xr-var-preview xr-preview'>...</div><input id='attrs-a2586d2a-ee30-43fd-b046-0f457cc41aec' class='xr-var-attrs-in' type='checkbox' disabled><label for='attrs-a2586d2a-ee30-43fd-b046-0f457cc41aec' title='Show/Hide attributes'><svg class='icon xr-icon-file-text2'><use xlink:href='#icon-file-text2'></use></svg></label><input id='data-96ca198c-f038-4a8e-b6f7-80338379a330' class='xr-var-data-in' type='checkbox'><label for='data-96ca198c-f038-4a8e-b6f7-80338379a330' title='Show/Hide data repr'><svg class='icon xr-icon-database'><use xlink:href='#icon-database'></use></svg></label><div class='xr-var-attrs'><dl class='xr-attrs'></dl></div><div class='xr-var-data'><pre>[51240960 values with dtype=float64]</pre></div></li><li class='xr-var-item'><div class='xr-var-name'><span>IMPURITY_IONIZATION_SOURCE_1</span></div><div class='xr-var-dims'>(time, r, theta, phi)</div><div class='xr-var-dtype'>float64</div><div class='xr-var-preview xr-preview'>...</div><input id='attrs-323bcf61-1200-476d-9b2f-cf30d0bcdfc6' class='xr-var-attrs-in' type='checkbox' disabled><label for='attrs-323bcf61-1200-476d-9b2f-cf30d0bcdfc6' title='Show/Hide attributes'><svg class='icon xr-icon-file-text2'><use xlink:href='#icon-file-text2'></use></svg></label><input id='data-94e10b66-86d5-49f3-a38b-9512c90b6554' class='xr-var-data-in' type='checkbox'><label for='data-94e10b66-86d5-49f3-a38b-9512c90b6554' title='Show/Hide data repr'><svg class='icon xr-icon-database'><use xlink:href='#icon-database'></use></svg></label><div class='xr-var-attrs'><dl class='xr-attrs'></dl></div><div class='xr-var-data'><pre>[51240960 values with dtype=float64]</pre></div></li><li class='xr-var-item'><div class='xr-var-name'><span>IMPURITY_NEUTRAL_0</span></div><div class='xr-var-dims'>(time, r, theta, phi)</div><div class='xr-var-dtype'>float64</div><div class='xr-var-preview xr-preview'>...</div><input id='attrs-1446890a-5509-487f-a9d8-9f01a5d297ae' class='xr-var-attrs-in' type='checkbox' disabled><label for='attrs-1446890a-5509-487f-a9d8-9f01a5d297ae' title='Show/Hide attributes'><svg class='icon xr-icon-file-text2'><use xlink:href='#icon-file-text2'></use></svg></label><input id='data-6d6e8ece-c3d2-46ec-9b67-551d856e7a14' class='xr-var-data-in' type='checkbox'><label for='data-6d6e8ece-c3d2-46ec-9b67-551d856e7a14' title='Show/Hide data repr'><svg class='icon xr-icon-database'><use xlink:href='#icon-database'></use></svg></label><div class='xr-var-attrs'><dl class='xr-attrs'></dl></div><div class='xr-var-data'><pre>[51240960 values with dtype=float64]</pre></div></li><li class='xr-var-item'><div class='xr-var-name'><span>IMP_RADIATION_0</span></div><div class='xr-var-dims'>(time, r, theta, phi)</div><div class='xr-var-dtype'>float64</div><div class='xr-var-preview xr-preview'>...</div><input id='attrs-c6262549-04c6-456d-a07e-1d7ba426c4d0' class='xr-var-attrs-in' type='checkbox' disabled><label for='attrs-c6262549-04c6-456d-a07e-1d7ba426c4d0' title='Show/Hide attributes'><svg class='icon xr-icon-file-text2'><use xlink:href='#icon-file-text2'></use></svg></label><input id='data-14c6468e-fdb7-45a6-97df-32d79edb99ef' class='xr-var-data-in' type='checkbox'><label for='data-14c6468e-fdb7-45a6-97df-32d79edb99ef' title='Show/Hide data repr'><svg class='icon xr-icon-database'><use xlink:href='#icon-database'></use></svg></label><div class='xr-var-attrs'><dl class='xr-attrs'></dl></div><div class='xr-var-data'><pre>[51240960 values with dtype=float64]</pre></div></li><li class='xr-var-item'><div class='xr-var-name'><span>FLUX_CONSERVATION_0</span></div><div class='xr-var-dims'>(r, theta, phi)</div><div class='xr-var-dtype'>float64</div><div class='xr-var-preview xr-preview'>...</div><input id='attrs-05eeb4e9-436a-41f5-8b82-28d6d86a1db7' class='xr-var-attrs-in' type='checkbox' disabled><label for='attrs-05eeb4e9-436a-41f5-8b82-28d6d86a1db7' title='Show/Hide attributes'><svg class='icon xr-icon-file-text2'><use xlink:href='#icon-file-text2'></use></svg></label><input id='data-0415b258-e081-4048-ae39-e4007b5bca1a' class='xr-var-data-in' type='checkbox'><label for='data-0415b258-e081-4048-ae39-e4007b5bca1a' title='Show/Hide data repr'><svg class='icon xr-icon-database'><use xlink:href='#icon-database'></use></svg></label><div class='xr-var-attrs'><dl class='xr-attrs'></dl></div><div class='xr-var-data'><pre>[2562048 values with dtype=float64]</pre></div></li><li class='xr-var-item'><div class='xr-var-name'><span>LG_CELL_0</span></div><div class='xr-var-dims'>(r, theta, phi)</div><div class='xr-var-dtype'>float64</div><div class='xr-var-preview xr-preview'>...</div><input id='attrs-74cfaeda-3406-4314-a008-861a84b427ef' class='xr-var-attrs-in' type='checkbox' disabled><label for='attrs-74cfaeda-3406-4314-a008-861a84b427ef' title='Show/Hide attributes'><svg class='icon xr-icon-file-text2'><use xlink:href='#icon-file-text2'></use></svg></label><input id='data-3e018787-0c91-476a-9293-ffbf64847b00' class='xr-var-data-in' type='checkbox'><label for='data-3e018787-0c91-476a-9293-ffbf64847b00' title='Show/Hide data repr'><svg class='icon xr-icon-database'><use xlink:href='#icon-database'></use></svg></label><div class='xr-var-attrs'><dl class='xr-attrs'></dl></div><div class='xr-var-data'><pre>[2562048 values with dtype=float64]</pre></div></li></ul></div></li><li class='xr-section-item'><input id='section-936cd9ad-51bd-4fbf-807f-186978284d3e' class='xr-section-summary-in' type='checkbox' disabled ><label for='section-936cd9ad-51bd-4fbf-807f-186978284d3e' class='xr-section-summary'  title='Expand/collapse section'>Attributes: <span>(0)</span></label><div class='xr-section-inline-details'></div><div class='xr-section-details'><dl class='xr-attrs'></dl></div></li></ul></div></div>"
      ],
      "text/plain": [
       "<xarray.Dataset>\n",
       "Dimensions:                       (delta_phi: 2, delta_r: 2, delta_theta: 2, phi: 36, r: 139, theta: 512, time: 20)\n",
       "Coordinates:\n",
       "    R_bounds                      (r, theta, phi, delta_r, delta_theta, delta_phi) float64 ...\n",
       "    z_bounds                      (r, theta, phi, delta_r, delta_theta, delta_phi) float64 ...\n",
       "    phi_bounds                    (phi, delta_phi) float64 ...\n",
       "Dimensions without coordinates: delta_phi, delta_r, delta_theta, phi, r, theta, time\n",
       "Data variables:\n",
       "    _plasma_map                   (r, theta, phi) int64 ...\n",
       "    ne                            (time, r, theta, phi) float64 ...\n",
       "    nZ1                           (time, r, theta, phi) float64 ...\n",
       "    nZ2                           (time, r, theta, phi) float64 ...\n",
       "    nZ3                           (time, r, theta, phi) float64 ...\n",
       "    nZ4                           (time, r, theta, phi) float64 ...\n",
       "    nZ5                           (time, r, theta, phi) float64 ...\n",
       "    nZ6                           (time, r, theta, phi) float64 ...\n",
       "    M                             (time, r, theta, phi) float64 ...\n",
       "    Te                            (time, r, theta, phi) float64 ...\n",
       "    Ti                            (time, r, theta, phi) float64 ...\n",
       "    Lc                            (r, theta, phi) float64 ...\n",
       "    nH                            (time, r, theta, phi) float64 ...\n",
       "    nH2                           (time, r, theta, phi) float64 ...\n",
       "    nH2+                          (time, r, theta, phi) float64 ...\n",
       "    TH                            (time, r, theta, phi) float64 ...\n",
       "    bf_bounds                     (r, theta, phi, delta_r, delta_theta, delta_phi) float64 ...\n",
       "    PLATES_MAG                    (r, theta, phi) bool ...\n",
       "    TEMPERATURE_I_0               (time, r, theta, phi) float64 ...\n",
       "    DENSITY_E_A_0                 (time, r, theta, phi) float64 ...\n",
       "    DENSITY_E_I_0                 (time, r, theta, phi) float64 ...\n",
       "    DENSITY_E_M_0                 (time, r, theta, phi) float64 ...\n",
       "    fort.40_0                     (time, r, theta, phi) float64 ...\n",
       "    fort.42_0                     (time, r, theta, phi) float64 ...\n",
       "    fort.43_0                     (time, r, theta, phi) float64 ...\n",
       "    fort.46_0                     (time, r, theta, phi) float64 ...\n",
       "    fort.47_0                     (time, r, theta, phi) float64 ...\n",
       "    fort.47_1                     (time, r, theta, phi) float64 ...\n",
       "    IMPURITY_IONIZATION_SOURCE_0  (time, r, theta, phi) float64 ...\n",
       "    IMPURITY_IONIZATION_SOURCE_1  (time, r, theta, phi) float64 ...\n",
       "    IMPURITY_NEUTRAL_0            (time, r, theta, phi) float64 ...\n",
       "    IMP_RADIATION_0               (time, r, theta, phi) float64 ...\n",
       "    FLUX_CONSERVATION_0           (r, theta, phi) float64 ...\n",
       "    LG_CELL_0                     (r, theta, phi) float64 ..."
      ]
     },
     "execution_count": 6,
     "metadata": {},
     "output_type": "execute_result"
    }
   ],
   "source": [
    "ds_tsdata_emc3 = ds_tot.isel(time = slice(-20,None))\n",
    "ds_tsdata_emc3"
   ]
  },
  {
   "cell_type": "code",
   "execution_count": 7,
   "id": "05c52a2c",
   "metadata": {},
   "outputs": [],
   "source": [
    "mean_sel = ds_tsdata_emc3.mean(dim = 'time')"
   ]
  },
  {
   "cell_type": "code",
   "execution_count": 8,
   "id": "3a3ca340",
   "metadata": {
    "scrolled": true
   },
   "outputs": [],
   "source": [
    "#std_sel = ds_tsdata_emc3.std(dim = 'time')"
   ]
  },
  {
   "cell_type": "code",
   "execution_count": 9,
   "id": "c6f5169a",
   "metadata": {},
   "outputs": [],
   "source": [
    "#std_tot = ds_tsdata_emc3.std()"
   ]
  },
  {
   "cell_type": "code",
   "execution_count": 10,
   "id": "aec4b233",
   "metadata": {},
   "outputs": [
    {
     "data": {
      "text/plain": [
       "'def plot_noise_param(ds, dsparam, mean_dsparam, ir, it, ip):\\n    dsparam = np.array(dsparam)\\n    mean_dsparam = np.array(mean_dsparam)\\n    T = ds.Te.shape[0]\\n    reg_shape = (T, ir[1]-ir[0], it[1]-it[0], ip[1]-ip[0])\\n    t = np.array(np.linspace(0,T-1,T), dtype=np.int64)\\n    plt.figure()\\n    for i in range(reg_shape[1]):\\n        for j in range(reg_shape[2]):\\n            for k in range(reg_shape[3]):\\n                plt.plot(t, dsparam[:, ir[0]+i,it[0]+j,ip[0]+k] - mean_dsparam[ir[0]+i,it[0]+j,ip[0]+k])\\n                plt.xlabel(\"$t$\")\\n                plt.ylabel(\"$\\\\theta_t - \\\\langle \\\\theta(t) \\\\rangle_t$\")'"
      ]
     },
     "execution_count": 10,
     "metadata": {},
     "output_type": "execute_result"
    }
   ],
   "source": [
    "\"ir, it, ip tuples representing from to values\"\n",
    "\"\"\"def plot_noise_param(ds, dsparam, mean_dsparam, ir, it, ip):\n",
    "    dsparam = np.array(dsparam)\n",
    "    mean_dsparam = np.array(mean_dsparam)\n",
    "    T = ds.Te.shape[0]\n",
    "    reg_shape = (T, ir[1]-ir[0], it[1]-it[0], ip[1]-ip[0])\n",
    "    t = np.array(np.linspace(0,T-1,T), dtype=np.int64)\n",
    "    plt.figure()\n",
    "    for i in range(reg_shape[1]):\n",
    "        for j in range(reg_shape[2]):\n",
    "            for k in range(reg_shape[3]):\n",
    "                plt.plot(t, dsparam[:, ir[0]+i,it[0]+j,ip[0]+k] - mean_dsparam[ir[0]+i,it[0]+j,ip[0]+k])\n",
    "                plt.xlabel(\"$t$\")\n",
    "                plt.ylabel(\"$\\\\theta_t - \\\\langle \\\\theta(t) \\\\rangle_t$\")\"\"\""
   ]
  },
  {
   "cell_type": "code",
   "execution_count": 11,
   "id": "8b909f3a",
   "metadata": {},
   "outputs": [
    {
     "data": {
      "text/plain": [
       "\"from ipywidgets import interact\\nimport ipywidgets as widgets\\ndef sliderplot_noise(ir, it, ip):\\n    plot_noise_param(ds = ds_tsdata_emc3, \\n                     dsparam = ds_tsdata_emc3.Te, \\n                     mean_dsparam = mean_sel.Te, \\n                     ir = ir, it = it, ip = ip)\\nrslider = widgets.IntRangeSlider(min = 0, max = mean_sel.Te.shape[0]-1, value = [130,138], description = 'R')\\nthetaslider = widgets.IntRangeSlider(min = 0, max = mean_sel.Te.shape[1]-1, value = [0,5], description = 'theta')\\nphislider = widgets.IntRangeSlider(min = 0, max = mean_sel.Te.shape[2]-1, value = [0,5], description = 'phi')\\ninteract(sliderplot_noise, ir = rslider, it = thetaslider, ip = phislider)\""
      ]
     },
     "execution_count": 11,
     "metadata": {},
     "output_type": "execute_result"
    }
   ],
   "source": [
    "\"\"\"from ipywidgets import interact\n",
    "import ipywidgets as widgets\n",
    "def sliderplot_noise(ir, it, ip):\n",
    "    plot_noise_param(ds = ds_tsdata_emc3, \n",
    "                     dsparam = ds_tsdata_emc3.Te, \n",
    "                     mean_dsparam = mean_sel.Te, \n",
    "                     ir = ir, it = it, ip = ip)\n",
    "rslider = widgets.IntRangeSlider(min = 0, max = mean_sel.Te.shape[0]-1, value = [130,138], description = 'R')\n",
    "thetaslider = widgets.IntRangeSlider(min = 0, max = mean_sel.Te.shape[1]-1, value = [0,5], description = 'theta')\n",
    "phislider = widgets.IntRangeSlider(min = 0, max = mean_sel.Te.shape[2]-1, value = [0,5], description = 'phi')\n",
    "interact(sliderplot_noise, ir = rslider, it = thetaslider, ip = phislider)\"\"\""
   ]
  },
  {
   "cell_type": "code",
   "execution_count": 12,
   "id": "998bda75",
   "metadata": {},
   "outputs": [
    {
     "ename": "SyntaxError",
     "evalue": "EOL while scanning string literal (<ipython-input-12-acf24e2b159b>, line 6)",
     "output_type": "error",
     "traceback": [
      "\u001b[0;36m  File \u001b[0;32m\"<ipython-input-12-acf24e2b159b>\"\u001b[0;36m, line \u001b[0;32m6\u001b[0m\n\u001b[0;31m    sg_meanmean.point_data.scalars.name = \"Te\"\"\"\"\u001b[0m\n\u001b[0m                                                 \n^\u001b[0m\n\u001b[0;31mSyntaxError\u001b[0m\u001b[0;31m:\u001b[0m EOL while scanning string literal\n"
     ]
    }
   ],
   "source": [
    "\"\"\"grid_meanmean_sel = grid(ds = mean_sel, inc_r = [20, 138], inc_t = [0, 512], inc_p = [0, 4])\n",
    "dimsg = grid_meanmean_sel.tor_x.shape[::-1]\n",
    "sg_meanmean = tvtk.StructuredGrid(dimensions = dimsg)\n",
    "sg_meanmean.points = grid_meanmean_sel.torflat\n",
    "sg_meanmean.point_data.scalars = np.asarray(mean_sel.Te)[20:138,0:512,0:4].flatten()\n",
    "sg_meanmean.point_data.scalars.name = \"Te\" \"\"\""
   ]
  },
  {
   "cell_type": "code",
   "execution_count": 13,
   "id": "0aa7f005",
   "metadata": {},
   "outputs": [
    {
     "data": {
      "text/plain": [
       "'# clear the field\\nmlab.clf()\\n#add the dataset to the pipeline, the principle is to add several object on top of each other\\nsrc_emc3 = mlab.pipeline.add_dataset(sg_meanmean)\\n# make a cut object to cut the 3D volum in slices in a user defined direction\\ncut_emc3 = mlab.pipeline.scalar_cut_plane(src_emc3)\\n# make a contour plot of the scalar field\\ncont_emc3 = mlab.pipeline.iso_surface(cut_emc3)\\n# add the outline of the 3d domain\\nmlab.outline()\\n# add axis to the plot\\nmlab.axes()'"
      ]
     },
     "execution_count": 13,
     "metadata": {},
     "output_type": "execute_result"
    }
   ],
   "source": [
    "\"\"\"\n",
    "Plotting the actual values in the W7X grid with the electron temperature as a test.\n",
    "\"\"\"\n",
    "\"\"\"# clear the field\n",
    "mlab.clf()\n",
    "#add the dataset to the pipeline, the principle is to add several object on top of each other\n",
    "src_emc3 = mlab.pipeline.add_dataset(sg_meanmean)\n",
    "# make a cut object to cut the 3D volum in slices in a user defined direction\n",
    "cut_emc3 = mlab.pipeline.scalar_cut_plane(src_emc3)\n",
    "# make a contour plot of the scalar field\n",
    "cont_emc3 = mlab.pipeline.iso_surface(cut_emc3)\n",
    "# add the outline of the 3d domain\n",
    "mlab.outline()\n",
    "# add axis to the plot\n",
    "mlab.axes()\"\"\""
   ]
  },
  {
   "cell_type": "code",
   "execution_count": 14,
   "id": "0412f963",
   "metadata": {},
   "outputs": [],
   "source": [
    "\"\"\"\n",
    "Importing the Poincare plots of the magnetic fields from the web service client for comparing the\n",
    "features with the magnetic configuration of the machine.\n",
    "\"\"\"\n",
    "cl = Client(\"http://esb.ipp-hgw.mpg.de:8280/services/w7xfp?wsdl\")\n",
    "# should be 21\n",
    "cl.service.getProfilesNumberOfKnots()\n",
    "\n",
    "tracer = Client('http://esb.ipp-hgw.mpg.de:8280/services/FieldLineProxy?wsdl')\n",
    "\n",
    "''' set the start points (R, phi, Z) for the tracing... '''\n",
    "p = tracer.types.Points3D()\n",
    "p.x1 = np.linspace(5.64, 6.3, 30)\n",
    "p.x2 = np.zeros(30)\n",
    "p.x3 = np.zeros(30)\n",
    "\n",
    "''' set a coil coilconfiguration ... '''\n",
    "coilconfig = tracer.types.MagneticConfig()\n",
    "\n",
    "''' e.g. using a coilconfig ID from CoilsDB: \n",
    "    1 : 'w7x standard case', 3 : 'low iota', 4 : 'high iota', 5 : 'low mirror', etc. '''\n",
    "coilconfig.configIds = [0] \n",
    "\n",
    "''' you could also create your own coil coilconfigurations \n",
    "    e.g. use only all type 3 of the non-planar sc coils from w7x: '''\n",
    "#coilconfig.coilsIds = [162, 167, 172, 177, 182, 187, 192, 197, 202, 207]\n",
    "#coilconfig.coilsIdsCurrents = [9993.92, 9993.92, 9993.92, 9993.92, 9993.92, 9993.92, 9993.92, 9993.92, 9993.92, 9993.92]\n",
    "\n",
    "''' you can use a grid for speeding up your requests. \n",
    "    Without a grid all tracing steps will be calculated by using Biot-Savart \n",
    "'''\n",
    "my_grid = tracer.types.CylindricalGrid()\n",
    "my_grid.RMin = 4.05\n",
    "my_grid.RMax = 6.75\n",
    "my_grid.ZMin = -1.35\n",
    "my_grid.ZMax = 1.35\n",
    "my_grid.numR = 181\n",
    "my_grid.numZ = 181\n",
    "my_grid.numPhi = 481\n",
    "\n",
    "g = tracer.types.Grid()\n",
    "g.cylindrical = my_grid\n",
    "g.fieldSymmetry = 5\n",
    "\n",
    "coilconfig.grid = g\n",
    "\n",
    "\n",
    "pctask = tracer.types.PoincareInPhiPlane()\n",
    "pctask.numPoints = 300\n",
    "pctask.phi0 = [0.0]\n",
    "                     \n",
    "task = tracer.types.Task()\n",
    "task.step = 0.01\n",
    "task.poincare = pctask\n",
    "\n",
    "''' you can use a Machine object for a limitation of the tracing region. \n",
    "    This sample uses a torus model (id = 164) from ComponentsDB: '''\n",
    "machine = tracer.types.Machine()\n",
    "machine.meshedModelsIds = [164] \n",
    "machine_grid = tracer.types.CartesianGrid()\n",
    "machine_grid.XMin = -7\n",
    "machine_grid.XMax = 7\n",
    "machine_grid.YMin = -7\n",
    "machine_grid.YMax = 7\n",
    "machine_grid.ZMin = -1.5\n",
    "machine_grid.ZMax = 1.5\n",
    "machine_grid.numX = 400\n",
    "machine_grid.numY = 400\n",
    "machine_grid.numZ = 100\n",
    "\n",
    "machine.grid = machine_grid\n",
    "# machine = None\n",
    "\n",
    "''' make a request to the web service: '''\n",
    "result = tracer.service.trace(p, coilconfig, task, machine, None)"
   ]
  },
  {
   "cell_type": "code",
   "execution_count": 16,
   "id": "96396165",
   "metadata": {
    "scrolled": false
   },
   "outputs": [
    {
     "data": {
      "application/vnd.jupyter.widget-view+json": {
       "model_id": "f5a5a0a455be4557b8384ab314e74918",
       "version_major": 2,
       "version_minor": 0
      },
      "text/plain": [
       "interactive(children=(IntSlider(value=0, description='itime', max=19), IntSlider(value=0, description='ip', ma…"
      ]
     },
     "metadata": {},
     "output_type": "display_data"
    },
    {
     "data": {
      "text/plain": [
       "<function __main__.plot_emc3toroidal(itime, ip)>"
      ]
     },
     "execution_count": 16,
     "metadata": {},
     "output_type": "execute_result"
    },
    {
     "data": {
      "image/png": "[encoded data removed]",
      "text/plain": [
       "<Figure size 720x720 with 1 Axes>"
      ]
     },
     "metadata": {
      "needs_background": "light"
     },
     "output_type": "display_data"
    }
   ],
   "source": [
    "\"\"\"\n",
    "Y-slices of raw data.\n",
    "\"\"\"\n",
    "# %matplotlib\n",
    "ds_sel_Te = ds_tsdata_emc3.Te[:,20:138,0:512,:]\n",
    "def plot_emc3toroidal(itime, ip):\n",
    "    figemc3 = plt.figure(figsize=(10,10))\n",
    "    axemc3 = figemc3.add_subplot()\n",
    "    clev = np.arange(ds_sel_Te[itime,:,:,ip].min(),\n",
    "                     ds_sel_Te[itime,:,:,ip].max(),.5)\n",
    "    cemc3 = axemc3.contourf(grid_meanmean_sel.R[:,:,ip], \n",
    "                            grid_meanmean_sel.tor_z[:,:,ip], \n",
    "                            ds_sel_Te[itime,:,:,ip], \n",
    "                            clev)\n",
    "    figemc3.colorbar(cemc3)\n",
    "    \n",
    "    # Poincaré\n",
    "    for i in range(0,len(result.surfs)):\n",
    "        axemc3.scatter(result.surfs[i].points.x1, result.surfs[i].points.x3, s=0.1)\n",
    "    \n",
    "phislider = widgets.IntSlider(min = 0, max = 3, value = 0)\n",
    "timeslider = widgets.IntSlider(min = 0, max = 19, value = 0)\n",
    "interact(plot_emc3toroidal, itime = timeslider, ip = phislider)"
   ]
  },
  {
   "cell_type": "code",
   "execution_count": 17,
   "id": "20ee0a53",
   "metadata": {},
   "outputs": [],
   "source": [
    "\"\"\"\n",
    "remember the grid has the dimensions (139,512,36) = (r, theta, phi)\n",
    "only restrict in (r,theta)\n",
    "\"\"\"\n",
    "\n",
    "regstest = np.zeros((5, 2, 2), dtype = np.int64)\n",
    "regstest[:,0,0] = 50\n",
    "regstest[:,0,1] = 138\n",
    "regstest[0,1,0] = 10\n",
    "regstest[0,1,1] = 30\n",
    "regstest[1,1,0] = 50\n",
    "regstest[1,1,1] = 130\n",
    "regstest[2,1,0] = 160\n",
    "regstest[2,1,1] = 190\n",
    "regstest[3,1,0] = 330\n",
    "regstest[3,1,1] = 360\n",
    "regstest[4,1,0] = 380\n",
    "regstest[4,1,1] = 450"
   ]
  },
  {
   "cell_type": "code",
   "execution_count": 18,
   "id": "d7ecae5c",
   "metadata": {},
   "outputs": [
    {
     "data": {
      "application/vnd.jupyter.widget-view+json": {
       "model_id": "97565d4111a842b08d4b056c2d93609e",
       "version_major": 2,
       "version_minor": 0
      },
      "text/plain": [
       "interactive(children=(IntSlider(value=0, description='itime', max=19), IntSlider(value=0, description='ip', ma…"
      ]
     },
     "metadata": {},
     "output_type": "display_data"
    },
    {
     "data": {
      "text/plain": [
       "<function __main__.plot_Te_zoomed(itime, ip, ireg)>"
      ]
     },
     "execution_count": 18,
     "metadata": {},
     "output_type": "execute_result"
    }
   ],
   "source": [
    "import warnings\n",
    "warnings.simplefilter(\"ignore\", UserWarning)\n",
    "\n",
    "def plot_Te_zoomed(itime, ip, ireg):\n",
    "    \"\"\"\n",
    "    Watch out for:\n",
    "    MatplotlibDeprecationWarning: shading='flat' when X and Y have the same dimensions as C is deprecated since 3.3.  Either specify the corners of the quadrilaterals with X and Y, or pass shading='auto', 'nearest' or 'gouraud', or set rcParams['pcolor.shading'].  This will become an error two minor releases later.\n",
    "      c = plt.pcolormesh(R[:, :,ip],\n",
    "    \"\"\"\n",
    "    rcoord, zcoord, data_rzslice = reduce_region_of_interest(ds = ds_tsdata_emc3,\n",
    "                                                             ds_param = ds_tsdata_emc3.Te[itime],\n",
    "                                                             region = regstest[ireg], iphi = ip)\n",
    "    fig = plt.figure(figsize = (10,10))\n",
    "    ax = fig.add_subplot()\n",
    "    c = plt.pcolormesh(rcoord, zcoord, data_rzslice, cmap = plt.cm.jet, shading = 'auto')\n",
    "    plt.colorbar(c, label=\"$T_e$\")\n",
    "    plt.xlabel(\"$R[m]$\")\n",
    "    plt.ylabel(\"$z[m]$\")\n",
    "#     plt.legend()\n",
    "phislider = widgets.IntSlider(min = 0, max = 35)\n",
    "timeslider = widgets.IntSlider(min = 0, max = 19)\n",
    "regionslider = widgets.IntSlider(min = 0, max = len(regstest)-1, value=1)\n",
    "interact(plot_Te_zoomed, itime = timeslider, ip = phislider, ireg = regionslider)"
   ]
  },
  {
   "cell_type": "code",
   "execution_count": 19,
   "id": "2d648eeb",
   "metadata": {},
   "outputs": [
    {
     "name": "stdout",
     "output_type": "stream",
     "text": [
      "region[0] [ 50 138] region[1] [10 30]\n",
      "region[0] [ 50 138] region[1] [ 50 130]\n",
      "region[0] [ 50 138] region[1] [160 190]\n",
      "region[0] [ 50 138] region[1] [330 360]\n",
      "region[0] [ 50 138] region[1] [380 450]\n"
     ]
    }
   ],
   "source": [
    "gridlist_timeseries = []\n",
    "sgridlist = []\n",
    "i = 0\n",
    "for region in regstest:\n",
    "    print(\"region[0]\", region[0], \"region[1]\", region[1])\n",
    "    # use ngrid_cart = 128 to have dimensions of powers of 2\n",
    "    gridlist_timeseries.append( grid(ds_tsdata_emc3, ngrid_cart=64, inc_r= region[0],inc_t=region[1], inc_p = [0,4] ) )\n",
    "    sg = tvtk.StructuredGrid(dimensions = gridlist_timeseries[i].tor_x.shape[::-1])\n",
    "    sg.points = gridlist_timeseries[i].torflat\n",
    "    sgridlist.append(sg)    \n",
    "    i+=1"
   ]
  },
  {
   "cell_type": "code",
   "execution_count": null,
   "id": "ee040950",
   "metadata": {},
   "outputs": [],
   "source": [
    "\"\"\"\n",
    "Time loop:\n",
    " - instead of doing the interpolation on all timerframes, store indices of points in the w7x grid and then\n",
    " calculate the interpolation just once\n",
    "Looping over cartesian points:\n",
    " - parallelize the for loop\n",
    "\"\"\"\n",
    "\n",
    "\"\"\"def makeparamlist(ds_param, sgridlist, gridlist, regions):\n",
    "    \"\"\"\n",
    "\"\"\"    Args:\n",
    "     - ds_param, xarray np.float64, parameter dataset\n",
    "     - sgridlist, tvtk.StructuredGrid object, the W7X grid\n",
    "     - gridlist, grid object\n",
    "     - regions, ndarray np.int64, indices of the regions of interest\n",
    "    Out:\n",
    "     - ts_paramlist, list of ndarray np.float64, times series meshgrid of parameter values (nt,) (ix, iy, iz)\"\"\"\n",
    "    \"\"\"\n",
    "    ds_param = np.array(ds_param)\n",
    "    ts_paramlist = []\n",
    "    for t in range(ds_param.shape[0]):\n",
    "        print(t)\n",
    "        paramlist = []\n",
    "        for i in range(regions.shape[0]):\n",
    "            # the grids are time indep, only the parameter value varies with time\n",
    "            parammesh_r, notfound = make_parammesh_vtk(grid_obj = gridlist[i],\n",
    "                                                       sgrid = sgridlist[i],\n",
    "                                                       param_torgrid = ds_param[t,regstest[i,0,0]:regstest[i,0,1],\n",
    "                                                                                regstest[i,1,0]:regstest[i,1,1],:] )\n",
    "            paramlist.append(parammesh_r)\n",
    "        ts_paramlist.append(paramlist)\n",
    "    return ts_paramlist\"\"\""
   ]
  },
  {
   "cell_type": "code",
   "execution_count": null,
   "id": "605ccb2f",
   "metadata": {},
   "outputs": [],
   "source": [
    "\"\"\"tik = time.time()\n",
    "pmesh_ts = makeparamlist(ds_param = ds_tsdata_emc3.Te, \n",
    "                         sgridlist = sgridlist, \n",
    "                         gridlist = gridlist_timeseries, \n",
    "                         regions = regstest)\n",
    "tok = time.time()\"\"\""
   ]
  },
  {
   "cell_type": "code",
   "execution_count": 21,
   "id": "5f524437",
   "metadata": {},
   "outputs": [],
   "source": [
    "def make_timeseries_data(idxmesh, weightmesh, ds_param, grid_obj, sgrid, sp = (0,0,0)):\n",
    "    ts_paramlist = []\n",
    "    for i in range(ds_param.shape[0]):\n",
    "        ts_paramlist.append( from_indices_to_paramvals(idxs = idxmesh,\n",
    "                                                       weights = weightmesh,\n",
    "                                                       param_torgrid = np.asarray(ds_param) ) )"
   ]
  },
  {
   "cell_type": "code",
   "execution_count": null,
   "id": "b4bea1e3",
   "metadata": {},
   "outputs": [],
   "source": [
    "\n",
    "grid_512 = grid(ds = ds_tsdata_emc3, ngrid_cart = 300, inc_r = [0, 139], inc_t = [0,512], inc_p = [0,35])\n",
    "dimgrid = list([x for x in grid_512.tor_x.shape[::-1]])\n",
    "sgrid_512 = tvtk.StructuredGrid(dimensions=dimgrid)\n",
    "sgrid_512.points = grid_emc3.torflat\n",
    "\n",
    "idxmesh, weightmesh = make_parammesh_vtk_indices(grid_obj = grid_obj, sgrid = sgrid, sp = sp, tolsqrd = 2e-2)"
   ]
  },
  {
   "cell_type": "code",
   "execution_count": null,
   "id": "beba8d73",
   "metadata": {},
   "outputs": [],
   "source": [
    "ts_512 = make_timeseries_data(idxmesh = idxmesh, \n",
    "                              weightmesh = weightmesh, \n",
    "                              ds_param = ds.Te, \n",
    "                              grid_obj, sgrid, sp = (0,0,0))"
   ]
  },
  {
   "cell_type": "code",
   "execution_count": null,
   "id": "e314ec86",
   "metadata": {},
   "outputs": [],
   "source": [
    "from save_interpolated_data import parammesh_timeseries_tofile, parammesh_timeseries_readfile"
   ]
  },
  {
   "cell_type": "code",
   "execution_count": null,
   "id": "d32c1c17",
   "metadata": {},
   "outputs": [],
   "source": [
    "# write the interpolated data to file\n",
    "filename_pmesh_ts = 'parameter_meshgrid_time_series_data_128x128x128'\n",
    "parammesh_timeseries_tofile(filename_pmesh_ts, pmesh_ts)"
   ]
  },
  {
   "cell_type": "code",
   "execution_count": null,
   "id": "9abbc251",
   "metadata": {},
   "outputs": [],
   "source": [
    "# load the interpolated data from file\n",
    "pmesh_ts_fromfile = parammesh_timeseries_readfile(filename_pmesh_ts, (len(pmesh_ts),len(pmesh_ts[0]),))"
   ]
  },
  {
   "cell_type": "code",
   "execution_count": null,
   "id": "39940834",
   "metadata": {},
   "outputs": [],
   "source": [
    "print(\"Runtime potmeshlist is \", tok-tik, \"seconds for ngrid = \", gridlist_timeseries[0].cart_x.shape[0])\n",
    "print(len(pmesh_ts))\n",
    "print(len(pmesh_ts[0]))\n",
    "pmesh_ts[0][0].shape"
   ]
  },
  {
   "cell_type": "code",
   "execution_count": null,
   "id": "6b83c483",
   "metadata": {},
   "outputs": [],
   "source": [
    "with open('parametermesh_timeseries.txt', 'w') as f:\n",
    "    for t in pmesh_ts:\n",
    "        for region in t:\n",
    "            f.write(\"%s\\n\" % region)"
   ]
  },
  {
   "cell_type": "code",
   "execution_count": null,
   "id": "585ac710",
   "metadata": {},
   "outputs": [],
   "source": [
    "def plot_interpol_regs(itime, ireg, iy):\n",
    "    plt.figure(figsize=(10,10))\n",
    "    im = plt.imshow(pmesh_ts[itime][ireg].T[::-1][:,iy])\n",
    "    plt.colorbar(im)\n",
    "timeslider = widgets.IntSlider(min = 0, max = len(pmesh_ts)-1, value=0)\n",
    "yslider = widgets.IntSlider(min = 0, max = pmesh_ts[0][0].T[::-1].shape[1]-2, value=1)\n",
    "regionslider = widgets.IntSlider(min = 0, max = len(regstest)-1, value=1)\n",
    "interact(plot_interpol_regs, itime = timeslider, ireg = regionslider, iy = yslider)"
   ]
  },
  {
   "cell_type": "code",
   "execution_count": null,
   "id": "44532923",
   "metadata": {},
   "outputs": [],
   "source": [
    "from skimage.restoration import denoise_wavelet, cycle_spin\n",
    "from skimage import data, img_as_float\n",
    "from skimage.util import random_noise\n",
    "from skimage.metrics import peak_signal_noise_ratio\n",
    "import skimage.data"
   ]
  },
  {
   "cell_type": "code",
   "execution_count": null,
   "id": "57ae2d74",
   "metadata": {},
   "outputs": [],
   "source": [
    "def shiftinv_wavelet_denoising(tsdata, int_y = [0,pmesh_ts[0][0].shape[1]]):\n",
    "    \"\"\"\n",
    "    Args:\n",
    "     - tsdata, list of ndarray np.float64 (nt,)(nr,)(ix, iy, iz), list of times of list of regions of parameter mesh\n",
    "     - int_phi, list of int, defining the interval in phi direction\n",
    "    Out:\n",
    "    \"\"\"\n",
    "    tik = time.time()\n",
    "    denoised = []\n",
    "    for t in range(len(tsdata)):\n",
    "        denoised_regions = []\n",
    "        for r in range(len(tsdata[0])):\n",
    "            img = tsdata[t][r].T[::-1,int_y[0]:int_y[1]].copy()\n",
    "            imgisnan = np.isnan(img)\n",
    "            img[imgisnan] = np.zeros(img[imgisnan].shape)\n",
    "            # multichannel = bool, do you have rgb/csv/hsv etc?, convert2ycbcr = bool, req multichannel = True\n",
    "            # denoise_kwargs = dict(multichannel=False, convert2ycbcr=False, wavelet='db1', rescale_sigma=True)\n",
    "            denoised_reg = cycle_spin(img, func=denoise_wavelet, max_shifts=(4,4,4))#max_shifts=img.shape\n",
    "            # set values that were nan before the denoising back to nan\n",
    "            denoised_reg[imgisnan] = np.ones(denoised_reg[imgisnan].shape)*np.nan\n",
    "            denoised_regions.append(denoised_reg)\n",
    "        denoised.append(denoised_regions)\n",
    "    tok = time.time()\n",
    "    return denoised, tok-tik"
   ]
  },
  {
   "cell_type": "code",
   "execution_count": null,
   "id": "5fb81f33",
   "metadata": {},
   "outputs": [],
   "source": [
    "emc3_denoised, runtime = shiftinv_wavelet_denoising(tsdata = pmesh_ts) "
   ]
  },
  {
   "cell_type": "code",
   "execution_count": null,
   "id": "4b8920c2",
   "metadata": {},
   "outputs": [],
   "source": [
    "emc3_denoised[1][4].shape"
   ]
  },
  {
   "cell_type": "code",
   "execution_count": null,
   "id": "f1048f07",
   "metadata": {},
   "outputs": [],
   "source": [
    "plt.imshow(emc3_denoised[0][1][:,30])"
   ]
  },
  {
   "cell_type": "code",
   "execution_count": null,
   "id": "5b826640",
   "metadata": {},
   "outputs": [],
   "source": [
    "def compare_regplot(ogimg, denoised_img):\n",
    "    fig, ax = plt.subplots(nrows = 2, ncols = 2, figsize = (20,20))\n",
    "    noisy = ax[0,0].imshow(ogimg)\n",
    "    ax[0,0].set_title(\"Noisy\")\n",
    "    fig.colorbar(noisy, ax = ax[0,0])\n",
    "    denoised = ax[0,1].imshow(denoised_img)\n",
    "    ax[0,1].set_title(\"Denoised\")\n",
    "    fig.colorbar(denoised, ax = ax[0,1])\n",
    "    noise = ax[1,0].imshow(ogimg - denoised_img)\n",
    "    ax[1,0].set_title(\"Noise\")\n",
    "    fig.colorbar(noise, ax = ax[1,0])"
   ]
  },
  {
   "cell_type": "code",
   "execution_count": null,
   "id": "dec4a8bf",
   "metadata": {},
   "outputs": [],
   "source": [
    "tik = time.time()\n",
    "img0_reg = pmesh_ts[0][1].T[::-1][:,1:3].copy()\n",
    "imgisnan = np.isnan(img0_reg)\n",
    "img0_reg[imgisnan] = np.zeros(img0_reg[imgisnan].shape)\n",
    "# plt.imshow(img0_reg[:,1])\n",
    "# img0_reg[imgisnan] = np.ones(img0_reg[imgisnan].shape)*np.nan\n",
    "plt.imshow(img0_reg[:,1])\n",
    "# plt.imshow(paramlist[1].T[::-1][:,3])"
   ]
  },
  {
   "cell_type": "code",
   "execution_count": null,
   "id": "af8a0504",
   "metadata": {},
   "outputs": [],
   "source": [
    "np.where(imgisnan == True)[0].shape\n",
    "img0_reg[:,0].shape"
   ]
  },
  {
   "cell_type": "code",
   "execution_count": null,
   "id": "13ebcbe8",
   "metadata": {},
   "outputs": [],
   "source": [
    "# multichannel = bool, do you have rgb/csv/hsv etc?, convert2ycbcr = bool, req multichannel = True\n",
    "# denoise_kwargs = dict(multichannel=False, convert2ycbcr=False, wavelet='db1', rescale_sigma=True)\n",
    "denoised_reg = cycle_spin(img0_reg, func=denoise_wavelet, max_shifts=img0_reg.shape)\n",
    "tok = time.time()"
   ]
  },
  {
   "cell_type": "code",
   "execution_count": null,
   "id": "b91a2e0d",
   "metadata": {},
   "outputs": [],
   "source": [
    "plt.imshow(denoised_reg[:,0])"
   ]
  },
  {
   "cell_type": "code",
   "execution_count": null,
   "id": "3e8ce9e3",
   "metadata": {},
   "outputs": [],
   "source": [
    "# set values that were nan before the denoising back to nan\n",
    "img0_reg[imgisnan] = np.ones(img0_reg[imgisnan].shape)*np.nan\n",
    "denoised_reg[imgisnan] = np.ones(denoised_reg[imgisnan].shape)*np.nan"
   ]
  },
  {
   "cell_type": "code",
   "execution_count": null,
   "id": "1f2b3263",
   "metadata": {},
   "outputs": [],
   "source": [
    "plt.imshow(denoised_reg[:,0])"
   ]
  },
  {
   "cell_type": "code",
   "execution_count": null,
   "id": "c9416817",
   "metadata": {
    "scrolled": false
   },
   "outputs": [],
   "source": [
    "print(\"2D shift-invariant denoising took \", tok - tik, \"seconds.\")\n",
    "compare_regplot(ogimg = img0_reg[:,0], denoised_img = denoised_reg[:,0] )\n",
    "# compare_regplot(ogimg = img0_reg[:,1], denoised_img = denoised_reg[:,1])"
   ]
  },
  {
   "cell_type": "markdown",
   "id": "ee49a466",
   "metadata": {},
   "source": [
    "# Conservation of physical quantities\n",
    "\n",
    "1. Formulate the equations for the particle and flux balance.\n",
    "2. Implement the conservation equations.\n",
    "3. Confirm that the interpolation is conservation preserving.\n",
    "4. Quantify the error of conservation introduced by the interpolation?\n",
    "\n",
    "# The effect of noise with regards to the conservation of physical quantites\n",
    "1. Add independent noiseterms to each terms of the conservation equations and see how it affects the interpolated data.\n",
    "2. Apply the filtering to mean data + known noise terms to quantify the effect of the filtering method.\n",
    "3. Try and quantify when the conservation laws break down by increasing the noise contribution.\n",
    "4. Quantize the effect of the filtering method wiht regards to the conservation laws. How much does the filtering method increase the threshold of the noise contribution with regards to the preservation of conservation laws.\n",
    "\n",
    "# Decomposing the drift terms\n",
    "1. Formulate the equations of the drift terms.\n",
    "2. Split drift terms into divergence-free and non-divergence-free terms.\n",
    "3. Analyze the magnitude of the divergence-free terms. Give relative contribution measures to the $\\mathbf{E}\\times\\mathbf{B}$-terms.\n",
    "4. Give an analysis on whether to implement a divergence-free optimized interpolation scheme or not. If yes, go to the last step.\n",
    "\n",
    "# Implementing divergence-free property of interpolation scheme\n",
    "1. Generate synthetic divergence free field.\n",
    "2. Implement method for checking diverge-free property of the field.\n",
    "3. Investigate the effect that noise contribution has to the divergence-free property of the field and apply the filtering method on the synthetic field to give a measure on how the filtering method improves the preservation of the divergence-free property.\n",
    "4. By using the synthetic divergence-free field, implement a divergence-free interpolation method or optimize the already implemented method.\n",
    "5. Apply the divergence free interpolation on the raw emc3 data and confirm the divergence-free property of the relevant terms.\n",
    "6. Apply the filtering method and repeat step 5.\n",
    "7. Quantize the effect of the filter by comparing to the mean of the time series data.\n",
    "8. Do a bootstrap of the standard deviation to give a measure on the accuracy of the mean, and finally do a bias corrected estimate?"
   ]
  },
  {
   "cell_type": "markdown",
   "id": "44a1661f",
   "metadata": {},
   "source": [
    "# Particle conservation\n",
    "\n",
    "## Generalized particle flux density conservation\n",
    "\n",
    "\\begin{equation}\n",
    "    \\nabla (n v) = S_p\n",
    "\\end{equation}\n",
    "\n",
    "where the particle source term $S_p$ is set to zero because it will only be non-zero in proximity of the targets. $n$ and $v$ is the particle density and fluid velocity so the resulting conservation equation is:\n",
    "\\begin{equation}\n",
    "\\nabla(nv) = 0\n",
    "\\end{equation}\n",
    "\n",
    "\\begin{equation}\n",
    "\\Gamma = -D \\frac{d n}{d \\mathbf{r}}\n",
    "\\end{equation}\n",
    "\n",
    "# Heat flux\n",
    "\n",
    "\\begin{align}\n",
    "q_{\\parallel} = -\\chi_n\\frac{dT_e}{d\\mathbf{r}}\n",
    "q_{\\perp} = K_eT_e^{5/2}\\frac{dT}{d\\mathbf{r}}\n",
    "\\end{align}"
   ]
  },
  {
   "cell_type": "code",
   "execution_count": null,
   "id": "15f5f6b6",
   "metadata": {},
   "outputs": [],
   "source": [
    "# note M is the mach number of the parallell number\n",
    "mean_sel"
   ]
  },
  {
   "cell_type": "code",
   "execution_count": null,
   "id": "94291e4a",
   "metadata": {},
   "outputs": [],
   "source": [
    "# plt.figure(figsize=(20,20))\n",
    "# mean_sel.emc3.plot_Rz('fort.46_0', phi = 0)\n",
    "gridlist_timeseries"
   ]
  },
  {
   "cell_type": "code",
   "execution_count": null,
   "id": "4b663b5a",
   "metadata": {},
   "outputs": [],
   "source": [
    "def get_magneticfield(grid_obj):\n",
    "    \"\"\"\n",
    "    Args:\n",
    "     - grid_obj, grid object\n",
    "    Out:\n",
    "     - Bmesh, ndarray np.float64, meshgrid of the magnetic field components\n",
    "    \"\"\"\n",
    "    config = tracer.types.MagneticConfig()\n",
    "    config.configIds = [0]\n",
    "\n",
    "    pos = tracer.types.Points3D()\n",
    "    pos.x1 = gridlist_timeseries[0].cartflat[:,0]\n",
    "    pos.x2 = gridlist_timeseries[0].cartflat[:,1]\n",
    "    pos.x3 = gridlist_timeseries[0].cartflat[:,2]\n",
    "\n",
    "    res = tracer.service.magneticField(pos, config)\n",
    "    B = np.zeros((3,) + pos.x1.shape)\n",
    "    B[0] = np.asarray(res.field.x1)\n",
    "    B[1] = np.asarray(res.field.x2)\n",
    "    B[2] = np.asarray(res.field.x3)\n",
    "#     print(B.shape)\n",
    "#     idx_othreshold = np.where( np.median(np.sqrt(np.sum(B**2, axis = 0)) ) < np.sqrt(np.sum(B**2, axis = 0)) )[0]\n",
    "#     print(np.sqrt(np.sum(B**2, axis = 0)).shape)\n",
    "#     idx_othreshold = np.where( np.sqrt(np.sum(B**2, axis = 0)) > 5 )[0]\n",
    "#     print(idx_othreshold.shape)\n",
    "#     B[:,idx_othreshold] = np.ones(B[:,idx_othreshold].shape)*np.nan\n",
    "    Bmesh = B.reshape((3,) + (gridlist_timeseries[0].cart_x.shape))\n",
    "    return Bmesh"
   ]
  },
  {
   "cell_type": "code",
   "execution_count": null,
   "id": "17c41402",
   "metadata": {},
   "outputs": [],
   "source": [
    "_ = get_magneticfield(grid_obj = gridlist_timeseries[0])"
   ]
  },
  {
   "cell_type": "code",
   "execution_count": null,
   "id": "412ac780",
   "metadata": {},
   "outputs": [],
   "source": [
    "bmeshreg = []\n",
    "for i in range(len(gridlist_timeseries)):\n",
    "    bmeshreg.append( get_magneticfield(grid_obj = gridlist_timeseries[i]) )"
   ]
  },
  {
   "cell_type": "code",
   "execution_count": null,
   "id": "dbe80a72",
   "metadata": {},
   "outputs": [],
   "source": [
    "len(bmeshreg)\n",
    "bmeshreg"
   ]
  },
  {
   "cell_type": "code",
   "execution_count": null,
   "id": "fe97e187",
   "metadata": {},
   "outputs": [],
   "source": [
    "mlab.clf()\n",
    "mlab.quiver3d(gridlist_timeseries[0].cart_x, \n",
    "              gridlist_timeseries[0].cart_y, \n",
    "              gridlist_timeseries[0].cart_z, \n",
    "              bmeshreg[4][0], bmeshreg[4][1], bmeshreg[4][2])\n",
    "mlab.axes()\n",
    "mlab.scalarbar()\n",
    "mlab.outline()"
   ]
  },
  {
   "cell_type": "code",
   "execution_count": null,
   "id": "0b1e1058",
   "metadata": {},
   "outputs": [],
   "source": [
    "def proj_gradparam_ontob(parammesh, b):\n",
    "    grad = np.gradient(parammesh)\n",
    "    grad = np.array(grad)\n",
    "    print(grad.shape)\n",
    "    print(b.shape)\n",
    "    proj = np.nansum(grad*b, axis = 0)*b\n",
    "    return proj"
   ]
  },
  {
   "cell_type": "code",
   "execution_count": null,
   "id": "5a76cfa1",
   "metadata": {},
   "outputs": [],
   "source": [
    "pmesh_ts[0][0].shape\n",
    "bmeshreg[0].shape"
   ]
  },
  {
   "cell_type": "code",
   "execution_count": null,
   "id": "6ce7d42b",
   "metadata": {},
   "outputs": [],
   "source": [
    "projtest = proj_gradparam_ontob(parammesh = pmesh_ts[0][0], b = bmeshreg[0])"
   ]
  },
  {
   "cell_type": "code",
   "execution_count": null,
   "id": "0f1e93c8",
   "metadata": {},
   "outputs": [],
   "source": [
    "projtest.shape"
   ]
  },
  {
   "cell_type": "code",
   "execution_count": null,
   "id": "47e249ff",
   "metadata": {},
   "outputs": [],
   "source": [
    "mlab.clf()\n",
    "mlab.quiver3d(gridlist_timeseries[0].cart_x, \n",
    "              gridlist_timeseries[0].cart_y, \n",
    "              gridlist_timeseries[0].cart_z, \n",
    "              projtest[0], projtest[1], projtest[2])\n",
    "mlab.axes()\n",
    "mlab.scalarbar()\n",
    "mlab.outline()"
   ]
  },
  {
   "cell_type": "code",
   "execution_count": null,
   "id": "dd55f118",
   "metadata": {},
   "outputs": [],
   "source": [
    "import scipy.constants\n",
    "def calc_electron_vel(machnumber, Te, Ti, m_i = scipy.constants.m_p):\n",
    "    return machnumber*np.sqrt((Te + Ti)/m_i)    "
   ]
  },
  {
   "cell_type": "code",
   "execution_count": null,
   "id": "6652777b",
   "metadata": {},
   "outputs": [],
   "source": [
    "# here the interpolated values for M, Te and Ti shoudl be inserted instead of the means of the w7x griddata\n",
    "el_vel = calc_electron_vel(machnumber = mean_sel.M, Te = mean_sel.Te, Ti = mean_sel.Ti)"
   ]
  },
  {
   "cell_type": "code",
   "execution_count": null,
   "id": "dfd2aba6",
   "metadata": {},
   "outputs": [],
   "source": [
    "\"\"\"\n",
    "Define a function(if necessary) that takes in electron velocity and electron density and calculates the\n",
    "gradient \\nabla(nv) which should be zero\n",
    "\"\"\""
   ]
  }
 ],
 "metadata": {
  "kernelspec": {
   "display_name": "Python 3",
   "language": "python",
   "name": "python3"
  },
  "language_info": {
   "codemirror_mode": {
    "name": "ipython",
    "version": 3
   },
   "file_extension": ".py",
   "mimetype": "text/x-python",
   "name": "python",
   "nbconvert_exporter": "python",
   "pygments_lexer": "ipython3",
   "version": "3.6.9"
  }
 },
 "nbformat": 4,
 "nbformat_minor": 5
}
