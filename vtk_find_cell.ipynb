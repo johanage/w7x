{
 "cells": [
  {
   "cell_type": "code",
   "execution_count": 1,
   "id": "approximate-skirt",
   "metadata": {},
   "outputs": [],
   "source": [
    "\"\"\"An example of how to generate a structured grid dataset using\n",
    "numpy arrays.  Also shown is a way to visualize this data with\n",
    "the mayavi2 application.\n",
    "\n",
    "The script can be run like so::\n",
    "\n",
    "  $ mayavi2 -x structured_grid.py\n",
    "\n",
    "Alternatively, it can be run as::\n",
    "\n",
    "  $ python structured_grid.py\n",
    "\n",
    "\n",
    "\"\"\"\n",
    "\n",
    "# Authors: Eric Jones <eric at enthought dot com>\n",
    "#          Prabhu Ramachandran <prabhu at aero dot iitb dot ac dot in>\n",
    "# Copyright (c) 2007, Enthought, Inc.\n",
    "# License: BSD style.\n",
    "\n",
    "import numpy as np\n",
    "from numpy import cos, sin, pi\n",
    "from tvtk.api import tvtk\n",
    "from mayavi.scripts import mayavi2\n",
    "from PyQt5 import QtCore\n",
    "import sip\n",
    "import vtk"
   ]
  },
  {
   "cell_type": "code",
   "execution_count": 2,
   "id": "b3b74d0d",
   "metadata": {},
   "outputs": [
    {
     "name": "stdout",
     "output_type": "stream",
     "text": [
      "ok\n"
     ]
    }
   ],
   "source": [
    "from mayavi import mlab\n",
    "%gui qt\n",
    "print(\"ok\")"
   ]
  },
  {
   "cell_type": "code",
   "execution_count": 3,
   "id": "4f1d250e",
   "metadata": {},
   "outputs": [
    {
     "data": {
      "text/plain": [
       "<mayavi.modules.surface.Surface at 0x7f01ac052e08>"
      ]
     },
     "execution_count": 3,
     "metadata": {},
     "output_type": "execute_result"
    }
   ],
   "source": [
    "# clears the field\n",
    "mlab.clf()\n",
    "# test the 3d plotting function\n",
    "mlab.test_plot3d()"
   ]
  },
  {
   "cell_type": "code",
   "execution_count": 4,
   "id": "62c96b3b",
   "metadata": {},
   "outputs": [],
   "source": [
    "class grid:\n",
    "    def __init__(self, ngrid_cart, ngrid_tor, R0):\n",
    "        self.R, self.theta, self.phi = np.meshgrid(np.linspace(1e-2, 1,ngrid_tor), \n",
    "                                                   np.linspace(0,2*np.pi, ngrid_tor), \n",
    "                                                   np.linspace(0,2*np.pi, 2*ngrid_tor),\n",
    "                                                   indexing='ij')\n",
    "        self.cart_x, self.cart_y, self.cart_z = np.meshgrid(np.linspace(-3,3, ngrid_cart),\n",
    "                                                            np.linspace(-3,3, ngrid_cart),\n",
    "                                                            np.linspace(-1,1, ngrid_cart),\n",
    "                                                            indexing='ij')\n",
    "        self.tor_x = (R0 + self.R*np.cos(self.theta))*np.cos(self.phi)\n",
    "        self.tor_y = (R0 + self.R*np.cos(self.theta))*np.sin(self.phi)\n",
    "        self.tor_z = self.R*np.sin(self.theta)\n",
    "        \n",
    "        self.cartflat = np.zeros((ngrid_cart**3, 3))\n",
    "        self.cartflat[:,0] = self.cart_x.flatten()\n",
    "        self.cartflat[:,1] = self.cart_y.flatten()\n",
    "        self.cartflat[:,2] = self.cart_z.flatten()\n",
    "        \n",
    "        self.torflat = np.zeros((2*ngrid_tor**3, 3))\n",
    "        self.torflat[:,0] = self.tor_x.flatten()\n",
    "        self.torflat[:,1] = self.tor_y.flatten()\n",
    "        self.torflat[:,2] = self.tor_z.flatten()\n",
    "    def plotgrid(self):\n",
    "        fig_gridscat = plt.figure()\n",
    "        ax_gridscat = fig_gridscat.add_subplot(projection='3d')\n",
    "        ax_gridscat.scatter(self.cart_x, self.cart_y, self.cart_z, marker='.')\n",
    "        ax_gridscat.scatter(self.tor_x, self.tor_y, self.tor_z, marker='x')\n",
    "        ax_gridscat.set_xlabel(\"$x[\\\\mathrm{m}]$\")\n",
    "        ax_gridscat.set_ylabel(\"$y[\\\\mathrm{m}]$\")\n",
    "        ax_gridscat.set_zlabel(\"$z[\\\\mathrm{m}]$\")\n",
    "    def delaunay_tessalation(self):\n",
    "        tri = Delaunay(self.torflat)\n",
    "        idx_simplices = tri.simplices\n",
    "        coord_simplices = self.torflat[idx_simplices]\n",
    "        return tri, idx_simplices, coord_simplices"
   ]
  },
  {
   "cell_type": "code",
   "execution_count": 5,
   "id": "significant-awareness",
   "metadata": {},
   "outputs": [],
   "source": [
    "def generate_annulus(r=None, theta=None, z=None):\n",
    "    \"\"\" Generate points for structured grid for a cylindrical annular\n",
    "        volume.  This method is useful for generating a structured\n",
    "        cylindrical mesh for VTK (and perhaps other tools).\n",
    "\n",
    "        Parameters\n",
    "        ----------\n",
    "        r : array : The radial values of the grid points.\n",
    "                    It defaults to linspace(1.0, 2.0, 11).\n",
    "\n",
    "        theta : array : The angular values of the x axis for the grid\n",
    "                        points. It defaults to linspace(0,2*pi,11).\n",
    "\n",
    "        z: array : The values along the z axis of the grid points.\n",
    "                   It defaults to linspace(0,0,1.0, 11).\n",
    "\n",
    "        Return\n",
    "        ------\n",
    "        points : array\n",
    "            Nx3 array of points that make up the volume of the annulus.\n",
    "            They are organized in planes starting with the first value\n",
    "            of z and with the inside \"ring\" of the plane as the first\n",
    "            set of points.  The default point array will be 1331x3.\n",
    "    \"\"\"\n",
    "    # Default values for the annular grid.\n",
    "    if r is None:\n",
    "        r = np.linspace(1.0, 2.0, 11)\n",
    "    if theta is None:\n",
    "        theta = np.linspace(0, 2 * pi, 11)\n",
    "    if z is None:\n",
    "        z = np.linspace(0.0, 1.0, 11)\n",
    "\n",
    "    # Find the x values and y values for each plane.\n",
    "    x_plane = (cos(theta) * r[:, None]).ravel()\n",
    "    y_plane = (sin(theta) * r[:, None]).ravel()\n",
    "\n",
    "    # Allocate an array for all the points.  We'll have len(x_plane)\n",
    "    # points on each plane, and we have a plane for each z value, so\n",
    "    # we need len(x_plane)*len(z) points.\n",
    "    points = np.empty([len(x_plane) * len(z), 3])\n",
    "\n",
    "    # Loop through the points for each plane and fill them with the\n",
    "    # correct x,y,z values.\n",
    "    start = 0\n",
    "    for z_plane in z:\n",
    "        end = start + len(x_plane)\n",
    "        # slice out a plane of the output points and fill it\n",
    "        # with the x,y, and z values for this plane.  The x,y\n",
    "        # values are the same for every plane.  The z value\n",
    "        # is set to the current z\n",
    "        plane_points = points[start:end]\n",
    "        plane_points[:, 0] = x_plane\n",
    "        plane_points[:, 1] = y_plane\n",
    "        plane_points[:, 2] = z_plane\n",
    "        start = end\n",
    "\n",
    "    return points\n",
    "\n",
    "\n",
    "# Make the data.\n",
    "# dims = (51, 25, 25)\n",
    "# # Note here that the 'x' axis corresponds to 'theta'\n",
    "# theta = np.linspace(0, 2 * np.pi, dims[0])\n",
    "# # 'y' corresponds to varying 'r'\n",
    "# r = np.linspace(1, 10, dims[1])\n",
    "# z = np.linspace(0, 5, dims[2])\n",
    "# pts = generate_annulus(r, theta, z)\n",
    "# Uncomment the following if you want to add some noise to the data.\n",
    "# pts += np.random.randn(dims[0]*dims[1]*dims[2], 3)*0.04\n",
    "\n",
    "# s = np.sqrt(pts[:, 0] ** 2 + pts[:, 1] ** 2 + pts[:, 2] ** 2)\n",
    "# sgrid.point_data.scalars = np.ravel(s.copy())\n",
    "# sgrid.point_data.scalars.name = \"scalars\"\n",
    "\n",
    "# Uncomment the next two lines to save the dataset to a VTK XML file.\n",
    "# w = tvtk.XMLStructuredGridWriter(input=sgrid, file_name='sgrid.vts')\n",
    "# w.write()"
   ]
  },
  {
   "cell_type": "code",
   "execution_count": 6,
   "id": "aac70e6d",
   "metadata": {},
   "outputs": [],
   "source": [
    "grid_vtk = grid(ngrid_cart = 30, ngrid_tor = 20, R0 = 2)\n",
    "sgrid = tvtk.StructuredGrid(dimensions=grid_vtk.tor_x.shape[::-1])\n",
    "sgrid.points = grid_vtk.torflat"
   ]
  },
  {
   "cell_type": "code",
   "execution_count": null,
   "id": "cb28e18c",
   "metadata": {},
   "outputs": [],
   "source": [
    "\"\"\"\n",
    "do the same using unstructured grid just to get \n",
    "to know how to work with different grid structures\n",
    "\"\"\"\n",
    "\n",
    "tet_type = tvtk.Tetra().cell_type # VTK_TETRA == 10\n",
    "tets = np.arange(len(grid_emc3.cartflat), len(grid_emc3.cartflat)-1)\n",
    "usgrid_emc3 = tvtk.UnstructuredGrid(points = grid_emc3.cartflat)\n",
    "usgrid_emc3.set_cells(tet_type, tets)"
   ]
  },
  {
   "cell_type": "code",
   "execution_count": 7,
   "id": "revised-toronto",
   "metadata": {},
   "outputs": [
    {
     "name": "stdout",
     "output_type": "stream",
     "text": [
      "11821 0 [0.87464447 1.         0.78442427] [-1.80013407e-17 -1.25600941e-16  1.88552117e-01  2.70236104e-02\n",
      " -6.55022194e-17 -4.57029314e-16  6.86092349e-01  9.83319236e-02]\n"
     ]
    }
   ],
   "source": [
    "cell = None\n",
    "# means not found\n",
    "cellid = int(4e3)\n",
    "tol2 = 1e-6\n",
    "subid = vtk.reference(-1)\n",
    "pcoord = np.zeros((3))\n",
    "weights = np.zeros(8)\n",
    "cid = sgrid.find_cell([2,2,0], cell, cellid, tol2, subid, pcoord, weights)\n",
    "print(cid, subid, pcoord, weights)"
   ]
  },
  {
   "cell_type": "code",
   "execution_count": 8,
   "id": "married-malpractice",
   "metadata": {},
   "outputs": [],
   "source": [
    "sg = vtk.vtkStructuredGrid()\n",
    "# sg.FindCell?\n",
    "ds = vtk.vtkDataSet.FindCell?"
   ]
  },
  {
   "cell_type": "code",
   "execution_count": 9,
   "id": "b010a394",
   "metadata": {},
   "outputs": [],
   "source": [
    "%gui qt\n",
    "\n",
    "# View the data.\n",
    "@mayavi2.standalone\n",
    "def view():\n",
    "    from mayavi.sources.vtk_data_source import VTKDataSource\n",
    "    from mayavi.modules.api import Outline, GridPlane\n",
    "\n",
    "    mayavi.new_scene()\n",
    "    src = VTKDataSource(data=sgrid)\n",
    "    mayavi.add_source(src)\n",
    "    mayavi.add_module(Outline())\n",
    "    g = GridPlane()\n",
    "    g.grid_plane.axis = \"x\"\n",
    "    mayavi.add_module(g)\n",
    "    g = GridPlane()\n",
    "    g.grid_plane.axis = \"y\"\n",
    "    mayavi.add_module(g)\n",
    "    g = GridPlane()\n",
    "    g.grid_plane.axis = \"z\"\n",
    "    mayavi.add_module(g)\n",
    "\n",
    "\n",
    "if __name__ == \"__main__\":\n",
    "    view()"
   ]
  },
  {
   "cell_type": "code",
   "execution_count": 14,
   "id": "e16b26e0",
   "metadata": {},
   "outputs": [],
   "source": [
    "hexahedron_emc3 = sgrid.get_cell(307972)\n",
    "hexahedron_emc3.points.to_array()\n",
    "\n",
    "# get the dimension of the cell\n",
    "hexahedron_emc3.cell_dimension\n",
    "# get indicies of vertices used in edge id which is the argument\n",
    "hexahedron_emc3.get_edge_array(4)\n",
    "\n",
    "hexa_traitnames = hexahedron_emc3.all_trait_names()\n",
    "type(hexa_traitnames)\n",
    "type(hexahedron_emc3.points.to_array())\n",
    "\n",
    "# get the vertexpoints by getting a point object of the hexahedron and casting it to an array\n",
    "vertex_points = hexahedron_emc3.points.to_array()\n",
    "vertex_points = np.asarray(vertex_points)\n",
    "xx, yy, zz = np.meshgrid(vertex_points[:,0], vertex_points[:,1], vertex_points[:,2])\n",
    "sgobj_hexa = tvtk.StructuredGrid(dimensions = xx.shape[::-1])\n",
    "sgobj_hexa.points = vertex_points"
   ]
  },
  {
   "cell_type": "code",
   "execution_count": 15,
   "id": "c8a4ae31",
   "metadata": {},
   "outputs": [
    {
     "ename": "NameError",
     "evalue": "name 'plt' is not defined",
     "output_type": "error",
     "traceback": [
      "\u001b[0;31m---------------------------------------------------------------------------\u001b[0m",
      "\u001b[0;31mNameError\u001b[0m                                 Traceback (most recent call last)",
      "\u001b[0;32m<ipython-input-15-e098418a9f26>\u001b[0m in \u001b[0;36m<module>\u001b[0;34m\u001b[0m\n\u001b[1;32m      3\u001b[0m \u001b[0mpoints3d\u001b[0m\u001b[0;34m.\u001b[0m\u001b[0mshape\u001b[0m\u001b[0;34m\u001b[0m\u001b[0;34m\u001b[0m\u001b[0m\n\u001b[1;32m      4\u001b[0m \u001b[0minv\u001b[0m \u001b[0;34m=\u001b[0m \u001b[0mpoints3d\u001b[0m\u001b[0;34m[\u001b[0m\u001b[0;34m:\u001b[0m\u001b[0;34m:\u001b[0m\u001b[0;34m-\u001b[0m\u001b[0;36m1\u001b[0m\u001b[0;34m]\u001b[0m\u001b[0;34m\u001b[0m\u001b[0;34m\u001b[0m\u001b[0m\n\u001b[0;32m----> 5\u001b[0;31m \u001b[0mfig\u001b[0m\u001b[0;34m,\u001b[0m \u001b[0max\u001b[0m \u001b[0;34m=\u001b[0m \u001b[0mplt\u001b[0m\u001b[0;34m.\u001b[0m\u001b[0madd_subplots\u001b[0m\u001b[0;34m(\u001b[0m\u001b[0mprojection\u001b[0m\u001b[0;34m=\u001b[0m\u001b[0;34m'3d'\u001b[0m\u001b[0;34m)\u001b[0m\u001b[0;34m\u001b[0m\u001b[0;34m\u001b[0m\u001b[0m\n\u001b[0m\u001b[1;32m      6\u001b[0m \u001b[0max\u001b[0m\u001b[0;34m.\u001b[0m\u001b[0mscatter\u001b[0m\u001b[0;34m(\u001b[0m\u001b[0;34m)\u001b[0m\u001b[0;34m\u001b[0m\u001b[0;34m\u001b[0m\u001b[0m\n",
      "\u001b[0;31mNameError\u001b[0m: name 'plt' is not defined"
     ]
    }
   ],
   "source": [
    "hexahedron_emc3 = sgrid.get_cell(307972)\n",
    "points3d = hexahedron_emc3.points.to_array()\n",
    "points3d.shape\n",
    "inv = points3d[::-1]\n",
    "fig, ax = plt.add_subplots(projection='3d')\n",
    "ax.scatter()"
   ]
  },
  {
   "cell_type": "code",
   "execution_count": null,
   "id": "cf981e31",
   "metadata": {},
   "outputs": [],
   "source": [
    "from mayavi import mlab\n",
    "# clear the field\n",
    "mlab.clf()\n",
    "# mlab.points3d(xx, yy, zz)\n",
    "mlab.points3d(xx, yy, zz)\n",
    "# mlab.outline()\n",
    "mlab.axes()"
   ]
  },
  {
   "cell_type": "code",
   "execution_count": null,
   "id": "b15a9c0b",
   "metadata": {},
   "outputs": [],
   "source": [
    "# visualize contour of the interpolated values in 3d with colors defined by electron temperature\n",
    "dimgrid_cart = list(grid_emc3.cart_x.shape)\n",
    "sgrid_cart_emc3 = tvtk.StructuredGrid(dimensions=dimgrid_cart)\n",
    "s_Te = pmeshtest.copy()\n",
    "sgrid_cart_emc3.points = grid_emc3.cartflat\n",
    "sgrid_cart_emc3.point_data.scalars = s_Te.ravel()\n",
    "sgrid_cart_emc3.point_data.scalars.name = \"Te\"\n",
    "\n",
    "mlab.clf()\n",
    "#add the dataset to the pipeline\n",
    "src_cart = mlab.pipeline.add_dataset(sgrid_cart_emc3)\n",
    "cut_cart = mlab.pipeline.scalar_cut_plane(src_cart)\n",
    "cont_cart = mlab.pipeline.iso_surface(src_cart)"
   ]
  },
  {
   "cell_type": "code",
   "execution_count": null,
   "id": "cd378159",
   "metadata": {},
   "outputs": [],
   "source": [
    "\"\"\"\n",
    "A walkthrough on how to plot with the vtk objects\n",
    "\"\"\"\n",
    "\n",
    "# make the structured grid object from vtk lib\n",
    "sg_tess = tvtk.StructuredGrid(dimensions=grid_tess.cart_x.shape)\n",
    "# set the grid point coords using a flattened array of the meshgrid array\n",
    "sg_tess.points = grid_tess.cartflat\n",
    "# define a scalar field using the raveled version of the meshgrid array\n",
    "sg_tess.point_data.scalars = Te_mesh_tessalation.copy().ravel()\n",
    "# give the scalar parameter a suitable name\n",
    "sg_tess.point_data.scalars.name = \"Te\"\n",
    "# clear the field\n",
    "mlab.clf()\n",
    "#add the dataset to the pipeline, the principle is to add several object on top of each other\n",
    "src_tess = mlab.pipeline.add_dataset(sg_tess)\n",
    "# make a cut object to cut the 3D volum in slices in a user defined direction\n",
    "cut_tess = mlab.pipeline.scalar_cut_plane(src_tess)\n",
    "# make a contour plot of the scalar field\n",
    "cont_tess = mlab.pipeline.iso_surface(cut_tess)"
   ]
  }
 ],
 "metadata": {
  "kernelspec": {
   "display_name": "Python 3",
   "language": "python",
   "name": "python3"
  },
  "language_info": {
   "codemirror_mode": {
    "name": "ipython",
    "version": 3
   },
   "file_extension": ".py",
   "mimetype": "text/x-python",
   "name": "python",
   "nbconvert_exporter": "python",
   "pygments_lexer": "ipython3",
   "version": "3.6.9"
  }
 },
 "nbformat": 4,
 "nbformat_minor": 5
}
